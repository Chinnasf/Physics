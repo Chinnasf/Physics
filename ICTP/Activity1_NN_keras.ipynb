{
 "cells": [
  {
   "cell_type": "markdown",
   "metadata": {
    "colab_type": "text",
    "id": "view-in-github"
   },
   "source": [
    "<a href=\"https://colab.research.google.com/github/alpha-davidson/ICTP-Citizen-Science-2023/blob/main/Activity1_NN.ipynb\" target=\"_parent\"><img src=\"https://colab.research.google.com/assets/colab-badge.svg\" alt=\"Open In Colab\"/></a>"
   ]
  },
  {
   "cell_type": "markdown",
   "metadata": {
    "id": "R_-Q8naoDk36"
   },
   "source": [
    "# Neural Networks in TensorFlow's Keras\n",
    "\n",
    "\n",
    "We will use a dense neural network in Keras to solve a simple regression problem. \n",
    "## Learning Task\n",
    "We will construct a dense neural network to **predict the invariant mass of a particle** from its energy, momentum, (and charge).\n",
    "\n",
    "*Note that this task does not require machine learning. We choose a task with a known mapping to help us create, debug, and tune our first neural network.*\n",
    "\n",
    "## Dataset\n",
    "This dataset is a collection of simulated particle events from [Pythia](http://home.thep.lu.se/~torbjorn/Pythia.html). The dataset is a 2D array where each row represents one event from an $e^{-} + p$ (electron-proton) collision. This dataset is comprised _only_ of events where exactly 16 particles are produced from an electron-proton collision. Each particle contains $(p_x,p_y,p_z,E,q)$. Each event is therefore represented by 80 numbers. \n",
    "\n",
    "**Advanced activity:** There are more interesting event-wise learning tasks using this dataset. Consider crafting your own learning task and target for this data.\n",
    "\n",
    "\n",
    "\n",
    "## Computational Notes\n",
    "\n",
    "If this is your first time in a Jupyter-like environment, please read the following carefully:\n",
    "\n",
    " - You are in an active kernel\n",
    " - Run each cell with `Shift + Enter`\n",
    " - You must execute the cells in the order that you want the code to run\n",
    " - In Colab, `Runtime`$\\rightarrow$`Change runtime type` allows you to utilize GPUs and TPUs. They are unnecessary here, but will become vital in later exercises.\n"
   ]
  },
  {
   "cell_type": "code",
   "execution_count": 2,
   "metadata": {
    "id": "LfL6KNLSDk3-"
   },
   "outputs": [],
   "source": [
    "# import the packages we will be using\n",
    "import numpy as np\n",
    "import tensorflow as tf\n",
    "import pylab as plt"
   ]
  },
  {
   "cell_type": "code",
   "execution_count": 3,
   "metadata": {
    "id": "xTx3KTNYGyQu"
   },
   "outputs": [
    {
     "name": "stdout",
     "output_type": "stream",
     "text": [
      "--2023-05-22 17:08:16--  https://github.com/NuclearTalent/MachineLearningECT/blob/master/doc/pub/Day6/data/homogenous-16-particle-events-energy.npy?raw=true\n",
      "Resolving github.com (github.com)... 140.82.121.3\n",
      "Connecting to github.com (github.com)|140.82.121.3|:443... connected.\n",
      "HTTP request sent, awaiting response... 302 Found\n",
      "Location: https://github.com/NuclearTalent/MachineLearningECT/raw/master/doc/pub/Day6/data/homogenous-16-particle-events-energy.npy [following]\n",
      "--2023-05-22 17:08:17--  https://github.com/NuclearTalent/MachineLearningECT/raw/master/doc/pub/Day6/data/homogenous-16-particle-events-energy.npy\n",
      "Reusing existing connection to github.com:443.\n",
      "HTTP request sent, awaiting response... 302 Found\n",
      "Location: https://raw.githubusercontent.com/NuclearTalent/MachineLearningECT/master/doc/pub/Day6/data/homogenous-16-particle-events-energy.npy [following]\n",
      "--2023-05-22 17:08:17--  https://raw.githubusercontent.com/NuclearTalent/MachineLearningECT/master/doc/pub/Day6/data/homogenous-16-particle-events-energy.npy\n",
      "Resolving raw.githubusercontent.com (raw.githubusercontent.com)... 2606:50c0:8003::154, 2606:50c0:8002::154, 2606:50c0:8000::154, ...\n",
      "Connecting to raw.githubusercontent.com (raw.githubusercontent.com)|2606:50c0:8003::154|:443... connected.\n",
      "HTTP request sent, awaiting response... 200 OK\n",
      "Length: 22986368 (22M) [application/octet-stream]\n",
      "Saving to: ‘homogenous-16-particle-events-energy.npy?raw=true’\n",
      "\n",
      "homogenous-16-parti 100%[===================>]  21,92M  15,0MB/s    in 1,5s    \n",
      "\n",
      "2023-05-22 17:08:21 (15,0 MB/s) - ‘homogenous-16-particle-events-energy.npy?raw=true’ saved [22986368/22986368]\n",
      "\n"
     ]
    }
   ],
   "source": [
    "# Import data from github. Note: in colab, go to Files and refresh to see file.\n",
    "# Here I use Linux commands within the notebook to pull the data file and rename it.\n",
    "\n",
    "# If you are not in an environment that supports the following commands, \n",
    "#     paste the url below to download the dataset onto your local machine.\n",
    "\n",
    "\"\"\"!wget https://github.com/NuclearTalent/MachineLearningECT/blob/master/doc/pub/Day6/data/homogenous-16-particle-events-energy.npy?raw=true\n",
    "!mv homogenous-16-particle-events-energy.npy?raw=true particle-events.npy\"\"\";"
   ]
  },
  {
   "cell_type": "code",
   "execution_count": 4,
   "metadata": {
    "id": "8-GfZs9bI7Km"
   },
   "outputs": [],
   "source": [
    "# now we load the data file, which is a numpy array\n",
    "events = np.load(\"particle-events.npy\")"
   ]
  },
  {
   "cell_type": "markdown",
   "metadata": {
    "id": "8O8n_nwTDk3_"
   },
   "source": [
    "Recall that each row of this dataset is an entire event. We need each row to represent a training example, which is a single particle.\n",
    "\n",
    "Using `numpy`'s `reshape` method we can make each row represent one particle. "
   ]
  },
  {
   "cell_type": "code",
   "execution_count": null,
   "metadata": {
    "id": "067guDXZDk4A"
   },
   "outputs": [],
   "source": [
    "# Here we rearrange the data within each of the events to isolate particles\n",
    "\n",
    "#print(\"events[0] =\\n\",events[0])\n",
    "evt_particles = np.reshape(events, (len(events), 16, 5))\n",
    "\n",
    "#print(\"\\nevt_particles[0] =\\n\", evt_particles[0])\n",
    "\n",
    "# Use another call of reshape to combine all events to have the appropriate shape\n",
    "# Complete me:\n",
    "particles = \n",
    "\n",
    "#print(\"\\nparticles =\\n\",particles[:10])"
   ]
  },
  {
   "cell_type": "markdown",
   "metadata": {
    "id": "K_YWTBO0Dk4B"
   },
   "source": [
    "These are our training data inputs, but we also must provide the targets, which are the invariant masses of each particle. This is a straightforward computation.\n",
    "\n",
    "We choose units where $c = 1$:\n",
    "$$m^2=E^2-||\\textbf{p}||^2$$ \n",
    "where $m, E$, and $\\textbf{p}$ are all in GeV. This is equivalent to \n",
    "$$m = \\sqrt{E^2 - (p_x^2 + p_y^2 + p_z^2)}$$\n",
    "\n",
    "**Create an array of your target values.**\n",
    "Due to insufficient precision, some $m^2$ values for massless particles will come out very slightly negative. These should be treated as zero to avoid `NaN`. I used the `maximum` method from `numpy` to handle this. "
   ]
  },
  {
   "cell_type": "code",
   "execution_count": null,
   "metadata": {
    "id": "ap3EizhuDk4B"
   },
   "outputs": [],
   "source": [
    "# Complete me:\n"
   ]
  },
  {
   "cell_type": "markdown",
   "metadata": {
    "id": "kprt9pbPDk4D"
   },
   "source": [
    "There are several hundred thousand datapoints in this dataset which is overkill for this simple example. Create a test dataset with just 1000 examples."
   ]
  },
  {
   "cell_type": "code",
   "execution_count": null,
   "metadata": {
    "id": "nZkF1erNDk4E"
   },
   "outputs": [],
   "source": [
    "#Slicing allows you select a subset of an array.\n",
    "#This can be done like this: smallerArray = largerArray[:100]\n",
    "\n",
    "#Complete me:\n"
   ]
  },
  {
   "cell_type": "markdown",
   "metadata": {
    "id": "5VYyii0yDk4F"
   },
   "source": [
    "Next, make a histogram of the target data to make sure that we are seeing masses of real particles. As this data has limited precision, this will not resolve electrons very well, but protons, pions, and massless particles should be clearly visible."
   ]
  },
  {
   "cell_type": "code",
   "execution_count": null,
   "metadata": {
    "id": "xHL4sU3ZDk4G"
   },
   "outputs": [],
   "source": [
    "plt.hist(mass_train,bins=100)\n",
    "plt.show()"
   ]
  },
  {
   "cell_type": "markdown",
   "metadata": {
    "id": "i-MXhgPQDk4H"
   },
   "source": [
    "Now we can build and train the first neural network. We will start with a network with on hidden layer and 5 neurons, and ReLU activation. \n",
    "\n",
    "\n"
   ]
  },
  {
   "cell_type": "code",
   "execution_count": null,
   "metadata": {
    "id": "d_MsoqFvDk4H"
   },
   "outputs": [],
   "source": [
    "# Build our model\n",
    "model = tf.keras.Sequential() #Define the model object\n",
    "model.add(tf.keras.layers.Dense(5, input_shape=(5,), activation=\"relu\")) #Add a single hidden layer\n",
    "\n",
    "# Add the output layer yourself\n",
    "# No activation function assignment defaults to \"linear\"\n",
    "# Complete me:\n",
    "\n",
    "\n",
    "\n",
    "# prints a model summary\n",
    "model.summary()"
   ]
  },
  {
   "cell_type": "markdown",
   "metadata": {
    "id": "xFb0E6GtSK7Z"
   },
   "source": [
    "To start, train for 30 epochs with a batch size of 128, an Adam optimizer with a learning rate of 0.1, using mean squared error loss. **This is not ideal.**\n",
    "\n",
    "Define your validation split to provide a set of data the model has not used to assess how the model is generalizing. This allows us to monitor overtraining. Setting `validation_split=0.2` meaning that $20\\%$ of the data will be used for validation. **This is not ideal.**\n",
    "\n",
    "Information on how to implement these features can be found here:\n",
    "<https://www.tensorflow.org/api_docs/python/tf/keras>.\n",
    "Check out Sequential underneath models and Dense under layers."
   ]
  },
  {
   "cell_type": "code",
   "execution_count": null,
   "metadata": {
    "id": "hCp3EXCTDk4I"
   },
   "outputs": [],
   "source": [
    "optimize = tf.keras.optimizers.Adam(lr=0.1) # Adam optimizer with a learning rate of 0.1\n",
    "loss_func = tf.keras.losses.MeanSquaredError() # choosing MSE\n",
    "\n",
    "# compile model\n",
    "model.compile(optimizer=optimize,loss=loss_func) "
   ]
  },
  {
   "cell_type": "code",
   "execution_count": null,
   "metadata": {
    "id": "Zs_ReONMDk4I"
   },
   "outputs": [],
   "source": [
    "results = model.fit(particles_train, mass_train, epochs=10, batch_size=256, validation_split=0.2)"
   ]
  },
  {
   "cell_type": "markdown",
   "metadata": {
    "id": "Mcg4Qj1wZDxE"
   },
   "source": [
    "A learning curve is a clearer way to visualize the above training. This helps us determine over and underfitting, which, in turn, helps us tune our model and training."
   ]
  },
  {
   "cell_type": "code",
   "execution_count": null,
   "metadata": {
    "id": "TrIo4jsqDk4J"
   },
   "outputs": [],
   "source": [
    "# helper function for easy plotting\n",
    "def plot_learning_curve(history):\n",
    "    plt.plot(history[\"loss\"], label=\"training loss\")\n",
    "    plt.plot(history[\"val_loss\"], label=\"validation loss\")\n",
    "    plt.xlabel(\"Epoch\")\n",
    "    plt.ylabel(\"Loss\")\n",
    "    plt.yscale('log')\n",
    "    plt.legend()\n",
    "    plt.show()\n"
   ]
  },
  {
   "cell_type": "code",
   "execution_count": null,
   "metadata": {
    "id": "RfhycMMXZahi"
   },
   "outputs": [],
   "source": [
    "# using the new function\n",
    "plot_learning_curve(results.history)"
   ]
  },
  {
   "cell_type": "markdown",
   "metadata": {
    "id": "Rot49hATDk4K"
   },
   "source": [
    "## Tuning\n",
    "The model is learning, but we can do better. \n",
    "\n",
    "**At this point, you can play with the above code to change hyperparameters and note changes to your results.**\n",
    "\n",
    "Alternatively, you can step through tuning this model below.\n",
    "\n",
    "## Walk-through tuning:\n",
    "Perhaps we did not have enough model parameters to accurately represent the mapping. Remedy this by increasing the number of hidden neurons to 20."
   ]
  },
  {
   "cell_type": "code",
   "execution_count": null,
   "metadata": {
    "id": "N3SfAb-mDk4L"
   },
   "outputs": [],
   "source": [
    "#Use the same code as in the previous cell\n",
    "#simply change the number of neurons in the hidden layer"
   ]
  },
  {
   "cell_type": "markdown",
   "metadata": {
    "id": "PQWoQKonDk4L"
   },
   "source": [
    "We see that we got little improvement here. Another hyperparameter to adjust is *batch size*, which is the number of training examples used to calculate the gradient on each step. While you may initially think that a higher batch size leads to faster or more accurate training, in practice this is not true. The \"noise\" that arises from using less training examples at each iteration can actually help find the global minimum of the loss function.\n",
    "(See here for more info: https://arxiv.org/pdf/1609.04836.pdf)\n",
    "\n",
    "Try decreasing the batch size to 16."
   ]
  },
  {
   "cell_type": "code",
   "execution_count": null,
   "metadata": {
    "id": "UB9__PwjDk4M"
   },
   "outputs": [],
   "source": [
    "#Complete me:\n"
   ]
  },
  {
   "cell_type": "markdown",
   "metadata": {
    "id": "q4QGMh3-Dk4M"
   },
   "source": [
    "This is starting to do better but has significant room for improvement.\n",
    "\n",
    "Another hyperparameter to tune is the *learning rate*. \n",
    "\n",
    " - If the learning rate is too high, we are taking too large of a step in the gradient descent at each iteration and will miss narrow minima in the loss function. \n",
    " - If the learning rate is too small, then we are not traveling far enough in each iteration and we will take far too long to reach a minimum. \n",
    "\n",
    "Perhaps the learning rate is too high and the network can't fine tune. Try decreasing the learning rate to 0.001."
   ]
  },
  {
   "cell_type": "code",
   "execution_count": null,
   "metadata": {
    "id": "s851AM6GDk4N"
   },
   "outputs": [],
   "source": [
    "\n",
    "# Complete me:\n"
   ]
  },
  {
   "cell_type": "markdown",
   "metadata": {
    "id": "yh748SgrDk4O"
   },
   "source": [
    "This is not really that much better, but now there is evidence of *overtraining* or *overfitting* -- the training loss is so much lower than the validation loss. \n",
    "\n",
    "A common fix to this is adding *dropout layers*. Try adding a dropout layer with dropout rate of 0.5. <https://www.tensorflow.org/api_docs/python/tf/keras/layers/Dropout>\n",
    "\n",
    "You can also try batch normalization: <https://www.tensorflow.org/api_docs/python/tf/keras/layers/BatchNormalization>"
   ]
  },
  {
   "cell_type": "code",
   "execution_count": null,
   "metadata": {
    "id": "XO_Ou80xDk4O"
   },
   "outputs": [],
   "source": [
    "#Dropout layers are located under tf.keras.layers. \n",
    "#They take the dropout rate as their only argument.\n",
    "#BatchNormalization layers are also under tf.keras.layers, and in the simplest use case, take no arguments\n",
    "\n",
    "#Complete me:\n"
   ]
  },
  {
   "cell_type": "markdown",
   "metadata": {
    "id": "Owd0k7kEDk4P"
   },
   "source": [
    "This clearly stopped the overtraining problem, but it still isn't training well. Now, try training on the full dataset with a more reasonable validation split of 0.2. Use a single hidden layer with 20 neurons, a learning rate of 0.001, and a batch size of 256. Just run it for 10 epochs."
   ]
  },
  {
   "cell_type": "code",
   "execution_count": null,
   "metadata": {
    "id": "iStR0aT5Dk4P"
   },
   "outputs": [],
   "source": [
    "#Complete me:\n"
   ]
  },
  {
   "cell_type": "markdown",
   "metadata": {
    "id": "3vkQ1kX2Dk4Q"
   },
   "source": [
    "This clearly resulted in a significant improvement and shows how important having a large enough dataset is. Moving on to the choice in activation functions, ReLU is not the only available choice, although it is one of the most popular ones currently. Try training a network using a sigmoid or tanh activation function."
   ]
  },
  {
   "cell_type": "code",
   "execution_count": null,
   "metadata": {
    "id": "B3qtiBmiDk4Q"
   },
   "outputs": [],
   "source": [
    "#Simply change relu to sigmoid or tanh to change the activation function\n",
    "\n",
    "#Complete me:\n"
   ]
  },
  {
   "cell_type": "markdown",
   "metadata": {
    "id": "ZRlAj8KFDk4R"
   },
   "source": [
    "Next, try adding 2 new hidden layers to the network. Use the ReLU activation function."
   ]
  },
  {
   "cell_type": "code",
   "execution_count": null,
   "metadata": {
    "id": "oJlPFnsjDk4R"
   },
   "outputs": [],
   "source": [
    "#Complete me:\n"
   ]
  },
  {
   "cell_type": "markdown",
   "metadata": {
    "id": "t3lUeX2dDk4S"
   },
   "source": [
    "Clearly, adding more layers helps improve the quality of the network. There is a limit to how effective this is though. Try having 5 hidden layers."
   ]
  },
  {
   "cell_type": "code",
   "execution_count": null,
   "metadata": {
    "id": "3kKOzBCrDk4S"
   },
   "outputs": [],
   "source": [
    "#Complete me:\n"
   ]
  },
  {
   "cell_type": "markdown",
   "metadata": {
    "id": "psJeOPOsDk4S"
   },
   "source": [
    "Now, see what happens when you increase the number of neurons per layer from 20 to 50 in the 3 hidden layer model. Consider how they perform compared to ReLU now. "
   ]
  },
  {
   "cell_type": "code",
   "execution_count": null,
   "metadata": {
    "id": "k430N-vIDk4T"
   },
   "outputs": [],
   "source": [
    "#Complete me:\n"
   ]
  },
  {
   "cell_type": "markdown",
   "metadata": {
    "id": "Ntl38Zo7Dk4U"
   },
   "source": [
    "Try using the sigmoid and the tanh activation functions again and compare them to ReLU."
   ]
  },
  {
   "cell_type": "code",
   "execution_count": null,
   "metadata": {
    "id": "JHn1MKIiDk4V"
   },
   "outputs": [],
   "source": [
    "#Complete me:\n"
   ]
  },
  {
   "cell_type": "markdown",
   "metadata": {
    "id": "D-HNQQhpDk4V"
   },
   "source": [
    "This difference in performance, especially with the sigmoid function, is known as the vanishing gradient problem. If the value for any one the neurons gets too far away from 0, the gradient for sigmoid and tanh gets really close to 0. This means that for deeper networks it is much more difficult to update the weights in the earlier layers as their gradient is so small. Now, remove the fifth column from the input data, the charge, and see what happens when training. Why do you think including charge has such a large impact, even though it is not required to compute invariant mass?"
   ]
  },
  {
   "cell_type": "code",
   "execution_count": null,
   "metadata": {
    "id": "ceRTx4CpDk4W"
   },
   "outputs": [],
   "source": [
    "#Complete me:\n"
   ]
  },
  {
   "cell_type": "markdown",
   "metadata": {
    "id": "IscwBDy7Dk4W"
   },
   "source": [
    "Finally, there are other options for the loss function. Try experimenting with alternatives to mean squared error.\n",
    "\n",
    "<https://www.tensorflow.org/api_docs/python/tf/keras/losses>\n",
    "\n",
    "You can also try some other optimizers -- for example, sgd (with and without momentum), rmsprop, adagrad, adadelta, adamax, and nadam. <https://www.tensorflow.org/api_docs/python/tf/keras/optimizers>\n",
    "\n"
   ]
  },
  {
   "cell_type": "code",
   "execution_count": null,
   "metadata": {
    "id": "uCm5VSXDDk4X"
   },
   "outputs": [],
   "source": []
  }
 ],
 "metadata": {
  "colab": {
   "include_colab_link": true,
   "private_outputs": true,
   "provenance": []
  },
  "kernelspec": {
   "display_name": "Python 3 (ipykernel)",
   "language": "python",
   "name": "python3"
  },
  "language_info": {
   "codemirror_mode": {
    "name": "ipython",
    "version": 3
   },
   "file_extension": ".py",
   "mimetype": "text/x-python",
   "name": "python",
   "nbconvert_exporter": "python",
   "pygments_lexer": "ipython3",
   "version": "3.10.11"
  }
 },
 "nbformat": 4,
 "nbformat_minor": 1
}
