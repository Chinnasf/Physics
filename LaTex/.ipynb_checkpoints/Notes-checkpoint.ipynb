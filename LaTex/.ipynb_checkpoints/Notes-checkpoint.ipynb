{
 "cells": [
  {
   "cell_type": "markdown",
   "id": "89e230a7",
   "metadata": {},
   "source": [
    "# GENERAL LaTeX NOTES"
   ]
  },
  {
   "cell_type": "markdown",
   "id": "9c2af58f",
   "metadata": {},
   "source": [
    "### Dos Imagenes\n",
    "\n",
    "```latex\n",
    "\\begin{figure}[H]\n",
    "    \\begin{minipage}{0.5\\linewidth}\n",
    "    \\centering\n",
    "    \\includegraphics[width=0.9\\linewidth]{xxxx}\n",
    "    \\end{minipage}\n",
    "    \\hspace{-1cm} \n",
    "    \\begin{minipage}{0.5\\linewidth}\n",
    "    \\centering\n",
    "    \\includegraphics[width=0.9\\linewidth]{xxxx}\n",
    "    \\end{minipage}\n",
    "    \\caption{LEFT:x. RIGHT: x.}\n",
    "    \\label{ . }\n",
    "\\end{figure}\n",
    "```"
   ]
  },
  {
   "cell_type": "code",
   "execution_count": null,
   "id": "4b00a718",
   "metadata": {},
   "outputs": [],
   "source": []
  }
 ],
 "metadata": {
  "kernelspec": {
   "display_name": "Python 3 (ipykernel)",
   "language": "python",
   "name": "python3"
  },
  "language_info": {
   "codemirror_mode": {
    "name": "ipython",
    "version": 3
   },
   "file_extension": ".py",
   "mimetype": "text/x-python",
   "name": "python",
   "nbconvert_exporter": "python",
   "pygments_lexer": "ipython3",
   "version": "3.10.12"
  }
 },
 "nbformat": 4,
 "nbformat_minor": 5
}
