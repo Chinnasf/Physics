{
 "cells": [
  {
   "cell_type": "code",
   "execution_count": 1,
   "metadata": {},
   "outputs": [],
   "source": [
    "import numpy as np\n",
    "import os \n",
    "import imageio.v2 as iio\n",
    "import pandas as pd\n",
    "\n",
    "rgb_dir = \"images/\"\n",
    "file_output_name=\"nafionx1000.gif\""
   ]
  },
  {
   "cell_type": "code",
   "execution_count": 2,
   "metadata": {},
   "outputs": [],
   "source": [
    "images_ = pd.Series(os.listdir(rgb_dir))\n",
    "idx = images_.str.split(\".\").apply(lambda x: x[0]).str.split(\"_\").apply(lambda x: x[-1]).astype(int)"
   ]
  },
  {
   "cell_type": "code",
   "execution_count": 3,
   "metadata": {},
   "outputs": [],
   "source": [
    "data = pd.DataFrame([idx,images_]).T\n",
    "data.columns = [\"main angle\", \"file name\"]\n",
    "data = data.sort_values(\"main angle\").reset_index(drop=True)"
   ]
  },
  {
   "cell_type": "code",
   "execution_count": 4,
   "metadata": {},
   "outputs": [],
   "source": [
    "images = [0]*len(data)"
   ]
  },
  {
   "cell_type": "code",
   "execution_count": 5,
   "metadata": {},
   "outputs": [],
   "source": [
    "for i,file_name in enumerate(data[\"file name\"]):\n",
    "    file_path = os.path.join(rgb_dir, file_name)\n",
    "    images[i] = iio.imread(file_path, pilmode=\"RGB\")"
   ]
  },
  {
   "cell_type": "code",
   "execution_count": 6,
   "metadata": {},
   "outputs": [],
   "source": [
    "# optiona: make the gif pause at the end so that people can appreciate\n",
    "#for _ in range(10):\n",
    "#    images.append(io.imread(file_path))"
   ]
  },
  {
   "cell_type": "code",
   "execution_count": 8,
   "metadata": {},
   "outputs": [],
   "source": [
    "iio.mimsave(\"gif/\"+file_output_name, images, fps=10)"
   ]
  },
  {
   "cell_type": "code",
   "execution_count": null,
   "metadata": {},
   "outputs": [],
   "source": []
  },
  {
   "cell_type": "code",
   "execution_count": null,
   "metadata": {},
   "outputs": [],
   "source": []
  }
 ],
 "metadata": {
  "kernelspec": {
   "display_name": "Python 3",
   "language": "python",
   "name": "python3"
  },
  "language_info": {
   "codemirror_mode": {
    "name": "ipython",
    "version": 3
   },
   "file_extension": ".py",
   "mimetype": "text/x-python",
   "name": "python",
   "nbconvert_exporter": "python",
   "pygments_lexer": "ipython3",
   "version": "3.10.12"
  }
 },
 "nbformat": 4,
 "nbformat_minor": 2
}
