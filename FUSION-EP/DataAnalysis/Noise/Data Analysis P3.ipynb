{
 "cells": [
  {
   "cell_type": "code",
   "execution_count": 4,
   "id": "785e2ac8",
   "metadata": {},
   "outputs": [],
   "source": [
    "import numpy as np\n",
    "import matplotlib.pyplot as plt\n",
    "import pandas as pd\n",
    "\n",
    "from sklearn.linear_model import LinearRegression\n",
    "def get_linreg(x_vec,y_vec):\n",
    "    \"\"\"\n",
    "    Getting a linear regression: y(x) = m*x + b, from data.\n",
    "    Returns parameters m, b.\n",
    "    \"\"\"\n",
    "    x = np.array(x_vec).reshape(-1,1)\n",
    "    y = np.array(y_vec)\n",
    "    model = LinearRegression().fit(x, y)\n",
    "    m, b = model.coef_, model.intercept_\n",
    "    return m,b\n",
    "\n",
    "T = lambda v: -0.3735*v + 455.98 # returns temperature in Kelvin given a signal (mV)\n",
    "\n",
    "sstyle = \"seaborn-poster\"\n",
    "plt.style.use(sstyle)\n",
    "plt.rc('font',family = 'serif')"
   ]
  },
  {
   "cell_type": "code",
   "execution_count": 17,
   "id": "650635a3",
   "metadata": {},
   "outputs": [
    {
     "data": {
      "text/html": [
       "<div>\n",
       "<style scoped>\n",
       "    .dataframe tbody tr th:only-of-type {\n",
       "        vertical-align: middle;\n",
       "    }\n",
       "\n",
       "    .dataframe tbody tr th {\n",
       "        vertical-align: top;\n",
       "    }\n",
       "\n",
       "    .dataframe thead th {\n",
       "        text-align: right;\n",
       "    }\n",
       "</style>\n",
       "<table border=\"1\" class=\"dataframe\">\n",
       "  <thead>\n",
       "    <tr style=\"text-align: right;\">\n",
       "      <th></th>\n",
       "      <th>Tsignal_mV</th>\n",
       "      <th>Deltaf_Hz</th>\n",
       "      <th>Vsp_mV</th>\n",
       "      <th>G2</th>\n",
       "    </tr>\n",
       "  </thead>\n",
       "  <tbody>\n",
       "    <tr>\n",
       "      <th>0</th>\n",
       "      <td>866</td>\n",
       "      <td>355</td>\n",
       "      <td>116</td>\n",
       "      <td>10000</td>\n",
       "    </tr>\n",
       "    <tr>\n",
       "      <th>1</th>\n",
       "      <td>830</td>\n",
       "      <td>355</td>\n",
       "      <td>199</td>\n",
       "      <td>10000</td>\n",
       "    </tr>\n",
       "    <tr>\n",
       "      <th>2</th>\n",
       "      <td>801</td>\n",
       "      <td>355</td>\n",
       "      <td>210</td>\n",
       "      <td>10000</td>\n",
       "    </tr>\n",
       "    <tr>\n",
       "      <th>3</th>\n",
       "      <td>737</td>\n",
       "      <td>355</td>\n",
       "      <td>222</td>\n",
       "      <td>10000</td>\n",
       "    </tr>\n",
       "    <tr>\n",
       "      <th>4</th>\n",
       "      <td>697</td>\n",
       "      <td>355</td>\n",
       "      <td>230</td>\n",
       "      <td>10000</td>\n",
       "    </tr>\n",
       "    <tr>\n",
       "      <th>...</th>\n",
       "      <td>...</td>\n",
       "      <td>...</td>\n",
       "      <td>...</td>\n",
       "      <td>...</td>\n",
       "    </tr>\n",
       "    <tr>\n",
       "      <th>61</th>\n",
       "      <td>646</td>\n",
       "      <td>111061</td>\n",
       "      <td>648</td>\n",
       "      <td>1000</td>\n",
       "    </tr>\n",
       "    <tr>\n",
       "      <th>62</th>\n",
       "      <td>616</td>\n",
       "      <td>111061</td>\n",
       "      <td>666</td>\n",
       "      <td>1000</td>\n",
       "    </tr>\n",
       "    <tr>\n",
       "      <th>63</th>\n",
       "      <td>585</td>\n",
       "      <td>111061</td>\n",
       "      <td>686</td>\n",
       "      <td>1000</td>\n",
       "    </tr>\n",
       "    <tr>\n",
       "      <th>64</th>\n",
       "      <td>555</td>\n",
       "      <td>111061</td>\n",
       "      <td>704</td>\n",
       "      <td>1000</td>\n",
       "    </tr>\n",
       "    <tr>\n",
       "      <th>65</th>\n",
       "      <td>455</td>\n",
       "      <td>111061</td>\n",
       "      <td>769</td>\n",
       "      <td>1000</td>\n",
       "    </tr>\n",
       "  </tbody>\n",
       "</table>\n",
       "<p>66 rows × 4 columns</p>\n",
       "</div>"
      ],
      "text/plain": [
       "    Tsignal_mV  Deltaf_Hz  Vsp_mV     G2\n",
       "0          866        355     116  10000\n",
       "1          830        355     199  10000\n",
       "2          801        355     210  10000\n",
       "3          737        355     222  10000\n",
       "4          697        355     230  10000\n",
       "..         ...        ...     ...    ...\n",
       "61         646     111061     648   1000\n",
       "62         616     111061     666   1000\n",
       "63         585     111061     686   1000\n",
       "64         555     111061     704   1000\n",
       "65         455     111061     769   1000\n",
       "\n",
       "[66 rows x 4 columns]"
      ]
     },
     "execution_count": 17,
     "metadata": {},
     "output_type": "execute_result"
    }
   ],
   "source": [
    "R = 10.01e3 # Ω\n",
    "df = pd.read_csv(\"data/experiment3_3_data.csv\").astype({\"Deltaf_Hz\": int})\n",
    "df"
   ]
  },
  {
   "cell_type": "code",
   "execution_count": 18,
   "id": "e1c79550",
   "metadata": {},
   "outputs": [
    {
     "data": {
      "text/plain": [
       "<pandas.core.groupby.generic.DataFrameGroupBy object at 0x7fb25be150c0>"
      ]
     },
     "execution_count": 18,
     "metadata": {},
     "output_type": "execute_result"
    }
   ],
   "source": [
    "df.groupby(by=\"Deltaf_Hz\")"
   ]
  },
  {
   "cell_type": "code",
   "execution_count": null,
   "id": "98e3139f",
   "metadata": {},
   "outputs": [],
   "source": []
  }
 ],
 "metadata": {
  "kernelspec": {
   "display_name": "Python 3 (ipykernel)",
   "language": "python",
   "name": "python3"
  },
  "language_info": {
   "codemirror_mode": {
    "name": "ipython",
    "version": 3
   },
   "file_extension": ".py",
   "mimetype": "text/x-python",
   "name": "python",
   "nbconvert_exporter": "python",
   "pygments_lexer": "ipython3",
   "version": "3.10.4"
  }
 },
 "nbformat": 4,
 "nbformat_minor": 5
}
