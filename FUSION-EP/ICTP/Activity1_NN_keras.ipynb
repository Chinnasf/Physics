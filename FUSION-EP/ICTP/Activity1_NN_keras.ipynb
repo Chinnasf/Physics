{
 "cells": [
  {
   "cell_type": "markdown",
   "metadata": {
    "colab_type": "text",
    "id": "view-in-github"
   },
   "source": [
    "<a href=\"https://colab.research.google.com/github/alpha-davidson/ICTP-Citizen-Science-2023/blob/main/Activity1_NN.ipynb\" target=\"_parent\"><img src=\"https://colab.research.google.com/assets/colab-badge.svg\" alt=\"Open In Colab\"/></a>"
   ]
  },
  {
   "cell_type": "markdown",
   "metadata": {
    "id": "R_-Q8naoDk36"
   },
   "source": [
    "# Neural Networks in TensorFlow's Keras\n",
    "\n",
    "\n",
    "We will use a dense neural network in Keras to solve a simple regression problem. \n",
    "## Learning Task\n",
    "We will construct a dense neural network to **predict the invariant mass of a particle** from its energy, momentum, (and charge).\n",
    "\n",
    "*Note that this task does not require machine learning. We choose a task with a known mapping to help us create, debug, and tune our first neural network.*\n",
    "\n",
    "## Dataset\n",
    "This dataset is a collection of simulated particle events from [Pythia](http://home.thep.lu.se/~torbjorn/Pythia.html). The dataset is a 2D array where each row represents one event from an $e^{-} + p$ (electron-proton) collision. This dataset is comprised _only_ of events where exactly 16 particles are produced from an electron-proton collision. Each particle contains $(p_x,p_y,p_z,E,q)$. Each event is therefore represented by 80 numbers. \n",
    "\n",
    "**Advanced activity:** There are more interesting event-wise learning tasks using this dataset. Consider crafting your own learning task and target for this data.\n",
    "\n",
    "\n",
    "\n",
    "## Computational Notes\n",
    "\n",
    "If this is your first time in a Jupyter-like environment, please read the following carefully:\n",
    "\n",
    " - You are in an active kernel\n",
    " - Run each cell with `Shift + Enter`\n",
    " - You must execute the cells in the order that you want the code to run\n",
    " - In Colab, `Runtime`$\\rightarrow$`Change runtime type` allows you to utilize GPUs and TPUs. They are unnecessary here, but will become vital in later exercises.\n"
   ]
  },
  {
   "cell_type": "code",
   "execution_count": 1,
   "metadata": {
    "id": "LfL6KNLSDk3-"
   },
   "outputs": [
    {
     "name": "stderr",
     "output_type": "stream",
     "text": [
      "2023-05-23 17:20:06.009325: I tensorflow/tsl/cuda/cudart_stub.cc:28] Could not find cuda drivers on your machine, GPU will not be used.\n",
      "2023-05-23 17:20:06.041826: I tensorflow/tsl/cuda/cudart_stub.cc:28] Could not find cuda drivers on your machine, GPU will not be used.\n",
      "2023-05-23 17:20:06.042374: I tensorflow/core/platform/cpu_feature_guard.cc:182] This TensorFlow binary is optimized to use available CPU instructions in performance-critical operations.\n",
      "To enable the following instructions: AVX2 FMA, in other operations, rebuild TensorFlow with the appropriate compiler flags.\n",
      "2023-05-23 17:20:06.545393: W tensorflow/compiler/tf2tensorrt/utils/py_utils.cc:38] TF-TRT Warning: Could not find TensorRT\n"
     ]
    }
   ],
   "source": [
    "# import the packages we will be using\n",
    "import numpy as np\n",
    "import tensorflow as tf\n",
    "import pylab as plt\n",
    "import pandas as pd"
   ]
  },
  {
   "cell_type": "code",
   "execution_count": 2,
   "metadata": {
    "id": "xTx3KTNYGyQu"
   },
   "outputs": [],
   "source": [
    "# Import data from github. Note: in colab, go to Files and refresh to see file.\n",
    "# Here I use Linux commands within the notebook to pull the data file and rename it.\n",
    "\n",
    "# If you are not in an environment that supports the following commands, \n",
    "#     paste the url below to download the dataset onto your local machine.\n",
    "\n",
    "\"\"\"!wget https://github.com/NuclearTalent/MachineLearningECT/blob/master/doc/pub/Day6/data/homogenous-16-particle-events-energy.npy?raw=true\n",
    "!mv homogenous-16-particle-events-energy.npy?raw=true particle-events.npy\"\"\";"
   ]
  },
  {
   "cell_type": "code",
   "execution_count": 3,
   "metadata": {
    "id": "8-GfZs9bI7Km"
   },
   "outputs": [],
   "source": [
    "# now we load the data file, which is a numpy array\n",
    "events = np.load(\"particle-events.npy\")"
   ]
  },
  {
   "cell_type": "code",
   "execution_count": 4,
   "metadata": {},
   "outputs": [
    {
     "data": {
      "text/plain": [
       "(35916, 80)"
      ]
     },
     "execution_count": 4,
     "metadata": {},
     "output_type": "execute_result"
    }
   ],
   "source": [
    "events.shape"
   ]
  },
  {
   "cell_type": "code",
   "execution_count": 5,
   "metadata": {},
   "outputs": [],
   "source": [
    "df = pd.DataFrame(events)"
   ]
  },
  {
   "cell_type": "code",
   "execution_count": 7,
   "metadata": {},
   "outputs": [],
   "source": [
    "col_names = [f\"px{i}|py{i}|pz{i}|E{i}|q{i}\" for i in range(1,17)]\n",
    "features = []\n",
    "for col in col_names:\n",
    "    features = features + col.split(\"|\")\n",
    "df.columns = features"
   ]
  },
  {
   "cell_type": "code",
   "execution_count": 8,
   "metadata": {},
   "outputs": [
    {
     "data": {
      "text/html": [
       "<div>\n",
       "<style scoped>\n",
       "    .dataframe tbody tr th:only-of-type {\n",
       "        vertical-align: middle;\n",
       "    }\n",
       "\n",
       "    .dataframe tbody tr th {\n",
       "        vertical-align: top;\n",
       "    }\n",
       "\n",
       "    .dataframe thead th {\n",
       "        text-align: right;\n",
       "    }\n",
       "</style>\n",
       "<table border=\"1\" class=\"dataframe\">\n",
       "  <thead>\n",
       "    <tr style=\"text-align: right;\">\n",
       "      <th></th>\n",
       "      <th>px1</th>\n",
       "      <th>py1</th>\n",
       "      <th>pz1</th>\n",
       "      <th>E1</th>\n",
       "      <th>q1</th>\n",
       "      <th>px2</th>\n",
       "      <th>py2</th>\n",
       "      <th>pz2</th>\n",
       "      <th>E2</th>\n",
       "      <th>q2</th>\n",
       "      <th>...</th>\n",
       "      <th>px15</th>\n",
       "      <th>py15</th>\n",
       "      <th>pz15</th>\n",
       "      <th>E15</th>\n",
       "      <th>q15</th>\n",
       "      <th>px16</th>\n",
       "      <th>py16</th>\n",
       "      <th>pz16</th>\n",
       "      <th>E16</th>\n",
       "      <th>q16</th>\n",
       "    </tr>\n",
       "  </thead>\n",
       "  <tbody>\n",
       "    <tr>\n",
       "      <th>0</th>\n",
       "      <td>-0.492933</td>\n",
       "      <td>-0.469448</td>\n",
       "      <td>-2.228710</td>\n",
       "      <td>2.334520</td>\n",
       "      <td>-1.0</td>\n",
       "      <td>-0.380699</td>\n",
       "      <td>0.859243</td>\n",
       "      <td>0.125686</td>\n",
       "      <td>0.958388</td>\n",
       "      <td>-1.0</td>\n",
       "      <td>...</td>\n",
       "      <td>0.060035</td>\n",
       "      <td>0.198486</td>\n",
       "      <td>0.387630</td>\n",
       "      <td>0.461235</td>\n",
       "      <td>1.0</td>\n",
       "      <td>-0.182514</td>\n",
       "      <td>0.156148</td>\n",
       "      <td>-1.763670</td>\n",
       "      <td>2.01211</td>\n",
       "      <td>1.0</td>\n",
       "    </tr>\n",
       "    <tr>\n",
       "      <th>1</th>\n",
       "      <td>-0.021128</td>\n",
       "      <td>0.513518</td>\n",
       "      <td>0.056984</td>\n",
       "      <td>0.535606</td>\n",
       "      <td>-1.0</td>\n",
       "      <td>0.357259</td>\n",
       "      <td>0.326994</td>\n",
       "      <td>-0.533131</td>\n",
       "      <td>0.733667</td>\n",
       "      <td>-1.0</td>\n",
       "      <td>...</td>\n",
       "      <td>3.329790</td>\n",
       "      <td>-0.872136</td>\n",
       "      <td>4.813310</td>\n",
       "      <td>5.919080</td>\n",
       "      <td>1.0</td>\n",
       "      <td>0.238305</td>\n",
       "      <td>0.223850</td>\n",
       "      <td>-0.542793</td>\n",
       "      <td>1.13220</td>\n",
       "      <td>1.0</td>\n",
       "    </tr>\n",
       "    <tr>\n",
       "      <th>2</th>\n",
       "      <td>-0.238883</td>\n",
       "      <td>0.010763</td>\n",
       "      <td>-1.438530</td>\n",
       "      <td>1.464940</td>\n",
       "      <td>-1.0</td>\n",
       "      <td>0.166321</td>\n",
       "      <td>0.511802</td>\n",
       "      <td>0.878539</td>\n",
       "      <td>1.039670</td>\n",
       "      <td>-1.0</td>\n",
       "      <td>...</td>\n",
       "      <td>3.371150</td>\n",
       "      <td>0.149630</td>\n",
       "      <td>12.704600</td>\n",
       "      <td>13.145800</td>\n",
       "      <td>1.0</td>\n",
       "      <td>-0.033907</td>\n",
       "      <td>0.150283</td>\n",
       "      <td>-3.653550</td>\n",
       "      <td>3.77525</td>\n",
       "      <td>1.0</td>\n",
       "    </tr>\n",
       "    <tr>\n",
       "      <th>3</th>\n",
       "      <td>0.100541</td>\n",
       "      <td>0.042173</td>\n",
       "      <td>0.535900</td>\n",
       "      <td>0.564407</td>\n",
       "      <td>-1.0</td>\n",
       "      <td>0.481310</td>\n",
       "      <td>-0.186366</td>\n",
       "      <td>0.788642</td>\n",
       "      <td>0.952800</td>\n",
       "      <td>-1.0</td>\n",
       "      <td>...</td>\n",
       "      <td>2.132850</td>\n",
       "      <td>-0.677265</td>\n",
       "      <td>3.723820</td>\n",
       "      <td>4.346730</td>\n",
       "      <td>1.0</td>\n",
       "      <td>-0.321742</td>\n",
       "      <td>-0.034143</td>\n",
       "      <td>-1.928730</td>\n",
       "      <td>2.16911</td>\n",
       "      <td>1.0</td>\n",
       "    </tr>\n",
       "    <tr>\n",
       "      <th>4</th>\n",
       "      <td>-3.701960</td>\n",
       "      <td>4.534330</td>\n",
       "      <td>5.796190</td>\n",
       "      <td>8.238930</td>\n",
       "      <td>-1.0</td>\n",
       "      <td>-0.250877</td>\n",
       "      <td>0.350684</td>\n",
       "      <td>-0.728698</td>\n",
       "      <td>0.858137</td>\n",
       "      <td>-1.0</td>\n",
       "      <td>...</td>\n",
       "      <td>0.125843</td>\n",
       "      <td>0.094416</td>\n",
       "      <td>-0.093951</td>\n",
       "      <td>0.230342</td>\n",
       "      <td>1.0</td>\n",
       "      <td>0.624977</td>\n",
       "      <td>-0.087251</td>\n",
       "      <td>-2.548230</td>\n",
       "      <td>2.78784</td>\n",
       "      <td>1.0</td>\n",
       "    </tr>\n",
       "    <tr>\n",
       "      <th>...</th>\n",
       "      <td>...</td>\n",
       "      <td>...</td>\n",
       "      <td>...</td>\n",
       "      <td>...</td>\n",
       "      <td>...</td>\n",
       "      <td>...</td>\n",
       "      <td>...</td>\n",
       "      <td>...</td>\n",
       "      <td>...</td>\n",
       "      <td>...</td>\n",
       "      <td>...</td>\n",
       "      <td>...</td>\n",
       "      <td>...</td>\n",
       "      <td>...</td>\n",
       "      <td>...</td>\n",
       "      <td>...</td>\n",
       "      <td>...</td>\n",
       "      <td>...</td>\n",
       "      <td>...</td>\n",
       "      <td>...</td>\n",
       "      <td>...</td>\n",
       "    </tr>\n",
       "    <tr>\n",
       "      <th>35911</th>\n",
       "      <td>-1.333440</td>\n",
       "      <td>1.059830</td>\n",
       "      <td>1.372490</td>\n",
       "      <td>2.191920</td>\n",
       "      <td>-1.0</td>\n",
       "      <td>-0.554874</td>\n",
       "      <td>0.015482</td>\n",
       "      <td>0.105968</td>\n",
       "      <td>0.582094</td>\n",
       "      <td>-1.0</td>\n",
       "      <td>...</td>\n",
       "      <td>-0.181712</td>\n",
       "      <td>0.312801</td>\n",
       "      <td>-0.281528</td>\n",
       "      <td>0.479168</td>\n",
       "      <td>1.0</td>\n",
       "      <td>-0.743300</td>\n",
       "      <td>0.552026</td>\n",
       "      <td>-0.433851</td>\n",
       "      <td>1.38773</td>\n",
       "      <td>1.0</td>\n",
       "    </tr>\n",
       "    <tr>\n",
       "      <th>35912</th>\n",
       "      <td>-0.337079</td>\n",
       "      <td>-0.092994</td>\n",
       "      <td>-1.016500</td>\n",
       "      <td>1.083980</td>\n",
       "      <td>-1.0</td>\n",
       "      <td>-0.078552</td>\n",
       "      <td>0.086005</td>\n",
       "      <td>2.134450</td>\n",
       "      <td>2.142170</td>\n",
       "      <td>-1.0</td>\n",
       "      <td>...</td>\n",
       "      <td>0.117765</td>\n",
       "      <td>-0.366370</td>\n",
       "      <td>-0.163362</td>\n",
       "      <td>0.440752</td>\n",
       "      <td>1.0</td>\n",
       "      <td>-0.325950</td>\n",
       "      <td>-0.327742</td>\n",
       "      <td>-1.620970</td>\n",
       "      <td>1.92913</td>\n",
       "      <td>1.0</td>\n",
       "    </tr>\n",
       "    <tr>\n",
       "      <th>35913</th>\n",
       "      <td>-0.494778</td>\n",
       "      <td>-0.198240</td>\n",
       "      <td>1.594910</td>\n",
       "      <td>1.687400</td>\n",
       "      <td>-1.0</td>\n",
       "      <td>-0.005706</td>\n",
       "      <td>0.441082</td>\n",
       "      <td>-0.332050</td>\n",
       "      <td>0.569493</td>\n",
       "      <td>-1.0</td>\n",
       "      <td>...</td>\n",
       "      <td>0.274823</td>\n",
       "      <td>-0.141276</td>\n",
       "      <td>-0.151151</td>\n",
       "      <td>0.371232</td>\n",
       "      <td>1.0</td>\n",
       "      <td>-0.776436</td>\n",
       "      <td>-0.033002</td>\n",
       "      <td>-3.395280</td>\n",
       "      <td>3.60725</td>\n",
       "      <td>1.0</td>\n",
       "    </tr>\n",
       "    <tr>\n",
       "      <th>35914</th>\n",
       "      <td>-0.550329</td>\n",
       "      <td>0.533369</td>\n",
       "      <td>0.111079</td>\n",
       "      <td>0.786869</td>\n",
       "      <td>-1.0</td>\n",
       "      <td>0.021931</td>\n",
       "      <td>0.324879</td>\n",
       "      <td>0.326723</td>\n",
       "      <td>0.481928</td>\n",
       "      <td>-1.0</td>\n",
       "      <td>...</td>\n",
       "      <td>-0.393085</td>\n",
       "      <td>0.514364</td>\n",
       "      <td>-0.484226</td>\n",
       "      <td>0.820390</td>\n",
       "      <td>1.0</td>\n",
       "      <td>0.382212</td>\n",
       "      <td>-0.248855</td>\n",
       "      <td>-0.179829</td>\n",
       "      <td>1.05863</td>\n",
       "      <td>1.0</td>\n",
       "    </tr>\n",
       "    <tr>\n",
       "      <th>35915</th>\n",
       "      <td>-0.444629</td>\n",
       "      <td>0.980696</td>\n",
       "      <td>0.676546</td>\n",
       "      <td>1.279320</td>\n",
       "      <td>-1.0</td>\n",
       "      <td>-0.391059</td>\n",
       "      <td>0.372074</td>\n",
       "      <td>0.552607</td>\n",
       "      <td>0.784997</td>\n",
       "      <td>-1.0</td>\n",
       "      <td>...</td>\n",
       "      <td>-0.038891</td>\n",
       "      <td>-0.069566</td>\n",
       "      <td>0.337187</td>\n",
       "      <td>0.373533</td>\n",
       "      <td>1.0</td>\n",
       "      <td>-0.283360</td>\n",
       "      <td>0.373694</td>\n",
       "      <td>-2.622290</td>\n",
       "      <td>2.82430</td>\n",
       "      <td>1.0</td>\n",
       "    </tr>\n",
       "  </tbody>\n",
       "</table>\n",
       "<p>35916 rows × 80 columns</p>\n",
       "</div>"
      ],
      "text/plain": [
       "            px1       py1       pz1        E1   q1       px2       py2  \\\n",
       "0     -0.492933 -0.469448 -2.228710  2.334520 -1.0 -0.380699  0.859243   \n",
       "1     -0.021128  0.513518  0.056984  0.535606 -1.0  0.357259  0.326994   \n",
       "2     -0.238883  0.010763 -1.438530  1.464940 -1.0  0.166321  0.511802   \n",
       "3      0.100541  0.042173  0.535900  0.564407 -1.0  0.481310 -0.186366   \n",
       "4     -3.701960  4.534330  5.796190  8.238930 -1.0 -0.250877  0.350684   \n",
       "...         ...       ...       ...       ...  ...       ...       ...   \n",
       "35911 -1.333440  1.059830  1.372490  2.191920 -1.0 -0.554874  0.015482   \n",
       "35912 -0.337079 -0.092994 -1.016500  1.083980 -1.0 -0.078552  0.086005   \n",
       "35913 -0.494778 -0.198240  1.594910  1.687400 -1.0 -0.005706  0.441082   \n",
       "35914 -0.550329  0.533369  0.111079  0.786869 -1.0  0.021931  0.324879   \n",
       "35915 -0.444629  0.980696  0.676546  1.279320 -1.0 -0.391059  0.372074   \n",
       "\n",
       "            pz2        E2   q2  ...      px15      py15       pz15        E15  \\\n",
       "0      0.125686  0.958388 -1.0  ...  0.060035  0.198486   0.387630   0.461235   \n",
       "1     -0.533131  0.733667 -1.0  ...  3.329790 -0.872136   4.813310   5.919080   \n",
       "2      0.878539  1.039670 -1.0  ...  3.371150  0.149630  12.704600  13.145800   \n",
       "3      0.788642  0.952800 -1.0  ...  2.132850 -0.677265   3.723820   4.346730   \n",
       "4     -0.728698  0.858137 -1.0  ...  0.125843  0.094416  -0.093951   0.230342   \n",
       "...         ...       ...  ...  ...       ...       ...        ...        ...   \n",
       "35911  0.105968  0.582094 -1.0  ... -0.181712  0.312801  -0.281528   0.479168   \n",
       "35912  2.134450  2.142170 -1.0  ...  0.117765 -0.366370  -0.163362   0.440752   \n",
       "35913 -0.332050  0.569493 -1.0  ...  0.274823 -0.141276  -0.151151   0.371232   \n",
       "35914  0.326723  0.481928 -1.0  ... -0.393085  0.514364  -0.484226   0.820390   \n",
       "35915  0.552607  0.784997 -1.0  ... -0.038891 -0.069566   0.337187   0.373533   \n",
       "\n",
       "       q15      px16      py16      pz16      E16  q16  \n",
       "0      1.0 -0.182514  0.156148 -1.763670  2.01211  1.0  \n",
       "1      1.0  0.238305  0.223850 -0.542793  1.13220  1.0  \n",
       "2      1.0 -0.033907  0.150283 -3.653550  3.77525  1.0  \n",
       "3      1.0 -0.321742 -0.034143 -1.928730  2.16911  1.0  \n",
       "4      1.0  0.624977 -0.087251 -2.548230  2.78784  1.0  \n",
       "...    ...       ...       ...       ...      ...  ...  \n",
       "35911  1.0 -0.743300  0.552026 -0.433851  1.38773  1.0  \n",
       "35912  1.0 -0.325950 -0.327742 -1.620970  1.92913  1.0  \n",
       "35913  1.0 -0.776436 -0.033002 -3.395280  3.60725  1.0  \n",
       "35914  1.0  0.382212 -0.248855 -0.179829  1.05863  1.0  \n",
       "35915  1.0 -0.283360  0.373694 -2.622290  2.82430  1.0  \n",
       "\n",
       "[35916 rows x 80 columns]"
      ]
     },
     "execution_count": 8,
     "metadata": {},
     "output_type": "execute_result"
    }
   ],
   "source": [
    "df"
   ]
  },
  {
   "cell_type": "markdown",
   "metadata": {
    "id": "8O8n_nwTDk3_"
   },
   "source": [
    "Recall that each row of this dataset is an entire event. We need each row to represent a training example, which is a single particle.\n",
    "\n",
    "Using `numpy`'s `reshape` method we can make each row represent one particle. "
   ]
  },
  {
   "cell_type": "code",
   "execution_count": 9,
   "metadata": {
    "id": "067guDXZDk4A"
   },
   "outputs": [],
   "source": [
    "# Here we rearrange the data within each of the events to isolate particles\n",
    "\n",
    "#print(\"events[0] =\\n\",events[0])\n",
    "evt_particles = np.reshape(events, (len(events), 16, 5))\n",
    "\n",
    "#print(\"\\nevt_particles[0] =\\n\", evt_particles[0])\n",
    "\n",
    "# Use another call of reshape to combine all events to have the appropriate shape\n",
    "# Complete me:\n",
    "#particles = \n",
    "\n",
    "#print(\"\\nparticles =\\n\",particles[:10])"
   ]
  },
  {
   "cell_type": "markdown",
   "metadata": {
    "id": "K_YWTBO0Dk4B"
   },
   "source": [
    "These are our training data inputs, but we also must provide the **targets**, which are the **invariant masses of each particle**. This is a straightforward computation.\n",
    "\n",
    "We choose units where $c = 1$:\n",
    "$$m^2=E^2-||\\textbf{p}||^2$$ \n",
    "where $m, E$, and $\\textbf{p}$ are all in GeV. This is equivalent to \n",
    "$$m = \\sqrt{E^2 - (p_x^2 + p_y^2 + p_z^2)}$$\n",
    "\n",
    "**Create an array of your target values.**\n",
    "Due to insufficient precision, some $m^2$ values for massless particles will come out very slightly negative. These should be treated as zero to avoid `NaN`. I used the `maximum` method from `numpy` to handle this. "
   ]
  },
  {
   "cell_type": "code",
   "execution_count": 10,
   "metadata": {
    "id": "ap3EizhuDk4B"
   },
   "outputs": [],
   "source": [
    "# Complete me:\n",
    "masses = pd.DataFrame()\n",
    "for i in range(16):\n",
    "    px = np.array(df[f\"px{i+1}\"]); py = np.array(df[f\"py{i+1}\"]); pz = np.array(df[f\"pz{i+1}\"])\n",
    "    E  = np.array(df[f\"E{i+1}\"] )\n",
    "    arg = E**2 - (px**2 + py**2 + pz**2)\n",
    "    masses[f\"m{i+1}\"] = np.sqrt( np.maximum(np.zeros(len(arg)), arg) )  "
   ]
  },
  {
   "cell_type": "markdown",
   "metadata": {},
   "source": [
    "$\\rightarrow$ Proton is the heaviest particle created"
   ]
  },
  {
   "cell_type": "code",
   "execution_count": 11,
   "metadata": {},
   "outputs": [
    {
     "data": {
      "text/html": [
       "<div>\n",
       "<style scoped>\n",
       "    .dataframe tbody tr th:only-of-type {\n",
       "        vertical-align: middle;\n",
       "    }\n",
       "\n",
       "    .dataframe tbody tr th {\n",
       "        vertical-align: top;\n",
       "    }\n",
       "\n",
       "    .dataframe thead th {\n",
       "        text-align: right;\n",
       "    }\n",
       "</style>\n",
       "<table border=\"1\" class=\"dataframe\">\n",
       "  <thead>\n",
       "    <tr style=\"text-align: right;\">\n",
       "      <th></th>\n",
       "      <th>m1</th>\n",
       "      <th>m2</th>\n",
       "      <th>m3</th>\n",
       "      <th>m4</th>\n",
       "      <th>m5</th>\n",
       "      <th>m6</th>\n",
       "      <th>m7</th>\n",
       "      <th>m8</th>\n",
       "      <th>m9</th>\n",
       "      <th>m10</th>\n",
       "      <th>m11</th>\n",
       "      <th>m12</th>\n",
       "      <th>m13</th>\n",
       "      <th>m14</th>\n",
       "      <th>m15</th>\n",
       "      <th>m16</th>\n",
       "    </tr>\n",
       "  </thead>\n",
       "  <tbody>\n",
       "    <tr>\n",
       "      <th>count</th>\n",
       "      <td>35916.000000</td>\n",
       "      <td>35916.000000</td>\n",
       "      <td>35916.000000</td>\n",
       "      <td>35916.000000</td>\n",
       "      <td>35916.000000</td>\n",
       "      <td>35916.000000</td>\n",
       "      <td>35916.000000</td>\n",
       "      <td>35916.000000</td>\n",
       "      <td>35916.000000</td>\n",
       "      <td>35916.000000</td>\n",
       "      <td>35916.000000</td>\n",
       "      <td>35916.000000</td>\n",
       "      <td>35916.000000</td>\n",
       "      <td>35916.000000</td>\n",
       "      <td>35916.000000</td>\n",
       "      <td>35916.000000</td>\n",
       "    </tr>\n",
       "    <tr>\n",
       "      <th>mean</th>\n",
       "      <td>0.139570</td>\n",
       "      <td>0.139569</td>\n",
       "      <td>0.139571</td>\n",
       "      <td>0.014286</td>\n",
       "      <td>0.001352</td>\n",
       "      <td>0.000749</td>\n",
       "      <td>0.000493</td>\n",
       "      <td>0.000391</td>\n",
       "      <td>0.000395</td>\n",
       "      <td>0.000490</td>\n",
       "      <td>0.000746</td>\n",
       "      <td>0.001369</td>\n",
       "      <td>0.139565</td>\n",
       "      <td>0.139571</td>\n",
       "      <td>0.139571</td>\n",
       "      <td>0.938270</td>\n",
       "    </tr>\n",
       "    <tr>\n",
       "      <th>std</th>\n",
       "      <td>0.000490</td>\n",
       "      <td>0.000159</td>\n",
       "      <td>0.000485</td>\n",
       "      <td>0.016553</td>\n",
       "      <td>0.003334</td>\n",
       "      <td>0.001630</td>\n",
       "      <td>0.001183</td>\n",
       "      <td>0.000946</td>\n",
       "      <td>0.000979</td>\n",
       "      <td>0.001164</td>\n",
       "      <td>0.001648</td>\n",
       "      <td>0.003257</td>\n",
       "      <td>0.000846</td>\n",
       "      <td>0.000264</td>\n",
       "      <td>0.000820</td>\n",
       "      <td>0.000012</td>\n",
       "    </tr>\n",
       "    <tr>\n",
       "      <th>min</th>\n",
       "      <td>0.129948</td>\n",
       "      <td>0.130457</td>\n",
       "      <td>0.129184</td>\n",
       "      <td>0.000000</td>\n",
       "      <td>0.000000</td>\n",
       "      <td>0.000000</td>\n",
       "      <td>0.000000</td>\n",
       "      <td>0.000000</td>\n",
       "      <td>0.000000</td>\n",
       "      <td>0.000000</td>\n",
       "      <td>0.000000</td>\n",
       "      <td>0.000000</td>\n",
       "      <td>0.126122</td>\n",
       "      <td>0.131046</td>\n",
       "      <td>0.128824</td>\n",
       "      <td>0.938208</td>\n",
       "    </tr>\n",
       "    <tr>\n",
       "      <th>25%</th>\n",
       "      <td>0.139565</td>\n",
       "      <td>0.139568</td>\n",
       "      <td>0.139565</td>\n",
       "      <td>0.000000</td>\n",
       "      <td>0.000000</td>\n",
       "      <td>0.000000</td>\n",
       "      <td>0.000000</td>\n",
       "      <td>0.000000</td>\n",
       "      <td>0.000000</td>\n",
       "      <td>0.000000</td>\n",
       "      <td>0.000000</td>\n",
       "      <td>0.000000</td>\n",
       "      <td>0.139556</td>\n",
       "      <td>0.139566</td>\n",
       "      <td>0.139556</td>\n",
       "      <td>0.938264</td>\n",
       "    </tr>\n",
       "    <tr>\n",
       "      <th>50%</th>\n",
       "      <td>0.139570</td>\n",
       "      <td>0.139570</td>\n",
       "      <td>0.139570</td>\n",
       "      <td>0.000000</td>\n",
       "      <td>0.000000</td>\n",
       "      <td>0.000000</td>\n",
       "      <td>0.000000</td>\n",
       "      <td>0.000007</td>\n",
       "      <td>0.000000</td>\n",
       "      <td>0.000000</td>\n",
       "      <td>0.000000</td>\n",
       "      <td>0.000007</td>\n",
       "      <td>0.139570</td>\n",
       "      <td>0.139570</td>\n",
       "      <td>0.139570</td>\n",
       "      <td>0.938270</td>\n",
       "    </tr>\n",
       "    <tr>\n",
       "      <th>75%</th>\n",
       "      <td>0.139575</td>\n",
       "      <td>0.139572</td>\n",
       "      <td>0.139575</td>\n",
       "      <td>0.028929</td>\n",
       "      <td>0.000848</td>\n",
       "      <td>0.000546</td>\n",
       "      <td>0.000448</td>\n",
       "      <td>0.000403</td>\n",
       "      <td>0.000406</td>\n",
       "      <td>0.000435</td>\n",
       "      <td>0.000547</td>\n",
       "      <td>0.000918</td>\n",
       "      <td>0.139586</td>\n",
       "      <td>0.139574</td>\n",
       "      <td>0.139584</td>\n",
       "      <td>0.938276</td>\n",
       "    </tr>\n",
       "    <tr>\n",
       "      <th>max</th>\n",
       "      <td>0.148373</td>\n",
       "      <td>0.146542</td>\n",
       "      <td>0.147937</td>\n",
       "      <td>0.060916</td>\n",
       "      <td>0.049075</td>\n",
       "      <td>0.048046</td>\n",
       "      <td>0.046212</td>\n",
       "      <td>0.033206</td>\n",
       "      <td>0.037981</td>\n",
       "      <td>0.032007</td>\n",
       "      <td>0.040221</td>\n",
       "      <td>0.047000</td>\n",
       "      <td>0.150444</td>\n",
       "      <td>0.148468</td>\n",
       "      <td>0.149858</td>\n",
       "      <td>0.938331</td>\n",
       "    </tr>\n",
       "  </tbody>\n",
       "</table>\n",
       "</div>"
      ],
      "text/plain": [
       "                 m1            m2            m3            m4            m5  \\\n",
       "count  35916.000000  35916.000000  35916.000000  35916.000000  35916.000000   \n",
       "mean       0.139570      0.139569      0.139571      0.014286      0.001352   \n",
       "std        0.000490      0.000159      0.000485      0.016553      0.003334   \n",
       "min        0.129948      0.130457      0.129184      0.000000      0.000000   \n",
       "25%        0.139565      0.139568      0.139565      0.000000      0.000000   \n",
       "50%        0.139570      0.139570      0.139570      0.000000      0.000000   \n",
       "75%        0.139575      0.139572      0.139575      0.028929      0.000848   \n",
       "max        0.148373      0.146542      0.147937      0.060916      0.049075   \n",
       "\n",
       "                 m6            m7            m8            m9           m10  \\\n",
       "count  35916.000000  35916.000000  35916.000000  35916.000000  35916.000000   \n",
       "mean       0.000749      0.000493      0.000391      0.000395      0.000490   \n",
       "std        0.001630      0.001183      0.000946      0.000979      0.001164   \n",
       "min        0.000000      0.000000      0.000000      0.000000      0.000000   \n",
       "25%        0.000000      0.000000      0.000000      0.000000      0.000000   \n",
       "50%        0.000000      0.000000      0.000007      0.000000      0.000000   \n",
       "75%        0.000546      0.000448      0.000403      0.000406      0.000435   \n",
       "max        0.048046      0.046212      0.033206      0.037981      0.032007   \n",
       "\n",
       "                m11           m12           m13           m14           m15  \\\n",
       "count  35916.000000  35916.000000  35916.000000  35916.000000  35916.000000   \n",
       "mean       0.000746      0.001369      0.139565      0.139571      0.139571   \n",
       "std        0.001648      0.003257      0.000846      0.000264      0.000820   \n",
       "min        0.000000      0.000000      0.126122      0.131046      0.128824   \n",
       "25%        0.000000      0.000000      0.139556      0.139566      0.139556   \n",
       "50%        0.000000      0.000007      0.139570      0.139570      0.139570   \n",
       "75%        0.000547      0.000918      0.139586      0.139574      0.139584   \n",
       "max        0.040221      0.047000      0.150444      0.148468      0.149858   \n",
       "\n",
       "                m16  \n",
       "count  35916.000000  \n",
       "mean       0.938270  \n",
       "std        0.000012  \n",
       "min        0.938208  \n",
       "25%        0.938264  \n",
       "50%        0.938270  \n",
       "75%        0.938276  \n",
       "max        0.938331  "
      ]
     },
     "execution_count": 11,
     "metadata": {},
     "output_type": "execute_result"
    }
   ],
   "source": [
    "masses.describe()"
   ]
  },
  {
   "cell_type": "markdown",
   "metadata": {
    "id": "kprt9pbPDk4D"
   },
   "source": [
    "There are several hundred thousand datapoints in this dataset which is overkill for this simple example. Create a test dataset with just 1000 examples."
   ]
  },
  {
   "cell_type": "code",
   "execution_count": 12,
   "metadata": {
    "id": "nZkF1erNDk4E"
   },
   "outputs": [],
   "source": [
    "#Slicing allows you select a subset of an array.\n",
    "#This can be done like this: smallerArray = largerArray[:100]\n",
    "\n",
    "complete_data = pd.concat([df,masses], axis=1, join=\"inner\")\n",
    "data_subset = complete_data.sample(n=1000, replace=False, weights=None, random_state=71)"
   ]
  },
  {
   "cell_type": "markdown",
   "metadata": {
    "id": "5VYyii0yDk4F"
   },
   "source": [
    "Next, make a histogram of the target data to make sure that we are seeing masses of real particles. As this data has limited precision, this will not resolve electrons very well, but protons, pions, and massless particles should be clearly visible."
   ]
  },
  {
   "cell_type": "code",
   "execution_count": 13,
   "metadata": {
    "id": "xHL4sU3ZDk4G"
   },
   "outputs": [
    {
     "data": {
      "image/png": "[encoded data removed]",
      "text/plain": [
       "<Figure size 640x480 with 1 Axes>"
      ]
     },
     "metadata": {},
     "output_type": "display_data"
    }
   ],
   "source": [
    "plt.hist(data_subset[masses.columns].stack().tolist(),bins=100)\n",
    "plt.show()"
   ]
  },
  {
   "cell_type": "markdown",
   "metadata": {
    "id": "i-MXhgPQDk4H"
   },
   "source": [
    "Now we can build and train the first neural network. We will start with a network with on hidden layer and 5 neurons, and ReLU activation. \n",
    "\n",
    "\n"
   ]
  },
  {
   "cell_type": "code",
   "execution_count": 25,
   "metadata": {
    "id": "d_MsoqFvDk4H"
   },
   "outputs": [
    {
     "name": "stdout",
     "output_type": "stream",
     "text": [
      "Model: \"sequential_1\"\n",
      "_________________________________________________________________\n",
      " Layer (type)                Output Shape              Param #   \n",
      "=================================================================\n",
      " dense_2 (Dense)             (None, 20)                1620      \n",
      "                                                                 \n",
      " dense_3 (Dense)             (None, 1)                 21        \n",
      "                                                                 \n",
      "=================================================================\n",
      "Total params: 1,641\n",
      "Trainable params: 1,641\n",
      "Non-trainable params: 0\n",
      "_________________________________________________________________\n"
     ]
    }
   ],
   "source": [
    "# Build our model\n",
    "model = tf.keras.Sequential() #Define the model object\n",
    "model.add(tf.keras.layers.Dense(units=20, # Number of neurons in hidden layer \n",
    "                                input_shape=(len(features),), \n",
    "                                activation=\"relu\")\n",
    "         ) #Add a single hidden layer\n",
    "\n",
    "# Add the output layer yourself\n",
    "# No activation function assignment defaults to \"linear\"\n",
    "# Complete me:\n",
    "model.add(tf.keras.layers.Dense(units=1, activation=\"linear\"))\n",
    "\n",
    "# prints a model summary\n",
    "model.summary()"
   ]
  },
  {
   "cell_type": "markdown",
   "metadata": {
    "id": "xFb0E6GtSK7Z"
   },
   "source": [
    "To start, train for 30 epochs with a batch size of 128, an Adam optimizer with a learning rate of 0.1, using mean squared error loss. **This is not ideal.**\n",
    "\n",
    "Define your validation split to provide a set of data the model has not used to assess how the model is generalizing. This allows us to monitor overtraining. Setting `validation_split=0.2` meaning that $20\\%$ of the data will be used for validation. **This is not ideal.**\n",
    "\n",
    "Information on how to implement these features can be found here:\n",
    "<https://www.tensorflow.org/api_docs/python/tf/keras>.\n",
    "Check out Sequential underneath models and Dense under layers."
   ]
  },
  {
   "cell_type": "code",
   "execution_count": 26,
   "metadata": {
    "id": "hCp3EXCTDk4I"
   },
   "outputs": [],
   "source": [
    "optimize = tf.keras.optimizers.Adam(learning_rate=0.1) # Adam optimizer with a learning rate of 0.1\n",
    "loss_func = tf.keras.losses.MeanSquaredError() # choosing MSE\n",
    "\n",
    "# compile model\n",
    "model.compile(optimizer=optimize,loss=loss_func) "
   ]
  },
  {
   "cell_type": "code",
   "execution_count": 27,
   "metadata": {},
   "outputs": [
    {
     "data": {
      "text/plain": [
       "(1000, 80)"
      ]
     },
     "execution_count": 27,
     "metadata": {},
     "output_type": "execute_result"
    }
   ],
   "source": [
    "X = data_subset.drop(masses.columns, axis=1)\n",
    "X.shape"
   ]
  },
  {
   "cell_type": "code",
   "execution_count": 28,
   "metadata": {},
   "outputs": [
    {
     "data": {
      "text/plain": [
       "(1000, 16)"
      ]
     },
     "execution_count": 28,
     "metadata": {},
     "output_type": "execute_result"
    }
   ],
   "source": [
    "y = data_subset[masses.columns]\n",
    "y.shape"
   ]
  },
  {
   "cell_type": "code",
   "execution_count": 29,
   "metadata": {
    "id": "Zs_ReONMDk4I"
   },
   "outputs": [
    {
     "name": "stdout",
     "output_type": "stream",
     "text": [
      "Epoch 1/10\n",
      "4/4 [==============================] - 0s 28ms/step - loss: 188.0746 - val_loss: 0.1400\n",
      "Epoch 2/10\n",
      "4/4 [==============================] - 0s 7ms/step - loss: 0.1376 - val_loss: 0.1298\n",
      "Epoch 3/10\n",
      "4/4 [==============================] - 0s 7ms/step - loss: 0.1427 - val_loss: 0.2336\n",
      "Epoch 4/10\n",
      "4/4 [==============================] - 0s 7ms/step - loss: 0.2535 - val_loss: 0.2768\n",
      "Epoch 5/10\n",
      "4/4 [==============================] - 0s 9ms/step - loss: 0.2372 - val_loss: 0.2100\n",
      "Epoch 6/10\n",
      "4/4 [==============================] - 0s 7ms/step - loss: 0.2209 - val_loss: 0.2526\n",
      "Epoch 7/10\n",
      "4/4 [==============================] - 0s 7ms/step - loss: 0.2502 - val_loss: 0.2194\n",
      "Epoch 8/10\n",
      "4/4 [==============================] - 0s 7ms/step - loss: 0.2094 - val_loss: 0.2005\n",
      "Epoch 9/10\n",
      "4/4 [==============================] - 0s 8ms/step - loss: 0.1958 - val_loss: 0.1898\n",
      "Epoch 10/10\n",
      "4/4 [==============================] - 0s 6ms/step - loss: 0.1784 - val_loss: 0.1624\n"
     ]
    }
   ],
   "source": [
    "results = model.fit(X, y, epochs=10, batch_size=256, validation_split=0.2)"
   ]
  },
  {
   "cell_type": "markdown",
   "metadata": {
    "id": "Mcg4Qj1wZDxE"
   },
   "source": [
    "A learning curve is a clearer way to visualize the above training. This helps us determine over and underfitting, which, in turn, helps us tune our model and training."
   ]
  },
  {
   "cell_type": "code",
   "execution_count": 30,
   "metadata": {
    "id": "TrIo4jsqDk4J"
   },
   "outputs": [],
   "source": [
    "# helper function for easy plotting\n",
    "def plot_learning_curve(history):\n",
    "    plt.plot(history[\"loss\"], label=\"training loss\")\n",
    "    plt.plot(history[\"val_loss\"], label=\"validation loss\")\n",
    "    plt.xlabel(\"Epoch\")\n",
    "    plt.ylabel(\"Loss\")\n",
    "    plt.yscale('log')\n",
    "    plt.legend()\n",
    "    plt.grid(alpha=0.5)\n",
    "    plt.show()"
   ]
  },
  {
   "cell_type": "code",
   "execution_count": 31,
   "metadata": {
    "id": "RfhycMMXZahi"
   },
   "outputs": [
    {
     "data": {
      "image/png": "[encoded data removed]",
      "text/plain": [
       "<Figure size 640x480 with 1 Axes>"
      ]
     },
     "metadata": {},
     "output_type": "display_data"
    }
   ],
   "source": [
    "# using the new function\n",
    "plot_learning_curve(results.history)"
   ]
  },
  {
   "cell_type": "markdown",
   "metadata": {
    "id": "Rot49hATDk4K"
   },
   "source": [
    "## Tuning\n",
    "The model is learning, but we can do better. \n",
    "\n",
    "**At this point, you can play with the above code to change hyperparameters and note changes to your results.**\n",
    "\n",
    "Alternatively, you can step through tuning this model below.\n",
    "\n",
    "## Walk-through tuning:\n",
    "Perhaps we did not have enough model parameters to accurately represent the mapping. **Remedy this by increasing the number of hidden neurons to 20.**"
   ]
  },
  {
   "cell_type": "code",
   "execution_count": 32,
   "metadata": {
    "id": "N3SfAb-mDk4L"
   },
   "outputs": [],
   "source": [
    "#Use the same code as in the previous cell\n",
    "#simply change the number of neurons in the hidden layer"
   ]
  },
  {
   "cell_type": "markdown",
   "metadata": {
    "id": "PQWoQKonDk4L"
   },
   "source": [
    "We see that we got little improvement here. Another hyperparameter to adjust is *batch size*, which is the number of training examples used to calculate the gradient on each step. While you may initially think that a higher batch size leads to faster or more accurate training, in practice this is not true. The \"noise\" that arises from using less training examples at each iteration can actually help find the global minimum of the loss function.\n",
    "(See here for more info: https://arxiv.org/pdf/1609.04836.pdf)\n",
    "\n",
    "Try decreasing the batch size to 16."
   ]
  },
  {
   "cell_type": "code",
   "execution_count": 33,
   "metadata": {
    "id": "UB9__PwjDk4M"
   },
   "outputs": [
    {
     "name": "stdout",
     "output_type": "stream",
     "text": [
      "Epoch 1/10\n",
      "50/50 [==============================] - 0s 2ms/step - loss: 0.0902 - val_loss: 0.0537\n",
      "Epoch 2/10\n",
      "50/50 [==============================] - 0s 1ms/step - loss: 0.0505 - val_loss: 0.0497\n",
      "Epoch 3/10\n",
      "50/50 [==============================] - 0s 1ms/step - loss: 0.0498 - val_loss: 0.0497\n",
      "Epoch 4/10\n",
      "50/50 [==============================] - 0s 1ms/step - loss: 0.0497 - val_loss: 0.0497\n",
      "Epoch 5/10\n",
      "50/50 [==============================] - 0s 1ms/step - loss: 0.0497 - val_loss: 0.0497\n",
      "Epoch 6/10\n",
      "50/50 [==============================] - 0s 1ms/step - loss: 0.0497 - val_loss: 0.0497\n",
      "Epoch 7/10\n",
      "50/50 [==============================] - 0s 1ms/step - loss: 0.0497 - val_loss: 0.0497\n",
      "Epoch 8/10\n",
      "50/50 [==============================] - 0s 1ms/step - loss: 0.0497 - val_loss: 0.0497\n",
      "Epoch 9/10\n",
      "50/50 [==============================] - 0s 1ms/step - loss: 0.0497 - val_loss: 0.0497\n",
      "Epoch 10/10\n",
      "50/50 [==============================] - 0s 1ms/step - loss: 0.0497 - val_loss: 0.0497\n"
     ]
    }
   ],
   "source": [
    "#Complete me:\n",
    "results = model.fit(X, y, epochs=10, batch_size=16, validation_split=0.2)"
   ]
  },
  {
   "cell_type": "markdown",
   "metadata": {
    "id": "q4QGMh3-Dk4M"
   },
   "source": [
    "This is starting to do better but has significant room for improvement.\n",
    "\n",
    "Another hyperparameter to tune is the *learning rate*. \n",
    "\n",
    " - If the learning rate is too high, we are taking too large of a step in the gradient descent at each iteration and will miss narrow minima in the loss function. \n",
    " - If the learning rate is too small, then we are not traveling far enough in each iteration and we will take far too long to reach a minimum. \n",
    "\n",
    "Perhaps the learning rate is too high and the network can't fine tune. Try decreasing the learning rate to 0.001."
   ]
  },
  {
   "cell_type": "code",
   "execution_count": 34,
   "metadata": {
    "id": "s851AM6GDk4N"
   },
   "outputs": [
    {
     "name": "stdout",
     "output_type": "stream",
     "text": [
      "Epoch 1/10\n",
      "50/50 [==============================] - 0s 3ms/step - loss: 0.0498 - val_loss: 0.0497\n",
      "Epoch 2/10\n",
      "50/50 [==============================] - 0s 1ms/step - loss: 0.0497 - val_loss: 0.0497\n",
      "Epoch 3/10\n",
      "50/50 [==============================] - 0s 1ms/step - loss: 0.0497 - val_loss: 0.0497\n",
      "Epoch 4/10\n",
      "50/50 [==============================] - 0s 1ms/step - loss: 0.0497 - val_loss: 0.0497\n",
      "Epoch 5/10\n",
      "50/50 [==============================] - 0s 1ms/step - loss: 0.0497 - val_loss: 0.0497\n",
      "Epoch 6/10\n",
      "50/50 [==============================] - 0s 1ms/step - loss: 0.0497 - val_loss: 0.0497\n",
      "Epoch 7/10\n",
      "50/50 [==============================] - 0s 1ms/step - loss: 0.0497 - val_loss: 0.0497\n",
      "Epoch 8/10\n",
      "50/50 [==============================] - 0s 1ms/step - loss: 0.0497 - val_loss: 0.0497\n",
      "Epoch 9/10\n",
      "50/50 [==============================] - 0s 1ms/step - loss: 0.0497 - val_loss: 0.0497\n",
      "Epoch 10/10\n",
      "50/50 [==============================] - 0s 1ms/step - loss: 0.0497 - val_loss: 0.0497\n"
     ]
    }
   ],
   "source": [
    "# Complete me:\n",
    "\n",
    "optimize = tf.keras.optimizers.Adam(learning_rate=0.001) # Adam optimizer with a learning rate of 0.001\n",
    "model.compile(optimizer=optimize,loss=loss_func) \n",
    "results = model.fit(X, y, epochs=10, batch_size=16, validation_split=0.2)"
   ]
  },
  {
   "cell_type": "markdown",
   "metadata": {
    "id": "yh748SgrDk4O"
   },
   "source": [
    "This is not really that much better, but now there is evidence of *overtraining* or *overfitting* -- the training loss is so much lower than the validation loss. \n",
    "\n",
    "A common fix to this is adding *dropout layers*. Try adding a dropout layer with dropout rate of 0.5. <https://www.tensorflow.org/api_docs/python/tf/keras/layers/Dropout>\n",
    "\n",
    "You can also try batch normalization: <https://www.tensorflow.org/api_docs/python/tf/keras/layers/BatchNormalization>"
   ]
  },
  {
   "cell_type": "code",
   "execution_count": 37,
   "metadata": {
    "id": "XO_Ou80xDk4O"
   },
   "outputs": [
    {
     "name": "stdout",
     "output_type": "stream",
     "text": [
      "Epoch 1/10\n",
      "50/50 [==============================] - 0s 2ms/step - loss: 0.0497 - val_loss: 0.0497\n",
      "Epoch 2/10\n",
      "50/50 [==============================] - 0s 1ms/step - loss: 0.0497 - val_loss: 0.0497\n",
      "Epoch 3/10\n",
      "50/50 [==============================] - 0s 1ms/step - loss: 0.0497 - val_loss: 0.0497\n",
      "Epoch 4/10\n",
      "50/50 [==============================] - 0s 1ms/step - loss: 0.0497 - val_loss: 0.0497\n",
      "Epoch 5/10\n",
      "50/50 [==============================] - 0s 1ms/step - loss: 0.0497 - val_loss: 0.0497\n",
      "Epoch 6/10\n",
      "50/50 [==============================] - 0s 1ms/step - loss: 0.0497 - val_loss: 0.0497\n",
      "Epoch 7/10\n",
      "50/50 [==============================] - 0s 1ms/step - loss: 0.0497 - val_loss: 0.0497\n",
      "Epoch 8/10\n",
      "50/50 [==============================] - 0s 1ms/step - loss: 0.0497 - val_loss: 0.0497\n",
      "Epoch 9/10\n",
      "50/50 [==============================] - 0s 1ms/step - loss: 0.0497 - val_loss: 0.0497\n",
      "Epoch 10/10\n",
      "50/50 [==============================] - 0s 1ms/step - loss: 0.0497 - val_loss: 0.0497\n"
     ]
    }
   ],
   "source": [
    "#Dropout layers are located under tf.keras.layers. \n",
    "#They take the dropout rate as their only argument.\n",
    "#BatchNormalization layers are also under tf.keras.layers, and in the simplest use case, take no arguments\n",
    "\n",
    "#Complete me:\n",
    "model.add(tf.keras.layers.Dropout(0.5))\n",
    "results = model.fit(X, y, epochs=10, batch_size=16, validation_split=0.2)"
   ]
  },
  {
   "cell_type": "markdown",
   "metadata": {
    "id": "Owd0k7kEDk4P"
   },
   "source": [
    "This clearly stopped the overtraining problem, but it still isn't training well. Now, try training on the full dataset with a more reasonable validation split of 0.2. Use a single hidden layer with 20 neurons, a learning rate of 0.001, and a batch size of 256. Just run it for 10 epochs."
   ]
  },
  {
   "cell_type": "code",
   "execution_count": 40,
   "metadata": {
    "id": "iStR0aT5Dk4P"
   },
   "outputs": [
    {
     "name": "stdout",
     "output_type": "stream",
     "text": [
      "Epoch 1/10\n",
      "113/113 [==============================] - 0s 2ms/step - loss: 3.9785 - val_loss: 0.8142\n",
      "Epoch 2/10\n",
      "113/113 [==============================] - 0s 1ms/step - loss: 0.5114 - val_loss: 0.3315\n",
      "Epoch 3/10\n",
      "113/113 [==============================] - 0s 1ms/step - loss: 0.2632 - val_loss: 0.2170\n",
      "Epoch 4/10\n",
      "113/113 [==============================] - 0s 1ms/step - loss: 0.1898 - val_loss: 0.1695\n",
      "Epoch 5/10\n",
      "113/113 [==============================] - 0s 1ms/step - loss: 0.1537 - val_loss: 0.1415\n",
      "Epoch 6/10\n",
      "113/113 [==============================] - 0s 1ms/step - loss: 0.1316 - val_loss: 0.1240\n",
      "Epoch 7/10\n",
      "113/113 [==============================] - 0s 1ms/step - loss: 0.1165 - val_loss: 0.1115\n",
      "Epoch 8/10\n",
      "113/113 [==============================] - 0s 1ms/step - loss: 0.1057 - val_loss: 0.1026\n",
      "Epoch 9/10\n",
      "113/113 [==============================] - 0s 1ms/step - loss: 0.0976 - val_loss: 0.0953\n",
      "Epoch 10/10\n",
      "113/113 [==============================] - 0s 1ms/step - loss: 0.0911 - val_loss: 0.0894\n"
     ]
    }
   ],
   "source": [
    "#Complete me:\n",
    "\n",
    "model = tf.keras.Sequential() #Define the model object\n",
    "model.add(tf.keras.layers.Dense(units=20, # Number of neurons in hidden layer \n",
    "                                input_shape=(len(features),), \n",
    "                                activation=\"relu\")\n",
    "         ) #Add a single hidden layer\n",
    "model.add(tf.keras.layers.Dense(units=1, activation=\"linear\"))\n",
    "\n",
    "optimize = tf.keras.optimizers.Adam(learning_rate=0.001) # Adam optimizer with a learning rate of 0.001\n",
    "loss_func = tf.keras.losses.MeanSquaredError() # choosing MSE\n",
    "\n",
    "# compile model\n",
    "model.compile(optimizer=optimize,loss=loss_func) \n",
    "\n",
    "X_ = complete_data[features]\n",
    "y_ = complete_data[masses.columns]\n",
    "\n",
    "results = model.fit(X_, y_, epochs=10, batch_size=256, validation_split=0.2)"
   ]
  },
  {
   "cell_type": "markdown",
   "metadata": {
    "id": "3vkQ1kX2Dk4Q"
   },
   "source": [
    "This clearly resulted in a significant improvement and shows how important having a large enough dataset is. Moving on to the choice in activation functions, ReLU is not the only available choice, although it is one of the most popular ones currently. Try training a network using a sigmoid or tanh activation function."
   ]
  },
  {
   "cell_type": "code",
   "execution_count": 43,
   "metadata": {
    "id": "B3qtiBmiDk4Q"
   },
   "outputs": [
    {
     "name": "stdout",
     "output_type": "stream",
     "text": [
      "Epoch 1/10\n",
      "113/113 [==============================] - 0s 2ms/step - loss: 0.4915 - val_loss: 0.1445\n",
      "Epoch 2/10\n",
      "113/113 [==============================] - 0s 1ms/step - loss: 0.1193 - val_loss: 0.1012\n",
      "Epoch 3/10\n",
      "113/113 [==============================] - 0s 1ms/step - loss: 0.0903 - val_loss: 0.0838\n",
      "Epoch 4/10\n",
      "113/113 [==============================] - 0s 1ms/step - loss: 0.0773 - val_loss: 0.0741\n",
      "Epoch 5/10\n",
      "113/113 [==============================] - 0s 1ms/step - loss: 0.0699 - val_loss: 0.0680\n",
      "Epoch 6/10\n",
      "113/113 [==============================] - 0s 1ms/step - loss: 0.0649 - val_loss: 0.0636\n",
      "Epoch 7/10\n",
      "113/113 [==============================] - 0s 1ms/step - loss: 0.0613 - val_loss: 0.0605\n",
      "Epoch 8/10\n",
      "113/113 [==============================] - 0s 1ms/step - loss: 0.0587 - val_loss: 0.0582\n",
      "Epoch 9/10\n",
      "113/113 [==============================] - 0s 1ms/step - loss: 0.0567 - val_loss: 0.0564\n",
      "Epoch 10/10\n",
      "113/113 [==============================] - 0s 1ms/step - loss: 0.0552 - val_loss: 0.0551\n"
     ]
    }
   ],
   "source": [
    "#Simply change relu to sigmoid or tanh to change the activation function\n",
    "\n",
    "#Complete me:\n",
    "\n",
    "model = tf.keras.Sequential() #Define the model object\n",
    "model.add(tf.keras.layers.Dense(units=20, # Number of neurons in hidden layer \n",
    "                                input_shape=(len(features),), \n",
    "                                activation=\"tanh\")\n",
    "         ) #Add a single hidden layer\n",
    "model.add(tf.keras.layers.Dense(units=1, activation=\"linear\"))\n",
    "\n",
    "optimize = tf.keras.optimizers.Adam(learning_rate=0.001) # Adam optimizer with a learning rate of 0.001\n",
    "loss_func = tf.keras.losses.MeanSquaredError() # choosing MSE\n",
    "\n",
    "# compile model\n",
    "model.compile(optimizer=optimize,loss=loss_func) \n",
    "\n",
    "X_ = complete_data[features]\n",
    "y_ = complete_data[masses.columns]\n",
    "\n",
    "results = model.fit(X_, y_, epochs=10, batch_size=256, validation_split=0.2)"
   ]
  },
  {
   "cell_type": "markdown",
   "metadata": {
    "id": "ZRlAj8KFDk4R"
   },
   "source": [
    "Next, try adding 2 new hidden layers to the network. Use the ReLU activation function."
   ]
  },
  {
   "cell_type": "code",
   "execution_count": 46,
   "metadata": {
    "id": "oJlPFnsjDk4R"
   },
   "outputs": [
    {
     "name": "stdout",
     "output_type": "stream",
     "text": [
      "Epoch 1/10\n",
      "113/113 [==============================] - 1s 2ms/step - loss: 0.4924 - val_loss: 0.0622\n",
      "Epoch 2/10\n",
      "113/113 [==============================] - 0s 1ms/step - loss: 0.0578 - val_loss: 0.0549\n",
      "Epoch 3/10\n",
      "113/113 [==============================] - 0s 1ms/step - loss: 0.0538 - val_loss: 0.0529\n",
      "Epoch 4/10\n",
      "113/113 [==============================] - 0s 1ms/step - loss: 0.0524 - val_loss: 0.0520\n",
      "Epoch 5/10\n",
      "113/113 [==============================] - 0s 1ms/step - loss: 0.0517 - val_loss: 0.0513\n",
      "Epoch 6/10\n",
      "113/113 [==============================] - 0s 1ms/step - loss: 0.0511 - val_loss: 0.0509\n",
      "Epoch 7/10\n",
      "113/113 [==============================] - 0s 1ms/step - loss: 0.0508 - val_loss: 0.0506\n",
      "Epoch 8/10\n",
      "113/113 [==============================] - 0s 1ms/step - loss: 0.0505 - val_loss: 0.0505\n",
      "Epoch 9/10\n",
      "113/113 [==============================] - 0s 1ms/step - loss: 0.0504 - val_loss: 0.0503\n",
      "Epoch 10/10\n",
      "113/113 [==============================] - 0s 1ms/step - loss: 0.0503 - val_loss: 0.0502\n"
     ]
    }
   ],
   "source": [
    "#Complete me: COMPLETE MODEL\n",
    "model = tf.keras.Sequential() #Define the model object\n",
    "model.add(tf.keras.layers.Dense(units=20, # Number of neurons in hidden layer \n",
    "                                input_shape=(len(features),), \n",
    "                                activation=\"ReLU\")\n",
    "         ) #Add a single hidden layer 1\n",
    "model.add(tf.keras.layers.Dense(units=20, # Number of neurons in hidden layer \n",
    "                                input_shape=(len(features),), \n",
    "                                activation=\"ReLU\")\n",
    "         ) #Add a single hidden layer 2\n",
    "model.add(tf.keras.layers.Dense(units=20, # Number of neurons in hidden layer \n",
    "                                input_shape=(len(features),), \n",
    "                                activation=\"ReLU\")\n",
    "         ) #Add a single hidden layer 3\n",
    "model.add(tf.keras.layers.Dense(units=1, activation=\"linear\"))\n",
    "\n",
    "optimize = tf.keras.optimizers.Adam(learning_rate=0.001) # Adam optimizer with a learning rate of 0.001\n",
    "loss_func = tf.keras.losses.MeanSquaredError() # choosing MSE\n",
    "\n",
    "# compile model\n",
    "model.compile(optimizer=optimize,loss=loss_func) \n",
    "\n",
    "X_ = complete_data[features]\n",
    "y_ = complete_data[masses.columns]\n",
    "\n",
    "results = model.fit(X_, y_, epochs=10, batch_size=256, validation_split=0.2)"
   ]
  },
  {
   "cell_type": "markdown",
   "metadata": {
    "id": "t3lUeX2dDk4S"
   },
   "source": [
    "Clearly, adding more layers helps improve the quality of the network. There is a limit to how effective this is though. Try having 5 hidden layers."
   ]
  },
  {
   "cell_type": "code",
   "execution_count": 47,
   "metadata": {
    "id": "3kKOzBCrDk4S"
   },
   "outputs": [
    {
     "name": "stdout",
     "output_type": "stream",
     "text": [
      "Epoch 1/10\n",
      "113/113 [==============================] - 1s 2ms/step - loss: 0.0555 - val_loss: 0.0507\n",
      "Epoch 2/10\n",
      "113/113 [==============================] - 0s 1ms/step - loss: 0.0503 - val_loss: 0.0500\n",
      "Epoch 3/10\n",
      "113/113 [==============================] - 0s 1ms/step - loss: 0.0499 - val_loss: 0.0499\n",
      "Epoch 4/10\n",
      "113/113 [==============================] - 0s 1ms/step - loss: 0.0499 - val_loss: 0.0498\n",
      "Epoch 5/10\n",
      "113/113 [==============================] - 0s 1ms/step - loss: 0.0498 - val_loss: 0.0498\n",
      "Epoch 6/10\n",
      "113/113 [==============================] - 0s 1ms/step - loss: 0.0498 - val_loss: 0.0498\n",
      "Epoch 7/10\n",
      "113/113 [==============================] - 0s 1ms/step - loss: 0.0498 - val_loss: 0.0498\n",
      "Epoch 8/10\n",
      "113/113 [==============================] - 0s 1ms/step - loss: 0.0498 - val_loss: 0.0498\n",
      "Epoch 9/10\n",
      "113/113 [==============================] - 0s 1ms/step - loss: 0.0498 - val_loss: 0.0498\n",
      "Epoch 10/10\n",
      "113/113 [==============================] - 0s 1ms/step - loss: 0.0498 - val_loss: 0.0498\n"
     ]
    }
   ],
   "source": [
    "#Complete me: COMPLETE MODEL\n",
    "model = tf.keras.Sequential() #Define the model object\n",
    "model.add(tf.keras.layers.Dense(units=20, # Number of neurons in hidden layer \n",
    "                                input_shape=(len(features),), \n",
    "                                activation=\"ReLU\")\n",
    "         ) #Add a single hidden layer 1\n",
    "model.add(tf.keras.layers.Dense(units=20, # Number of neurons in hidden layer \n",
    "                                input_shape=(len(features),), \n",
    "                                activation=\"ReLU\")\n",
    "         ) #Add a single hidden layer 2\n",
    "model.add(tf.keras.layers.Dense(units=20, # Number of neurons in hidden layer \n",
    "                                input_shape=(len(features),), \n",
    "                                activation=\"ReLU\")\n",
    "         ) #Add a single hidden layer 3\n",
    "model.add(tf.keras.layers.Dense(units=20, # Number of neurons in hidden layer \n",
    "                                input_shape=(len(features),), \n",
    "                                activation=\"ReLU\")\n",
    "         ) #Add a single hidden layer 4\n",
    "model.add(tf.keras.layers.Dense(units=20, # Number of neurons in hidden layer \n",
    "                                input_shape=(len(features),), \n",
    "                                activation=\"ReLU\")\n",
    "         ) #Add a single hidden layer 5\n",
    "model.add(tf.keras.layers.Dense(units=1, activation=\"linear\"))\n",
    "\n",
    "optimize = tf.keras.optimizers.Adam(learning_rate=0.001) # Adam optimizer with a learning rate of 0.001\n",
    "loss_func = tf.keras.losses.MeanSquaredError() # choosing MSE\n",
    "\n",
    "# compile model\n",
    "model.compile(optimizer=optimize,loss=loss_func) \n",
    "\n",
    "X_ = complete_data[features]\n",
    "y_ = complete_data[masses.columns]\n",
    "\n",
    "results = model.fit(X_, y_, epochs=10, batch_size=256, validation_split=0.2)"
   ]
  },
  {
   "cell_type": "markdown",
   "metadata": {
    "id": "psJeOPOsDk4S"
   },
   "source": [
    "Now, see what happens when you increase the number of neurons per layer from 20 to 50 in the 3 hidden layer model. Consider how they perform compared to ReLU now. "
   ]
  },
  {
   "cell_type": "code",
   "execution_count": 48,
   "metadata": {
    "id": "k430N-vIDk4T"
   },
   "outputs": [
    {
     "name": "stdout",
     "output_type": "stream",
     "text": [
      "Epoch 1/10\n",
      "113/113 [==============================] - 1s 2ms/step - loss: 0.1676 - val_loss: 0.0558\n",
      "Epoch 2/10\n",
      "113/113 [==============================] - 0s 1ms/step - loss: 0.0538 - val_loss: 0.0527\n",
      "Epoch 3/10\n",
      "113/113 [==============================] - 0s 1ms/step - loss: 0.0520 - val_loss: 0.0516\n",
      "Epoch 4/10\n",
      "113/113 [==============================] - 0s 1ms/step - loss: 0.0512 - val_loss: 0.0510\n",
      "Epoch 5/10\n",
      "113/113 [==============================] - 0s 1ms/step - loss: 0.0508 - val_loss: 0.0507\n",
      "Epoch 6/10\n",
      "113/113 [==============================] - 0s 1ms/step - loss: 0.0505 - val_loss: 0.0505\n",
      "Epoch 7/10\n",
      "113/113 [==============================] - 0s 1ms/step - loss: 0.0504 - val_loss: 0.0503\n",
      "Epoch 8/10\n",
      "113/113 [==============================] - 0s 1ms/step - loss: 0.0502 - val_loss: 0.0502\n",
      "Epoch 9/10\n",
      "113/113 [==============================] - 0s 1ms/step - loss: 0.0502 - val_loss: 0.0501\n",
      "Epoch 10/10\n",
      "113/113 [==============================] - 0s 1ms/step - loss: 0.0501 - val_loss: 0.0501\n"
     ]
    }
   ],
   "source": [
    "#Complete me:\n",
    "#Complete me: COMPLETE MODEL\n",
    "model = tf.keras.Sequential() #Define the model object\n",
    "model.add(tf.keras.layers.Dense(units=20, # Number of neurons in hidden layer \n",
    "                                input_shape=(len(features),), \n",
    "                                activation=\"ReLU\")\n",
    "         ) #Add a single hidden layer 1\n",
    "model.add(tf.keras.layers.Dense(units=35, # Number of neurons in hidden layer \n",
    "                                input_shape=(len(features),), \n",
    "                                activation=\"ReLU\")\n",
    "         ) #Add a single hidden layer 2\n",
    "model.add(tf.keras.layers.Dense(units=50, # Number of neurons in hidden layer \n",
    "                                input_shape=(len(features),), \n",
    "                                activation=\"ReLU\")\n",
    "         ) #Add a single hidden layer 3\n",
    "model.add(tf.keras.layers.Dense(units=1, activation=\"linear\"))\n",
    "\n",
    "optimize = tf.keras.optimizers.Adam(learning_rate=0.001) # Adam optimizer with a learning rate of 0.001\n",
    "loss_func = tf.keras.losses.MeanSquaredError() # choosing MSE\n",
    "\n",
    "# compile model\n",
    "model.compile(optimizer=optimize,loss=loss_func) \n",
    "\n",
    "X_ = complete_data[features]\n",
    "y_ = complete_data[masses.columns]\n",
    "\n",
    "results = model.fit(X_, y_, epochs=10, batch_size=256, validation_split=0.2)"
   ]
  },
  {
   "cell_type": "markdown",
   "metadata": {
    "id": "Ntl38Zo7Dk4U"
   },
   "source": [
    "Try using the sigmoid and the tanh activation functions again and compare them to ReLU."
   ]
  },
  {
   "cell_type": "code",
   "execution_count": 49,
   "metadata": {
    "id": "JHn1MKIiDk4V"
   },
   "outputs": [
    {
     "name": "stdout",
     "output_type": "stream",
     "text": [
      "Epoch 1/10\n",
      "113/113 [==============================] - 1s 2ms/step - loss: 0.0616 - val_loss: 0.0506\n",
      "Epoch 2/10\n",
      "113/113 [==============================] - 0s 1ms/step - loss: 0.0502 - val_loss: 0.0500\n",
      "Epoch 3/10\n",
      "113/113 [==============================] - 0s 1ms/step - loss: 0.0500 - val_loss: 0.0499\n",
      "Epoch 4/10\n",
      "113/113 [==============================] - 0s 1ms/step - loss: 0.0499 - val_loss: 0.0499\n",
      "Epoch 5/10\n",
      "113/113 [==============================] - 0s 1ms/step - loss: 0.0498 - val_loss: 0.0498\n",
      "Epoch 6/10\n",
      "113/113 [==============================] - 0s 1ms/step - loss: 0.0498 - val_loss: 0.0498\n",
      "Epoch 7/10\n",
      "113/113 [==============================] - 0s 1ms/step - loss: 0.0498 - val_loss: 0.0498\n",
      "Epoch 8/10\n",
      "113/113 [==============================] - 0s 1ms/step - loss: 0.0498 - val_loss: 0.0498\n",
      "Epoch 9/10\n",
      "113/113 [==============================] - 0s 1ms/step - loss: 0.0498 - val_loss: 0.0498\n",
      "Epoch 10/10\n",
      "113/113 [==============================] - 0s 1ms/step - loss: 0.0498 - val_loss: 0.0498\n"
     ]
    }
   ],
   "source": [
    "#Complete me:\n",
    "#Complete me:\n",
    "#Complete me: COMPLETE MODEL\n",
    "model = tf.keras.Sequential() #Define the model object\n",
    "model.add(tf.keras.layers.Dense(units=20, # Number of neurons in hidden layer \n",
    "                                input_shape=(len(features),), \n",
    "                                activation=\"tanh\")\n",
    "         ) #Add a single hidden layer 1\n",
    "model.add(tf.keras.layers.Dense(units=35, # Number of neurons in hidden layer \n",
    "                                input_shape=(len(features),), \n",
    "                                activation=\"tanh\")\n",
    "         ) #Add a single hidden layer 2\n",
    "model.add(tf.keras.layers.Dense(units=50, # Number of neurons in hidden layer \n",
    "                                input_shape=(len(features),), \n",
    "                                activation=\"tanh\")\n",
    "         ) #Add a single hidden layer 3\n",
    "model.add(tf.keras.layers.Dense(units=1, activation=\"linear\"))\n",
    "\n",
    "optimize = tf.keras.optimizers.Adam(learning_rate=0.001) # Adam optimizer with a learning rate of 0.001\n",
    "loss_func = tf.keras.losses.MeanSquaredError() # choosing MSE\n",
    "\n",
    "# compile model\n",
    "model.compile(optimizer=optimize,loss=loss_func) \n",
    "\n",
    "X_ = complete_data[features]\n",
    "y_ = complete_data[masses.columns]\n",
    "\n",
    "results = model.fit(X_, y_, epochs=10, batch_size=256, validation_split=0.2)"
   ]
  },
  {
   "cell_type": "code",
   "execution_count": 50,
   "metadata": {},
   "outputs": [
    {
     "name": "stdout",
     "output_type": "stream",
     "text": [
      "Epoch 1/10\n",
      "113/113 [==============================] - 1s 2ms/step - loss: 0.0499 - val_loss: 0.0498\n",
      "Epoch 2/10\n",
      "113/113 [==============================] - 0s 1ms/step - loss: 0.0498 - val_loss: 0.0498\n",
      "Epoch 3/10\n",
      "113/113 [==============================] - 0s 1ms/step - loss: 0.0498 - val_loss: 0.0498\n",
      "Epoch 4/10\n",
      "113/113 [==============================] - 0s 1ms/step - loss: 0.0498 - val_loss: 0.0498\n",
      "Epoch 5/10\n",
      "113/113 [==============================] - 0s 1ms/step - loss: 0.0498 - val_loss: 0.0498\n",
      "Epoch 6/10\n",
      "113/113 [==============================] - 0s 1ms/step - loss: 0.0498 - val_loss: 0.0498\n",
      "Epoch 7/10\n",
      "113/113 [==============================] - 0s 1ms/step - loss: 0.0498 - val_loss: 0.0498\n",
      "Epoch 8/10\n",
      "113/113 [==============================] - 0s 1ms/step - loss: 0.0498 - val_loss: 0.0498\n",
      "Epoch 9/10\n",
      "113/113 [==============================] - 0s 1ms/step - loss: 0.0498 - val_loss: 0.0498\n",
      "Epoch 10/10\n",
      "113/113 [==============================] - 0s 1ms/step - loss: 0.0498 - val_loss: 0.0498\n"
     ]
    }
   ],
   "source": [
    "#Complete me:\n",
    "#Complete me:\n",
    "#Complete me: COMPLETE MODEL\n",
    "model = tf.keras.Sequential() #Define the model object\n",
    "model.add(tf.keras.layers.Dense(units=20, # Number of neurons in hidden layer \n",
    "                                input_shape=(len(features),), \n",
    "                                activation=\"sigmoid\")\n",
    "         ) #Add a single hidden layer 1\n",
    "model.add(tf.keras.layers.Dense(units=35, # Number of neurons in hidden layer \n",
    "                                input_shape=(len(features),), \n",
    "                                activation=\"sigmoid\")\n",
    "         ) #Add a single hidden layer 2\n",
    "model.add(tf.keras.layers.Dense(units=50, # Number of neurons in hidden layer \n",
    "                                input_shape=(len(features),), \n",
    "                                activation=\"sigmoid\")\n",
    "         ) #Add a single hidden layer 3\n",
    "model.add(tf.keras.layers.Dense(units=1, activation=\"linear\"))\n",
    "\n",
    "optimize = tf.keras.optimizers.Adam(learning_rate=0.001) # Adam optimizer with a learning rate of 0.001\n",
    "loss_func = tf.keras.losses.MeanSquaredError() # choosing MSE\n",
    "\n",
    "# compile model\n",
    "model.compile(optimizer=optimize,loss=loss_func) \n",
    "\n",
    "X_ = complete_data[features]\n",
    "y_ = complete_data[masses.columns]\n",
    "\n",
    "results = model.fit(X_, y_, epochs=10, batch_size=256, validation_split=0.2)"
   ]
  },
  {
   "cell_type": "markdown",
   "metadata": {
    "id": "D-HNQQhpDk4V"
   },
   "source": [
    "This difference in performance, especially with the sigmoid function, is known as the vanishing gradient problem. If the value for any one the neurons gets too far away from 0, the gradient for sigmoid and tanh gets really close to 0. This means that **for deeper networks it is much more difficult to update the weights in the earlier layers as their gradient is so small**. Now, remove the fifth column from the input data, the charge, and see what happens when training. Why do you think including charge has such a large impact, even though it is not required to compute invariant mass?"
   ]
  },
  {
   "cell_type": "code",
   "execution_count": 56,
   "metadata": {
    "id": "ceRTx4CpDk4W"
   },
   "outputs": [
    {
     "name": "stdout",
     "output_type": "stream",
     "text": [
      "Epoch 1/10\n",
      "113/113 [==============================] - 1s 2ms/step - loss: 0.1326 - val_loss: 0.0584\n",
      "Epoch 2/10\n",
      "113/113 [==============================] - 0s 1ms/step - loss: 0.0550 - val_loss: 0.0530\n",
      "Epoch 3/10\n",
      "113/113 [==============================] - 0s 1ms/step - loss: 0.0522 - val_loss: 0.0516\n",
      "Epoch 4/10\n",
      "113/113 [==============================] - 0s 1ms/step - loss: 0.0513 - val_loss: 0.0510\n",
      "Epoch 5/10\n",
      "113/113 [==============================] - 0s 1ms/step - loss: 0.0509 - val_loss: 0.0507\n",
      "Epoch 6/10\n",
      "113/113 [==============================] - 0s 1ms/step - loss: 0.0506 - val_loss: 0.0505\n",
      "Epoch 7/10\n",
      "113/113 [==============================] - 0s 1ms/step - loss: 0.0504 - val_loss: 0.0503\n",
      "Epoch 8/10\n",
      "113/113 [==============================] - 0s 1ms/step - loss: 0.0503 - val_loss: 0.0502\n",
      "Epoch 9/10\n",
      "113/113 [==============================] - 0s 1ms/step - loss: 0.0502 - val_loss: 0.0502\n",
      "Epoch 10/10\n",
      "113/113 [==============================] - 0s 1ms/step - loss: 0.0501 - val_loss: 0.0501\n"
     ]
    }
   ],
   "source": [
    "#Complete me:\n",
    "features_ = [i for i in features if not i.startswith('q')]\n",
    "\n",
    "\n",
    "#Complete me:\n",
    "#Complete me:\n",
    "#Complete me: COMPLETE MODEL\n",
    "model = tf.keras.Sequential() #Define the model object\n",
    "model.add(tf.keras.layers.Dense(units=20, # Number of neurons in hidden layer \n",
    "                                input_shape=(len(features_),), \n",
    "                                activation=\"ReLU\")\n",
    "         ) #Add a single hidden layer 1\n",
    "model.add(tf.keras.layers.Dense(units=35, # Number of neurons in hidden layer \n",
    "                                input_shape=(len(features_),), \n",
    "                                activation=\"ReLU\")\n",
    "         ) #Add a single hidden layer 2\n",
    "model.add(tf.keras.layers.Dense(units=50, # Number of neurons in hidden layer \n",
    "                                input_shape=(len(features_),), \n",
    "                                activation=\"ReLU\")\n",
    "         ) #Add a single hidden layer 3\n",
    "model.add(tf.keras.layers.Dense(units=1, activation=\"linear\"))\n",
    "\n",
    "optimize = tf.keras.optimizers.Adam(learning_rate=0.001) # Adam optimizer with a learning rate of 0.001\n",
    "loss_func = tf.keras.losses.MeanSquaredError() # choosing MSE\n",
    "\n",
    "# compile model\n",
    "model.compile(optimizer=optimize,loss=loss_func) \n",
    "\n",
    "X_ = complete_data[features_]\n",
    "y_ = complete_data[masses.columns]\n",
    "\n",
    "results = model.fit(X_, y_, epochs=10, batch_size=256, validation_split=0.2)"
   ]
  },
  {
   "cell_type": "markdown",
   "metadata": {
    "id": "IscwBDy7Dk4W"
   },
   "source": [
    "Finally, there are other options for the loss function. Try experimenting with alternatives to mean squared error.\n",
    "\n",
    "<https://www.tensorflow.org/api_docs/python/tf/keras/losses>\n",
    "\n",
    "You can also try some other optimizers -- for example, sgd (with and without momentum), rmsprop, adagrad, adadelta, adamax, and nadam. <https://www.tensorflow.org/api_docs/python/tf/keras/optimizers>\n",
    "\n"
   ]
  },
  {
   "cell_type": "code",
   "execution_count": null,
   "metadata": {
    "id": "uCm5VSXDDk4X"
   },
   "outputs": [],
   "source": []
  }
 ],
 "metadata": {
  "colab": {
   "include_colab_link": true,
   "private_outputs": true,
   "provenance": []
  },
  "kernelspec": {
   "display_name": "Python 3 (ipykernel)",
   "language": "python",
   "name": "python3"
  },
  "language_info": {
   "codemirror_mode": {
    "name": "ipython",
    "version": 3
   },
   "file_extension": ".py",
   "mimetype": "text/x-python",
   "name": "python",
   "nbconvert_exporter": "python",
   "pygments_lexer": "ipython3",
   "version": "3.10.11"
  }
 },
 "nbformat": 4,
 "nbformat_minor": 1
}
