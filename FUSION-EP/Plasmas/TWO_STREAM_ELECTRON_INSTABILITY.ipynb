{
 "cells": [
  {
   "cell_type": "code",
   "execution_count": 1,
   "id": "b7ef0da2",
   "metadata": {},
   "outputs": [
    {
     "name": "stderr",
     "output_type": "stream",
     "text": [
      "2025-05-19 15:19:12.198169: E external/local_xla/xla/stream_executor/cuda/cuda_dnn.cc:9261] Unable to register cuDNN factory: Attempting to register factory for plugin cuDNN when one has already been registered\n",
      "2025-05-19 15:19:12.198353: E external/local_xla/xla/stream_executor/cuda/cuda_fft.cc:607] Unable to register cuFFT factory: Attempting to register factory for plugin cuFFT when one has already been registered\n",
      "2025-05-19 15:19:12.201726: E external/local_xla/xla/stream_executor/cuda/cuda_blas.cc:1515] Unable to register cuBLAS factory: Attempting to register factory for plugin cuBLAS when one has already been registered\n",
      "2025-05-19 15:19:12.221616: I tensorflow/core/platform/cpu_feature_guard.cc:182] This TensorFlow binary is optimized to use available CPU instructions in performance-critical operations.\n",
      "To enable the following instructions: AVX2 FMA, in other operations, rebuild TensorFlow with the appropriate compiler flags.\n",
      "2025-05-19 15:19:14.051876: W tensorflow/compiler/tf2tensorrt/utils/py_utils.cc:38] TF-TRT Warning: Could not find TensorRT\n"
     ]
    }
   ],
   "source": [
    "## REMEMBER TO ACTIVATE `GPU_optimization (aGPUo)`\n",
    "\n",
    "import tensorflow\n",
    "import torch\n",
    "import os\n",
    "import matplotlib\n",
    "import matplotlib.pyplot as plt\n",
    "import pandas as pd\n",
    "import numpy as np\n",
    "import scienceplots\n",
    "\n",
    "from matplotlib import animation\n",
    "from matplotlib.animation import PillowWriter\n",
    "\n",
    "plt.style.use(['science', 'notebook'])\n",
    "device = torch.device('cuda' if torch.cuda.is_available() else 'cpu')\n",
    "\n",
    "# from tensorflow.python.client import device_lib\n",
    "# print(device_lib.list_local_devices())"
   ]
  },
  {
   "cell_type": "markdown",
   "id": "48bb690b",
   "metadata": {},
   "source": [
    "## TWO STREAM INSTABILITY\n",
    "\n",
    "Consider N fixed ions and N moving electrons as an one-dimensional unmagnetized plasma (B=0). The equations of motion for this system are\n",
    "\n",
    "$$\n",
    "    d_t r_i = v_i;\\quad d_t v_i = -\\frac{e}{m_e}E(r_i)\n",
    "$$\n",
    "\n",
    "For the numerical solution of this system, it is important to notice that it is not necessary to discretize positions nor velocities; the discretization\n",
    "in space is only for the solution of the Poisson equation. **Therefore there is no truncation error regarding the positions and velocities of the electrons; it is only rounding error.**\n",
    "\n",
    "Posson equation states that\n",
    "\n",
    "$$\n",
    "    d^2_x \\Phi(x) = -\\frac{e}{m_e}(n_o-n(x)); \\quad d_x\\Phi(x) = - E(x),\n",
    "$$\n",
    "\n",
    "with $n_o = N/L = <n(x)>$ being the uniform ion number density; and, $n(x)$ is the electron number density. Now, consider two counter-propagating Maxwellian beams of mean speed $v_b$ and thermal velocity $v_{th}$; thus, \n",
    "\n",
    "$$\n",
    "    f(x,v) = \\frac{n_o}{2\\sqrt{2\\pi}v){th}}\\left[exp\\left(-\\frac{1}{2v^2_{th}}\\left(v - v_b\\right)^2\\right) + exp\\left(-\\frac{1}{2v^2_{th}}\\left(v + v_b\\right)^2\\right)\\right].\n",
    "$$\n",
    "\n",
    "With this, one can obtain $f(x,v)dxdv$ the number of electrons in between $x$ + $x+dx$ with velocities $v$ and $v + dv$. Also, one can obtain the electron number density by integrating over the entire velocity space. The definition of the thermal velocity is\n",
    "\n",
    "$$\n",
    "    v_{th} = \\sqrt{\\frac{k_bT}{m_e}}\n",
    "$$\n",
    "\n",
    "Where $k_b$ is the Boltzmann constant. It is important to know that if $v_b >> v_{th}$ , then, the Maxwellian distribution becomes unstable to the well-known two-stream instability . It is possible to investigate this instability numerically.\n",
    "\n",
    "### PERIODIC BOUNDARY CONDITIONS\n",
    "\n",
    "By considering periodic boundary contions, one can easily see that for $0\\leq x \\leq L$:\n",
    "\n",
    "* $n(0) = n(L)$\n",
    "* $E(0) = E(L)$\n",
    "* $\\Phi(0) = \\Phi(L)$\n",
    "* Electrons that crosses the right boundary should reappear in the left boundary and vice versa.\n",
    "\n",
    "To reduce rounding error, one can consider the normalized variables: normalize time with respect the plasma frequency $\\omega_p$ and the Debye length $\\lambda_D$\n",
    "for spatial quantities:\n",
    "\n",
    "$$\n",
    "    \\omega^2_p = \\frac{n_oe^2}{\\epsilon_o m_e}; \\quad \\lambda_D = \\frac{v_{th}}{\\omega_p}\n",
    "$$\n",
    "\n",
    "Thus, the set of equations that describe the system become:\n",
    "\n",
    "* $d_t r_i = v_i$\n",
    "* $d_t v_i = -E(r_i)$\n",
    "* $d_x\\Phi(x) = -E(x)$\n",
    "* $d^2_x\\Phi(x) = n(x)/n_o - 1$\n",
    "* $v_{th}$ = 1\n",
    "\n",
    "And the distribution function takes the form of \n",
    "\n",
    "$$\n",
    "    f(x,v) = \\frac{n_o}{2\\sqrt{2\\pi}}\\left[ exp\\left(-\\frac{1}{2}\\left(v-v_b\\right)^2\\right) + exp\\left(-\\frac{1}{2}\\left(v+v_b\\right)^2\\right) \\right]\n",
    "$$"
   ]
  },
  {
   "cell_type": "markdown",
   "id": "4a60ad6f",
   "metadata": {},
   "source": [
    "# MODEL\n",
    "\n",
    "### EQUATIONS OF MOTION \n",
    "\n",
    "For the equations of motions, we will be considering the 4-th order Runge Kutta (RK4).\n",
    "\n",
    "Runge-Kutta methods solve initial value problems (IVP). In the context of multivariate calculus, IVP are is ordinary differential equations with initial conditions which specify the value of the unknown functions at a given point in the domain ([recommended to check the existence and uniqueness of solutions](https://www.math.iitb.ac.in/~siva/ma41707/ode3.pdf)). The different types of Runge-Kutta methods, can be observed in the following image. \n",
    "\n",
    "![alt text](Images/Runge-Kutta.png \"Gebraeuchliche Varienten des Runge-Kutta-Verfahrens\")"
   ]
  },
  {
   "cell_type": "markdown",
   "id": "b00bb56e",
   "metadata": {},
   "source": [
    "### PARTICLE DENSITY $n(x)$\n",
    "\n",
    "To be able to solve the equations of motions, it is necesary to know the electric field $E(x)$ and the electric potential $\\Phi(x)$. This is where the Particle in Cell Method comes into play.  "
   ]
  },
  {
   "cell_type": "code",
   "execution_count": null,
   "id": "35974adc",
   "metadata": {},
   "outputs": [],
   "source": []
  }
 ],
 "metadata": {
  "kernelspec": {
   "display_name": "GPU_optimization",
   "language": "python",
   "name": "python3"
  },
  "language_info": {
   "codemirror_mode": {
    "name": "ipython",
    "version": 3
   },
   "file_extension": ".py",
   "mimetype": "text/x-python",
   "name": "python",
   "nbconvert_exporter": "python",
   "pygments_lexer": "ipython3",
   "version": "3.10.16"
  }
 },
 "nbformat": 4,
 "nbformat_minor": 5
}
