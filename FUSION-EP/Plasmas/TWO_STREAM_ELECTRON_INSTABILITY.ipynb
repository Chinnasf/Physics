{
 "cells": [
  {
   "cell_type": "markdown",
   "id": "47b9aa38",
   "metadata": {},
   "source": [
    "This code is inspired in Chapter 8 of the [Computational Physics](https://farside.ph.utexas.edu/teaching/329/329.pdf) book by Richard Fitzpatrick, Professor of Physics at The University of Texas at Austin.\n",
    "\n",
    "Have a look at the [Computational Plasma Physics: Powerful New Tools of Scientific Discovery](https://w3.pppl.gov/~hammett/refs/2012/NUF_12_computational.pdf) lecture, given by Princeton Plasma Physics Lab (PPPL)."
   ]
  },
  {
   "cell_type": "code",
   "execution_count": 1,
   "id": "b7ef0da2",
   "metadata": {},
   "outputs": [
    {
     "name": "stderr",
     "output_type": "stream",
     "text": [
      "2025-05-21 15:51:19.984890: E external/local_xla/xla/stream_executor/cuda/cuda_dnn.cc:9261] Unable to register cuDNN factory: Attempting to register factory for plugin cuDNN when one has already been registered\n",
      "2025-05-21 15:51:19.985036: E external/local_xla/xla/stream_executor/cuda/cuda_fft.cc:607] Unable to register cuFFT factory: Attempting to register factory for plugin cuFFT when one has already been registered\n",
      "2025-05-21 15:51:19.991592: E external/local_xla/xla/stream_executor/cuda/cuda_blas.cc:1515] Unable to register cuBLAS factory: Attempting to register factory for plugin cuBLAS when one has already been registered\n",
      "2025-05-21 15:51:20.036528: I tensorflow/core/platform/cpu_feature_guard.cc:182] This TensorFlow binary is optimized to use available CPU instructions in performance-critical operations.\n",
      "To enable the following instructions: AVX2 FMA, in other operations, rebuild TensorFlow with the appropriate compiler flags.\n",
      "2025-05-21 15:51:25.725911: W tensorflow/compiler/tf2tensorrt/utils/py_utils.cc:38] TF-TRT Warning: Could not find TensorRT\n"
     ]
    }
   ],
   "source": [
    "## REMEMBER TO ACTIVATE `GPU_optimization (aGPUo)`\n",
    "\n",
    "import tensorflow\n",
    "import torch\n",
    "import os\n",
    "import matplotlib\n",
    "import matplotlib.pyplot as plt\n",
    "import pandas as pd\n",
    "import numpy as np\n",
    "import scienceplots\n",
    "\n",
    "from matplotlib import animation\n",
    "from matplotlib.animation import PillowWriter\n",
    "\n",
    "plt.style.use(['science', 'notebook'])\n",
    "device = torch.device('cuda' if torch.cuda.is_available() else 'cpu')\n",
    "\n",
    "# from tensorflow.python.client import device_lib\n",
    "# print(device_lib.list_local_devices())"
   ]
  },
  {
   "cell_type": "markdown",
   "id": "48bb690b",
   "metadata": {},
   "source": [
    "## [TWO STREAM INSTABILITY](https://farside.ph.utexas.edu/talks/pic.pdf)\n",
    "\n",
    "Consider N fixed ions and N moving electrons as an one-dimensional unmagnetized plasma (B=0) -- quick remark: plasmas are usually much less dense than liquids (such as water). The equations of motion for this system are\n",
    "\n",
    "$$\n",
    "    d_t r_i = v_i;\\quad d_t v_i = -\\frac{e}{m_e}E(r_i)\n",
    "$$\n",
    "\n",
    "For the numerical solution of this system, it is important to notice that it is not necessary to discretize positions nor velocities; the discretization\n",
    "in space is only for the solution of the Poisson equation. **Therefore there is no truncation error regarding the positions and velocities of the electrons; it is only rounding error.**\n",
    "\n",
    "Posson equation states that\n",
    "\n",
    "$$\n",
    "    d^2_x \\Phi(x) = -\\frac{e}{m_e}(n_o-n(x)); \\quad d_x\\Phi(x) = - E(x),\n",
    "$$\n",
    "\n",
    "with $n_o = N/L = <n(x)>$ being the uniform ion number density; and, $n(x)$ is the electron number density. Now, consider two counter-propagating Maxwellian beams of mean speed $v_b$ and thermal velocity $v_{th}$; thus, \n",
    "\n",
    "$$\n",
    "    f(x,v) = \\frac{n_o}{2\\sqrt{2\\pi}v){th}}\\left[exp\\left(-\\frac{1}{2v^2_{th}}\\left(v - v_b\\right)^2\\right) + exp\\left(-\\frac{1}{2v^2_{th}}\\left(v + v_b\\right)^2\\right)\\right].\n",
    "$$\n",
    "\n",
    "With this, one can obtain $f(x,v)dxdv$ the number of electrons in between $x$ + $x+dx$ with velocities $v$ and $v + dv$. Also, one can obtain the electron number density by integrating over the entire velocity space. The definition of the thermal velocity is\n",
    "\n",
    "$$\n",
    "    v_{th} = \\sqrt{\\frac{k_bT}{m_e}}\n",
    "$$\n",
    "\n",
    "Where $k_b$ is the Boltzmann constant. It is important to know that if $v_b >> v_{th}$ , then, the Maxwellian distribution becomes unstable to the well-known two-stream instability . It is possible to investigate this instability numerically.\n",
    "\n",
    "### PERIODIC BOUNDARY CONDITIONS\n",
    "\n",
    "By considering periodic boundary contions, one can easily see that for $0\\leq x \\leq L$:\n",
    "\n",
    "* $n(0) = n(L)$\n",
    "* $E(0) = E(L)$\n",
    "* $\\Phi(0) = \\Phi(L)$\n",
    "* Electrons that crosses the right boundary should reappear in the left boundary and vice versa.\n",
    "\n",
    "To reduce rounding error, one can consider the normalized variables: normalize time with respect the plasma frequency $\\omega_p$ and the Debye length $\\lambda_D$\n",
    "for spatial quantities:\n",
    "\n",
    "$$\n",
    "    \\omega^2_p = \\frac{n_oe^2}{\\epsilon_o m_e}; \\quad \\lambda_D = \\frac{v_{th}}{\\omega_p}\n",
    "$$\n",
    "\n",
    "Thus, the set of equations that describe the system become:\n",
    "\n",
    "* $d_t r_i = v_i$\n",
    "* $d_t v_i = -E(r_i)$\n",
    "* $d_x\\Phi(x) = -E(x)$\n",
    "* $d^2_x\\Phi(x) = n(x)/n_o - 1$\n",
    "* $v_{th}$ = 1\n",
    "\n",
    "And the distribution function takes the form of \n",
    "\n",
    "$$\n",
    "    f(x,v) = \\frac{n_o}{2\\sqrt{2\\pi}}\\left[ exp\\left(-\\frac{1}{2}\\left(v-v_b\\right)^2\\right) + exp\\left(-\\frac{1}{2}\\left(v+v_b\\right)^2\\right) \\right]\n",
    "$$"
   ]
  },
  {
   "cell_type": "markdown",
   "id": "4a60ad6f",
   "metadata": {},
   "source": [
    "# MODEL\n",
    "\n",
    "### EQUATIONS OF MOTION \n",
    "\n",
    "For the equations of motions, we will be considering the 4-th order Runge Kutta (RK4).\n",
    "\n",
    "Runge-Kutta methods solve initial value problems (IVP). In the context of multivariate calculus, IVP are is ordinary differential equations with initial conditions which specify the value of the unknown functions at a given point in the domain ([recommended to check the existence and uniqueness of solutions](https://www.math.iitb.ac.in/~siva/ma41707/ode3.pdf)). The different types of Runge-Kutta methods, can be observed in the following image. \n",
    "\n",
    "![alt text](Images/Runge-Kutta.png \"Gebraeuchliche Varienten des Runge-Kutta-Verfahrens\")"
   ]
  },
  {
   "cell_type": "markdown",
   "id": "b00bb56e",
   "metadata": {},
   "source": [
    "### PARTICLE DENSITY $n(x) \\rightarrow$ Particle in Cell Method\n",
    "\n",
    "To be able to solve the equations of motions, it is necesary to know the electric field $E(x)$ and the electric potential $\\Phi(x)$. **Remark: Potentials are Boundary Value Problems (BVP)**. Thus, it is convenient to consider the Particle in Cell Method for the calculation of $n(x)$.  \n",
    "\n",
    "To implement the PIC method, let us follow:\n",
    "\n",
    "1. Discretize the space: $ 0 \\leq x \\leq L $.\n",
    "\n",
    "    $$\n",
    "        x_j = j\\cdot \\delta x;\\quad \\text{with}\\quad \\delta x = \\frac{L}{J}, \\quad \\text{and} \\quad j \\in [0,J],\n",
    "    $$\n",
    "\n",
    "with $\\{r_i, v_i\\}; i \\in [0,N-1]$. Each discretization will be referred as `the cell`. Of course, $N >> J$, such that there is a lot more than one particle per cell. For simplicity of notation: \n",
    "\n",
    "$$\n",
    "    n_j = n(x_j);\\quad and\\quad \\Phi_j = \\Phi(x_j)\n",
    "$$\n",
    "\n",
    "There is one fundamental assumption that will direclty impact how $n_j$ is computed, and it is that **each particle has an homogeneous distribution of size $\\delta x$ as charge clound**. As a consequence, one must be cautios how the addition is going to be added per cell. The discretization of space and the consideration per cell is designed as follows:\n",
    "\n",
    "\n",
    "<img src=\"Images/pic_method_nj_xj.jpg\" width=\"800\" height=\"400\">\n",
    "\n",
    "From the fact that the cloud charge is of size $\\delta x$, then, it is thus assumed that $x_j \\leq r_i \\leq x_{j+1}$. The contribution of charge per cell can be then referred as the fraction that corresponds to the respective fraction to which the charge belongs to. Have a look at the following diagram.\n",
    "\n",
    "<img src=\"Images/pic_charge_assignation.jpg\" width=\"800\" height=\"400\">\n",
    "\n",
    "Since we are considering an homogeneous discretization of the grid, the integer of $r_i / \\delta x$ yields the $j$; thus, we must find the $j$ such that it follows $x_j \\leq r_i \\leq x_{j+1}$ so that the respective $n_j$ and $n_{j+1}$ can be updated as follows:\n",
    "\n",
    "\n",
    "$$\n",
    "    n_j \\:\\rightarrow\\: n_j + \\left(\\frac{x_{j+1} - r_j}{\\delta x}\\right)\\frac{1}{\\delta x}\n",
    "$$\n",
    "\n",
    "\n",
    "$$\n",
    "    n_{j+1} \\:\\rightarrow\\: n_{j+1} + \\left(\\frac{r_j-x_j}{\\delta x}\\right)\\frac{1}{\\delta x}\n",
    "$$\n",
    "\n",
    "Where the part in parenthesis is the charge; this is why it is then divided by $\\delta x$, so that it becomes the charge density. Since $1/\\delta x ^2$ is a common factor, it is recommended to compute this value at the end and save computational power demanded by the algorithm. What about $n_J$? It is going to be computed and emptied into $n_0$, so that boundary condition is fulfilled. However, let us stress again that, when feeding $n_j$ into Poisson equation, only $j=0,...,J-1$ is considered. \n"
   ]
  },
  {
   "cell_type": "code",
   "execution_count": null,
   "id": "35974adc",
   "metadata": {},
   "outputs": [],
   "source": []
  },
  {
   "cell_type": "code",
   "execution_count": null,
   "id": "c3a1f31f",
   "metadata": {},
   "outputs": [],
   "source": []
  },
  {
   "cell_type": "code",
   "execution_count": null,
   "id": "eb6aa04b",
   "metadata": {},
   "outputs": [],
   "source": []
  },
  {
   "cell_type": "code",
   "execution_count": null,
   "id": "b428d331",
   "metadata": {},
   "outputs": [],
   "source": []
  }
 ],
 "metadata": {
  "kernelspec": {
   "display_name": "GPU_optimization",
   "language": "python",
   "name": "python3"
  },
  "language_info": {
   "codemirror_mode": {
    "name": "ipython",
    "version": 3
   },
   "file_extension": ".py",
   "mimetype": "text/x-python",
   "name": "python",
   "nbconvert_exporter": "python",
   "pygments_lexer": "ipython3",
   "version": "3.10.16"
  }
 },
 "nbformat": 4,
 "nbformat_minor": 5
}
