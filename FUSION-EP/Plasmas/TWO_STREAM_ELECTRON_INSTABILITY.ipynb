{
 "cells": [
  {
   "cell_type": "code",
   "execution_count": null,
   "id": "b7ef0da2",
   "metadata": {},
   "outputs": [],
   "source": [
    "## REMEMBER TO ACTIVATE `GPU_optimization (aGPUo)`\n",
    "\n",
    "import tensorflow\n",
    "import torch\n",
    "import os\n",
    "import matplotlib\n",
    "import matplotlib.pyplot as plt\n",
    "import pandas as pd\n",
    "import numpy as np\n",
    "import scienceplots\n",
    "\n",
    "from matplotlib import animation\n",
    "from matplotlib.animation import PillowWriter\n",
    "\n",
    "plt.style.use(['science', 'notebook'])\n",
    "device = torch.device('cuda' if torch.cuda.is_available() else 'cpu')\n",
    "\n",
    "# from tensorflow.python.client import device_lib\n",
    "# print(device_lib.list_local_devices())"
   ]
  },
  {
   "cell_type": "code",
   "execution_count": null,
   "id": "48bb690b",
   "metadata": {},
   "outputs": [],
   "source": []
  }
 ],
 "metadata": {
  "kernelspec": {
   "display_name": "GPU_optimization",
   "language": "python",
   "name": "python3"
  },
  "language_info": {
   "codemirror_mode": {
    "name": "ipython",
    "version": 3
   },
   "file_extension": ".py",
   "mimetype": "text/x-python",
   "name": "python",
   "nbconvert_exporter": "python",
   "pygments_lexer": "ipython3",
   "version": "3.10.16"
  }
 },
 "nbformat": 4,
 "nbformat_minor": 5
}
