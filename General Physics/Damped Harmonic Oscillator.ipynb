{
 "cells": [
  {
   "cell_type": "markdown",
   "id": "01be3100",
   "metadata": {},
   "source": [
    "## Damped Harmonic Oscilator \n",
    "\n",
    "This code is based on the course [Stochastic Processes Data Analysis and Computer Simulation\n",
    "](https://learning.edx.org/course/course-v1:KyotoUx+009x+1T2017/home) which simulates a damped harmonic oscillator. The following system is considere.\n",
    "\n",
    "<img src=\"../Images/damped_HO.png\" width=300/>\n",
    "\n",
    "With the following variables\n",
    "* spring cosntant: $k$,\n",
    "* particle mass: $m$,\n",
    "* friction constant: $\\xi$,\n",
    "* particle position: $R(t)$,\n",
    "* friction force: $-\\xi V(t)$,\n",
    "* spring force: $-kR(t)$.\n",
    "\n",
    "The evolution of the system is described \n",
    "\n",
    "$$\n",
    "    \\frac{dR(t)}{dt} = V(t),\\:\\text{and}\\:\\:\\:\\: m\\frac{dV(t)}{dt} = -\\xi V(t) -kR(t)\n",
    "$$\n",
    "\n",
    "To solve the ordinary differential equations, the Euler method can be implemented. "
   ]
  },
  {
   "cell_type": "code",
   "execution_count": null,
   "id": "03e41147",
   "metadata": {},
   "outputs": [],
   "source": []
  }
 ],
 "metadata": {
  "kernelspec": {
   "display_name": "Python 3 (ipykernel)",
   "language": "python",
   "name": "python3"
  },
  "language_info": {
   "codemirror_mode": {
    "name": "ipython",
    "version": 3
   },
   "file_extension": ".py",
   "mimetype": "text/x-python",
   "name": "python",
   "nbconvert_exporter": "python",
   "pygments_lexer": "ipython3",
   "version": "3.10.12"
  }
 },
 "nbformat": 4,
 "nbformat_minor": 5
}
