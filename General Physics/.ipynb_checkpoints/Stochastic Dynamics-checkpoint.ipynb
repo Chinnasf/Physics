{
 "cells": [
  {
   "cell_type": "markdown",
   "id": "981782a7",
   "metadata": {},
   "source": [
    "## Important Definitions\n",
    "\n",
    "Stochastic (or Random) Variable: a variable that results from a random process. A stochastic variable $X$ can be studied through many observations $x_i$.\n",
    "\n",
    "$$\n",
    "    X = (x_1, x_2, \\ldots, x_n)\n",
    "$$\n",
    "\n",
    "A way to define a random variable is through a probability distribution $P(x)$ -- the probability of observing the variable $x$. In other words, the probability distribution contains all the information to charactertize a random variable. Nevertheless, in many real-world scenarions, it is impossible to have an explicit expresion for $P(x)$. Other important quantities to characterize a random variable are the average and the standard deviation. \n",
    "\n",
    "### Basics of Probability Theory\n",
    "\n",
    "For a real and stochastic variable $X$ one has the following properties:\n",
    "\n",
    "* Positive: $0 \\leq P(x) \\leq 1$\n",
    "* Normalized: $\\int^\\infty_{-\\infty} dx\\cdot P(x) = 1$\n",
    "* Moment(m-th): $\\mu_m = <X^m> = \\int^\\infty_{-\\infty} dx\\cdot x^m P(x) $\n",
    "* Average of function: $ <f(X)> =  \\int^\\infty_{-\\infty} dx\\cdot f(x) P(x) $ \n",
    "* Average of random variable $X$ is the first moment of $X$.\n",
    "* Variance: $\\sigma^2 = <X^2> - <X>^2 = \\mu_2 - \\mu_1^2$, which is also the sqrt of the standard deviation $\\sigma$.\n",
    "* Moment Generating Function $G(k) = <e^{-ikx}>$\n",
    "\n",
    "$$\n",
    "    G(k) = <e^{-ikx}> = \\sum^{\\infty}_{n=0} (ik)^n\\frac{\\mu_n}{n!}.\n",
    "$$\n",
    "\n",
    "This has the property that\n",
    "\n",
    "$$\n",
    "    \\frac{{d^\\nu}G(k)}{dk^\\nu}  \\biggr\\rvert_{k=0} = \\frac{\\mu_\\nu}{\\nu!}.\n",
    "$$\n",
    "\n",
    "These properties also apply to discrete variables with its corresponding analysis. However, the generating function of a discrete random variable is studied as follows:\n",
    "\n",
    "$$\n",
    "     G(k) = <e^{-ikn}> = \\sum^{\\infty}_{n=0} e^{-ikn} P(n).\n",
    "$$\n",
    "\n",
    "Where, usually $z = e^{-ik}$ so that\n",
    "\n",
    "$$\n",
    "    G(z) = \\sum^{\\infty}_{n=0} z^{n} P(n).\n",
    "$$"
   ]
  },
  {
   "cell_type": "markdown",
   "id": "828e7534",
   "metadata": {},
   "source": [
    "#### REMINDER: Binomial to Poisson notes."
   ]
  },
  {
   "cell_type": "code",
   "execution_count": null,
   "id": "452d95e5",
   "metadata": {},
   "outputs": [],
   "source": []
  }
 ],
 "metadata": {
  "kernelspec": {
   "display_name": "Python 3 (ipykernel)",
   "language": "python",
   "name": "python3"
  },
  "language_info": {
   "codemirror_mode": {
    "name": "ipython",
    "version": 3
   },
   "file_extension": ".py",
   "mimetype": "text/x-python",
   "name": "python",
   "nbconvert_exporter": "python",
   "pygments_lexer": "ipython3",
   "version": "3.10.12"
  }
 },
 "nbformat": 4,
 "nbformat_minor": 5
}
