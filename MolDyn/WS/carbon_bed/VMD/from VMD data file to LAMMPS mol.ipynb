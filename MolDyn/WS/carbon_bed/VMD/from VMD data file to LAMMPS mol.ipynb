{
 "cells": [
  {
   "cell_type": "code",
   "execution_count": 1,
   "id": "e881b6b9",
   "metadata": {},
   "outputs": [],
   "source": [
    "import numpy as np\n",
    "import pandas as pd\n",
    "import matplotlib.pyplot as plt\n",
    "import seaborn as sns\n",
    "sns.set(style='ticks')\n",
    "\n",
    "import re\n",
    "import os"
   ]
  },
  {
   "cell_type": "code",
   "execution_count": 2,
   "id": "c3a19c6f",
   "metadata": {},
   "outputs": [
    {
     "name": "stdout",
     "output_type": "stream",
     "text": [
      " CARBON_BED_molecular_35A.data\t       carbon_bed_OPSLAA_PARMS.lammps\r\n",
      " carbon_bed_OPLS-AA_QeD_charges.data   displaced_carbon_bed_VMD.data\r\n",
      " carbon_bed_OPLS-AA_QeD_charges.mol   'from VMD data file to LAMMPS mol.ipynb'\r\n"
     ]
    }
   ],
   "source": [
    "! ls"
   ]
  },
  {
   "cell_type": "code",
   "execution_count": 3,
   "id": "ed13cd7f",
   "metadata": {},
   "outputs": [],
   "source": [
    "with open(\"displaced_carbon_bed_VMD.data\", \"r\") as file:\n",
    "    file_content = file.readlines()\n",
    "# Create a DataFrame with each line as a separate row in a single column\n",
    "data = pd.DataFrame(file_content, columns=['data']) "
   ]
  },
  {
   "cell_type": "code",
   "execution_count": 4,
   "id": "b7f04522",
   "metadata": {},
   "outputs": [],
   "source": [
    "slices = {\n",
    "    \"coords\":(43,2742),        # 2700\n",
    "    \"bonds\":(5449,9333),       # 3885\n",
    "    \"angles\":(9337,16786),     # 7450\n",
    "    \"dihedrals\":(16790,31144), # 14355\n",
    "    \"impropers\":(31148,33527)  # 2380\n",
    "}"
   ]
  },
  {
   "cell_type": "code",
   "execution_count": 5,
   "id": "cdecbd94",
   "metadata": {},
   "outputs": [],
   "source": [
    "def get_coords(slices):\n",
    "    coords = data.loc[slices[0]:slices[1]].copy().reset_index(drop=True)\n",
    "    coords[\"data\"] = coords[\"data\"].str.split('\\s').apply(lambda x: list(filter(None, x)))\n",
    "    coords[\"atom id\"] = coords[\"data\"].apply(lambda x: x[0]).astype(int)\n",
    "    coords[\"molecule id\"] = coords[\"data\"].apply(lambda x: x[1]).astype(int)\n",
    "    coords[\"atom type\"] = coords[\"data\"].apply(lambda x: x[2]).astype(int)\n",
    "    coords[\"VMD charge\"] = coords[\"data\"].apply(lambda x: x[3]).astype(float)\n",
    "    coords[\"x\"] = coords[\"data\"].apply(lambda x: x[4]).astype(float)\n",
    "    coords[\"y\"] = coords[\"data\"].apply(lambda x: x[5]).astype(float)\n",
    "    coords[\"z\"] = coords[\"data\"].apply(lambda x: x[6]).astype(float)\n",
    "    coords = coords.sort_values(\"atom id\").reset_index(drop=False)\n",
    "    return coords\n",
    "\n",
    "coords = get_coords(slices[\"coords\"])\n",
    "\n",
    "def get_bonds(slices):\n",
    "    bonds = data.loc[slices[0]:slices[1]].copy().reset_index(drop=True)\n",
    "    bonds[\"data\"] = bonds[\"data\"].str.split('\\s').apply(lambda x: list(filter(None, x)))\n",
    "    bonds[\"bond id\"] = bonds[\"data\"].apply(lambda x: x[0]).astype(int)\n",
    "    bonds[\"bond type\"] = bonds[\"data\"].apply(lambda x: x[1]).astype(int)\n",
    "    bonds[\"atom1\"] = bonds[\"data\"].apply(lambda x: x[2]).astype(int)\n",
    "    bonds[\"atom2\"] = bonds[\"data\"].apply(lambda x: x[3]).astype(int)\n",
    "    return bonds\n",
    "\n",
    "bonds = get_bonds(slices[\"bonds\"])\n",
    "\n",
    "def get_angles(slices):\n",
    "    angles = data.loc[slices[0]:slices[1]].copy().reset_index(drop=True)\n",
    "    angles[\"data\"] = angles[\"data\"].str.split('\\s').apply(lambda x: list(filter(None, x)))\n",
    "    angles[\"angle id\"] = angles[\"data\"].apply(lambda x: x[0]).astype(int)\n",
    "    angles[\"angle type\"] = angles[\"data\"].apply(lambda x: x[1]).astype(int)\n",
    "    angles[\"atom1\"] = angles[\"data\"].apply(lambda x: x[2]).astype(int)\n",
    "    angles[\"atom2\"] = angles[\"data\"].apply(lambda x: x[3]).astype(int)\n",
    "    angles[\"atom3\"] = angles[\"data\"].apply(lambda x: x[4]).astype(int)\n",
    "    return angles\n",
    "\n",
    "angles = get_angles(slices[\"angles\"])\n",
    "\n",
    "def get_dihedrals(slices):\n",
    "    dihedrals = data.loc[slices[0]:slices[1]].copy().reset_index(drop=True)\n",
    "    dihedrals[\"data\"] = dihedrals[\"data\"].str.split('\\s').apply(lambda x: list(filter(None, x)))\n",
    "    dihedrals[\"dihedral id\"] = dihedrals[\"data\"].apply(lambda x: x[0]).astype(int)\n",
    "    dihedrals[\"dihedral type\"] = dihedrals[\"data\"].apply(lambda x: x[1]).astype(int)\n",
    "    dihedrals[\"atom1\"] = dihedrals[\"data\"].apply(lambda x: x[2]).astype(int)\n",
    "    dihedrals[\"atom2\"] = dihedrals[\"data\"].apply(lambda x: x[3]).astype(int)\n",
    "    dihedrals[\"atom3\"] = dihedrals[\"data\"].apply(lambda x: x[4]).astype(int)\n",
    "    dihedrals[\"atom4\"] = dihedrals[\"data\"].apply(lambda x: x[5]).astype(int)\n",
    "    return dihedrals\n",
    "\n",
    "dihedrals = get_dihedrals(slices[\"dihedrals\"])\n",
    "\n",
    "def get_impropers(slices):\n",
    "    impropers = data.loc[slices[0]:slices[1]].copy().reset_index(drop=True)\n",
    "    impropers[\"data\"] = impropers[\"data\"].str.split('\\s').apply(lambda x: list(filter(None, x)))\n",
    "    impropers[\"improper id\"] = impropers[\"data\"].apply(lambda x: x[0]).astype(int)\n",
    "    impropers[\"improper type\"] = impropers[\"data\"].apply(lambda x: x[1]).astype(int)\n",
    "    impropers[\"atom1\"] = impropers[\"data\"].apply(lambda x: x[2]).astype(int)\n",
    "    impropers[\"atom2\"] = impropers[\"data\"].apply(lambda x: x[3]).astype(int)\n",
    "    impropers[\"atom3\"] = impropers[\"data\"].apply(lambda x: x[4]).astype(int)\n",
    "    impropers[\"atom4\"] = impropers[\"data\"].apply(lambda x: x[5]).astype(int)\n",
    "    return impropers\n",
    "\n",
    "impropers = get_impropers(slices[\"impropers\"])"
   ]
  },
  {
   "cell_type": "markdown",
   "id": "e8c8f8f3",
   "metadata": {},
   "source": [
    "# FIX CHARGES\n",
    "\n",
    "### REMARKS\n",
    "\n",
    "* VMD dataset has its simulation cell as -20 20, -20 20, 0 100.\n",
    "* MATSQ dataset has its simulation cell as 0 40, 0 40, 0 100.\n",
    "* Only modify location of MATSQ dataset."
   ]
  },
  {
   "cell_type": "code",
   "execution_count": 6,
   "id": "7b7cd9dc",
   "metadata": {},
   "outputs": [],
   "source": [
    "def get_MATSQ_coords(slices):\n",
    "    with open(\"../MATSQ/carbon_bed_structure_dreiding.lammps\", \"r\") as file:\n",
    "        file_content = file.readlines()\n",
    "    # Create a DataFrame with each line as a separate row in a single column\n",
    "    MATSQ = pd.DataFrame(file_content, columns=['data'])     \n",
    "    \n",
    "    coords = MATSQ.loc[slices[0]:slices[1]].copy().reset_index(drop=True)\n",
    "    coords[\"data\"] = coords[\"data\"].str.split('\\s').apply(lambda x: list(filter(None, x)))\n",
    "    coords[\"atom id\"] = coords[\"data\"].apply(lambda x: x[0]).astype(int)\n",
    "    coords[\"molecule id\"] = coords[\"data\"].apply(lambda x: x[1]).astype(int)\n",
    "    coords[\"atom type\"] = coords[\"data\"].apply(lambda x: x[2]).astype(int)\n",
    "    coords[\"charge\"] = coords[\"data\"].apply(lambda x: x[3]).astype(float)\n",
    "    coords[\"x\"] = coords[\"data\"].apply(lambda x: x[4]).astype(float)\n",
    "    coords[\"x\"] = coords[\"x\"] - 20 \n",
    "    coords[\"y\"] = coords[\"data\"].apply(lambda x: x[5]).astype(float)\n",
    "    coords[\"y\"] = coords[\"y\"] - 20\n",
    "    coords[\"z\"] = coords[\"data\"].apply(lambda x: x[6]).astype(float)\n",
    "    return coords\n",
    "\n",
    "MATSQ_coords = get_MATSQ_coords([25,2724])"
   ]
  },
  {
   "cell_type": "code",
   "execution_count": 7,
   "id": "fa35aca7",
   "metadata": {
    "scrolled": false
   },
   "outputs": [],
   "source": [
    "MATSQ_coords[\"loc_key\"] = MATSQ_coords[\"x\"].apply(lambda x: round(x,3)).astype(str) + \\\n",
    "                          MATSQ_coords[\"y\"].apply(lambda x: round(x,3)).astype(str) + \\\n",
    "                          MATSQ_coords[\"z\"].apply(lambda x: round(x,3)).astype(str)\n",
    "MATSQ_coords[\"sum_key\"] = MATSQ_coords[\"x\"] + MATSQ_coords[\"y\"] + MATSQ_coords[\"z\"]\n",
    "MATSQ_coords[\"sum_key\"] = MATSQ_coords[\"sum_key\"].apply(lambda x: round(x,3))\n",
    "MATSQ_coords[\"sum_key\"] = MATSQ_coords[\"sum_key\"].apply(lambda x: x + 0.001 if x > 0 else x - 0.001) \n",
    "MATSQ_coords[\"sum_key\"] = MATSQ_coords[\"sum_key\"].apply(lambda x: round(x,3))"
   ]
  },
  {
   "cell_type": "code",
   "execution_count": 8,
   "id": "a8ad1e2d",
   "metadata": {},
   "outputs": [],
   "source": [
    "dict_charges_loc = dict(zip(MATSQ_coords[\"loc_key\"].values,MATSQ_coords[\"charge\"].values))\n",
    "dict_charges_sum = dict(zip(MATSQ_coords[\"sum_key\"].values,MATSQ_coords[\"charge\"].values))"
   ]
  },
  {
   "cell_type": "code",
   "execution_count": 9,
   "id": "fee6060a",
   "metadata": {},
   "outputs": [],
   "source": [
    "coords[\"loc_key\"] = coords[\"x\"].apply(lambda x: round(x,3)).astype(str) + \\\n",
    "                    coords[\"y\"].apply(lambda x: round(x,3)).astype(str) + \\\n",
    "                    coords[\"z\"].apply(lambda x: round(x,3)).astype(str)\n",
    "coords[\"sum_key\"] = coords[\"x\"] + coords[\"y\"] + coords[\"z\"]\n",
    "coords[\"sum_key\"] = coords[\"sum_key\"].apply(lambda x: round(x,3))"
   ]
  },
  {
   "cell_type": "markdown",
   "id": "2983539e",
   "metadata": {},
   "source": [
    "#### First, mapping by location"
   ]
  },
  {
   "cell_type": "markdown",
   "id": "98d547bf",
   "metadata": {},
   "source": [
    "### Lol, they seem to conserve the atom ID :v qude'e como est'upida. "
   ]
  },
  {
   "cell_type": "code",
   "execution_count": 10,
   "id": "4ddce416",
   "metadata": {},
   "outputs": [],
   "source": [
    "dict_charges_ID = dict(zip(MATSQ_coords[\"atom id\"].values,MATSQ_coords[\"charge\"].values))\n",
    "coords[\"charge\"] = coords[\"atom id\"].map(dict_charges_ID)"
   ]
  },
  {
   "cell_type": "code",
   "execution_count": 11,
   "id": "6856caae",
   "metadata": {},
   "outputs": [
    {
     "data": {
      "text/plain": [
       "array([False])"
      ]
     },
     "execution_count": 11,
     "metadata": {},
     "output_type": "execute_result"
    }
   ],
   "source": [
    "coords[\"charge\"].isna().unique()"
   ]
  },
  {
   "cell_type": "code",
   "execution_count": 12,
   "id": "6f9d1542",
   "metadata": {},
   "outputs": [],
   "source": [
    "PARAMS_coeffs = {\"atom type\":6, \"bonds\":6, \"angles\":4, \"dihedrals\":16, \"impropers\":1}"
   ]
  },
  {
   "cell_type": "code",
   "execution_count": 13,
   "id": "5d27be4d",
   "metadata": {},
   "outputs": [],
   "source": [
    "def write_mol_file():\n",
    "    f = open(\"carbon_bed_OPLS-AA_QeD_charges.mol\", \"w\")\n",
    "    f.write(\"# Created by Karina Chiñas Fuentes | Python | 16.08.24\\n\\n\")\n",
    "    f.write(f\"\\n{len(coords)} atoms\\n{len(bonds)} bonds\\n{len(angles)} angles\\n{len(dihedrals)} dihedrals\"+\n",
    "            f\"\\n{len(impropers)} impropers\")\n",
    "    f.write(\"\\n\\n\")\n",
    "    f.write(\"Coords\\n\\n\")\n",
    "    for i in range(len(coords)):\n",
    "        f.write(f\"{coords['atom id'][i]}\\t{coords['x'][i]}\\t{coords['y'][i]}\\t{coords['z'][i]}\\n\")\n",
    "    f.write(\"\\nTypes\\n\\n\")\n",
    "    for i in range(len(coords)):\n",
    "        f.write(f\"{coords['atom id'][i]} {PARAMS_coeffs['atom type']}\\n\")\n",
    "    f.write(\"\\nCharges\\n\\n\")\n",
    "    for i in range(len(coords)):\n",
    "        f.write(f\"{coords['atom id'][i]}\\t{coords['charge'][i]}\\n\")\n",
    "    f.write(\"\\nBonds\\n\\n\")\n",
    "    for i in range(len(bonds)):\n",
    "        f.write(f\"{bonds['bond id'][i]}\\t{PARAMS_coeffs['bonds']}\\t\"+\n",
    "                f\"{bonds['atom1'][i]}\\t{bonds['atom2'][i]}\\n\")\n",
    "    f.write(\"\\nAngles\\n\\n\")\n",
    "    for i in range(len(angles)):\n",
    "        f.write(f\"{angles['angle id'][i]}\\t{PARAMS_coeffs['angles']}\\t\"+\n",
    "                f\"{angles['atom1'][i]}\\t{angles['atom2'][i]}\\t{angles['atom3'][i]}\\n\")\n",
    "    f.write(\"\\nDihedrals\\n\\n\")\n",
    "    for i in range(len(dihedrals)):\n",
    "        f.write(f\"{dihedrals['dihedral id'][i]}\\t{PARAMS_coeffs['dihedrals']}\\t{dihedrals['atom1'][i]}\\t\"+\n",
    "                f\"{dihedrals['atom2'][i]}\\t{dihedrals['atom3'][i]}\\t{dihedrals['atom4'][i]}\\n\")\n",
    "    f.write(\"\\nImpropers\\n\\n\")\n",
    "    for i in range(len(impropers)):\n",
    "        f.write(f\"{impropers['improper id'][i]}\\t{PARAMS_coeffs['impropers']}\\t{impropers['atom1'][i]}\\t\"+\n",
    "                f\"{impropers['atom2'][i]}\\t{impropers['atom3'][i]}\\t{impropers['atom4'][i]}\\n\")"
   ]
  },
  {
   "cell_type": "code",
   "execution_count": 14,
   "id": "f29e5d3e",
   "metadata": {},
   "outputs": [],
   "source": [
    "#write_mol_file()"
   ]
  },
  {
   "cell_type": "code",
   "execution_count": 15,
   "id": "c488643e",
   "metadata": {},
   "outputs": [
    {
     "name": "stdout",
     "output_type": "stream",
     "text": [
      " CARBON_BED_molecular_35A.data\t       carbon_bed_OPSLAA_PARMS.lammps\r\n",
      " carbon_bed_OPLS-AA_QeD_charges.data   displaced_carbon_bed_VMD.data\r\n",
      " carbon_bed_OPLS-AA_QeD_charges.mol   'from VMD data file to LAMMPS mol.ipynb'\r\n"
     ]
    }
   ],
   "source": [
    "! ls"
   ]
  },
  {
   "cell_type": "code",
   "execution_count": 16,
   "id": "27e858f4",
   "metadata": {},
   "outputs": [],
   "source": [
    "#! cp carbon_bed_OPLS-AA_QeD_charges.mol /home/kchinas/Documents/PhD/LAMMPS/CL/2ndMODEL/1stAttmp/merge/VMD_C/data"
   ]
  },
  {
   "cell_type": "code",
   "execution_count": 17,
   "id": "2cc2ea6f",
   "metadata": {},
   "outputs": [],
   "source": [
    "pd.options.display.float_format = \"{:.7f}\".format\n",
    "coords[\"x\"] = coords[\"x\"].apply(lambda x: f\"{x:.7f}\")\n",
    "coords[\"y\"] = coords[\"y\"].apply(lambda x: f\"{x:.7f}\")\n",
    "coords[\"z\"] = coords[\"z\"].apply(lambda x: f\"{x:.7f}\")\n",
    "coords[\"charge\"] = coords[\"charge\"].apply(lambda x: f\"{x:.7f}\")"
   ]
  },
  {
   "cell_type": "markdown",
   "id": "ed79231b",
   "metadata": {},
   "source": [
    "# Write LAMMPS data file"
   ]
  },
  {
   "cell_type": "code",
   "execution_count": 18,
   "id": "9514a52b",
   "metadata": {},
   "outputs": [],
   "source": [
    "# Fix for considering other atoms:\n",
    "PARAMS_C = {\"atom type\":6, \"bonds\":6, \"angles\":4, \"dihedrals\":16, \"impropers\":1}\n",
    "totTypes = {\"atom\":8, \"bond\":7, \"angle\":5, \"dihedral\":16, \"improper\":1}"
   ]
  },
  {
   "cell_type": "code",
   "execution_count": 42,
   "id": "e9c8eb43",
   "metadata": {},
   "outputs": [],
   "source": [
    "def write_lmpdat_file():\n",
    "    f = open(\"carbon_bed_OPLS-AA_QeD_charges.data\", \"w\")\n",
    "    f.write(\"# Created by Karina Chiñas Fuentes | Python | 19.08.24\\n\\n\")\n",
    "    f.write(f\"{len(coords)} atoms\\n{len(bonds)} bonds\\n{len(angles)} angles\\n\"+\n",
    "            f\"{len(dihedrals)} dihedrals\\n{len(impropers)} impropers\\n\"+\n",
    "            f\"{totTypes['atom']} atom types\\n{totTypes['bond']} bond types\\n\"+\n",
    "            f\"{totTypes['angle']} angle types\\n{totTypes['dihedral']} dihedral types\"+\n",
    "            f\"\\n{totTypes['improper']} improper types\\n\\n\")\n",
    "    # simulation box dimensions\n",
    "    f.write(\"-20 20 xlo xhi\\n\")\n",
    "    f.write(\"-20 20 ylo yhi\\n\")\n",
    "    f.write(\" 0 300 zlo zhi\\n\\n\")\n",
    "    f.write(f\"# Pair Coeffs\\n# {PARAMS_C['atom type']}  CA\\n\\n# Bond Coeffs\\n# \"+\n",
    "            f\"{PARAMS_C['bonds']}  CA-CA\\n\\n# Angle Coeffs\\n# {PARAMS_C['angles']}  CA-CA-CA\\n\\n\"+\n",
    "            f\"# Dihedral Coeffs\\n# {PARAMS_C['dihedrals']}  CA-CA-CA-CA\\n\\n# Improper Coeffs\\n#\"+\n",
    "            f\" {PARAMS_C['impropers']}  CA-CA-CA-CA\\n\\n\")\n",
    "    # masses\n",
    "    f.write(\" Masses\\n\\n\")\n",
    "    f.write(\"1     18.998400  # F_  | Nafion   (DREIDING)\\n\"+\n",
    "            \"2     12.011000  # C_3 | Nafion   (DREIDING)\\n\"+\n",
    "            \"3     15.999400  # O_3 | Nafion   (DREIDING)\\n\"+\n",
    "            \"4     15.999400  # O_2 | Nafion   (DREIDING)\\n\"+\n",
    "            \"5     32.060000  # S_3 | Nafion   (DREIDING)\\n\"+\n",
    "            \"6     12.011000  # C   | Graphite (OPLSAA-AA)\\n\"+\n",
    "            \"7     1.008      # H   | Water    (SPC/Fw)\\n\"+\n",
    "            \"8     15.999400  # O   | Water    (SPC/Fw)\\n\\n\")\n",
    "    # atoms\n",
    "    f.write(\" Atoms\\n\\n\")\n",
    "    for i in range(len(coords)):\n",
    "        f.write(f\"{coords['atom id'][i]}\\t{coords['atom id'][i]}\\t{PARAMS_C['atom type']}\\t\"+\n",
    "                f\"{coords['charge'][i]}\\t{coords['x'][i]}\\t{coords['y'][i]}\\t{coords['z'][i]} # CA GRA\\n\")\n",
    "    # bonds\n",
    "    f.write(\"\\n Bonds\\n\\n\")\n",
    "    for i in range(len(bonds)):\n",
    "        f.write(f\"{bonds['bond id'][i]}\\t{PARAMS_C['bonds']}\\t{bonds['atom1'][i]}\\t{bonds['atom2'][i]}\\n\")\n",
    "    # angles\n",
    "    f.write(\"\\n Angles\\n\\n\")\n",
    "    for i in range(len(angles)):\n",
    "        f.write(f\"{angles['angle id'][i]}\\t{PARAMS_C['angles']}\"+\n",
    "                f\"\\t{angles['atom1'][i]}\\t{angles['atom2'][i]}\\t{angles['atom3'][i]}\\n\")\n",
    "    # dihedrals\n",
    "    f.write(\"\\n Dihedrals\\n\\n\")\n",
    "    for i in range(len(dihedrals)):\n",
    "        f.write(f\"{dihedrals['dihedral id'][i]}\\t{PARAMS_C['dihedrals']}\\t{dihedrals['atom1'][i]}\"+\n",
    "                f\"\\t{dihedrals['atom2'][i]}\\t{dihedrals['atom3'][i]}\\t{dihedrals['atom4'][i]}\\n\")\n",
    "    # impropers\n",
    "    f.write(\"\\n Impropers\\n\\n\")\n",
    "    for i in range(len(impropers)):\n",
    "        f.write(f\"{impropers['improper id'][i]}\\t{PARAMS_C['impropers']}\\t{impropers['atom1'][i]}\"+\n",
    "                f\"\\t{impropers['atom2'][i]}\\t{impropers['atom3'][i]}\\t{impropers['atom4'][i]}\\n\")"
   ]
  },
  {
   "cell_type": "code",
   "execution_count": 43,
   "id": "6709c27e",
   "metadata": {},
   "outputs": [],
   "source": [
    "#write_lmpdat_file()"
   ]
  },
  {
   "cell_type": "code",
   "execution_count": 45,
   "id": "38f4fed8",
   "metadata": {},
   "outputs": [
    {
     "name": "stdout",
     "output_type": "stream",
     "text": [
      "/home/kchinas/Documents/PhD/LAMMPS/CL/2ndMODEL/1stAttmp/carbon_bed/VMD\r\n"
     ]
    }
   ],
   "source": [
    "! pwd"
   ]
  },
  {
   "cell_type": "code",
   "execution_count": 44,
   "id": "69c84299",
   "metadata": {},
   "outputs": [],
   "source": [
    "#! code carbon_bed_OPLS-AA_QeD_charges.data"
   ]
  },
  {
   "cell_type": "code",
   "execution_count": null,
   "id": "f83fcd24",
   "metadata": {},
   "outputs": [],
   "source": []
  },
  {
   "cell_type": "code",
   "execution_count": null,
   "id": "38a88d54",
   "metadata": {},
   "outputs": [],
   "source": []
  }
 ],
 "metadata": {
  "kernelspec": {
   "display_name": "Python 3 (ipykernel)",
   "language": "python",
   "name": "python3"
  },
  "language_info": {
   "codemirror_mode": {
    "name": "ipython",
    "version": 3
   },
   "file_extension": ".py",
   "mimetype": "text/x-python",
   "name": "python",
   "nbconvert_exporter": "python",
   "pygments_lexer": "ipython3",
   "version": "3.10.12"
  }
 },
 "nbformat": 4,
 "nbformat_minor": 5
}
