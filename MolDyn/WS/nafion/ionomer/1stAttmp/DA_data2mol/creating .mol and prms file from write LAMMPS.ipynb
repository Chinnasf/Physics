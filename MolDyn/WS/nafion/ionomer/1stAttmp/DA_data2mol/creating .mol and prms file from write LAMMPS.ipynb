{
 "cells": [
  {
   "cell_type": "code",
   "execution_count": 1,
   "id": "542450d5",
   "metadata": {},
   "outputs": [],
   "source": [
    "import numpy as np\n",
    "import pandas as pd\n",
    "import matplotlib.pyplot as plt\n",
    "import seaborn as sns\n",
    "sns.set(style='ticks')\n",
    "\n",
    "import re\n",
    "import os"
   ]
  },
  {
   "cell_type": "markdown",
   "id": "19bdeadc",
   "metadata": {},
   "source": [
    "# IONOMER"
   ]
  },
  {
   "cell_type": "markdown",
   "id": "039f4804",
   "metadata": {},
   "source": [
    "## .mol headers:\n",
    "\n",
    "* total atoms\n",
    "* total bonds\n",
    "* total angles\n",
    "* total dihedrals\n",
    "\n",
    "* coords\n",
    "* types ∀ atoms\n",
    "* charges ∀ atoms\n",
    "* bonds ∀ atoms\n",
    "* angles ∀ atoms\n",
    "* dihedrals ∀ atoms\n",
    "\n",
    "GROMOS FF: 4377 lines\n",
    "\n",
    "DREIDING FF: 4439 lines"
   ]
  },
  {
   "cell_type": "code",
   "execution_count": 2,
   "id": "d5668870",
   "metadata": {},
   "outputs": [],
   "source": [
    "with open(\"../relaxed_ionomer_.data\", \"r\") as file:\n",
    "    file_content = file.readlines()\n",
    "# Create a DataFrame with each line as a separate row in a single column\n",
    "data = pd.DataFrame(file_content, columns=['data'])    "
   ]
  },
  {
   "cell_type": "code",
   "execution_count": null,
   "id": "6a200765",
   "metadata": {},
   "outputs": [],
   "source": []
  },
  {
   "cell_type": "code",
   "execution_count": 3,
   "id": "9530ecd9",
   "metadata": {},
   "outputs": [
    {
     "data": {
      "text/plain": [
       "array(['F', 'C', 'O_hyd', 'O', 'S'], dtype=object)"
      ]
     },
     "execution_count": 3,
     "metadata": {},
     "output_type": "execute_result"
    }
   ],
   "source": [
    "coords = data.loc[88:585].copy().reset_index(drop=True)\n",
    "coords[\"atom id\"] = coords[\"data\"].str.split('\\s').apply(lambda x: x[0]).astype(int)\n",
    "coords[\"molecule id\"] = coords[\"data\"].str.split('\\s').apply(lambda x: x[1]).astype(int)\n",
    "coords[\"atom type\"] = coords[\"data\"].str.split('\\s').apply(lambda x: x[2]).astype(int)\n",
    "coords[\"charge\"] = coords[\"data\"].str.split('\\s').apply(lambda x: x[3]).astype(float)\n",
    "coords[\"x\"] = coords[\"data\"].str.split('\\s').apply(lambda x: x[4]).astype(float)\n",
    "coords[\"y\"] = coords[\"data\"].str.split('\\s').apply(lambda x: x[5]).astype(float)\n",
    "coords[\"z\"] = coords[\"data\"].str.split('\\s').apply(lambda x: x[6]).astype(float)\n",
    "coords = coords.sort_values(\"atom id\").reset_index(drop=True)\n",
    "coords[\"element\"] = coords[\"atom type\"].map({1:\"F\",2:\"C\",3:\"O_hyd\",\n",
    "                                             4:\"O\",5:\"S\",6:\"H\"})\n",
    "coords[\"element\"].unique()"
   ]
  },
  {
   "cell_type": "code",
   "execution_count": 4,
   "id": "64ab1526",
   "metadata": {},
   "outputs": [],
   "source": [
    "bonds = data.loc[1090:1594].copy().reset_index(drop=True)\n",
    "bonds[\"bond id\"] = bonds[\"data\"].str.split('\\s').apply(lambda x: x[0]).astype(int)\n",
    "bonds[\"bond type\"] = bonds[\"data\"].str.split('\\s').apply(lambda x: x[1]).astype(int)\n",
    "bonds[\"atom1\"] = bonds[\"data\"].str.split('\\s').apply(lambda x: x[2]).astype(int)\n",
    "bonds[\"atom2\"] = bonds[\"data\"].str.split('\\s').apply(lambda x: x[3]).astype(int)"
   ]
  },
  {
   "cell_type": "code",
   "execution_count": 5,
   "id": "4b71ab78",
   "metadata": {},
   "outputs": [],
   "source": [
    "angles = data.loc[1598:2581].copy().reset_index(drop=True)\n",
    "angles[\"angle id\"] = angles[\"data\"].str.split('\\s').apply(lambda x: x[0]).astype(int)\n",
    "angles[\"angle type\"] = angles[\"data\"].str.split('\\s').apply(lambda x: x[1]).astype(int)\n",
    "angles[\"atom1\"] = angles[\"data\"].str.split('\\s').apply(lambda x: x[2]).astype(int)\n",
    "angles[\"atom2\"] = angles[\"data\"].str.split('\\s').apply(lambda x: x[3]).astype(int)\n",
    "angles[\"atom3\"] = angles[\"data\"].str.split('\\s').apply(lambda x: x[4]).astype(int)"
   ]
  },
  {
   "cell_type": "code",
   "execution_count": 6,
   "id": "6844fc7b",
   "metadata": {},
   "outputs": [],
   "source": [
    "dihedrals = data.loc[2585:].copy().reset_index(drop=True)\n",
    "dihedrals[\"dihedral id\"] = dihedrals[\"data\"].str.split('\\s').apply(lambda x: x[0]).astype(int)\n",
    "dihedrals[\"dihedral type\"] = dihedrals[\"data\"].str.split('\\s').apply(lambda x: x[1]).astype(int)\n",
    "dihedrals[\"atom1\"] = dihedrals[\"data\"].str.split('\\s').apply(lambda x: x[2]).astype(int)\n",
    "dihedrals[\"atom2\"] = dihedrals[\"data\"].str.split('\\s').apply(lambda x: x[3]).astype(int)\n",
    "dihedrals[\"atom3\"] = dihedrals[\"data\"].str.split('\\s').apply(lambda x: x[4]).astype(int)\n",
    "dihedrals[\"atom4\"] = dihedrals[\"data\"].str.split('\\s').apply(lambda x: x[5]).astype(int)"
   ]
  },
  {
   "cell_type": "code",
   "execution_count": 7,
   "id": "0524e012",
   "metadata": {},
   "outputs": [],
   "source": [
    "def write_mol_file():\n",
    "    f = open(\"nafion_ionomer_dreiding.mol\", \"w\")\n",
    "    f.write(\"# Created by Karina Chiñas Fuentes | Python | 07.08.24\\n\\n\")\n",
    "    f.write(\"\\n506 atoms\\n505 bonds\\n984 angles\\n1407 dihedrals\")\n",
    "    f.write(\"\\n\\n\")\n",
    "    f.write(\"Coords\\n\\n\")\n",
    "    for i in range(len(coords)):\n",
    "        f.write(f\"{coords['atom id'][i]}\\t{coords['x'][i]}\\t{coords['y'][i]}\\t{coords['z'][i]}\\n\")\n",
    "    f.write(\"\\nTypes\\n\\n\")\n",
    "    for i in range(len(coords)):\n",
    "        f.write(f\"{coords['atom id'][i]}\\t{coords['atom type'][i]}\\n\")\n",
    "    f.write(\"\\nCharges\\n\\n\")\n",
    "    for i in range(len(coords)):\n",
    "        f.write(f\"{coords['atom id'][i]}\\t{coords['charge'][i]}\\n\")\n",
    "    f.write(\"\\nBonds\\n\\n\")\n",
    "    for i in range(len(bonds)):\n",
    "        f.write(f\"{bonds['bond id'][i]}\\t{bonds['bond type'][i]}\\t\"+\n",
    "                f\"{bonds['atom1'][i]}\\t{bonds['atom2'][i]}\\n\")\n",
    "    f.write(\"\\nAngles\\n\\n\")\n",
    "    for i in range(len(angles)):\n",
    "        f.write(f\"{angles['angle id'][i]}\\t{angles['angle type'][i]}\\t\"+\n",
    "                f\"{angles['atom1'][i]}\\t{angles['atom2'][i]}\\t{angles['atom3'][i]}\\n\")\n",
    "    f.write(\"\\nDihedrals\\n\\n\")\n",
    "    for i in range(len(dihedrals)):\n",
    "        f.write(f\"{dihedrals['dihedral id'][i]}\\t{dihedrals['dihedral type'][i]}\\t{dihedrals['atom1'][i]}\\t\"+\n",
    "                f\"{dihedrals['atom2'][i]}\\t{dihedrals['atom3'][i]}\\t{dihedrals['atom4'][i]}\\n\")"
   ]
  },
  {
   "cell_type": "code",
   "execution_count": 8,
   "id": "9da84dbc",
   "metadata": {},
   "outputs": [],
   "source": [
    "#write_mol_file()"
   ]
  },
  {
   "cell_type": "markdown",
   "id": "4cc76d05",
   "metadata": {},
   "source": [
    "## parm.lammps headers:\n",
    "\n",
    "* mass ∀ types\n",
    "* pair_coeff ∀ types (individual and crossed)\n",
    "* bond_coeff ∀ types\n",
    "* angle_coeff ∀ types\n",
    "* dihedral_coeff ∀ types\n",
    "\n",
    "(Did it by hand)"
   ]
  },
  {
   "cell_type": "code",
   "execution_count": null,
   "id": "765f7802",
   "metadata": {},
   "outputs": [],
   "source": []
  }
 ],
 "metadata": {
  "kernelspec": {
   "display_name": "Python 3 (ipykernel)",
   "language": "python",
   "name": "python3"
  },
  "language_info": {
   "codemirror_mode": {
    "name": "ipython",
    "version": 3
   },
   "file_extension": ".py",
   "mimetype": "text/x-python",
   "name": "python",
   "nbconvert_exporter": "python",
   "pygments_lexer": "ipython3",
   "version": "3.10.12"
  }
 },
 "nbformat": 4,
 "nbformat_minor": 5
}
