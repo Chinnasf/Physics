{
 "cells": [
  {
   "cell_type": "code",
   "execution_count": 1,
   "id": "0ef5c155",
   "metadata": {},
   "outputs": [],
   "source": [
    "import numpy as np\n",
    "import pandas as pd\n",
    "import matplotlib.pyplot as plt\n",
    "import seaborn as sns\n",
    "sns.set(style='ticks')\n",
    "\n",
    "import re\n",
    "import os"
   ]
  },
  {
   "cell_type": "code",
   "execution_count": 2,
   "id": "e425ca3b",
   "metadata": {},
   "outputs": [
    {
     "name": "stdout",
     "output_type": "stream",
     "text": [
      "carbon_bed_dreiding.mol\t\t  from_lammps_to_mol.ipynb\r\n",
      "carbon_bed_PARMS_DREIDING.lammps\r\n"
     ]
    }
   ],
   "source": [
    "! ls"
   ]
  },
  {
   "cell_type": "code",
   "execution_count": 3,
   "id": "f45c09cc",
   "metadata": {},
   "outputs": [],
   "source": [
    "with open(\"carbon_bed_PARMS_DREIDING.lammps\", \"r\") as file:\n",
    "    file_content = file.readlines()\n",
    "# Create a DataFrame with each line as a separate row in a single column\n",
    "data = pd.DataFrame(file_content, columns=['data'])    "
   ]
  },
  {
   "cell_type": "code",
   "execution_count": 4,
   "id": "982abd01",
   "metadata": {},
   "outputs": [],
   "source": [
    "slices = {\n",
    "    \"coords\":(25,2724),        # 2700\n",
    "    \"bonds\":(2728,6612),       # 3885\n",
    "    \"angles\":(6616,14065),     # 7450\n",
    "    \"dihedrals\":(14069,28423), # 14355\n",
    "}"
   ]
  },
  {
   "cell_type": "code",
   "execution_count": 5,
   "id": "2cf73e6e",
   "metadata": {},
   "outputs": [],
   "source": [
    "def get_coords(slices):\n",
    "    coords = data.loc[slices[0]:slices[1]].copy().reset_index(drop=True)\n",
    "    coords[\"data\"] = coords[\"data\"].str.split('\\s').apply(lambda x: list(filter(None, x)))\n",
    "    coords[\"atom id\"] = coords[\"data\"].apply(lambda x: x[0]).astype(int)\n",
    "    coords[\"molecule id\"] = coords[\"data\"].apply(lambda x: x[1]).astype(int)\n",
    "    coords[\"atom type\"] = coords[\"data\"].apply(lambda x: x[2]).astype(int)\n",
    "    coords[\"charge\"] = coords[\"data\"].apply(lambda x: x[3]).astype(float)\n",
    "    coords[\"x\"] = coords[\"data\"].apply(lambda x: x[4]).astype(float)\n",
    "    coords[\"y\"] = coords[\"data\"].apply(lambda x: x[5]).astype(float)\n",
    "    coords[\"z\"] = coords[\"data\"].apply(lambda x: x[6]).astype(float)\n",
    "    return coords\n",
    "\n",
    "coords = get_coords(slices[\"coords\"])\n",
    "\n",
    "def get_bonds(slices):\n",
    "    bonds = data.loc[slices[0]:slices[1]].copy().reset_index(drop=True)\n",
    "    bonds[\"data\"] = bonds[\"data\"].str.split('\\s').apply(lambda x: list(filter(None, x)))\n",
    "    bonds[\"bond id\"] = bonds[\"data\"].apply(lambda x: x[0]).astype(int)\n",
    "    bonds[\"bond type\"] = bonds[\"data\"].apply(lambda x: x[1]).astype(int)\n",
    "    bonds[\"atom1\"] = bonds[\"data\"].apply(lambda x: x[2]).astype(int)\n",
    "    bonds[\"atom2\"] = bonds[\"data\"].apply(lambda x: x[3]).astype(int)\n",
    "    return bonds\n",
    "\n",
    "bonds = get_bonds(slices[\"bonds\"])\n",
    "\n",
    "\n",
    "def get_angles(slices):\n",
    "    angles = data.loc[slices[0]:slices[1]].copy().reset_index(drop=True)\n",
    "    angles[\"data\"] = angles[\"data\"].str.split('\\s').apply(lambda x: list(filter(None, x)))\n",
    "    angles[\"angle id\"] = angles[\"data\"].apply(lambda x: x[0]).astype(int)\n",
    "    angles[\"angle type\"] = angles[\"data\"].apply(lambda x: x[1]).astype(int)\n",
    "    angles[\"atom1\"] = angles[\"data\"].apply(lambda x: x[2]).astype(int)\n",
    "    angles[\"atom2\"] = angles[\"data\"].apply(lambda x: x[3]).astype(int)\n",
    "    angles[\"atom3\"] = angles[\"data\"].apply(lambda x: x[4]).astype(int)\n",
    "    return angles\n",
    "\n",
    "angles = get_angles(slices[\"angles\"])\n",
    "\n",
    "def get_dihedrals(slices):\n",
    "    dihedrals = data.loc[slices[0]:slices[1]].copy().reset_index(drop=True)\n",
    "    dihedrals[\"data\"] = dihedrals[\"data\"].str.split('\\s').apply(lambda x: list(filter(None, x)))\n",
    "    dihedrals[\"dihedral id\"] = dihedrals[\"data\"].apply(lambda x: x[0]).astype(int)\n",
    "    dihedrals[\"dihedral type\"] = dihedrals[\"data\"].apply(lambda x: x[1]).astype(int)\n",
    "    dihedrals[\"atom1\"] = dihedrals[\"data\"].apply(lambda x: x[2]).astype(int)\n",
    "    dihedrals[\"atom2\"] = dihedrals[\"data\"].apply(lambda x: x[3]).astype(int)\n",
    "    dihedrals[\"atom3\"] = dihedrals[\"data\"].apply(lambda x: x[4]).astype(int)\n",
    "    dihedrals[\"atom4\"] = dihedrals[\"data\"].apply(lambda x: x[5]).astype(int)\n",
    "    return dihedrals\n",
    "\n",
    "dihedrals = get_dihedrals(slices[\"dihedrals\"])"
   ]
  },
  {
   "cell_type": "code",
   "execution_count": 6,
   "id": "b6f766c1",
   "metadata": {},
   "outputs": [],
   "source": [
    "def write_mol_file():\n",
    "    f = open(\"carbon_bed_dreiding.mol\", \"w\")\n",
    "    f.write(\"# Created by Karina Chiñas Fuentes | Python | 17.08.24\\n\\n\")\n",
    "    f.write(f\"\\n{len(coords)} atoms\\n{len(bonds)} bonds\\n{len(angles)} angles\\n{len(dihedrals)} dihedrals\")\n",
    "    f.write(\"\\n\\n\")\n",
    "    f.write(\"Coords\\n\\n\")\n",
    "    for i in range(len(coords)):\n",
    "        f.write(f\"{coords['atom id'][i]}\\t{coords['x'][i]}\\t{coords['y'][i]}\\t{coords['z'][i]}\\n\")\n",
    "    f.write(\"\\nTypes\\n\\n\")\n",
    "    for i in range(len(coords)):\n",
    "        f.write(f\"{coords['atom id'][i]}\\t{coords['atom type'][i]}\\n\")\n",
    "    f.write(\"\\nCharges\\n\\n\")\n",
    "    for i in range(len(coords)):\n",
    "        f.write(f\"{coords['atom id'][i]}\\t{coords['charge'][i]}\\n\")\n",
    "    f.write(\"\\nBonds\\n\\n\")\n",
    "    for i in range(len(bonds)):\n",
    "        f.write(f\"{bonds['bond id'][i]}\\t{bonds['bond type'][i]}\\t\"+\n",
    "                f\"{bonds['atom1'][i]}\\t{bonds['atom2'][i]}\\n\")\n",
    "    f.write(\"\\nAngles\\n\\n\")\n",
    "    for i in range(len(angles)):\n",
    "        f.write(f\"{angles['angle id'][i]}\\t{angles['angle type'][i]}\\t\"+\n",
    "                f\"{angles['atom1'][i]}\\t{angles['atom2'][i]}\\t{angles['atom3'][i]}\\n\")\n",
    "    f.write(\"\\nDihedrals\\n\\n\")\n",
    "    for i in range(len(dihedrals)):\n",
    "        f.write(f\"{dihedrals['dihedral id'][i]}\\t{dihedrals['dihedral type'][i]}\\t{dihedrals['atom1'][i]}\\t\"+\n",
    "                f\"{dihedrals['atom2'][i]}\\t{dihedrals['atom3'][i]}\\t{dihedrals['atom4'][i]}\\n\")"
   ]
  },
  {
   "cell_type": "code",
   "execution_count": 7,
   "id": "3d88c26e",
   "metadata": {},
   "outputs": [],
   "source": [
    "#write_mol_file()"
   ]
  },
  {
   "cell_type": "code",
   "execution_count": null,
   "id": "49269f2b",
   "metadata": {},
   "outputs": [],
   "source": [
    "#! code carbon_bed_dreiding.mol"
   ]
  },
  {
   "cell_type": "code",
   "execution_count": null,
   "id": "79300c8f",
   "metadata": {},
   "outputs": [],
   "source": []
  }
 ],
 "metadata": {
  "kernelspec": {
   "display_name": "Python 3 (ipykernel)",
   "language": "python",
   "name": "python3"
  },
  "language_info": {
   "codemirror_mode": {
    "name": "ipython",
    "version": 3
   },
   "file_extension": ".py",
   "mimetype": "text/x-python",
   "name": "python",
   "nbconvert_exporter": "python",
   "pygments_lexer": "ipython3",
   "version": "3.10.12"
  }
 },
 "nbformat": 4,
 "nbformat_minor": 5
}
