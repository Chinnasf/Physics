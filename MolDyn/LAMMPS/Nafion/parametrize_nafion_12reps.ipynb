{
 "cells": [
  {
   "cell_type": "code",
   "execution_count": 1,
   "id": "3e267bcd-1a04-4a25-b935-14be29475b87",
   "metadata": {},
   "outputs": [],
   "source": [
    "import numpy as np\n",
    "import pandas as pd\n",
    "import matplotlib.pyplot as plt\n",
    "import seaborn as sns\n",
    "\n",
    "import re\n",
    "import os\n",
    "\n",
    "sns.set(style='ticks')\n",
    "from MATSQdataPros import *"
   ]
  },
  {
   "cell_type": "markdown",
   "id": "6fe4a08e-ca56-4c9a-a62f-d9d11cb09960",
   "metadata": {},
   "source": [
    "<div style=\"text-align: center;\">\n",
    "    <img src=\"model.png\" alt=\"model\" width=\"550\"/>\n",
    "</div>"
   ]
  },
  {
   "cell_type": "code",
   "execution_count": 2,
   "id": "f8edce01-231a-4db8-8e0a-d024696e0e65",
   "metadata": {},
   "outputs": [
    {
     "name": "stdout",
     "output_type": "stream",
     "text": [
      " ATB\t\t\t\t\t      'Other Chains'\r\n",
      " FF_parms.png\t\t\t\t       parametrization.py\r\n",
      " fixed_data_MATSQ.lammps\t\t       parametrize_nafion_12reps.ipynb\r\n",
      "'generate LAMMPS files for C23HF47O5S.ipynb'   polymer_12reps.mol2\r\n",
      " IONOMER_12reps_MODIFIED_DREIDING_.mol\t       polymer_12reps.pdb\r\n",
      " IONOMER3_.mol\t\t\t\t       polymer_12_reps_weird_naming.pdb\r\n",
      " ionomer_parms.lammps\t\t\t       polymer_3reps.mol\r\n",
      " MATSQdataPros.py\t\t\t       __pycache__\r\n",
      " model.png\t\t\t\t       REPS\r\n",
      " NAFION_3repsPOLYMER.data\r\n"
     ]
    }
   ],
   "source": [
    "! ls"
   ]
  },
  {
   "cell_type": "code",
   "execution_count": 3,
   "id": "ddb08ec0-315f-4fab-b8b6-6c6bcb47745b",
   "metadata": {},
   "outputs": [],
   "source": [
    "file_ = \"fixed_data_MATSQ.lammps\""
   ]
  },
  {
   "cell_type": "code",
   "execution_count": 4,
   "id": "3f7e1b19-902f-4f54-99b6-5ad5d53a8489",
   "metadata": {},
   "outputs": [],
   "source": [
    "structure = get_structure(get_file(file_), [88,923])\n",
    "structure[\"charge\"] = [0.0]*len(structure)\n",
    "\n",
    "bonds = get_bonds(get_file(file_),[1766,2601])\n",
    "angles = get_angles(get_file(file_),[2604,4236])\n",
    "dihedrals = get_dihedrals(get_file(file_),[4239,-1])"
   ]
  },
  {
   "cell_type": "markdown",
   "id": "3a95198e-5784-4b7f-a1e9-83638d94cc8f",
   "metadata": {},
   "source": [
    "#### Voy a cambiar las cargas conforme el bonding de las particulas, ya que no hay orden en el nombramiento del main chain."
   ]
  },
  {
   "cell_type": "code",
   "execution_count": 5,
   "id": "40aeebb0-f164-4c8e-9fa5-d53bc95d8110",
   "metadata": {},
   "outputs": [],
   "source": [
    "F = structure[structure[\"dreiding elemts\"].isin([\"F_\"])][\"atom id\"]"
   ]
  },
  {
   "cell_type": "code",
   "execution_count": 6,
   "id": "5d0b832f-7a07-49a3-9160-67ad0c088b4f",
   "metadata": {},
   "outputs": [],
   "source": [
    "S   = structure[structure[\"dreiding elemts\"].isin([\"S_3\"])][\"atom id\"]\n",
    "H   = structure[structure[\"dreiding elemts\"].isin([\"H\"])][\"atom id\"]\n",
    "O_2 = structure[structure[\"dreiding elemts\"].isin([\"O_2\"])][\"atom id\"]\n",
    "O_3 = structure[structure[\"dreiding elemts\"].isin([\"O_3\"])][\"atom id\"]\n",
    "O_H = bonds[bonds[\"atom2\"].isin(H.values)][\"atom1\"].values # O bonded to H and S (single bond)\n",
    "\n",
    "# Not so simple | side chain\n",
    "C_3216 = bonds[bonds[\"atom2\"].isin(S.values)]\n",
    "C_3216 = C_3216[~C_3216[\"atom1\"].isin(list(O_2.values) + list(O_3.values))][\"atom1\"].values\n",
    "\n",
    "F_3278 = bonds[bonds[\"atom2\"].isin(C_3216)]\n",
    "C_3218 = F_3278[~F_3278[\"atom1\"].isin(F.values)][\"atom1\"].values\n",
    "F_3278 = F_3278[F_3278[\"atom1\"].isin(F.values)][\"atom1\"].values\n",
    "\n",
    "O_2604 = bonds[bonds[\"atom1\"].isin(C_3218)]\n",
    "O_2604 = O_2604[O_2604[\"atom2\"].isin(O_3)][\"atom2\"].values\n",
    "F_1662 = bonds[bonds[\"atom2\"].isin(C_3218)]\n",
    "F_1662 = F_1662[F_1662[\"atom1\"].isin(F)][\"atom1\"].values\n",
    "\n",
    "C_4010 = bonds[bonds[\"atom2\"].isin(O_2604)]\n",
    "C_4010 = C_4010[~C_4010[\"atom1\"].isin(C_3218)][\"atom1\"].values\n",
    "\n",
    "F_1913 = bonds[bonds[\"atom2\"].isin(C_4010)]\n",
    "F_1913 = F_1913[F_1913[\"atom1\"].isin(F)][\"atom1\"].values\n",
    "C_4947 = bonds[bonds[\"atom1\"].isin(C_4010)]\n",
    "C_4947 = C_4947[~C_4947[\"atom2\"].isin(O_3)][\"atom2\"].values\n",
    "C_3228 = bonds[bonds[\"atom2\"].isin(C_4010)]\n",
    "C_3228 = C_3228[~C_3228[\"atom1\"].isin(F_1913)][\"atom1\"].values\n",
    "\n",
    "F_1649 = bonds[bonds[\"atom2\"].isin(C_4947)]\n",
    "F_1649 = F_1649[F_1649[\"atom1\"].isin(F)][\"atom1\"].values\n",
    "\n",
    "F_1637 = bonds[bonds[\"atom2\"].isin(C_3228)]\n",
    "F_1637 = F_1637[F_1637[\"atom1\"].isin(F)][\"atom1\"].values\n",
    "\n",
    "# Main chain\n",
    "\n",
    "F_sidechain = list(F_3278) + list(F_1662) + list(F_1913) + list(F_1649) + list(F_1637)\n",
    "F_mainchain = structure[structure[\"atom id\"].isin(F)]\n",
    "F_mainchain = F_mainchain[~F_mainchain[\"atom id\"].isin(F_sidechain)][\"atom id\"].values\n",
    "\n",
    "C_ends = [499,732] # [close to rep-7, close to side chain] "
   ]
  },
  {
   "cell_type": "code",
   "execution_count": 7,
   "id": "3ee170c6-1263-4ff3-9941-3b2f2b6616a4",
   "metadata": {},
   "outputs": [],
   "source": [
    "# Fix charges\n",
    "structure.loc[S.index, \"charge\"]   = 1.4124\n",
    "structure.loc[O_2.index, \"charge\"] = -0.6320\n",
    "structure.loc[structure[structure[\"atom id\"].isin(O_H)].index, \"charge\"]    = -0.6320\n",
    "structure.loc[structure[structure[\"atom id\"].isin(C_3216)].index, \"charge\"] =  0.3216\n",
    "structure.loc[structure[structure[\"atom id\"].isin(C_3218)].index, \"charge\"] =  0.3218\n",
    "structure.loc[structure[structure[\"atom id\"].isin(F_3278)].index, \"charge\"] = -0.3278\n",
    "structure.loc[structure[structure[\"atom id\"].isin(O_2604)].index, \"charge\"] = -0.2604\n",
    "structure.loc[structure[structure[\"atom id\"].isin(F_1662)].index, \"charge\"] = -0.1662\n",
    "structure.loc[structure[structure[\"atom id\"].isin(C_4010)].index, \"charge\"] =  0.4010\n",
    "structure.loc[structure[structure[\"atom id\"].isin(F_1913)].index, \"charge\"] = -0.1913\n",
    "structure.loc[structure[structure[\"atom id\"].isin(C_4947)].index, \"charge\"] =  0.4947\n",
    "structure.loc[structure[structure[\"atom id\"].isin(C_3228)].index, \"charge\"] =  0.3228\n",
    "structure.loc[structure[structure[\"atom id\"].isin(F_1649)].index, \"charge\"] = -0.1649\n",
    "structure.loc[structure[structure[\"atom id\"].isin(F_1637)].index, \"charge\"] = -0.1637\n",
    "structure.loc[structure[structure[\"atom id\"].isin(C_ends)].index, \"charge\"] =  0.5769\n",
    "\n",
    "# There is only one F that doesn't have this value,  to be fixed later\n",
    "structure.loc[structure[structure[\"atom id\"].isin(F_mainchain)].index, \"charge\"] = -0.1923\n",
    "structure.loc[structure[structure[\"atom id\"].isin(C_ends)].index, \"charge\"] = 0.5769\n",
    "\n",
    "# WARNING: only run once\n",
    "O_2742 = structure[(structure[\"dreiding elemts\"].isin([\"O_3\"])) & (structure[\"charge\"]==0.0)][\"atom id\"].values\n",
    "structure.loc[structure[structure[\"atom id\"].isin(O_2742)].index, \"charge\"] = -0.2742\n",
    "\n",
    "C_3218 = bonds[bonds[\"atom2\"].isin(O_2742)]\n",
    "C_3218 = C_3218[~C_3218[\"atom1\"].isin(C_3228)][\"atom1\"].values\n",
    "structure.loc[structure[structure[\"atom id\"].isin(C_3218)].index, \"charge\"] = 0.3218\n",
    "\n",
    "F_1641 = bonds[bonds[\"atom2\"].isin(C_3218)]\n",
    "F_1641 = F_1641[F_1641[\"atom1\"].isin(F)][\"atom1\"].values\n",
    "structure.loc[structure[structure[\"atom id\"].isin(F_1641)].index, \"charge\"] = -0.1641\n",
    "\n",
    "C_mainchain = structure[\n",
    "    (structure[\"charge\"] == 0.0) & (structure[\"dreiding elemts\"].isin([\"C_3\"]))\n",
    "][\"atom id\"].values\n",
    "structure.loc[structure[structure[\"atom id\"].isin(C_mainchain)].index, \"charge\"] =  0.3846"
   ]
  },
  {
   "cell_type": "code",
   "execution_count": 8,
   "id": "ab7aec16",
   "metadata": {},
   "outputs": [
    {
     "data": {
      "text/plain": [
       "-11.999999999999986"
      ]
     },
     "execution_count": 8,
     "metadata": {},
     "output_type": "execute_result"
    }
   ],
   "source": [
    "structure[\"charge\"].sum()"
   ]
  },
  {
   "cell_type": "markdown",
   "id": "902c3802",
   "metadata": {},
   "source": [
    "## FIX THE STRUCTURE (remove H)"
   ]
  },
  {
   "cell_type": "code",
   "execution_count": 9,
   "id": "5a076645",
   "metadata": {},
   "outputs": [
    {
     "data": {
      "text/plain": [
       "824"
      ]
     },
     "execution_count": 9,
     "metadata": {},
     "output_type": "execute_result"
    }
   ],
   "source": [
    "len(structure) - 12"
   ]
  },
  {
   "cell_type": "code",
   "execution_count": 10,
   "id": "510584e6",
   "metadata": {},
   "outputs": [
    {
     "data": {
      "text/plain": [
       "824"
      ]
     },
     "execution_count": 10,
     "metadata": {},
     "output_type": "execute_result"
    }
   ],
   "source": [
    "structure = structure[~structure[\"atom id\"].isin(H)]\n",
    "len(structure)"
   ]
  },
  {
   "cell_type": "code",
   "execution_count": 11,
   "id": "660f91a6",
   "metadata": {},
   "outputs": [
    {
     "data": {
      "text/plain": [
       "823"
      ]
     },
     "execution_count": 11,
     "metadata": {},
     "output_type": "execute_result"
    }
   ],
   "source": [
    "len(bonds) - 12"
   ]
  },
  {
   "cell_type": "code",
   "execution_count": 12,
   "id": "88fc49a9",
   "metadata": {},
   "outputs": [
    {
     "data": {
      "text/plain": [
       "823"
      ]
     },
     "execution_count": 12,
     "metadata": {},
     "output_type": "execute_result"
    }
   ],
   "source": [
    "bonds = bonds[~bonds[\"atom2\"].isin(H)]\n",
    "bonds = bonds.reset_index(drop=True)\n",
    "bonds.loc[bonds.index, \"bond id\"] = list(range(1,len(bonds)+1))\n",
    "len(bonds)"
   ]
  },
  {
   "cell_type": "code",
   "execution_count": 13,
   "id": "961ba3a3",
   "metadata": {},
   "outputs": [
    {
     "data": {
      "text/plain": [
       "1620"
      ]
     },
     "execution_count": 13,
     "metadata": {},
     "output_type": "execute_result"
    }
   ],
   "source": [
    "len(angles) - 12"
   ]
  },
  {
   "cell_type": "code",
   "execution_count": 14,
   "id": "61a22212",
   "metadata": {},
   "outputs": [
    {
     "data": {
      "text/plain": [
       "1620"
      ]
     },
     "execution_count": 14,
     "metadata": {},
     "output_type": "execute_result"
    }
   ],
   "source": [
    "angles = angles[~angles[\"atom1\"].isin(H)]\n",
    "angles = angles.reset_index(drop=True)\n",
    "angles.loc[angles.index, \"angle id\"] = list(range(1,len(angles)+1))\n",
    "len(angles)"
   ]
  },
  {
   "cell_type": "code",
   "execution_count": 15,
   "id": "482f1db3",
   "metadata": {},
   "outputs": [
    {
     "data": {
      "text/plain": [
       "2312"
      ]
     },
     "execution_count": 15,
     "metadata": {},
     "output_type": "execute_result"
    }
   ],
   "source": [
    "len(dihedrals) - 3*12"
   ]
  },
  {
   "cell_type": "code",
   "execution_count": 16,
   "id": "2c94a9ab",
   "metadata": {},
   "outputs": [
    {
     "data": {
      "text/plain": [
       "2312"
      ]
     },
     "execution_count": 16,
     "metadata": {},
     "output_type": "execute_result"
    }
   ],
   "source": [
    "dihedrals = dihedrals[~dihedrals[\"atom1\"].isin(H)]\n",
    "dihedrals = dihedrals.reset_index(drop=True)\n",
    "dihedrals.loc[dihedrals.index, \"dihedral id\"] = list(range(1,len(dihedrals)+1))\n",
    "len(dihedrals)"
   ]
  },
  {
   "cell_type": "markdown",
   "id": "0a28127c",
   "metadata": {},
   "source": [
    "## FIX FF PARAMETERS\n",
    "\n",
    "[DREIDING Force Field](https://pubs.acs.org/doi/abs/10.1021/j100389a010)\n"
   ]
  },
  {
   "cell_type": "markdown",
   "id": "692b838e",
   "metadata": {},
   "source": [
    "<div style=\"text-align: center;\">\n",
    "    <img src=\"FF_parms.png\" alt=\"FF_parms\" width=\"800\"/>\n",
    "</div>"
   ]
  },
  {
   "cell_type": "code",
   "execution_count": 17,
   "id": "e896b869",
   "metadata": {},
   "outputs": [],
   "source": [
    "CB = list(C_ends) + list(C_mainchain) + list(C_3218)\n",
    "C  = structure[structure[\"dreiding elemts\"].isin([\"C_3\"])]\n",
    "C  = list(C[~C[\"atom id\"].isin(CB)][\"atom id\"].values)\n",
    "O  = list(structure[structure[\"dreiding elemts\"].isin([\"O_3\", \"O_2\"])][\"atom id\"].values)\n",
    "S  = list(S.values)\n",
    "F  = list(F.values)"
   ]
  },
  {
   "cell_type": "code",
   "execution_count": 18,
   "id": "f349647d",
   "metadata": {},
   "outputs": [],
   "source": [
    "MODEL_structure = structure[[\"atom id\",\"charge\",\"x\",\"y\",\"z\"]].reset_index(drop=True).copy()"
   ]
  },
  {
   "cell_type": "code",
   "execution_count": 19,
   "id": "513e0835",
   "metadata": {},
   "outputs": [],
   "source": [
    "dct_types = dict(zip( CB + C + F + O + S , [1]*len(CB) + [2]*len(C) + [3]*len(F) + [4]*len(O) + [5]*len(S) ))"
   ]
  },
  {
   "cell_type": "code",
   "execution_count": 20,
   "id": "08136398",
   "metadata": {},
   "outputs": [],
   "source": [
    "MODEL_structure[\"type\"] = MODEL_structure[\"atom id\"].map(dct_types)"
   ]
  },
  {
   "cell_type": "code",
   "execution_count": 21,
   "id": "c894d67a",
   "metadata": {},
   "outputs": [],
   "source": [
    "MODEL_bonds = bonds[[\"bond id\",\"atom1\",\"atom2\"]].copy()\n",
    "MODEL_bonds[\"X-X\"] = (\n",
    "    MODEL_bonds[\"atom1\"].map(dct_types).astype(str) + \"-\" + \n",
    "    MODEL_bonds[\"atom2\"].map(dct_types).astype(str)\n",
    ")"
   ]
  },
  {
   "cell_type": "code",
   "execution_count": 22,
   "id": "e190d102",
   "metadata": {},
   "outputs": [],
   "source": [
    "\"\"\"\n",
    "'In DREIDING we set all energy parameters for single bonds to K=700 (kcal/mol/)A^2' \n",
    "R_0(ij) = R_i + R_j - δ; with δ = 0.01 [A]\n",
    "\n",
    "350.000000      1.371000    # F_ C_3  (7)\n",
    "350.000000      1.530000    # C_3 C_3 (8)\n",
    "350.000000      1.420000    # C_3 O_3 (9)\n",
    "\"\"\";\n",
    "\n",
    "dct_bond_type = {\"1-1\":1,\n",
    "                 \"1-2\":2,\"2-1\":2,\n",
    "                 \"2-3\":3,\"3-2\":3,\n",
    "                 \"2-4\":4,\"4-2\":4,\n",
    "                 \"2-5\":5,\"5-2\":5,\n",
    "                 \"5-4\":6,\"4-5\":6,\n",
    "                 \"3-1\":7,\"1-3\":7,\n",
    "                 \"2-2\":8,\n",
    "                 \"1-4\":9\n",
    "                }"
   ]
  },
  {
   "cell_type": "code",
   "execution_count": 23,
   "id": "0bd25536",
   "metadata": {},
   "outputs": [],
   "source": [
    "# The ones not shown in the reference paper are kept as they are DREIDING model\n",
    "MODEL_bonds[\"bond type\"] = MODEL_bonds[\"X-X\"].map(dct_bond_type).astype(int)"
   ]
  },
  {
   "cell_type": "code",
   "execution_count": 24,
   "id": "f10e42e1",
   "metadata": {},
   "outputs": [],
   "source": [
    "MODEL_angles = angles[[\"angle id\",\"atom1\",\"atom2\",\"atom3\"]].copy()\n",
    "MODEL_angles[\"X-X-X\"] = (\n",
    "    MODEL_angles[\"atom1\"].map(dct_types).astype(str) + \"-\" +\n",
    "    MODEL_angles[\"atom2\"].map(dct_types).astype(str) + \"-\" +\n",
    "    MODEL_angles[\"atom3\"].map(dct_types).astype(str) \n",
    ")"
   ]
  },
  {
   "cell_type": "code",
   "execution_count": 25,
   "id": "eb89445e",
   "metadata": {},
   "outputs": [
    {
     "data": {
      "text/plain": [
       "array(['3-2-3', '3-2-2', '3-2-4', '2-2-4', '3-2-5', '2-2-5', '2-4-2',\n",
       "       '3-1-3', '3-1-1', '1-1-1', '2-2-2', '2-5-4', '4-5-4', '3-1-4',\n",
       "       '1-1-4', '1-4-2'], dtype=object)"
      ]
     },
     "execution_count": 25,
     "metadata": {},
     "output_type": "execute_result"
    }
   ],
   "source": [
    "MODEL_angles[\"X-X-X\"].unique()"
   ]
  },
  {
   "cell_type": "code",
   "execution_count": 26,
   "id": "8a27a9ae",
   "metadata": {},
   "outputs": [
    {
     "data": {
      "text/html": [
       "<div>\n",
       "<style scoped>\n",
       "    .dataframe tbody tr th:only-of-type {\n",
       "        vertical-align: middle;\n",
       "    }\n",
       "\n",
       "    .dataframe tbody tr th {\n",
       "        vertical-align: top;\n",
       "    }\n",
       "\n",
       "    .dataframe thead th {\n",
       "        text-align: right;\n",
       "    }\n",
       "</style>\n",
       "<table border=\"1\" class=\"dataframe\">\n",
       "  <thead>\n",
       "    <tr style=\"text-align: right;\">\n",
       "      <th></th>\n",
       "      <th>data</th>\n",
       "      <th>atom id</th>\n",
       "      <th>molecule id</th>\n",
       "      <th>atom type</th>\n",
       "      <th>MATSQ charge</th>\n",
       "      <th>x</th>\n",
       "      <th>y</th>\n",
       "      <th>z</th>\n",
       "      <th>dreiding elemts</th>\n",
       "      <th>charge</th>\n",
       "    </tr>\n",
       "  </thead>\n",
       "  <tbody>\n",
       "    <tr>\n",
       "      <th>752</th>\n",
       "      <td>[753, 1, 3, -0.24706, 99.776, 35.661, 33.163, ...</td>\n",
       "      <td>753</td>\n",
       "      <td>1</td>\n",
       "      <td>3</td>\n",
       "      <td>-0.24706</td>\n",
       "      <td>99.776</td>\n",
       "      <td>35.661</td>\n",
       "      <td>33.163</td>\n",
       "      <td>O_3</td>\n",
       "      <td>-0.2742</td>\n",
       "    </tr>\n",
       "    <tr>\n",
       "      <th>753</th>\n",
       "      <td>[754, 1, 3, -0.24706, 57.296, 18.907, 22.364, ...</td>\n",
       "      <td>754</td>\n",
       "      <td>1</td>\n",
       "      <td>3</td>\n",
       "      <td>-0.24706</td>\n",
       "      <td>57.296</td>\n",
       "      <td>18.907</td>\n",
       "      <td>22.364</td>\n",
       "      <td>O_3</td>\n",
       "      <td>-0.2742</td>\n",
       "    </tr>\n",
       "    <tr>\n",
       "      <th>754</th>\n",
       "      <td>[755, 1, 3, -0.24706, 36.096, 22.364, 36.069, ...</td>\n",
       "      <td>755</td>\n",
       "      <td>1</td>\n",
       "      <td>3</td>\n",
       "      <td>-0.24706</td>\n",
       "      <td>36.096</td>\n",
       "      <td>22.364</td>\n",
       "      <td>36.069</td>\n",
       "      <td>O_3</td>\n",
       "      <td>-0.2742</td>\n",
       "    </tr>\n",
       "    <tr>\n",
       "      <th>755</th>\n",
       "      <td>[756, 1, 3, -0.24706, 78.576, 32.204, 19.458, ...</td>\n",
       "      <td>756</td>\n",
       "      <td>1</td>\n",
       "      <td>3</td>\n",
       "      <td>-0.24706</td>\n",
       "      <td>78.576</td>\n",
       "      <td>32.204</td>\n",
       "      <td>19.458</td>\n",
       "      <td>O_3</td>\n",
       "      <td>-0.2742</td>\n",
       "    </tr>\n",
       "    <tr>\n",
       "      <th>772</th>\n",
       "      <td>[773, 1, 3, -0.24706, 72.407, 40.063, 21.166, ...</td>\n",
       "      <td>773</td>\n",
       "      <td>1</td>\n",
       "      <td>3</td>\n",
       "      <td>-0.24706</td>\n",
       "      <td>72.407</td>\n",
       "      <td>40.063</td>\n",
       "      <td>21.166</td>\n",
       "      <td>O_3</td>\n",
       "      <td>-0.2742</td>\n",
       "    </tr>\n",
       "    <tr>\n",
       "      <th>773</th>\n",
       "      <td>[774, 1, 3, -0.24706, 93.607, 33.953, 41.022, ...</td>\n",
       "      <td>774</td>\n",
       "      <td>1</td>\n",
       "      <td>3</td>\n",
       "      <td>-0.24706</td>\n",
       "      <td>93.607</td>\n",
       "      <td>33.953</td>\n",
       "      <td>41.022</td>\n",
       "      <td>O_3</td>\n",
       "      <td>-0.2742</td>\n",
       "    </tr>\n",
       "    <tr>\n",
       "      <th>774</th>\n",
       "      <td>[775, 1, 3, -0.24706, 29.927, 14.505, 34.361, ...</td>\n",
       "      <td>775</td>\n",
       "      <td>1</td>\n",
       "      <td>3</td>\n",
       "      <td>-0.24706</td>\n",
       "      <td>29.927</td>\n",
       "      <td>14.505</td>\n",
       "      <td>34.361</td>\n",
       "      <td>O_3</td>\n",
       "      <td>-0.2742</td>\n",
       "    </tr>\n",
       "    <tr>\n",
       "      <th>775</th>\n",
       "      <td>[776, 1, 3, -0.24706, 51.126, 20.615, 14.505, ...</td>\n",
       "      <td>776</td>\n",
       "      <td>1</td>\n",
       "      <td>3</td>\n",
       "      <td>-0.24706</td>\n",
       "      <td>51.126</td>\n",
       "      <td>20.615</td>\n",
       "      <td>14.505</td>\n",
       "      <td>O_3</td>\n",
       "      <td>-0.2742</td>\n",
       "    </tr>\n",
       "    <tr>\n",
       "      <th>792</th>\n",
       "      <td>[793, 1, 3, -0.24706, 36.662, 19.834, 20.381, ...</td>\n",
       "      <td>793</td>\n",
       "      <td>1</td>\n",
       "      <td>3</td>\n",
       "      <td>-0.24706</td>\n",
       "      <td>36.662</td>\n",
       "      <td>19.834</td>\n",
       "      <td>20.381</td>\n",
       "      <td>O_3</td>\n",
       "      <td>-0.2742</td>\n",
       "    </tr>\n",
       "    <tr>\n",
       "      <th>793</th>\n",
       "      <td>[794, 1, 3, -0.24692, 15.463, 20.381, 35.142, ...</td>\n",
       "      <td>794</td>\n",
       "      <td>1</td>\n",
       "      <td>3</td>\n",
       "      <td>-0.24692</td>\n",
       "      <td>15.463</td>\n",
       "      <td>20.381</td>\n",
       "      <td>35.142</td>\n",
       "      <td>O_3</td>\n",
       "      <td>-0.2742</td>\n",
       "    </tr>\n",
       "    <tr>\n",
       "      <th>794</th>\n",
       "      <td>[795, 1, 3, -0.24706, 79.142, 34.734, 35.146, ...</td>\n",
       "      <td>795</td>\n",
       "      <td>1</td>\n",
       "      <td>3</td>\n",
       "      <td>-0.24706</td>\n",
       "      <td>79.142</td>\n",
       "      <td>34.734</td>\n",
       "      <td>35.146</td>\n",
       "      <td>O_3</td>\n",
       "      <td>-0.2742</td>\n",
       "    </tr>\n",
       "    <tr>\n",
       "      <th>795</th>\n",
       "      <td>[796, 1, 3, -0.24706, 57.942, 34.187, 20.385, ...</td>\n",
       "      <td>796</td>\n",
       "      <td>1</td>\n",
       "      <td>3</td>\n",
       "      <td>-0.24706</td>\n",
       "      <td>57.942</td>\n",
       "      <td>34.187</td>\n",
       "      <td>20.385</td>\n",
       "      <td>O_3</td>\n",
       "      <td>-0.2742</td>\n",
       "    </tr>\n",
       "  </tbody>\n",
       "</table>\n",
       "</div>"
      ],
      "text/plain": [
       "                                                  data  atom id  molecule id  \\\n",
       "752  [753, 1, 3, -0.24706, 99.776, 35.661, 33.163, ...      753            1   \n",
       "753  [754, 1, 3, -0.24706, 57.296, 18.907, 22.364, ...      754            1   \n",
       "754  [755, 1, 3, -0.24706, 36.096, 22.364, 36.069, ...      755            1   \n",
       "755  [756, 1, 3, -0.24706, 78.576, 32.204, 19.458, ...      756            1   \n",
       "772  [773, 1, 3, -0.24706, 72.407, 40.063, 21.166, ...      773            1   \n",
       "773  [774, 1, 3, -0.24706, 93.607, 33.953, 41.022, ...      774            1   \n",
       "774  [775, 1, 3, -0.24706, 29.927, 14.505, 34.361, ...      775            1   \n",
       "775  [776, 1, 3, -0.24706, 51.126, 20.615, 14.505, ...      776            1   \n",
       "792  [793, 1, 3, -0.24706, 36.662, 19.834, 20.381, ...      793            1   \n",
       "793  [794, 1, 3, -0.24692, 15.463, 20.381, 35.142, ...      794            1   \n",
       "794  [795, 1, 3, -0.24706, 79.142, 34.734, 35.146, ...      795            1   \n",
       "795  [796, 1, 3, -0.24706, 57.942, 34.187, 20.385, ...      796            1   \n",
       "\n",
       "     atom type  MATSQ charge       x       y       z dreiding elemts  charge  \n",
       "752          3      -0.24706  99.776  35.661  33.163             O_3 -0.2742  \n",
       "753          3      -0.24706  57.296  18.907  22.364             O_3 -0.2742  \n",
       "754          3      -0.24706  36.096  22.364  36.069             O_3 -0.2742  \n",
       "755          3      -0.24706  78.576  32.204  19.458             O_3 -0.2742  \n",
       "772          3      -0.24706  72.407  40.063  21.166             O_3 -0.2742  \n",
       "773          3      -0.24706  93.607  33.953  41.022             O_3 -0.2742  \n",
       "774          3      -0.24706  29.927  14.505  34.361             O_3 -0.2742  \n",
       "775          3      -0.24706  51.126  20.615  14.505             O_3 -0.2742  \n",
       "792          3      -0.24706  36.662  19.834  20.381             O_3 -0.2742  \n",
       "793          3      -0.24692  15.463  20.381  35.142             O_3 -0.2742  \n",
       "794          3      -0.24706  79.142  34.734  35.146             O_3 -0.2742  \n",
       "795          3      -0.24706  57.942  34.187  20.385             O_3 -0.2742  "
      ]
     },
     "execution_count": 26,
     "metadata": {},
     "output_type": "execute_result"
    }
   ],
   "source": [
    "atomX = MODEL_angles[MODEL_angles[\"X-X-X\"].isin(['3-1-1'])][\"atom3\"].values\n",
    "structure[structure[\"atom id\"].isin(O_2742)]"
   ]
  },
  {
   "cell_type": "code",
   "execution_count": 27,
   "id": "be8b45e9",
   "metadata": {},
   "outputs": [],
   "source": [
    "\"\"\"\n",
    "The DREIDING FF has the following parameters:\n",
    "50.000000    109.471000    # X C_3 X (happens to be the same as C-C-O(4))\n",
    "50.000000    104.510000    # X O_3 X (not there, so I am adding it.)\n",
    "\"\"\";\n",
    "\n",
    "dct_angle_type = {\"1-1-1\":1,\n",
    "                  \"1-1-3\":2, \"3-1-1\":2,\n",
    "                  \"3-1-3\":3,\n",
    "                  \"2-2-4\":4, \"3-2-3\":4, \"3-2-2\":4, \n",
    "                  \"2-2-2\":4, \"3-1-4\":4, \"1-1-4\":4,\n",
    "                  \"2-4-2\":5,\n",
    "                  \"4-2-3\":6, \"3-2-4\":6,\n",
    "                  \"3-2-5\":7, \"5-2-3\":7,\n",
    "                  \"2-2-5\":8, \"5-2-2\":8,\n",
    "                  \"2-5-4\":9,\n",
    "                  \"4-5-4\":10,\n",
    "                  \"1-4-2\":11\n",
    "                }"
   ]
  },
  {
   "cell_type": "code",
   "execution_count": 28,
   "id": "9de5482f",
   "metadata": {},
   "outputs": [],
   "source": [
    "MODEL_angles[\"angle type\"] = MODEL_angles[\"X-X-X\"].map(dct_angle_type).astype(int)"
   ]
  },
  {
   "cell_type": "code",
   "execution_count": 29,
   "id": "2f86e114",
   "metadata": {},
   "outputs": [
    {
     "data": {
      "text/plain": [
       "[1, 2, 3, 4, 5, 6, 7, 8, 9, 10, 11]"
      ]
     },
     "execution_count": 29,
     "metadata": {},
     "output_type": "execute_result"
    }
   ],
   "source": [
    "sorted(MODEL_angles[\"angle type\"].unique())"
   ]
  },
  {
   "cell_type": "code",
   "execution_count": 30,
   "id": "0747fcbc",
   "metadata": {},
   "outputs": [],
   "source": [
    "MODEL_dihedrals = dihedrals[[\"dihedral id\",\"atom1\",\"atom2\",\"atom3\",\"atom4\"]].copy()"
   ]
  },
  {
   "cell_type": "code",
   "execution_count": 31,
   "id": "851d0d5e",
   "metadata": {},
   "outputs": [],
   "source": [
    "MODEL_dihedrals[\"X-X-X-X\"] = (\n",
    "    MODEL_dihedrals[\"atom1\"].map(dct_types).astype(str) + \"-\" +\n",
    "    MODEL_dihedrals[\"atom2\"].map(dct_types).astype(str) + \"-\" +\n",
    "    MODEL_dihedrals[\"atom3\"].map(dct_types).astype(str) + \"-\" +\n",
    "    MODEL_dihedrals[\"atom4\"].map(dct_types).astype(str) \n",
    ")"
   ]
  },
  {
   "cell_type": "markdown",
   "id": "24221ce0",
   "metadata": {},
   "source": [
    "### DIHEDRAL\n",
    "\n",
    "DREIDING Force Field:\n",
    "\n",
    "$$\n",
    "    E_{\\text{dihedral}} = \\frac{1}{2} V_{J,K} \\left[ 1 - \\cos \\left( n_{J,K}(\\varphi - d)\\right) \\right]\n",
    "$$\n",
    "\n",
    "Notice:\n",
    "\n",
    "$$\n",
    "    E_{\\text{dihedral}} = \\frac{1}{2} V_{J,K} \\left[ 1 + \\cos \\left( n_{J,K}\\varphi\\right) \\right],\\:\\: d=180°\n",
    "$$\n",
    "\n",
    "MODEL's Dihedral:\n",
    "\n",
    "$$\n",
    "    E_{\\text{dihedral}} = \\frac{1}{2} V_{J,K} \\left[ 1 - \\cos \\left( n_{J,K}\\varphi \\right) \\right]\n",
    "$$\n",
    "\n",
    "LAMMPS Harmonic Dihedral:\n",
    "\n",
    "$$\n",
    "    E_{\\text{dihedral}} = V_{J,K} \\left[ 1 + d\\cos \\left( n_{J,K}\\varphi\\right) \\right]\n",
    "$$\n",
    "\n",
    "\n",
    "\n",
    "Which would give the same value as the model with $V^{charm}_{I,J} = \\frac{1}{2}V^{model}_{I,J}$"
   ]
  },
  {
   "cell_type": "markdown",
   "id": "0f0af080",
   "metadata": {},
   "source": [
    "### TAKE NOTE ON HOW THE IONOMER PARAMETRIZATION CAN IMPROVE FOR LATER"
   ]
  },
  {
   "cell_type": "code",
   "execution_count": 32,
   "id": "906a29bd",
   "metadata": {},
   "outputs": [],
   "source": [
    "\"\"\"\n",
    "The DREIDING Force Field states:\n",
    "A dihedral single bond involving two sp3 atoms (J,K = X_3) has\n",
    "    V = 2.0 kcal/mol; n_JK=3; φ_0=180°( or 60°)\n",
    "So,the dihedral parameters:\n",
    "    1.00000    1   3     # X-C_3-C_3-X = X-C_3-O_3-X \n",
    "\"\"\";\n",
    "\n",
    "dct_dieh_type = {\"1-1-1-3\":1, \"1-1-1-4\":1, \"3-1-1-4\":1, \"4-1-1-1\":1, \"4-1-1-3\":1, # \"x-1-1-x\":1\n",
    "                 \"1-1-1-1\":2,\n",
    "                 \"3-1-1-1\":3,\n",
    "                 \"3-1-1-3\":4,\n",
    "                 \"1-1-4-2\":5, \"3-1-4-2\":5, # \"x-1-4-x\": \n",
    "                 \"x-1-5-x\":6, # not recorded by MATSQ | I wonder how bad this is for the simulation.\n",
    "}"
   ]
  },
  {
   "cell_type": "markdown",
   "id": "925a3e5e",
   "metadata": {},
   "source": [
    "## NOTICE `.fillna(7)`"
   ]
  },
  {
   "cell_type": "code",
   "execution_count": 33,
   "id": "4533d2d7",
   "metadata": {},
   "outputs": [],
   "source": [
    "MODEL_dihedrals[\"dihedral type\"] = MODEL_dihedrals[\"X-X-X-X\"].map(dct_dieh_type).fillna(7).astype(int)"
   ]
  },
  {
   "cell_type": "code",
   "execution_count": 35,
   "id": "86605f10",
   "metadata": {
    "scrolled": true
   },
   "outputs": [
    {
     "data": {
      "text/plain": [
       "array(['3-2-2-3', '3-2-2-5', '4-2-2-3', '4-2-2-5', '3-2-4-2', '2-2-4-2',\n",
       "       '3-2-5-4', '2-2-5-4', '3-1-1-3', '3-1-1-1', '1-1-1-3', '1-1-1-1',\n",
       "       '3-1-1-4', '1-1-1-4', '2-2-2-3', '4-1-1-3', '4-1-1-1', '3-1-4-2',\n",
       "       '1-1-4-2', '3-2-2-2', '3-2-2-4', '4-2-2-2', '4-2-2-4', '3-2-4-1',\n",
       "       '2-2-4-1'], dtype=object)"
      ]
     },
     "execution_count": 35,
     "metadata": {},
     "output_type": "execute_result"
    }
   ],
   "source": [
    "MODEL_dihedrals[\"X-X-X-X\"].unique()"
   ]
  },
  {
   "cell_type": "code",
   "execution_count": 37,
   "id": "cdbaee31",
   "metadata": {},
   "outputs": [
    {
     "data": {
      "text/plain": [
       "[1, 2, 3, 4, 5, 7]"
      ]
     },
     "execution_count": 37,
     "metadata": {},
     "output_type": "execute_result"
    }
   ],
   "source": [
    "sorted(MODEL_dihedrals[\"dihedral type\"].unique())"
   ]
  },
  {
   "cell_type": "markdown",
   "id": "b7df650f",
   "metadata": {},
   "source": [
    "## WRITE .mol FILE"
   ]
  },
  {
   "cell_type": "code",
   "execution_count": 40,
   "id": "c1a649ce",
   "metadata": {},
   "outputs": [],
   "source": [
    "def write_mol_file():\n",
    "    f = open(\"IONOMER_12reps_MODIFIED_DREIDING_.mol\", \"w\")\n",
    "    f.write(\"# Created by Karina Chiñas Fuentes | Python | 30.09.24\\n\")\n",
    "    f.write(f\"\\n{len(MODEL_structure)} atoms\\n{len(MODEL_bonds)} bonds\\n\"+\n",
    "            f\"{len(MODEL_angles)} angles\\n{len(MODEL_dihedrals)} dihedrals\")\n",
    "    f.write(\"\\n\\n\")\n",
    "    f.write(\"Coords\\n\\n\")\n",
    "    for i in range(len(MODEL_structure)):\n",
    "        f.write(f\"{MODEL_structure['atom id'][i]}\\t{MODEL_structure['x'][i]}\"+\n",
    "                f\"\\t{MODEL_structure['y'][i]}\\t{MODEL_structure['z'][i]}\\n\")\n",
    "    f.write(\"\\nTypes\\n\\n\")\n",
    "    for i in range(len(MODEL_structure)):\n",
    "        f.write(f\"{MODEL_structure['atom id'][i]}\\t{MODEL_structure['type'][i]}\\n\")\n",
    "    f.write(\"\\nCharges\\n\\n\")\n",
    "    for i in range(len(MODEL_structure)):\n",
    "        f.write(f\"{MODEL_structure['atom id'][i]}\\t{MODEL_structure['charge'][i]}\\n\")\n",
    "    f.write(\"\\nBonds\\n\\n\")\n",
    "    for i in range(len(MODEL_bonds)):\n",
    "        f.write(f\"{MODEL_bonds['bond id'][i]}\\t{MODEL_bonds['bond type'][i]}\\t\"+\n",
    "                f\"{MODEL_bonds['atom1'][i]}\\t{MODEL_bonds['atom2'][i]}\\n\")\n",
    "    f.write(\"\\nAngles\\n\\n\")\n",
    "    for i in range(len(MODEL_angles)):\n",
    "        f.write(f\"{MODEL_angles['angle id'][i]}\\t{MODEL_angles['angle type'][i]}\\t\"+\n",
    "                f\"{MODEL_angles['atom1'][i]}\\t{MODEL_angles['atom2'][i]}\\t{MODEL_angles['atom3'][i]}\\n\")\n",
    "    f.write(\"\\nDihedrals\\n\\n\")\n",
    "    for i in range(len(MODEL_dihedrals)):\n",
    "        f.write(f\"{MODEL_dihedrals['dihedral id'][i]}\\t{MODEL_dihedrals['dihedral type'][i]}\"+\n",
    "                f\"\\t{MODEL_dihedrals['atom1'][i]}\\t{MODEL_dihedrals['atom2'][i]}\\t\"+\n",
    "                f\"{MODEL_dihedrals['atom3'][i]}\\t{MODEL_dihedrals['atom4'][i]}\\n\")"
   ]
  },
  {
   "cell_type": "code",
   "execution_count": 41,
   "id": "b5581e6e",
   "metadata": {},
   "outputs": [],
   "source": [
    "write_mol_file()\n",
    "! code IONOMER_12reps_MODIFIED_DREIDING_.mol"
   ]
  },
  {
   "cell_type": "code",
   "execution_count": 42,
   "id": "a7e01d01",
   "metadata": {},
   "outputs": [],
   "source": [
    "! cp IONOMER_12reps_MODIFIED_DREIDING_.mol /home/kchinas/Documents/PhD/LAMMPS/CL/3rdMODEL/Ionomer"
   ]
  },
  {
   "cell_type": "code",
   "execution_count": null,
   "id": "3284fda3",
   "metadata": {},
   "outputs": [],
   "source": []
  },
  {
   "cell_type": "code",
   "execution_count": null,
   "id": "33849dc6",
   "metadata": {},
   "outputs": [],
   "source": []
  }
 ],
 "metadata": {
  "kernelspec": {
   "display_name": "Python 3 (ipykernel)",
   "language": "python",
   "name": "python3"
  },
  "language_info": {
   "codemirror_mode": {
    "name": "ipython",
    "version": 3
   },
   "file_extension": ".py",
   "mimetype": "text/x-python",
   "name": "python",
   "nbconvert_exporter": "python",
   "pygments_lexer": "ipython3",
   "version": "3.10.12"
  }
 },
 "nbformat": 4,
 "nbformat_minor": 5
}
