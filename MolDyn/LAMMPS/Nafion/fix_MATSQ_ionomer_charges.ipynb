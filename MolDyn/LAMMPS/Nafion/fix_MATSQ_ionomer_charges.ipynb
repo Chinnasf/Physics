{
 "cells": [
  {
   "cell_type": "markdown",
   "id": "b7365f8f",
   "metadata": {},
   "source": [
    "# NAFION IONOMER\n",
    "## `DREIDING` PARAMETRIZATION AND `ESP method of Merz-Kollman` CHARGES"
   ]
  },
  {
   "cell_type": "code",
   "execution_count": 1,
   "id": "ad8e2f23",
   "metadata": {},
   "outputs": [
    {
     "name": "stdout",
     "output_type": "stream",
     "text": [
      "/home/kchinas/Documents/PhD/LAMMPS/CL/2ndMODEL/3rdAttmp/ionomer\r\n"
     ]
    }
   ],
   "source": [
    "! pwd"
   ]
  },
  {
   "cell_type": "code",
   "execution_count": 2,
   "id": "a93685d8",
   "metadata": {},
   "outputs": [],
   "source": [
    "import numpy as np\n",
    "import pandas as pd\n",
    "import matplotlib.pyplot as plt\n",
    "import seaborn as sns\n",
    "sns.set(style='ticks')\n",
    "\n",
    "import re\n",
    "import os\n",
    "\n",
    "def get_file(filename):\n",
    "    \"\"\"\n",
    "    returns raw dataframe from any type of file\n",
    "    \"\"\"\n",
    "    with open(filename, \"r\") as file:\n",
    "        file_content = file.readlines()\n",
    "    df = pd.DataFrame(file_content, columns=['data'])\n",
    "    return df"
   ]
  },
  {
   "cell_type": "code",
   "execution_count": 3,
   "id": "6934c0a5",
   "metadata": {},
   "outputs": [
    {
     "name": "stdout",
     "output_type": "stream",
     "text": [
      "DREIDING.pdf\t\t\tionomer_DREIDING.lammps\r\n",
      "generate_mol_file.ipynb\t\tO5R9_allatom_optimised_geometry.pdb\r\n",
      "ionomer_DREIDING_correct_Q.mol\tO5R9_allatom_optimized_geometry.lt\r\n"
     ]
    }
   ],
   "source": [
    "! ls"
   ]
  },
  {
   "cell_type": "code",
   "execution_count": 4,
   "id": "60d0822c",
   "metadata": {},
   "outputs": [],
   "source": [
    "raw_ionomer_ATB   = get_file(\"O5R9_allatom_optimized_geometry.lt\")\n",
    "raw_ionomer_MATSQ = get_file(\"ionomer_DREIDING.lammps\")"
   ]
  },
  {
   "cell_type": "code",
   "execution_count": 5,
   "id": "959237d0",
   "metadata": {},
   "outputs": [],
   "source": [
    "def get_ATB_data(ionomer):    \n",
    "    data = ionomer[ionomer[\"data\"].str.contains(r\"\\$atom\\:[A-Z]\\d+\\s+\\$mol\")].reset_index(drop=True)\n",
    "    data[\"data\"] = data[\"data\"].str.split('\\s')\n",
    "    data[\"data\"] = data[\"data\"].apply(lambda x: list(filter(None, x)))\n",
    "    data[\"atom\"] = data[\"data\"].apply(lambda x: x[0].replace(\"$atom:\", \"\"))\n",
    "    data[\"elements\"] = data[\"atom\"].str.replace(r\"\\d+\", \"\", regex=True)\n",
    "    data[\"gromos elemts\"] = data[\"data\"].apply(lambda x: x[2].replace(\"@atom:\", \"\"))\n",
    "    data[\"charge\"] = data[\"data\"].apply(lambda x: x[3]).astype(float)\n",
    "    data[\"x\"] = data[\"data\"].apply(lambda x: x[4]).astype(float)\n",
    "    data[\"y\"] = data[\"data\"].apply(lambda x: x[5]).astype(float)\n",
    "    data[\"z\"] = data[\"data\"].apply(lambda x: x[6]).astype(float)\n",
    "    data.drop(\"data\", axis=1, inplace=True)\n",
    "    return data\n",
    "\n",
    "def get_ATB_bonds(ionomer):\n",
    "    data = ionomer[ionomer[\"data\"].str.contains(r\"\\$bond\\:b\")].reset_index(drop=True)\n",
    "    data[\"data\"] = data[\"data\"].str.split('\\s')\n",
    "    data[\"data\"] = data[\"data\"].apply(lambda x: list(filter(None, x)))\n",
    "    data[\"b\"] = data[\"data\"].apply(lambda x: x[0].replace(\"$bond:b\", \"\")) # index\n",
    "    data[\"g\"] = data[\"data\"].apply(lambda x: x[1].replace(\"@bond:g\", \"\")) # type\n",
    "    data[\"atom1\"] = data[\"data\"].apply(lambda x: x[2].replace(\"$atom:\", \"\"))\n",
    "    data[\"atom2\"] = data[\"data\"].apply(lambda x: x[3].replace(\"$atom:\", \"\"))\n",
    "    data.drop(\"data\", axis=1, inplace=True)\n",
    "    return data\n",
    "\n",
    "def get_MATSQ_data(ionomer,slices):\n",
    "    data = ionomer.loc[slices[0]:slices[1]].copy().reset_index(drop=True)\n",
    "    data[\"data\"] = data[\"data\"].str.split('\\s').apply(lambda x: list(filter(None, x)))\n",
    "    data[\"atom id\"] = data[\"data\"].apply(lambda x: x[0]).astype(int)\n",
    "    data[\"molecule id\"] = data[\"data\"].apply(lambda x: x[1]).astype(int)\n",
    "    data[\"atom type\"] = data[\"data\"].apply(lambda x: x[2]).astype(int)\n",
    "    data[\"charge\"] = data[\"data\"].apply(lambda x: x[3]).astype(float)\n",
    "    data[\"x\"] = data[\"data\"].apply(lambda x: x[4]).astype(float)\n",
    "    data[\"y\"] = data[\"data\"].apply(lambda x: x[5]).astype(float)\n",
    "    data[\"z\"] = data[\"data\"].apply(lambda x: x[6]).astype(float)\n",
    "    data[\"dreiding elemts\"] = data[\"atom type\"].map({1:\"F_\",2:\"C_3\",3:\"O_3\",4:\"O_2\",5:\"S_3\"})\n",
    "    return data\n",
    "\n",
    "def get_MATSQ_bonds(ionomer,slices):\n",
    "    data = ionomer.loc[slices[0]:slices[1]].copy().reset_index(drop=True)\n",
    "    data[\"data\"] = data[\"data\"].str.split('\\s').apply(lambda x: list(filter(None, x)))\n",
    "    data[\"bond id\"] = data[\"data\"].apply(lambda x: x[0]).astype(int)\n",
    "    data[\"bond type\"] = data[\"data\"].apply(lambda x: x[1]).astype(int)\n",
    "    data[\"atom1\"] = data[\"data\"].apply(lambda x: x[2]).astype(int)\n",
    "    data[\"atom2\"] = data[\"data\"].apply(lambda x: x[3]).astype(int)\n",
    "    return data\n",
    "\n",
    "ATB_structure = get_ATB_data(raw_ionomer_ATB)\n",
    "MATSQ_structure = get_MATSQ_data(raw_ionomer_MATSQ,[27,524])\n",
    "\n",
    "MATSQ_bonds = get_MATSQ_bonds(raw_ionomer_MATSQ,[528,1024])\n",
    "ATB_bonds   = get_ATB_bonds(raw_ionomer_ATB)"
   ]
  },
  {
   "cell_type": "markdown",
   "id": "72d1ab41",
   "metadata": {},
   "source": [
    "##  [C$_{19}$F$_{39}$O$_5$S$^-$](https://atb.uq.edu.au/molecule.py?molid=1723660) AND C$_{152}$F$_{298}$O$_{40}$S$_8^-$ CHARGE COMPARISON "
   ]
  },
  {
   "cell_type": "code",
   "execution_count": 6,
   "id": "1fb097f9",
   "metadata": {},
   "outputs": [
    {
     "data": {
      "text/plain": [
       "-0.9999999999999993"
      ]
     },
     "execution_count": 6,
     "metadata": {},
     "output_type": "execute_result"
    }
   ],
   "source": [
    "# ESP method of Merz-Kollman\n",
    "ATB_structure[\"charge\"].sum()"
   ]
  },
  {
   "cell_type": "code",
   "execution_count": 7,
   "id": "6dcfb491",
   "metadata": {},
   "outputs": [],
   "source": [
    "#ATB_structure[\"charge\"].unique() # 48 unique charges"
   ]
  },
  {
   "cell_type": "code",
   "execution_count": 8,
   "id": "c8e303b0",
   "metadata": {},
   "outputs": [
    {
     "data": {
      "text/plain": [
       "-0.000469999999992865"
      ]
     },
     "execution_count": 8,
     "metadata": {},
     "output_type": "execute_result"
    }
   ],
   "source": [
    "# Qeq (Chargue equilibration)\n",
    "MATSQ_structure[\"charge\"].sum()"
   ]
  },
  {
   "cell_type": "code",
   "execution_count": 9,
   "id": "aff1a8c3",
   "metadata": {},
   "outputs": [],
   "source": [
    "#MATSQ_structure[\"charge\"].unique() # 40 unique charges"
   ]
  },
  {
   "cell_type": "markdown",
   "id": "0afe2ea5",
   "metadata": {},
   "source": [
    "### TASK: fix ionomer charges"
   ]
  },
  {
   "cell_type": "markdown",
   "id": "1140400e",
   "metadata": {},
   "source": [
    "##### ATB Charge Distribution\n",
    "\n",
    "* [Ionomer](https://atb.uq.edu.au/viewer.py?molid=1723660)\n",
    "* [Polymer](https://atb.uq.edu.au/viewer.py?molid=1705448)"
   ]
  },
  {
   "cell_type": "code",
   "execution_count": 10,
   "id": "132d584f",
   "metadata": {},
   "outputs": [
    {
     "data": {
      "text/plain": [
       "array(['F', 'CPos', 'OE', 'C', 'SDmso', 'OM'], dtype=object)"
      ]
     },
     "execution_count": 10,
     "metadata": {},
     "output_type": "execute_result"
    }
   ],
   "source": [
    "ATB_structure[\"gromos elemts\"].unique() "
   ]
  },
  {
   "cell_type": "code",
   "execution_count": 11,
   "id": "7734e69b",
   "metadata": {},
   "outputs": [
    {
     "data": {
      "text/plain": [
       "array([-1.019])"
      ]
     },
     "execution_count": 11,
     "metadata": {},
     "output_type": "execute_result"
    }
   ],
   "source": [
    "ATB_structure[ATB_structure[\"gromos elemts\"].isin([\"OM\"])].charge.unique() # This is Dreiding O_2"
   ]
  },
  {
   "cell_type": "code",
   "execution_count": 12,
   "id": "01d960e2",
   "metadata": {},
   "outputs": [
    {
     "data": {
      "text/plain": [
       "array([-0.292, -0.301])"
      ]
     },
     "execution_count": 12,
     "metadata": {},
     "output_type": "execute_result"
    }
   ],
   "source": [
    "ATB_structure[ATB_structure[\"gromos elemts\"].isin([\"OE\"])].charge.unique() # This is Dreiding O_3\n",
    "# -0.301 is closer to S\n",
    "# -0.292 is closer to main chain"
   ]
  },
  {
   "cell_type": "code",
   "execution_count": 13,
   "id": "9dbdf7d6",
   "metadata": {
    "scrolled": true
   },
   "outputs": [
    {
     "data": {
      "text/plain": [
       "array([-0.132, -0.11 , -0.107, -0.108, -0.106, -0.104, -0.111, -0.113,\n",
       "       -0.117, -0.12 , -0.099, -0.075, -0.141, -0.084, -0.072, -0.09 ,\n",
       "       -0.125, -0.102, -0.142, -0.116, -0.152, -0.092, -0.143, -0.15 ,\n",
       "       -0.164, -0.17 , -0.159])"
      ]
     },
     "execution_count": 13,
     "metadata": {},
     "output_type": "execute_result"
    }
   ],
   "source": [
    "ATB_structure[ATB_structure[\"gromos elemts\"].isin([\"F\"])].charge.unique() # C - (F)"
   ]
  },
  {
   "cell_type": "code",
   "execution_count": 14,
   "id": "5120558e",
   "metadata": {},
   "outputs": [
    {
     "data": {
      "text/plain": [
       "array([0.395, 0.203, 0.209, 0.21 , 0.212, 0.206, 0.23 , 0.234, 0.276,\n",
       "       0.216, 0.189, 0.384, 0.348, 0.256, 0.373, 0.339])"
      ]
     },
     "execution_count": 14,
     "metadata": {},
     "output_type": "execute_result"
    }
   ],
   "source": [
    "ATB_structure[ATB_structure[\"gromos elemts\"].isin([\"CPos\"])].charge.unique() # (C) - F"
   ]
  },
  {
   "cell_type": "code",
   "execution_count": 15,
   "id": "4e4786c6",
   "metadata": {},
   "outputs": [
    {
     "data": {
      "text/html": [
       "<div>\n",
       "<style scoped>\n",
       "    .dataframe tbody tr th:only-of-type {\n",
       "        vertical-align: middle;\n",
       "    }\n",
       "\n",
       "    .dataframe tbody tr th {\n",
       "        vertical-align: top;\n",
       "    }\n",
       "\n",
       "    .dataframe thead th {\n",
       "        text-align: right;\n",
       "    }\n",
       "</style>\n",
       "<table border=\"1\" class=\"dataframe\">\n",
       "  <thead>\n",
       "    <tr style=\"text-align: right;\">\n",
       "      <th></th>\n",
       "      <th>atom</th>\n",
       "      <th>elements</th>\n",
       "      <th>gromos elemts</th>\n",
       "      <th>charge</th>\n",
       "      <th>x</th>\n",
       "      <th>y</th>\n",
       "      <th>z</th>\n",
       "    </tr>\n",
       "  </thead>\n",
       "  <tbody>\n",
       "    <tr>\n",
       "      <th>57</th>\n",
       "      <td>C19</td>\n",
       "      <td>C</td>\n",
       "      <td>C</td>\n",
       "      <td>-0.212</td>\n",
       "      <td>5.169005</td>\n",
       "      <td>2.481924</td>\n",
       "      <td>-0.463252</td>\n",
       "    </tr>\n",
       "  </tbody>\n",
       "</table>\n",
       "</div>"
      ],
      "text/plain": [
       "   atom elements gromos elemts  charge         x         y         z\n",
       "57  C19        C             C  -0.212  5.169005  2.481924 -0.463252"
      ]
     },
     "execution_count": 15,
     "metadata": {},
     "output_type": "execute_result"
    }
   ],
   "source": [
    "ATB_structure[ATB_structure[\"gromos elemts\"].isin([\"C\"])]#.charge.unique() # (C) - S"
   ]
  },
  {
   "cell_type": "code",
   "execution_count": 16,
   "id": "2562bad4",
   "metadata": {},
   "outputs": [
    {
     "data": {
      "text/plain": [
       "array([2.878])"
      ]
     },
     "execution_count": 16,
     "metadata": {},
     "output_type": "execute_result"
    }
   ],
   "source": [
    "ATB_structure[ATB_structure[\"gromos elemts\"].isin([\"SDmso\"])].charge.unique() # S"
   ]
  },
  {
   "cell_type": "markdown",
   "id": "19d77d0f",
   "metadata": {},
   "source": [
    "##### MATSQ Charge Distribution"
   ]
  },
  {
   "cell_type": "code",
   "execution_count": 17,
   "id": "0f4d2162",
   "metadata": {},
   "outputs": [
    {
     "data": {
      "text/plain": [
       "array([-0.19227, -0.16086, -0.19226, -0.18904, -0.19211, -0.19225,\n",
       "       -0.1925 , -0.19264, -0.19498, -0.19816, -0.16126, -0.16734,\n",
       "       -0.19218, -0.16112, -0.16583, -0.17404])"
      ]
     },
     "execution_count": 17,
     "metadata": {},
     "output_type": "execute_result"
    }
   ],
   "source": [
    "MATSQ_structure[MATSQ_structure[\"dreiding elemts\"].isin([\"F_\"])].charge.unique() # C - F"
   ]
  },
  {
   "cell_type": "code",
   "execution_count": 18,
   "id": "4648ab3c",
   "metadata": {},
   "outputs": [
    {
     "data": {
      "text/plain": [
       "array([0.38416, 0.4499 , 0.3845 , 0.40751, 0.38451, 0.38733, 0.38465,\n",
       "       0.3843 , 0.38243, 0.37963, 0.37461, 0.3515 , 0.44502, 0.41153,\n",
       "       0.41137, 0.39254, 0.44746, 0.42584, 0.4685 ])"
      ]
     },
     "execution_count": 18,
     "metadata": {},
     "output_type": "execute_result"
    }
   ],
   "source": [
    "MATSQ_structure[MATSQ_structure[\"dreiding elemts\"].isin([\"C_3\"])].charge.unique()"
   ]
  },
  {
   "cell_type": "markdown",
   "id": "e0f471f4",
   "metadata": {},
   "source": [
    "#### For now, I will do a quick dirty fix for the side chains, but later I could try to fix everything based on bonds."
   ]
  },
  {
   "cell_type": "code",
   "execution_count": 19,
   "id": "1965e85e",
   "metadata": {},
   "outputs": [],
   "source": [
    "id2elemt = dict(zip(MATSQ_structure[\"atom id\"].values, MATSQ_structure[\"dreiding elemts\"].values))\n",
    "\n",
    "MATSQ_bonds[\"elemnt1\"] = MATSQ_bonds[\"atom1\"].map(id2elemt)\n",
    "MATSQ_bonds[\"elemnt2\"] = MATSQ_bonds[\"atom2\"].map(id2elemt)\n",
    "MATSQ_bonds[\"flag charge\"] = [0]*len(MATSQ_bonds)"
   ]
  },
  {
   "cell_type": "markdown",
   "id": "a2bb01b7",
   "metadata": {},
   "source": [
    "### First, changing those associated to Sulfur"
   ]
  },
  {
   "cell_type": "code",
   "execution_count": 20,
   "id": "88bdde0a",
   "metadata": {},
   "outputs": [],
   "source": [
    "QckFixRes = (-8+7.4851)/72"
   ]
  },
  {
   "cell_type": "code",
   "execution_count": 21,
   "id": "3bd1d419",
   "metadata": {},
   "outputs": [],
   "source": [
    "MATSQ_bonds.loc[MATSQ_bonds[MATSQ_bonds[\"elemnt2\"].isin([\"S_3\"])].index,\"flag charge\"] = 1"
   ]
  },
  {
   "cell_type": "code",
   "execution_count": 22,
   "id": "7d638adb",
   "metadata": {},
   "outputs": [],
   "source": [
    "update_id_list = pd.Series(list(MATSQ_bonds[MATSQ_bonds[\"flag charge\"].isin([1])][\"atom1\"].values) + \n",
    "                           list(MATSQ_bonds[MATSQ_bonds[\"flag charge\"].isin([1])][\"atom2\"].values)).unique()\n",
    "\n",
    "update = MATSQ_structure[MATSQ_structure[\"atom id\"].isin(update_id_list)]\n",
    "\n",
    "MATSQ_structure.loc[update[update[\"dreiding elemts\"].isin([\"C_3\"])].index,\"charge\"] = \\\n",
    "                ATB_structure[ATB_structure[\"gromos elemts\"].isin([\"C\"])].charge.unique()[0] + QckFixRes\n",
    "\n",
    "MATSQ_structure.loc[update[update[\"dreiding elemts\"].isin([\"S_3\"])].index,\"charge\"] = \\\n",
    "                ATB_structure[ATB_structure[\"gromos elemts\"].isin([\"SDmso\"])].charge.unique()[0] + QckFixRes\n",
    "\n",
    "MATSQ_structure.loc[update[update[\"dreiding elemts\"].isin([\"O_2\"])].index,\"charge\"] = \\\n",
    "                ATB_structure[ATB_structure[\"gromos elemts\"].isin([\"OM\"])].charge.unique()[0] + QckFixRes"
   ]
  },
  {
   "cell_type": "markdown",
   "id": "877165c3",
   "metadata": {},
   "source": [
    "### Second, changing those associated to Oxygen close to the PTFE backbone"
   ]
  },
  {
   "cell_type": "code",
   "execution_count": 23,
   "id": "7eb7afde",
   "metadata": {},
   "outputs": [],
   "source": [
    "MATSQ_bonds.loc[MATSQ_bonds[MATSQ_bonds[\"elemnt2\"].isin([\"O_3\"])].index,\"flag charge\"] = 2"
   ]
  },
  {
   "cell_type": "markdown",
   "id": "39289a82",
   "metadata": {},
   "source": [
    "#### Next task: discern which O is closer to S and which one is closer to the PTFE backbone. \n",
    "\n",
    "For this, I am also going to change the other Carbon charge that is in between S and O. "
   ]
  },
  {
   "cell_type": "code",
   "execution_count": 24,
   "id": "fe0ae52c",
   "metadata": {},
   "outputs": [],
   "source": [
    "update = MATSQ_bonds[MATSQ_bonds[\"flag charge\"].isin([1]) & MATSQ_bonds[\"elemnt1\"].isin([\"C_3\"])]\n",
    "update_id_list = list(update[\"atom1\"].values)"
   ]
  },
  {
   "cell_type": "code",
   "execution_count": 25,
   "id": "c98168f8",
   "metadata": {},
   "outputs": [],
   "source": [
    "# All atoms bonded to the updated carbon is flag #3\n",
    "MATSQ_bonds.loc[MATSQ_bonds[MATSQ_bonds[\"atom2\"].isin(update_id_list) & \n",
    "                            MATSQ_bonds[\"elemnt1\"].isin([\"C_3\"])].index, \"flag charge\"] = 3\n",
    "# They should have C18 charge\n",
    "second_C_list = list(MATSQ_bonds[MATSQ_bonds[\"flag charge\"].isin([3])][\"atom1\"].values) \n",
    "\n",
    "MATSQ_structure.loc[MATSQ_structure[MATSQ_structure[\"atom id\"].isin(second_C_list)].index,\"charge\"] = \\\n",
    "                ATB_structure[ATB_structure[\"atom\"].isin([\"C18\"])][\"charge\"].values[0] + QckFixRes"
   ]
  },
  {
   "cell_type": "markdown",
   "id": "fc7240e5",
   "metadata": {},
   "source": [
    "Now, I will update the O charges based on which ones is closer to S and the PTFE backbone, respectively."
   ]
  },
  {
   "cell_type": "code",
   "execution_count": 26,
   "id": "dab368f8",
   "metadata": {},
   "outputs": [],
   "source": [
    "O_close_to_S = list(MATSQ_bonds[MATSQ_bonds[\"flag charge\"].isin([2]) & \n",
    "                           MATSQ_bonds[\"atom1\"].isin(second_C_list)][\"atom2\"].values)\n",
    "\n",
    "MATSQ_structure.loc[MATSQ_structure[MATSQ_structure[\"atom id\"].isin(O_close_to_S)].index,\"charge\"] = \\\n",
    "                ATB_structure[ATB_structure[\"gromos elemts\"].isin([\"OE\"])].charge.unique()[0] + QckFixRes"
   ]
  },
  {
   "cell_type": "code",
   "execution_count": 27,
   "id": "267568a2",
   "metadata": {},
   "outputs": [],
   "source": [
    "O_close_to_PTFE = MATSQ_bonds[MATSQ_bonds[\"flag charge\"].isin([2]) & \n",
    "                    ~MATSQ_bonds[\"atom2\"].isin(O_close_to_S)][\"atom2\"].unique()\n",
    "\n",
    "MATSQ_structure.loc[MATSQ_structure[MATSQ_structure[\"atom id\"].isin(O_close_to_PTFE)].index,\"charge\"] = \\\n",
    "                ATB_structure[ATB_structure[\"gromos elemts\"].isin([\"OE\"])].charge.unique()[1] + QckFixRes"
   ]
  },
  {
   "cell_type": "code",
   "execution_count": 28,
   "id": "b711f11e",
   "metadata": {},
   "outputs": [
    {
     "data": {
      "text/plain": [
       "-8.000058888888873"
      ]
     },
     "execution_count": 28,
     "metadata": {},
     "output_type": "execute_result"
    }
   ],
   "source": [
    "# Now, the molecule has a net charge closer to the one expected\n",
    "MATSQ_structure[\"charge\"].sum()"
   ]
  },
  {
   "cell_type": "markdown",
   "id": "93d7d309",
   "metadata": {},
   "source": [
    "# REMARKS | [GROMOS 54A7 PARAMETRIZATION](https://atb.uq.edu.au/download.py?lt=54A7)\n",
    "\n",
    "Bonding Characteristics\n",
    "\n",
    "* S=O: g13: $k_{harmonic}$ ~ 459, $r_0$ ~ 1.36\n",
    "* C-O(C): g15: $k_{harmonic}$ ~ 399, $r_0$ ~ 1.39\n",
    "* S-O(H): g28: $k_{harmonic}$ ~ 299, $r_0$ ~ 1.61\n",
    "\n",
    "### NEXT TASK: create mol file for LAMMPS usage.\n",
    "\n",
    "Remember to add the double bonds."
   ]
  },
  {
   "cell_type": "code",
   "execution_count": 29,
   "id": "255007d0",
   "metadata": {},
   "outputs": [],
   "source": [
    "def get_angles(data, slices):\n",
    "    angles = data.loc[slices[0]:slices[1]].copy().reset_index(drop=True)\n",
    "    angles[\"data\"] = angles[\"data\"].str.split('\\s').apply(lambda x: list(filter(None, x)))\n",
    "    angles[\"angle id\"] = angles[\"data\"].apply(lambda x: x[0]).astype(int)\n",
    "    angles[\"angle type\"] = angles[\"data\"].apply(lambda x: x[1]).astype(int)\n",
    "    angles[\"atom1\"] = angles[\"data\"].apply(lambda x: x[2]).astype(int)\n",
    "    angles[\"atom2\"] = angles[\"data\"].apply(lambda x: x[3]).astype(int)\n",
    "    angles[\"atom3\"] = angles[\"data\"].apply(lambda x: x[4]).astype(int)\n",
    "    return angles\n",
    "\n",
    "\n",
    "def get_dihedrals(data,slices):\n",
    "    dihedrals = data.loc[slices[0]:slices[1]].copy().reset_index(drop=True)\n",
    "    dihedrals[\"data\"] = dihedrals[\"data\"].str.split('\\s').apply(lambda x: list(filter(None, x)))\n",
    "    dihedrals[\"dihedral id\"] = dihedrals[\"data\"].apply(lambda x: x[0]).astype(int)\n",
    "    dihedrals[\"dihedral type\"] = dihedrals[\"data\"].apply(lambda x: x[1]).astype(int)\n",
    "    dihedrals[\"atom1\"] = dihedrals[\"data\"].apply(lambda x: x[2]).astype(int)\n",
    "    dihedrals[\"atom2\"] = dihedrals[\"data\"].apply(lambda x: x[3]).astype(int)\n",
    "    dihedrals[\"atom3\"] = dihedrals[\"data\"].apply(lambda x: x[4]).astype(int)\n",
    "    dihedrals[\"atom4\"] = dihedrals[\"data\"].apply(lambda x: x[5]).astype(int)\n",
    "    return dihedrals\n",
    "\n",
    "MATSQ_angles = get_angles(raw_ionomer_MATSQ,[1028,2003])\n",
    "MATSQ_dihedrals = get_dihedrals(raw_ionomer_MATSQ,[2007,3389])"
   ]
  },
  {
   "cell_type": "markdown",
   "id": "228d7659",
   "metadata": {},
   "source": [
    "# FIX TYPE OF ATOM O_2 --> O_3"
   ]
  },
  {
   "cell_type": "code",
   "execution_count": 30,
   "id": "c772c768",
   "metadata": {},
   "outputs": [],
   "source": [
    "import itertools\n",
    "\n",
    "def generate_array(n):\n",
    "    return list(itertools.islice(itertools.cycle([1, 0, 0]), n))"
   ]
  },
  {
   "cell_type": "code",
   "execution_count": 31,
   "id": "b7e442d3",
   "metadata": {},
   "outputs": [],
   "source": [
    "change_O_type = MATSQ_bonds[MATSQ_bonds[\"elemnt2\"].isin([\"S_3\"]) &  \n",
    "                            MATSQ_bonds[\"elemnt1\"].isin([\"O_2\"])].sort_values(\"atom2\").reset_index(drop=True)\n",
    "change_O_type[\"flag O\"] = generate_array(len(change_O_type))\n",
    "change_O_type = list(change_O_type[change_O_type[\"flag O\"].isin([1])][\"atom1\"].values)"
   ]
  },
  {
   "cell_type": "code",
   "execution_count": 32,
   "id": "22bf2d83",
   "metadata": {},
   "outputs": [
    {
     "data": {
      "text/html": [
       "<div>\n",
       "<style scoped>\n",
       "    .dataframe tbody tr th:only-of-type {\n",
       "        vertical-align: middle;\n",
       "    }\n",
       "\n",
       "    .dataframe tbody tr th {\n",
       "        vertical-align: top;\n",
       "    }\n",
       "\n",
       "    .dataframe thead th {\n",
       "        text-align: right;\n",
       "    }\n",
       "</style>\n",
       "<table border=\"1\" class=\"dataframe\">\n",
       "  <thead>\n",
       "    <tr style=\"text-align: right;\">\n",
       "      <th></th>\n",
       "      <th>data</th>\n",
       "      <th>atom id</th>\n",
       "      <th>molecule id</th>\n",
       "      <th>atom type</th>\n",
       "      <th>charge</th>\n",
       "      <th>x</th>\n",
       "      <th>y</th>\n",
       "      <th>z</th>\n",
       "      <th>dreiding elemts</th>\n",
       "    </tr>\n",
       "  </thead>\n",
       "  <tbody>\n",
       "    <tr>\n",
       "      <th>0</th>\n",
       "      <td>[1, 1, 1, -0.19227, 11.69900000, 28.64700000, ...</td>\n",
       "      <td>1</td>\n",
       "      <td>1</td>\n",
       "      <td>1</td>\n",
       "      <td>-0.192270</td>\n",
       "      <td>11.699</td>\n",
       "      <td>28.647</td>\n",
       "      <td>15.056</td>\n",
       "      <td>F_</td>\n",
       "    </tr>\n",
       "    <tr>\n",
       "      <th>1</th>\n",
       "      <td>[2, 1, 1, -0.19227, 32.48100000, 20.14400000, ...</td>\n",
       "      <td>2</td>\n",
       "      <td>1</td>\n",
       "      <td>1</td>\n",
       "      <td>-0.192270</td>\n",
       "      <td>32.481</td>\n",
       "      <td>20.144</td>\n",
       "      <td>13.951</td>\n",
       "      <td>F_</td>\n",
       "    </tr>\n",
       "    <tr>\n",
       "      <th>2</th>\n",
       "      <td>[3, 1, 1, -0.16086, 19.44200000, 21.03100000, ...</td>\n",
       "      <td>3</td>\n",
       "      <td>1</td>\n",
       "      <td>1</td>\n",
       "      <td>-0.160860</td>\n",
       "      <td>19.442</td>\n",
       "      <td>21.031</td>\n",
       "      <td>13.741</td>\n",
       "      <td>F_</td>\n",
       "    </tr>\n",
       "    <tr>\n",
       "      <th>3</th>\n",
       "      <td>[4, 1, 1, -0.19227, 39.16000000, 26.67400000, ...</td>\n",
       "      <td>4</td>\n",
       "      <td>1</td>\n",
       "      <td>1</td>\n",
       "      <td>-0.192270</td>\n",
       "      <td>39.160</td>\n",
       "      <td>26.674</td>\n",
       "      <td>20.750</td>\n",
       "      <td>F_</td>\n",
       "    </tr>\n",
       "    <tr>\n",
       "      <th>4</th>\n",
       "      <td>[5, 1, 1, -0.19227, 41.45500000, 15.24100000, ...</td>\n",
       "      <td>5</td>\n",
       "      <td>1</td>\n",
       "      <td>1</td>\n",
       "      <td>-0.192270</td>\n",
       "      <td>41.455</td>\n",
       "      <td>15.241</td>\n",
       "      <td>22.698</td>\n",
       "      <td>F_</td>\n",
       "    </tr>\n",
       "    <tr>\n",
       "      <th>...</th>\n",
       "      <td>...</td>\n",
       "      <td>...</td>\n",
       "      <td>...</td>\n",
       "      <td>...</td>\n",
       "      <td>...</td>\n",
       "      <td>...</td>\n",
       "      <td>...</td>\n",
       "      <td>...</td>\n",
       "      <td>...</td>\n",
       "    </tr>\n",
       "    <tr>\n",
       "      <th>493</th>\n",
       "      <td>[494, 1, 5, 0.41982, 39.57800000, 15.18500000,...</td>\n",
       "      <td>494</td>\n",
       "      <td>1</td>\n",
       "      <td>5</td>\n",
       "      <td>2.870849</td>\n",
       "      <td>39.578</td>\n",
       "      <td>15.185</td>\n",
       "      <td>13.208</td>\n",
       "      <td>S_3</td>\n",
       "    </tr>\n",
       "    <tr>\n",
       "      <th>494</th>\n",
       "      <td>[495, 1, 5, 0.41982, 40.11500000, 23.53200000,...</td>\n",
       "      <td>495</td>\n",
       "      <td>1</td>\n",
       "      <td>5</td>\n",
       "      <td>2.870849</td>\n",
       "      <td>40.115</td>\n",
       "      <td>23.532</td>\n",
       "      <td>17.122</td>\n",
       "      <td>S_3</td>\n",
       "    </tr>\n",
       "    <tr>\n",
       "      <th>495</th>\n",
       "      <td>[496, 1, 5, 0.41982, 17.18100000, 38.33000000,...</td>\n",
       "      <td>496</td>\n",
       "      <td>1</td>\n",
       "      <td>5</td>\n",
       "      <td>2.870849</td>\n",
       "      <td>17.181</td>\n",
       "      <td>38.330</td>\n",
       "      <td>14.255</td>\n",
       "      <td>S_3</td>\n",
       "    </tr>\n",
       "    <tr>\n",
       "      <th>496</th>\n",
       "      <td>[497, 1, 5, 0.41982, 31.40600000, 19.22000000,...</td>\n",
       "      <td>497</td>\n",
       "      <td>1</td>\n",
       "      <td>5</td>\n",
       "      <td>2.870849</td>\n",
       "      <td>31.406</td>\n",
       "      <td>19.220</td>\n",
       "      <td>25.965</td>\n",
       "      <td>S_3</td>\n",
       "    </tr>\n",
       "    <tr>\n",
       "      <th>497</th>\n",
       "      <td>[498, 1, 5, 0.41982, 19.35300000, 27.41300000,...</td>\n",
       "      <td>498</td>\n",
       "      <td>1</td>\n",
       "      <td>5</td>\n",
       "      <td>2.870849</td>\n",
       "      <td>19.353</td>\n",
       "      <td>27.413</td>\n",
       "      <td>12.105</td>\n",
       "      <td>S_3</td>\n",
       "    </tr>\n",
       "  </tbody>\n",
       "</table>\n",
       "<p>498 rows × 9 columns</p>\n",
       "</div>"
      ],
      "text/plain": [
       "                                                  data  atom id  molecule id  \\\n",
       "0    [1, 1, 1, -0.19227, 11.69900000, 28.64700000, ...        1            1   \n",
       "1    [2, 1, 1, -0.19227, 32.48100000, 20.14400000, ...        2            1   \n",
       "2    [3, 1, 1, -0.16086, 19.44200000, 21.03100000, ...        3            1   \n",
       "3    [4, 1, 1, -0.19227, 39.16000000, 26.67400000, ...        4            1   \n",
       "4    [5, 1, 1, -0.19227, 41.45500000, 15.24100000, ...        5            1   \n",
       "..                                                 ...      ...          ...   \n",
       "493  [494, 1, 5, 0.41982, 39.57800000, 15.18500000,...      494            1   \n",
       "494  [495, 1, 5, 0.41982, 40.11500000, 23.53200000,...      495            1   \n",
       "495  [496, 1, 5, 0.41982, 17.18100000, 38.33000000,...      496            1   \n",
       "496  [497, 1, 5, 0.41982, 31.40600000, 19.22000000,...      497            1   \n",
       "497  [498, 1, 5, 0.41982, 19.35300000, 27.41300000,...      498            1   \n",
       "\n",
       "     atom type    charge       x       y       z dreiding elemts  \n",
       "0            1 -0.192270  11.699  28.647  15.056              F_  \n",
       "1            1 -0.192270  32.481  20.144  13.951              F_  \n",
       "2            1 -0.160860  19.442  21.031  13.741              F_  \n",
       "3            1 -0.192270  39.160  26.674  20.750              F_  \n",
       "4            1 -0.192270  41.455  15.241  22.698              F_  \n",
       "..         ...       ...     ...     ...     ...             ...  \n",
       "493          5  2.870849  39.578  15.185  13.208             S_3  \n",
       "494          5  2.870849  40.115  23.532  17.122             S_3  \n",
       "495          5  2.870849  17.181  38.330  14.255             S_3  \n",
       "496          5  2.870849  31.406  19.220  25.965             S_3  \n",
       "497          5  2.870849  19.353  27.413  12.105             S_3  \n",
       "\n",
       "[498 rows x 9 columns]"
      ]
     },
     "execution_count": 32,
     "metadata": {},
     "output_type": "execute_result"
    }
   ],
   "source": [
    "MATSQ_structure"
   ]
  },
  {
   "cell_type": "code",
   "execution_count": 33,
   "id": "bd5130ab",
   "metadata": {},
   "outputs": [],
   "source": [
    "MATSQ_structure.loc[MATSQ_structure[MATSQ_structure[\"atom id\"].isin(change_O_type)].index,\n",
    "                    \"atom type\"] = 3\n",
    "\n",
    "MATSQ_structure.loc[MATSQ_structure[MATSQ_structure[\"atom id\"].isin(change_O_type)].index,\n",
    "                    \"dreiding elemts\"] = \"O_3\""
   ]
  },
  {
   "cell_type": "markdown",
   "id": "51fccf83",
   "metadata": {},
   "source": [
    "### Add a new bonding style based on S-O_3, bond S=O_2 is already registered"
   ]
  },
  {
   "cell_type": "code",
   "execution_count": 34,
   "id": "1b915dfa",
   "metadata": {},
   "outputs": [],
   "source": [
    "MATSQ_bonds.loc[MATSQ_bonds[MATSQ_bonds[\"atom1\"].isin(change_O_type)].index,\"elemnt1\"] = \"O_3\"\n",
    "MATSQ_bonds.loc[MATSQ_bonds[MATSQ_bonds[\"atom1\"].isin(change_O_type)].index,\"bond type\"] = 6"
   ]
  },
  {
   "cell_type": "code",
   "execution_count": 35,
   "id": "184389c9",
   "metadata": {},
   "outputs": [
    {
     "data": {
      "text/html": [
       "<div>\n",
       "<style scoped>\n",
       "    .dataframe tbody tr th:only-of-type {\n",
       "        vertical-align: middle;\n",
       "    }\n",
       "\n",
       "    .dataframe tbody tr th {\n",
       "        vertical-align: top;\n",
       "    }\n",
       "\n",
       "    .dataframe thead th {\n",
       "        text-align: right;\n",
       "    }\n",
       "</style>\n",
       "<table border=\"1\" class=\"dataframe\">\n",
       "  <thead>\n",
       "    <tr style=\"text-align: right;\">\n",
       "      <th></th>\n",
       "      <th>data</th>\n",
       "      <th>bond id</th>\n",
       "      <th>bond type</th>\n",
       "      <th>atom1</th>\n",
       "      <th>atom2</th>\n",
       "      <th>elemnt1</th>\n",
       "      <th>elemnt2</th>\n",
       "      <th>flag charge</th>\n",
       "    </tr>\n",
       "  </thead>\n",
       "  <tbody>\n",
       "    <tr>\n",
       "      <th>473</th>\n",
       "      <td>[474, 5, 467, 491]</td>\n",
       "      <td>474</td>\n",
       "      <td>6</td>\n",
       "      <td>467</td>\n",
       "      <td>491</td>\n",
       "      <td>O_3</td>\n",
       "      <td>S_3</td>\n",
       "      <td>1</td>\n",
       "    </tr>\n",
       "    <tr>\n",
       "      <th>474</th>\n",
       "      <td>[475, 5, 468, 492]</td>\n",
       "      <td>475</td>\n",
       "      <td>6</td>\n",
       "      <td>468</td>\n",
       "      <td>492</td>\n",
       "      <td>O_3</td>\n",
       "      <td>S_3</td>\n",
       "      <td>1</td>\n",
       "    </tr>\n",
       "    <tr>\n",
       "      <th>475</th>\n",
       "      <td>[476, 5, 469, 493]</td>\n",
       "      <td>476</td>\n",
       "      <td>6</td>\n",
       "      <td>469</td>\n",
       "      <td>493</td>\n",
       "      <td>O_3</td>\n",
       "      <td>S_3</td>\n",
       "      <td>1</td>\n",
       "    </tr>\n",
       "    <tr>\n",
       "      <th>485</th>\n",
       "      <td>[486, 5, 479, 495]</td>\n",
       "      <td>486</td>\n",
       "      <td>6</td>\n",
       "      <td>479</td>\n",
       "      <td>495</td>\n",
       "      <td>O_3</td>\n",
       "      <td>S_3</td>\n",
       "      <td>1</td>\n",
       "    </tr>\n",
       "    <tr>\n",
       "      <th>486</th>\n",
       "      <td>[487, 5, 480, 496]</td>\n",
       "      <td>487</td>\n",
       "      <td>6</td>\n",
       "      <td>480</td>\n",
       "      <td>496</td>\n",
       "      <td>O_3</td>\n",
       "      <td>S_3</td>\n",
       "      <td>1</td>\n",
       "    </tr>\n",
       "    <tr>\n",
       "      <th>488</th>\n",
       "      <td>[489, 5, 482, 497]</td>\n",
       "      <td>489</td>\n",
       "      <td>6</td>\n",
       "      <td>482</td>\n",
       "      <td>497</td>\n",
       "      <td>O_3</td>\n",
       "      <td>S_3</td>\n",
       "      <td>1</td>\n",
       "    </tr>\n",
       "    <tr>\n",
       "      <th>492</th>\n",
       "      <td>[493, 5, 486, 494]</td>\n",
       "      <td>493</td>\n",
       "      <td>6</td>\n",
       "      <td>486</td>\n",
       "      <td>494</td>\n",
       "      <td>O_3</td>\n",
       "      <td>S_3</td>\n",
       "      <td>1</td>\n",
       "    </tr>\n",
       "    <tr>\n",
       "      <th>495</th>\n",
       "      <td>[496, 5, 489, 498]</td>\n",
       "      <td>496</td>\n",
       "      <td>6</td>\n",
       "      <td>489</td>\n",
       "      <td>498</td>\n",
       "      <td>O_3</td>\n",
       "      <td>S_3</td>\n",
       "      <td>1</td>\n",
       "    </tr>\n",
       "  </tbody>\n",
       "</table>\n",
       "</div>"
      ],
      "text/plain": [
       "                   data  bond id  bond type  atom1  atom2 elemnt1 elemnt2  \\\n",
       "473  [474, 5, 467, 491]      474          6    467    491     O_3     S_3   \n",
       "474  [475, 5, 468, 492]      475          6    468    492     O_3     S_3   \n",
       "475  [476, 5, 469, 493]      476          6    469    493     O_3     S_3   \n",
       "485  [486, 5, 479, 495]      486          6    479    495     O_3     S_3   \n",
       "486  [487, 5, 480, 496]      487          6    480    496     O_3     S_3   \n",
       "488  [489, 5, 482, 497]      489          6    482    497     O_3     S_3   \n",
       "492  [493, 5, 486, 494]      493          6    486    494     O_3     S_3   \n",
       "495  [496, 5, 489, 498]      496          6    489    498     O_3     S_3   \n",
       "\n",
       "     flag charge  \n",
       "473            1  \n",
       "474            1  \n",
       "475            1  \n",
       "485            1  \n",
       "486            1  \n",
       "488            1  \n",
       "492            1  \n",
       "495            1  "
      ]
     },
     "execution_count": 35,
     "metadata": {},
     "output_type": "execute_result"
    }
   ],
   "source": [
    "# Ions data\n",
    "MATSQ_bonds[MATSQ_bonds[\"elemnt1\"].isin([\"O_3\"])]"
   ]
  },
  {
   "cell_type": "code",
   "execution_count": 36,
   "id": "ad736105",
   "metadata": {},
   "outputs": [],
   "source": [
    "def write_mol_file():\n",
    "    f = open(\"ionomer_DREIDING_correct_Q.mol\", \"w\")\n",
    "    f.write(\"# Created by Karina Chiñas Fuentes | Python | 29.08.24\\n\")\n",
    "    f.write(f\"\\n{len(MATSQ_structure)} atoms\\n{len(MATSQ_bonds)} bonds\\n\"+\n",
    "            f\"{len(MATSQ_angles)} angles\\n{len(MATSQ_dihedrals)} dihedrals\")\n",
    "    f.write(\"\\n\\n\")\n",
    "    f.write(\"Coords\\n\\n\")\n",
    "    for i in range(len(MATSQ_structure)):\n",
    "        f.write(f\"{MATSQ_structure['atom id'][i]}\\t{MATSQ_structure['x'][i]}\"+\n",
    "                f\"\\t{MATSQ_structure['y'][i]}\\t{MATSQ_structure['z'][i]}\\n\")\n",
    "    f.write(\"\\nTypes\\n\\n\")\n",
    "    for i in range(len(MATSQ_structure)):\n",
    "        f.write(f\"{MATSQ_structure['atom id'][i]}\\t{MATSQ_structure['atom type'][i]}\\n\")\n",
    "    f.write(\"\\nCharges\\n\\n\")\n",
    "    for i in range(len(MATSQ_structure)):\n",
    "        f.write(f\"{MATSQ_structure['atom id'][i]}\\t{MATSQ_structure['charge'][i]}\\n\")\n",
    "    f.write(\"\\nBonds\\n\\n\")\n",
    "    for i in range(len(MATSQ_bonds)):\n",
    "        f.write(f\"{MATSQ_bonds['bond id'][i]}\\t{MATSQ_bonds['bond type'][i]}\\t\"+\n",
    "                f\"{MATSQ_bonds['atom1'][i]}\\t{MATSQ_bonds['atom2'][i]}\\n\")\n",
    "    f.write(\"\\nAngles\\n\\n\")\n",
    "    for i in range(len(MATSQ_angles)):\n",
    "        f.write(f\"{MATSQ_angles['angle id'][i]}\\t{MATSQ_angles['angle type'][i]}\\t\"+\n",
    "                f\"{MATSQ_angles['atom1'][i]}\\t{MATSQ_angles['atom2'][i]}\\t{MATSQ_angles['atom3'][i]}\\n\")\n",
    "    f.write(\"\\nDihedrals\\n\\n\")\n",
    "    for i in range(len(MATSQ_dihedrals)):\n",
    "        f.write(f\"{MATSQ_dihedrals['dihedral id'][i]}\\t{MATSQ_dihedrals['dihedral type'][i]}\"+\n",
    "                f\"\\t{MATSQ_dihedrals['atom1'][i]}\\t{MATSQ_dihedrals['atom2'][i]}\\t\"+\n",
    "                f\"{MATSQ_dihedrals['atom3'][i]}\\t{MATSQ_dihedrals['atom4'][i]}\\n\")"
   ]
  },
  {
   "cell_type": "code",
   "execution_count": 37,
   "id": "ce2e163e",
   "metadata": {},
   "outputs": [],
   "source": [
    "write_mol_file()"
   ]
  },
  {
   "cell_type": "code",
   "execution_count": 38,
   "id": "4412ef02",
   "metadata": {},
   "outputs": [],
   "source": [
    "! code ionomer_DREIDING_correct_Q.mol"
   ]
  },
  {
   "cell_type": "code",
   "execution_count": null,
   "id": "d2d95648",
   "metadata": {},
   "outputs": [],
   "source": []
  },
  {
   "cell_type": "code",
   "execution_count": null,
   "id": "ddd5d7e4",
   "metadata": {},
   "outputs": [],
   "source": []
  }
 ],
 "metadata": {
  "kernelspec": {
   "display_name": "Python 3 (ipykernel)",
   "language": "python",
   "name": "python3"
  },
  "language_info": {
   "codemirror_mode": {
    "name": "ipython",
    "version": 3
   },
   "file_extension": ".py",
   "mimetype": "text/x-python",
   "name": "python",
   "nbconvert_exporter": "python",
   "pygments_lexer": "ipython3",
   "version": "3.10.12"
  }
 },
 "nbformat": 4,
 "nbformat_minor": 5
}
