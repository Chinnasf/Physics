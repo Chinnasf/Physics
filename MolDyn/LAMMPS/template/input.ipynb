{
 "cells": [
  {
   "cell_type": "markdown",
   "metadata": {},
   "source": [
    "```\n",
    "# LAMMPS - CATALYST LAYER\n",
    "# \n",
    "# \n",
    "# Lambda <<xxx>>    |  Temp 120 (393.15) | Temp 80 (353.15)\n",
    "# \n",
    "# \n",
    "# \n",
    "units           real\n",
    "atom_style      full\n",
    "boundary        p p p\n",
    " \n",
    "bond_style      harmonic\n",
    "angle_style     harmonic\n",
    "dihedral_style  harmonic\n",
    "improper_style  umbrella\n",
    " \n",
    "pair_style      lj/cut/coul/long 15\n",
    "kspace_style    pppm 1e-5\n",
    " \n",
    "special_bonds   lj 0.0 0.0 0.5 coul 0.0 0.0 1.0 angle yes\n",
    "pair_modify     tail yes mix arithmetic\n",
    " \n",
    "read_data ../../data/carbon_bed_DREIDING_QeD_charges_.data &\n",
    "            extra/bond/per/atom 20 &\n",
    "            extra/angle/per/atom 20 &\n",
    "            extra/dihedral/per/atom 30 &\n",
    "            extra/improper/per/atom 10 &\n",
    "            extra/special/per/atom 35\n",
    "include  ../../data/CL_PARAMS.lammps\n",
    " \n",
    "molecule nafionMOL     ../../data/NAFION_IONOMER_12.mol\n",
    "molecule waterMOL      ../../data/H2O-SPCFw.mol\n",
    "molecule hydroniumMOL  ../../data/H3O+.mol\n",
    " \n",
    "create_atoms 0 single  0  0 35  mol nafionMOL 71017\n",
    "create_atoms 0 single 10 15 73  mol nafionMOL 71117\n",
    "create_atoms 0 single -3 15 108 mol nafionMOL 71217\n",
    "create_atoms 0 single 7 -15 141 mol nafionMOL 71217\n",
    " \n",
    "create_atoms 0 random 48 8910 NULL mol &\n",
    "    hydroniumMOL 45476 overlap 3.0 maxtry 50\n",
    "create_atoms 0 random xxxxx 8791 NULL mol &\n",
    "    waterMOL 45756 overlap 3.0 maxtry 50\n",
    " \n",
    "# 3 chains = 36 hydroniums; 4 chains = 48 hydroniums\n",
    " \n",
    "# Get freezing carbon atoms | R0: first two layers; R1-R4: borders of first 3\n",
    "region R0 block INF INF INF INF INF 3.4\n",
    "region R1 block INF INF INF -17 6 13.41  \n",
    "region R2 block INF -17 INF INF 6 13.41\n",
    "region R3 block INF INF 17  INF 6 13.41\n",
    "region R4 block 17  INF INF INF 6 13.41\n",
    "region R_immobilized_carbon union 5 R0 R1 R2 R3 R4 side in # total region to immobilize\n",
    "region R_else union 5 R0 R1 R2 R3 R4 side out\n",
    " \n",
    "group nafion type 1 2 3 4 5\n",
    "group water type 6 7\n",
    "group hydronium type 8 9\n",
    "group graphite type 10\n",
    "group immobilized_carbon region R_immobilized_carbon\n",
    "group moving_atoms region R_else\n",
    " \n",
    "###### RELAXATION\n",
    " \n",
    "timestep        1\n",
    "thermo          100\n",
    "thermo_style    custom step temp etotal evdwl ecoul epair ebond eangle edihed elong etail press vol density\n",
    "dump            dmp_nvt all custom 100 CL_relaxation_xxILxxpxx.traj id element xs ys zs\n",
    "dump_modify     dmp_nvt element C C F O S H O H O C C C O\n",
    " \n",
    "velocity        moving_atoms create 50 137534 dist gaussian\n",
    "fix             nvt1 moving_atoms nvt temp 50 393.15 10\n",
    " \n",
    "compute         myRDF all rdf 200 5 5 5 7 5 9 5 11 3 11 cutoff 15\n",
    "fix             myat1 all ave/time 10 4000 50000 c_myRDF[*] file RDF_xxILxxpxx.dat mode vector\n",
    "\n",
    "\n",
    "compute          MSD all msd # MSD = mean square displacement (min 1:42:40)\n",
    "fix              MSD_OUTPUT all ave/correlate 1 5000 5000 c_MSD[*] file MSDdata_xxILxxpxx.dat ave running\n",
    " \n",
    "run             1000000  # 1 ns\n",
    " \n",
    "write_data      CL_relaxation_xxILxxpxx.data pair ij\n",
    "```"
   ]
  },
  {
   "cell_type": "markdown",
   "metadata": {},
   "source": [
    "$$\n",
    "    \\lambda = 1 + \\frac{\\text{water molecules}}{\\text{sulfuric acid groups}}\n",
    "$$"
   ]
  },
  {
   "cell_type": "code",
   "execution_count": null,
   "metadata": {},
   "outputs": [
    {
     "ename": "SyntaxError",
     "evalue": "invalid syntax (4002598699.py, line 1)",
     "output_type": "error",
     "traceback": [
      "\u001b[0;36m  Cell \u001b[0;32mIn[6], line 1\u001b[0;36m\u001b[0m\n\u001b[0;31m    ```\u001b[0m\n\u001b[0m    ^\u001b[0m\n\u001b[0;31mSyntaxError\u001b[0m\u001b[0;31m:\u001b[0m invalid syntax\n"
     ]
    }
   ],
   "source": []
  },
  {
   "cell_type": "code",
   "execution_count": null,
   "metadata": {},
   "outputs": [],
   "source": []
  },
  {
   "cell_type": "markdown",
   "metadata": {},
   "source": []
  }
 ],
 "metadata": {
  "kernelspec": {
   "display_name": "mdanalysis_env",
   "language": "python",
   "name": "python3"
  },
  "language_info": {
   "codemirror_mode": {
    "name": "ipython",
    "version": 3
   },
   "file_extension": ".py",
   "mimetype": "text/x-python",
   "name": "python",
   "nbconvert_exporter": "python",
   "pygments_lexer": "ipython3",
   "version": "3.12.3"
  }
 },
 "nbformat": 4,
 "nbformat_minor": 2
}
