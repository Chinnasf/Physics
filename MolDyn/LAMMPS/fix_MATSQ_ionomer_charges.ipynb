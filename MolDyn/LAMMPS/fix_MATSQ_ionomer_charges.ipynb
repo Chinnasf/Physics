{
 "cells": [
  {
   "cell_type": "markdown",
   "id": "b7365f8f",
   "metadata": {},
   "source": [
    "# NAFION IONOMER\n",
    "## `DREIDING` PARAMETRIZATION AND `ESP method of Merz-Kollman` CHARGES"
   ]
  },
  {
   "cell_type": "code",
   "execution_count": 1,
   "id": "71faff21",
   "metadata": {},
   "outputs": [
    {
     "name": "stdout",
     "output_type": "stream",
     "text": [
      "/home/kchinas/Documents/PhD/LAMMPS/CL/2ndMODEL/3rdAttmp/ionomer\r\n"
     ]
    }
   ],
   "source": [
    "! pwd"
   ]
  },
  {
   "cell_type": "code",
   "execution_count": 2,
   "id": "a93685d8",
   "metadata": {},
   "outputs": [],
   "source": [
    "import numpy as np\n",
    "import pandas as pd\n",
    "import matplotlib.pyplot as plt\n",
    "import seaborn as sns\n",
    "sns.set(style='ticks')\n",
    "\n",
    "import re\n",
    "import os\n",
    "\n",
    "def get_file(filename):\n",
    "    \"\"\"\n",
    "    returns raw dataframe from any type of file\n",
    "    \"\"\"\n",
    "    with open(filename, \"r\") as file:\n",
    "        file_content = file.readlines()\n",
    "    df = pd.DataFrame(file_content, columns=['data'])\n",
    "    return df"
   ]
  },
  {
   "cell_type": "code",
   "execution_count": 3,
   "id": "6934c0a5",
   "metadata": {},
   "outputs": [
    {
     "name": "stdout",
     "output_type": "stream",
     "text": [
      "DREIDING.pdf\t\t O5R9_allatom_optimised_geometry.pdb\r\n",
      "generate_mol_file.ipynb  O5R9_allatom_optimized_geometry.lt\r\n",
      "ionomer_DREIDING.lammps\r\n"
     ]
    }
   ],
   "source": [
    "! ls"
   ]
  },
  {
   "cell_type": "code",
   "execution_count": 4,
   "id": "60d0822c",
   "metadata": {},
   "outputs": [],
   "source": [
    "raw_ionomer_ATB   = get_file(\"O5R9_allatom_optimized_geometry.lt\")\n",
    "raw_ionomer_MATSQ = get_file(\"ionomer_DREIDING.lammps\")"
   ]
  },
  {
   "cell_type": "code",
   "execution_count": 5,
   "id": "fabe8f64",
   "metadata": {},
   "outputs": [],
   "source": [
    "def get_ATB_data(ionomer):    \n",
    "    data = ionomer[ionomer[\"data\"].str.contains(r\"\\$atom\\:[A-Z]\\d+\\s+\\$mol\")].reset_index(drop=True)\n",
    "    data[\"data\"] = data[\"data\"].str.split('\\s')\n",
    "    data[\"data\"] = data[\"data\"].apply(lambda x: list(filter(None, x)))\n",
    "    data[\"atom\"] = data[\"data\"].apply(lambda x: x[0].replace(\"$atom:\", \"\"))\n",
    "    data[\"elements\"] = data[\"atom\"].str.replace(r\"\\d+\", \"\", regex=True)\n",
    "    data[\"gromos elemts\"] = data[\"data\"].apply(lambda x: x[2].replace(\"@atom:\", \"\"))\n",
    "    data[\"charge\"] = data[\"data\"].apply(lambda x: x[3]).astype(float)\n",
    "    data[\"x\"] = data[\"data\"].apply(lambda x: x[4]).astype(float)\n",
    "    data[\"y\"] = data[\"data\"].apply(lambda x: x[5]).astype(float)\n",
    "    data[\"z\"] = data[\"data\"].apply(lambda x: x[6]).astype(float)\n",
    "    data.drop(\"data\", axis=1, inplace=True)\n",
    "    return data\n",
    "\n",
    "def get_ATB_bonds(ionomer):\n",
    "    data = ionomer[ionomer[\"data\"].str.contains(r\"\\$bond\\:b\")].reset_index(drop=True)\n",
    "    data[\"data\"] = data[\"data\"].str.split('\\s')\n",
    "    data[\"data\"] = data[\"data\"].apply(lambda x: list(filter(None, x)))\n",
    "    data[\"b\"] = data[\"data\"].apply(lambda x: x[0].replace(\"$bond:b\", \"\")) # index\n",
    "    data[\"g\"] = data[\"data\"].apply(lambda x: x[1].replace(\"@bond:g\", \"\")) # type\n",
    "    data[\"atom1\"] = data[\"data\"].apply(lambda x: x[2].replace(\"$atom:\", \"\"))\n",
    "    data[\"atom2\"] = data[\"data\"].apply(lambda x: x[3].replace(\"$atom:\", \"\"))\n",
    "    data.drop(\"data\", axis=1, inplace=True)\n",
    "    return data\n",
    "\n",
    "def get_MATSQ_data(ionomer,slices):\n",
    "    data = ionomer.loc[slices[0]:slices[1]].copy().reset_index(drop=True)\n",
    "    data[\"data\"] = data[\"data\"].str.split('\\s').apply(lambda x: list(filter(None, x)))\n",
    "    data[\"atom id\"] = data[\"data\"].apply(lambda x: x[0]).astype(int)\n",
    "    data[\"molecule id\"] = data[\"data\"].apply(lambda x: x[1]).astype(int)\n",
    "    data[\"atom type\"] = data[\"data\"].apply(lambda x: x[2]).astype(int)\n",
    "    data[\"charge\"] = data[\"data\"].apply(lambda x: x[3]).astype(float)\n",
    "    data[\"x\"] = data[\"data\"].apply(lambda x: x[4]).astype(float)\n",
    "    data[\"y\"] = data[\"data\"].apply(lambda x: x[5]).astype(float)\n",
    "    data[\"z\"] = data[\"data\"].apply(lambda x: x[6]).astype(float)\n",
    "    data[\"dreiding elemts\"] = data[\"atom type\"].map({1:\"F_\",2:\"C_3\",3:\"O_3\",4:\"O_2\",5:\"S_3\"})\n",
    "    return data\n",
    "\n",
    "def get_MATSQ_bonds(ionomer,slices):\n",
    "    data = ionomer.loc[slices[0]:slices[1]].copy().reset_index(drop=True)\n",
    "    data[\"data\"] = data[\"data\"].str.split('\\s').apply(lambda x: list(filter(None, x)))\n",
    "    data[\"bond id\"] = data[\"data\"].apply(lambda x: x[0]).astype(int)\n",
    "    data[\"bond type\"] = data[\"data\"].apply(lambda x: x[1]).astype(int)\n",
    "    data[\"atom1\"] = data[\"data\"].apply(lambda x: x[2]).astype(int)\n",
    "    data[\"atom2\"] = data[\"data\"].apply(lambda x: x[3]).astype(int)\n",
    "    return data\n",
    "\n",
    "ATB_structure = get_ATB_data(raw_ionomer_ATB)\n",
    "MATSQ_structure = get_MATSQ_data(raw_ionomer_MATSQ,[27,524])\n",
    "\n",
    "MATSQ_bonds = get_MATSQ_bonds(raw_ionomer_MATSQ,[528,1024])\n",
    "ATB_bonds   = get_ATB_bonds(raw_ionomer_ATB)"
   ]
  },
  {
   "cell_type": "markdown",
   "id": "50a63b90",
   "metadata": {},
   "source": [
    "##  [C$_{19}$F$_{39}$O$_5$S$^-$](https://atb.uq.edu.au/molecule.py?molid=1723660) AND C$_{152}$F$_{298}$O$_{40}$S$_8^-$ CHARGE COMPARISON "
   ]
  },
  {
   "cell_type": "code",
   "execution_count": 6,
   "id": "5e81fa39",
   "metadata": {},
   "outputs": [
    {
     "data": {
      "text/plain": [
       "-0.9999999999999993"
      ]
     },
     "execution_count": 6,
     "metadata": {},
     "output_type": "execute_result"
    }
   ],
   "source": [
    "# ESP method of Merz-Kollman\n",
    "ATB_structure[\"charge\"].sum()"
   ]
  },
  {
   "cell_type": "code",
   "execution_count": 7,
   "id": "17e37df2",
   "metadata": {},
   "outputs": [],
   "source": [
    "#ATB_structure[\"charge\"].unique() # 48 unique charges"
   ]
  },
  {
   "cell_type": "code",
   "execution_count": 8,
   "id": "fea0667e",
   "metadata": {},
   "outputs": [
    {
     "data": {
      "text/plain": [
       "-0.000469999999992865"
      ]
     },
     "execution_count": 8,
     "metadata": {},
     "output_type": "execute_result"
    }
   ],
   "source": [
    "# Qeq (Chargue equilibration)\n",
    "MATSQ_structure[\"charge\"].sum()"
   ]
  },
  {
   "cell_type": "code",
   "execution_count": 9,
   "id": "f14a9583",
   "metadata": {},
   "outputs": [],
   "source": [
    "#MATSQ_structure[\"charge\"].unique() # 40 unique charges"
   ]
  },
  {
   "cell_type": "markdown",
   "id": "c7c1f893",
   "metadata": {},
   "source": [
    "### TASK: fix ionomer charges"
   ]
  },
  {
   "cell_type": "markdown",
   "id": "34524dce",
   "metadata": {},
   "source": [
    "##### ATB Charge Distribution\n",
    "\n",
    "* [Ionomer](https://atb.uq.edu.au/viewer.py?molid=1723660)\n",
    "* [Polymer](https://atb.uq.edu.au/viewer.py?molid=1705448)"
   ]
  },
  {
   "cell_type": "code",
   "execution_count": 10,
   "id": "5e609d17",
   "metadata": {},
   "outputs": [
    {
     "data": {
      "text/plain": [
       "array(['F', 'CPos', 'OE', 'C', 'SDmso', 'OM'], dtype=object)"
      ]
     },
     "execution_count": 10,
     "metadata": {},
     "output_type": "execute_result"
    }
   ],
   "source": [
    "ATB_structure[\"gromos elemts\"].unique() "
   ]
  },
  {
   "cell_type": "code",
   "execution_count": 11,
   "id": "fbe936f3",
   "metadata": {},
   "outputs": [
    {
     "data": {
      "text/plain": [
       "array([-1.019])"
      ]
     },
     "execution_count": 11,
     "metadata": {},
     "output_type": "execute_result"
    }
   ],
   "source": [
    "ATB_structure[ATB_structure[\"gromos elemts\"].isin([\"OM\"])].charge.unique() # This is Dreiding O_2"
   ]
  },
  {
   "cell_type": "code",
   "execution_count": 12,
   "id": "0a29bf8f",
   "metadata": {},
   "outputs": [
    {
     "data": {
      "text/plain": [
       "array([-0.292, -0.301])"
      ]
     },
     "execution_count": 12,
     "metadata": {},
     "output_type": "execute_result"
    }
   ],
   "source": [
    "ATB_structure[ATB_structure[\"gromos elemts\"].isin([\"OE\"])].charge.unique() # This is Dreiding O_3\n",
    "# -0.301 is closer to S\n",
    "# -0.292 is closer to main chain"
   ]
  },
  {
   "cell_type": "code",
   "execution_count": 13,
   "id": "088ad8f5",
   "metadata": {
    "scrolled": true
   },
   "outputs": [
    {
     "data": {
      "text/plain": [
       "array([-0.132, -0.11 , -0.107, -0.108, -0.106, -0.104, -0.111, -0.113,\n",
       "       -0.117, -0.12 , -0.099, -0.075, -0.141, -0.084, -0.072, -0.09 ,\n",
       "       -0.125, -0.102, -0.142, -0.116, -0.152, -0.092, -0.143, -0.15 ,\n",
       "       -0.164, -0.17 , -0.159])"
      ]
     },
     "execution_count": 13,
     "metadata": {},
     "output_type": "execute_result"
    }
   ],
   "source": [
    "ATB_structure[ATB_structure[\"gromos elemts\"].isin([\"F\"])].charge.unique() # C - (F)"
   ]
  },
  {
   "cell_type": "code",
   "execution_count": 14,
   "id": "293776ef",
   "metadata": {},
   "outputs": [
    {
     "data": {
      "text/plain": [
       "array([0.395, 0.203, 0.209, 0.21 , 0.212, 0.206, 0.23 , 0.234, 0.276,\n",
       "       0.216, 0.189, 0.384, 0.348, 0.256, 0.373, 0.339])"
      ]
     },
     "execution_count": 14,
     "metadata": {},
     "output_type": "execute_result"
    }
   ],
   "source": [
    "ATB_structure[ATB_structure[\"gromos elemts\"].isin([\"CPos\"])].charge.unique() # (C) - F"
   ]
  },
  {
   "cell_type": "code",
   "execution_count": 15,
   "id": "c8bfe4ce",
   "metadata": {},
   "outputs": [
    {
     "data": {
      "text/html": [
       "<div>\n",
       "<style scoped>\n",
       "    .dataframe tbody tr th:only-of-type {\n",
       "        vertical-align: middle;\n",
       "    }\n",
       "\n",
       "    .dataframe tbody tr th {\n",
       "        vertical-align: top;\n",
       "    }\n",
       "\n",
       "    .dataframe thead th {\n",
       "        text-align: right;\n",
       "    }\n",
       "</style>\n",
       "<table border=\"1\" class=\"dataframe\">\n",
       "  <thead>\n",
       "    <tr style=\"text-align: right;\">\n",
       "      <th></th>\n",
       "      <th>atom</th>\n",
       "      <th>elements</th>\n",
       "      <th>gromos elemts</th>\n",
       "      <th>charge</th>\n",
       "      <th>x</th>\n",
       "      <th>y</th>\n",
       "      <th>z</th>\n",
       "    </tr>\n",
       "  </thead>\n",
       "  <tbody>\n",
       "    <tr>\n",
       "      <th>57</th>\n",
       "      <td>C19</td>\n",
       "      <td>C</td>\n",
       "      <td>C</td>\n",
       "      <td>-0.212</td>\n",
       "      <td>5.169005</td>\n",
       "      <td>2.481924</td>\n",
       "      <td>-0.463252</td>\n",
       "    </tr>\n",
       "  </tbody>\n",
       "</table>\n",
       "</div>"
      ],
      "text/plain": [
       "   atom elements gromos elemts  charge         x         y         z\n",
       "57  C19        C             C  -0.212  5.169005  2.481924 -0.463252"
      ]
     },
     "execution_count": 15,
     "metadata": {},
     "output_type": "execute_result"
    }
   ],
   "source": [
    "ATB_structure[ATB_structure[\"gromos elemts\"].isin([\"C\"])]#.charge.unique() # (C) - S"
   ]
  },
  {
   "cell_type": "code",
   "execution_count": 16,
   "id": "c12d15dd",
   "metadata": {},
   "outputs": [
    {
     "data": {
      "text/plain": [
       "array([2.878])"
      ]
     },
     "execution_count": 16,
     "metadata": {},
     "output_type": "execute_result"
    }
   ],
   "source": [
    "ATB_structure[ATB_structure[\"gromos elemts\"].isin([\"SDmso\"])].charge.unique() # S"
   ]
  },
  {
   "cell_type": "markdown",
   "id": "cb213188",
   "metadata": {},
   "source": [
    "##### MATSQ Charge Distribution"
   ]
  },
  {
   "cell_type": "code",
   "execution_count": 17,
   "id": "1f508932",
   "metadata": {},
   "outputs": [
    {
     "data": {
      "text/plain": [
       "array([-0.19227, -0.16086, -0.19226, -0.18904, -0.19211, -0.19225,\n",
       "       -0.1925 , -0.19264, -0.19498, -0.19816, -0.16126, -0.16734,\n",
       "       -0.19218, -0.16112, -0.16583, -0.17404])"
      ]
     },
     "execution_count": 17,
     "metadata": {},
     "output_type": "execute_result"
    }
   ],
   "source": [
    "MATSQ_structure[MATSQ_structure[\"dreiding elemts\"].isin([\"F_\"])].charge.unique() # C - F"
   ]
  },
  {
   "cell_type": "code",
   "execution_count": 18,
   "id": "477a6a8c",
   "metadata": {},
   "outputs": [
    {
     "data": {
      "text/plain": [
       "array([0.38416, 0.4499 , 0.3845 , 0.40751, 0.38451, 0.38733, 0.38465,\n",
       "       0.3843 , 0.38243, 0.37963, 0.37461, 0.3515 , 0.44502, 0.41153,\n",
       "       0.41137, 0.39254, 0.44746, 0.42584, 0.4685 ])"
      ]
     },
     "execution_count": 18,
     "metadata": {},
     "output_type": "execute_result"
    }
   ],
   "source": [
    "MATSQ_structure[MATSQ_structure[\"dreiding elemts\"].isin([\"C_3\"])].charge.unique()"
   ]
  },
  {
   "cell_type": "markdown",
   "id": "1b27e25f",
   "metadata": {},
   "source": [
    "#### For now, I will do a quick dirty fix for the side chains, but later I could try to fix everything based on bonds."
   ]
  },
  {
   "cell_type": "code",
   "execution_count": 19,
   "id": "a7c63ae0",
   "metadata": {},
   "outputs": [],
   "source": [
    "id2elemt = dict(zip(MATSQ_structure[\"atom id\"].values, MATSQ_structure[\"dreiding elemts\"].values))\n",
    "\n",
    "MATSQ_bonds[\"elemnt1\"] = MATSQ_bonds[\"atom1\"].map(id2elemt)\n",
    "MATSQ_bonds[\"elemnt2\"] = MATSQ_bonds[\"atom2\"].map(id2elemt)\n",
    "MATSQ_bonds[\"flag charge\"] = [0]*len(MATSQ_bonds)"
   ]
  },
  {
   "cell_type": "markdown",
   "id": "ef00d1ac",
   "metadata": {},
   "source": [
    "### First, changing those associated to Sulfur"
   ]
  },
  {
   "cell_type": "code",
   "execution_count": 20,
   "id": "5bcf4a3f",
   "metadata": {},
   "outputs": [],
   "source": [
    "MATSQ_bonds.loc[MATSQ_bonds[MATSQ_bonds[\"elemnt2\"].isin([\"S_3\"])].index,\"flag charge\"] = 1"
   ]
  },
  {
   "cell_type": "code",
   "execution_count": 21,
   "id": "21e248ba",
   "metadata": {},
   "outputs": [],
   "source": [
    "update_id_list = pd.Series(list(MATSQ_bonds[MATSQ_bonds[\"flag charge\"].isin([1])][\"atom1\"].values) + \n",
    "                           list(MATSQ_bonds[MATSQ_bonds[\"flag charge\"].isin([1])][\"atom2\"].values)).unique()\n",
    "\n",
    "update = MATSQ_structure[MATSQ_structure[\"atom id\"].isin(update_id_list)]\n",
    "\n",
    "MATSQ_structure.loc[update[update[\"dreiding elemts\"].isin([\"C_3\"])].index,\"charge\"] = \\\n",
    "                ATB_structure[ATB_structure[\"gromos elemts\"].isin([\"C\"])].charge.unique()[0]\n",
    "\n",
    "MATSQ_structure.loc[update[update[\"dreiding elemts\"].isin([\"S_3\"])].index,\"charge\"] = \\\n",
    "                ATB_structure[ATB_structure[\"gromos elemts\"].isin([\"SDmso\"])].charge.unique()[0]\n",
    "\n",
    "MATSQ_structure.loc[update[update[\"dreiding elemts\"].isin([\"O_2\"])].index,\"charge\"] = \\\n",
    "                ATB_structure[ATB_structure[\"gromos elemts\"].isin([\"OM\"])].charge.unique()[0]"
   ]
  },
  {
   "cell_type": "markdown",
   "id": "c65e4743",
   "metadata": {},
   "source": [
    "### Second, changing those associated to Oxygen close to the PTFE backbone"
   ]
  },
  {
   "cell_type": "code",
   "execution_count": 22,
   "id": "002d5554",
   "metadata": {},
   "outputs": [],
   "source": [
    "MATSQ_bonds.loc[MATSQ_bonds[MATSQ_bonds[\"elemnt2\"].isin([\"O_3\"])].index,\"flag charge\"] = 2"
   ]
  },
  {
   "cell_type": "markdown",
   "id": "08c4f6a8",
   "metadata": {},
   "source": [
    "#### Next task: discern which O is closer to S and which one is closer to the PTFE backbone. \n",
    "\n",
    "For this, I am also going to change the other Carbon charge that is in between S and O. "
   ]
  },
  {
   "cell_type": "code",
   "execution_count": 23,
   "id": "33c116e9",
   "metadata": {},
   "outputs": [],
   "source": [
    "update = MATSQ_bonds[MATSQ_bonds[\"flag charge\"].isin([1]) & MATSQ_bonds[\"elemnt1\"].isin([\"C_3\"])]\n",
    "update_id_list = list(update[\"atom1\"].values)"
   ]
  },
  {
   "cell_type": "code",
   "execution_count": 24,
   "id": "a95b5ffd",
   "metadata": {},
   "outputs": [],
   "source": [
    "# All atoms bonded to the updated carbon is flag #3\n",
    "MATSQ_bonds.loc[MATSQ_bonds[MATSQ_bonds[\"atom2\"].isin(update_id_list) & \n",
    "                            MATSQ_bonds[\"elemnt1\"].isin([\"C_3\"])].index, \"flag charge\"] = 3\n",
    "# They should have C18 charge\n",
    "second_C_list = list(MATSQ_bonds[MATSQ_bonds[\"flag charge\"].isin([3])][\"atom1\"].values) \n",
    "\n",
    "MATSQ_structure.loc[MATSQ_structure[MATSQ_structure[\"atom id\"].isin(second_C_list)].index,\"charge\"] = \\\n",
    "                ATB_structure[ATB_structure[\"atom\"].isin([\"C18\"])][\"charge\"].values[0]"
   ]
  },
  {
   "cell_type": "markdown",
   "id": "11fdc93e",
   "metadata": {},
   "source": [
    "Now, I will update the O charges based on which ones is closer to S and the PTFE backbone, respectively."
   ]
  },
  {
   "cell_type": "code",
   "execution_count": 25,
   "id": "5fee626d",
   "metadata": {},
   "outputs": [],
   "source": [
    "O_close_to_S = list(MATSQ_bonds[MATSQ_bonds[\"flag charge\"].isin([2]) & \n",
    "                           MATSQ_bonds[\"atom1\"].isin(second_C_list)][\"atom2\"].values)\n",
    "\n",
    "MATSQ_structure.loc[MATSQ_structure[MATSQ_structure[\"atom id\"].isin(O_close_to_S)].index,\"charge\"] = \\\n",
    "                ATB_structure[ATB_structure[\"gromos elemts\"].isin([\"OE\"])].charge.unique()[0]"
   ]
  },
  {
   "cell_type": "code",
   "execution_count": 27,
   "id": "72d42f9a",
   "metadata": {},
   "outputs": [],
   "source": [
    "O_close_to_PTFE = MATSQ_bonds[MATSQ_bonds[\"flag charge\"].isin([2]) & \n",
    "                    ~MATSQ_bonds[\"atom2\"].isin(O_close_to_S)][\"atom2\"].unique()\n",
    "\n",
    "MATSQ_structure.loc[MATSQ_structure[MATSQ_structure[\"atom id\"].isin(O_close_to_PTFE)].index,\"charge\"] = \\\n",
    "                ATB_structure[ATB_structure[\"gromos elemts\"].isin([\"OE\"])].charge.unique()[1]"
   ]
  },
  {
   "cell_type": "code",
   "execution_count": 32,
   "id": "16b38903",
   "metadata": {},
   "outputs": [
    {
     "data": {
      "text/plain": [
       "-7.542369999999991"
      ]
     },
     "execution_count": 32,
     "metadata": {},
     "output_type": "execute_result"
    }
   ],
   "source": [
    "# Now, the molecule has a net charge closer to the one expected\n",
    "MATSQ_structure[\"charge\"].sum()"
   ]
  },
  {
   "cell_type": "markdown",
   "id": "897a3070",
   "metadata": {},
   "source": [
    "# REMARKS | [GROMOS 54A7 PARAMETRIZATION](https://atb.uq.edu.au/download.py?lt=54A7)\n",
    "\n",
    "Bonding Characteristics\n",
    "\n",
    "* S=O: g13: $k_{harmonic}$ ~ 459, $r_0$ ~ 1.36\n",
    "* C-O(C): g15: $k_{harmonic}$ ~ 399, $r_0$ ~ 1.39\n",
    "* S-O(H): g28: $k_{harmonic}$ ~ 299, $r_0$ ~ 1.61\n",
    "\n",
    "### NEXT TASK: create mol file for LAMMPS usage."
   ]
  },
  {
   "cell_type": "code",
   "execution_count": null,
   "id": "b48b96c9",
   "metadata": {},
   "outputs": [],
   "source": []
  }
 ],
 "metadata": {
  "kernelspec": {
   "display_name": "Python 3 (ipykernel)",
   "language": "python",
   "name": "python3"
  },
  "language_info": {
   "codemirror_mode": {
    "name": "ipython",
    "version": 3
   },
   "file_extension": ".py",
   "mimetype": "text/x-python",
   "name": "python",
   "nbconvert_exporter": "python",
   "pygments_lexer": "ipython3",
   "version": "3.10.12"
  }
 },
 "nbformat": 4,
 "nbformat_minor": 5
}
