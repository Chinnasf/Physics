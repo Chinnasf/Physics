{
 "cells": [
  {
   "cell_type": "code",
   "execution_count": 8,
   "id": "162a2c85",
   "metadata": {},
   "outputs": [],
   "source": [
    "import numpy as np\n",
    "import pandas as pd\n",
    "import matplotlib.pyplot as plt\n",
    "import seaborn as sns\n",
    "import re\n",
    "import os\n",
    "\n",
    "sns.set(style='ticks')\n",
    "\n",
    "from LAMMPSdataTK import *\n",
    "from datetime import datetime"
   ]
  },
  {
   "cell_type": "code",
   "execution_count": 2,
   "id": "833647f6",
   "metadata": {},
   "outputs": [
    {
     "name": "stdout",
     "output_type": "stream",
     "text": [
      "carbon_bed_OPLS-AA_QeD_charges.data  LAMMPSdataTK.py\r\n",
      "CL_PARAMS.lammps\t\t     NAFION_IONOMER_12.mol\r\n",
      "FIX_carbon_bed_types.ipynb\t     OLD______system_PARMS_wH3O+_gases.lammps\r\n",
      "H2O-SPCFw.mol\t\t\t     __pycache__\r\n",
      "H3O+.mol\r\n"
     ]
    }
   ],
   "source": [
    "! ls"
   ]
  },
  {
   "cell_type": "code",
   "execution_count": 3,
   "id": "2473baf4",
   "metadata": {},
   "outputs": [],
   "source": [
    "filename_ = \"carbon_bed_OPLS-AA_QeD_charges.data\""
   ]
  },
  {
   "cell_type": "code",
   "execution_count": 4,
   "id": "b9c49415",
   "metadata": {},
   "outputs": [],
   "source": [
    "structure = get_structure(filename_,[36,2736])\n",
    "bonds     = get_bonds(filename_,[2739,6624])\n",
    "angles    = get_angles(filename_,[6627,14077])\n",
    "dihedrals = get_dihedrals(filename_,[14080,28435])\n",
    "impropers = get_impropers(filename_,[28438,30818])"
   ]
  },
  {
   "cell_type": "markdown",
   "id": "7a44c278",
   "metadata": {},
   "source": [
    "## What Changes?\n",
    "\n",
    "* Carbon type: 10\n",
    "* Bond type: 10\n",
    "* Angle type: 12\n",
    "* Dihedral type: 9\n",
    "* Improper type: 1"
   ]
  },
  {
   "cell_type": "code",
   "execution_count": 5,
   "id": "595f9b1d",
   "metadata": {},
   "outputs": [],
   "source": [
    "structure.loc[:,\"atom type\"] = 10\n",
    "bonds.loc[:,\"bond type\"] = 10\n",
    "angles.loc[:,\"angle type\"] = 12\n",
    "dihedrals.loc[:,\"dihedral type\"] = 9"
   ]
  },
  {
   "cell_type": "markdown",
   "id": "b02f3165",
   "metadata": {},
   "source": [
    "## Write Data File"
   ]
  },
  {
   "cell_type": "code",
   "execution_count": 48,
   "id": "fcc9b383",
   "metadata": {},
   "outputs": [],
   "source": [
    "def write_data_carbon_bed():\n",
    "    f = open(\"carbon_bed_OPLS-AA_QeD_charges_.data\", \"w\")\n",
    "    f.write(f\"# Created by Karina Chiñas Fuentes | Python and VMD | {datetime.today().strftime('%d.%m.%Y')}\")\n",
    "    f.write(\"\\n\\n\")\n",
    "    f.write(f\"{len(structure)} atoms\\n{len(bonds)} bonds\\n{len(angles)} angles\\n{len(dihedrals)} dihedrals\\n\")\n",
    "    f.write(f\"{len(impropers)} impropers\\n 13 atom types\\n12 bond types\\n14 angle types\\n9 dihedral types\\n\")\n",
    "    f.write(\"1 improper types\\n\\n\")\n",
    "    # Box size\n",
    "    f.write(\"-19 19  xlo xhi\\n\")\n",
    "    f.write(\"-19 19  ylo yhi\\n\")\n",
    "    f.write(\"0   300 zlo zhi\\n\\n\")\n",
    "    # Masses\n",
    "    f.write(\"Masses\\n\\n\")\n",
    "    f.write(\"1     12.011000 # CB Nafion \\n\")\n",
    "    f.write(\"2     12.011000 # C Nafion \\n\")\n",
    "    f.write(\"3     18.998400 # F Nafion \\n\")\n",
    "    f.write(\"4     15.999400 # O Nafion \\n\")\n",
    "    f.write(\"5     32.060000 # S Nafion \\n\")\n",
    "    f.write(\"6     1.008     # H Water \\n\")\n",
    "    f.write(\"7     15.999400 # O Water \\n\")\n",
    "    f.write(\"8     1.008     # H Hydronium \\n\")\n",
    "    f.write(\"9     15.999400 # O Hydronium \\n\")\n",
    "    f.write(\"10    12.011000 # C Graphite \\n\")\n",
    "    f.write(\"11    15.999400 # O Gas \\n\")\n",
    "    f.write(\"12    14.0067   # N Gas \\n\")\n",
    "    f.write(\"13    1.008     # H Gas \\n\\n\")\n",
    "    f.write(\"Atoms\\n\\n\")\n",
    "    for i in range(len(structure)):\n",
    "        f.write(f\"{structure['atom id'][i]}\\t{structure['molecule id'][i]}\\t\"+\n",
    "                f\"{structure['atom type'][i]}\\t{structure['charge'][i]}\\t\"+\n",
    "                f\"{structure['x'][i]}\\t{structure['y'][i]}\\t{structure['z'][i]} # CA GRA\\n\")\n",
    "    f.write(\"\\nBonds\\n\\n\")\n",
    "    for i in range(len(bonds)):\n",
    "        f.write(f\"{bonds['bond id'][i]}\\t{bonds['bond type'][i]}\\t{bonds['atom1'][i]}\\t{bonds['atom2'][i]}\\n\")\n",
    "    f.write(\"\\nAngles\\n\\n\")\n",
    "    for i in range(len(angles)):\n",
    "        f.write(f\"{angles['angle id'][i]}\\t{angles['angle type'][i]}\\t{angles['atom1'][i]}\\t\"+\n",
    "                f\"{angles['atom2'][i]}\\t{angles['atom3'][i]}\\n\")\n",
    "    f.write(\"\\nDihedrals\\n\\n\")\n",
    "    for i in range(len(dihedrals)):\n",
    "        f.write(f\"{dihedrals['dihedral id'][i]}\\t{dihedrals['dihedral type'][i]}\\t{dihedrals['atom1'][i]}\\t\"+\n",
    "                f\"{dihedrals['atom2'][i]}\\t{dihedrals['atom3'][i]}\\t{dihedrals['atom4'][i]}\\n\")\n",
    "    f.write(\"\\nImpropers\\n\\n\")\n",
    "    for i in range(len(impropers)):\n",
    "        f.write(f\"{impropers['improper id'][i]}\\t{impropers['improper type'][i]}\\t{impropers['atom1'][i]}\\t\"+\n",
    "                f\"{impropers['atom2'][i]}\\t{impropers['atom3'][i]}\\t{impropers['atom4'][i]}\\n\")\n",
    "    return"
   ]
  },
  {
   "cell_type": "code",
   "execution_count": 49,
   "id": "ae195bb9",
   "metadata": {},
   "outputs": [],
   "source": [
    "write_data_carbon_bed()\n",
    "! code carbon_bed_OPLS-AA_QeD_charges_.data"
   ]
  },
  {
   "cell_type": "code",
   "execution_count": 39,
   "id": "e92b84f5",
   "metadata": {},
   "outputs": [
    {
     "name": "stdout",
     "output_type": "stream",
     "text": [
      "/home/kchinas/Documents/PhD/LAMMPS/CL/3rdMODEL/1stAttmp/data\r\n"
     ]
    }
   ],
   "source": [
    "! pwd"
   ]
  },
  {
   "cell_type": "code",
   "execution_count": null,
   "id": "8994de8c",
   "metadata": {},
   "outputs": [],
   "source": []
  }
 ],
 "metadata": {
  "kernelspec": {
   "display_name": "Python 3 (ipykernel)",
   "language": "python",
   "name": "python3"
  },
  "language_info": {
   "codemirror_mode": {
    "name": "ipython",
    "version": 3
   },
   "file_extension": ".py",
   "mimetype": "text/x-python",
   "name": "python",
   "nbconvert_exporter": "python",
   "pygments_lexer": "ipython3",
   "version": "3.10.12"
  }
 },
 "nbformat": 4,
 "nbformat_minor": 5
}
