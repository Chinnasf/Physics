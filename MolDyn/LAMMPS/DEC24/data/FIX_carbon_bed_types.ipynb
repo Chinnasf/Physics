{
 "cells": [
  {
   "cell_type": "code",
   "execution_count": 1,
   "id": "162a2c85",
   "metadata": {},
   "outputs": [],
   "source": [
    "import numpy as np\n",
    "import pandas as pd\n",
    "import matplotlib.pyplot as plt\n",
    "import seaborn as sns\n",
    "import re\n",
    "import os\n",
    "\n",
    "sns.set(style='ticks')\n",
    "\n",
    "from LAMMPSdataTK import *\n",
    "from datetime import datetime"
   ]
  },
  {
   "cell_type": "code",
   "execution_count": 2,
   "id": "833647f6",
   "metadata": {},
   "outputs": [
    {
     "name": "stdout",
     "output_type": "stream",
     "text": [
      "carbon_bed_DREIDING_QeD_.data\r\n"
     ]
    }
   ],
   "source": [
    "! ls MATSQ_C/"
   ]
  },
  {
   "cell_type": "code",
   "execution_count": 3,
   "id": "2473baf4",
   "metadata": {},
   "outputs": [],
   "source": [
    "MATSQ_filename_ = \"MATSQ_C/carbon_bed_DREIDING_QeD_.data\"\n",
    "VMD_filename_   = \"carbon_bed_OPLS-AA_QeD_charges.data\""
   ]
  },
  {
   "cell_type": "code",
   "execution_count": 4,
   "id": "fd81c973",
   "metadata": {},
   "outputs": [],
   "source": [
    "#! subl carbon_bed_OPLS-AA_QeD_charges.data"
   ]
  },
  {
   "cell_type": "code",
   "execution_count": 5,
   "id": "b9c49415",
   "metadata": {},
   "outputs": [],
   "source": [
    "MATSQ_structure = get_structure(MATSQ_filename_,[36-11,2736-11])\n",
    "MATSQ_bonds     = get_bonds(MATSQ_filename_,[2739-11,6624-11])\n",
    "MATSQ_angles    = get_angles(MATSQ_filename_,[6627-11,14077-11])\n",
    "MATSQ_dihedrals = get_dihedrals(MATSQ_filename_,[14081-12,28435-11])\n",
    "\n",
    "MATSQ_structure[\"drediding\"] = MATSQ_structure[\"atom type\"].map({1:\"C_1\",2:\"C_R\",3:\"C_3\"})\n",
    "\n",
    "VMD_structure   = get_structure(VMD_filename_,[36,2736])\n",
    "VMD_bonds       = get_bonds(VMD_filename_,[2739,6624])\n",
    "VMD_angles      = get_angles(VMD_filename_,[6627,14077])\n",
    "VMD_dihedrals   = get_dihedrals(VMD_filename_,[14081,28435])\n",
    "VMD_impropers   = get_impropers(VMD_filename_,[28438,30818])"
   ]
  },
  {
   "cell_type": "markdown",
   "id": "b2c276e8",
   "metadata": {},
   "source": [
    "### Luckily, `atom id` from MATSQ matches the one from VMD."
   ]
  },
  {
   "cell_type": "code",
   "execution_count": 6,
   "id": "c6c557c3",
   "metadata": {},
   "outputs": [],
   "source": [
    "dreiding = dict(zip(MATSQ_structure[\"atom id\"].values,MATSQ_structure[\"drediding\"].values))\n",
    "VMD_structure[\"drediding\"] = VMD_structure[\"atom id\"].map(dreiding)"
   ]
  },
  {
   "cell_type": "code",
   "execution_count": 7,
   "id": "c55d7f40",
   "metadata": {},
   "outputs": [],
   "source": [
    "VMD_bonds[\"X-X\"] = VMD_bonds[\"atom1\"].map(dreiding) + \"-\" +  VMD_bonds[\"atom2\"].map(dreiding) "
   ]
  },
  {
   "cell_type": "code",
   "execution_count": 8,
   "id": "d4b1ee01",
   "metadata": {},
   "outputs": [],
   "source": [
    "VMD_bonds[\"dreiding bond type\"] = VMD_bonds[\"X-X\"].map({\"C_1-C_1\":12,\"C_1-C_R\":13,\n",
    "                                                        \"C_R-C_R\":14, \"C_R-C_3\":15,\n",
    "                                                        \"C_R-C_1\":13})"
   ]
  },
  {
   "cell_type": "code",
   "execution_count": 9,
   "id": "017f8d4a",
   "metadata": {},
   "outputs": [],
   "source": [
    "VMD_angles[\"X-X-X\"] = \"X-\"+VMD_angles[\"atom2\"].map(dreiding)+\"-X\""
   ]
  },
  {
   "cell_type": "code",
   "execution_count": 10,
   "id": "12bd9e5f",
   "metadata": {},
   "outputs": [],
   "source": [
    "\"\"\"\n",
    "DREIDING\n",
    "  1     50.000000    180.000000    # X C_1 X (type 14)\n",
    "  2     50.000000    120.000000    # X C_R X (type 15)\n",
    "\"\"\"\n",
    "VMD_angles[\"dreiding angle type\"] = VMD_angles[\"X-X-X\"].map({\"X-C_1-X\":14, \"X-C_R-X\":15})"
   ]
  },
  {
   "cell_type": "code",
   "execution_count": 11,
   "id": "d46aa7ed",
   "metadata": {},
   "outputs": [],
   "source": [
    "VMD_dihedrals[\"X-X-X-X\"] = VMD_dihedrals[\"atom1\"].map(dreiding) + \"-\" + \\\n",
    "                           VMD_dihedrals[\"atom2\"].map(dreiding) + \"-\" + \\\n",
    "                           VMD_dihedrals[\"atom3\"].map(dreiding) + \"-\" + \\\n",
    "                           VMD_dihedrals[\"atom4\"].map(dreiding)"
   ]
  },
  {
   "cell_type": "code",
   "execution_count": 12,
   "id": "9fef4d90",
   "metadata": {},
   "outputs": [
    {
     "data": {
      "text/plain": [
       "array(['C_1-C_1-C_1-C_R', 'C_1-C_1-C_R-C_1', 'C_1-C_1-C_R-C_R',\n",
       "       'C_1-C_R-C_R-C_1', 'C_1-C_R-C_R-C_R', 'C_R-C_R-C_R-C_1',\n",
       "       'C_R-C_R-C_R-C_R', 'C_R-C_1-C_1-C_R', 'C_1-C_R-C_1-C_R',\n",
       "       'C_R-C_R-C_1-C_R', 'C_R-C_1-C_R-C_R', 'C_R-C_1-C_R-C_1',\n",
       "       'C_R-C_1-C_1-C_1', 'C_R-C_1-C_R-C_3', 'C_3-C_R-C_R-C_R',\n",
       "       'C_3-C_R-C_R-C_1', 'C_R-C_R-C_1-C_1', 'C_R-C_R-C_R-C_3',\n",
       "       'C_1-C_R-C_R-C_3'], dtype=object)"
      ]
     },
     "execution_count": 12,
     "metadata": {},
     "output_type": "execute_result"
    }
   ],
   "source": [
    "VMD_dihedrals[\"X-X-X-X\"].unique()"
   ]
  },
  {
   "cell_type": "code",
   "execution_count": 13,
   "id": "754272d0",
   "metadata": {},
   "outputs": [],
   "source": [
    "\"\"\"\n",
    "DREIDING PARAMETRIZATION\n",
    "\n",
    "  1      3.125000   -1   2   # X C_1 C_1 X\n",
    "  2      3.125000   -1   2   # C_R C_1 C_R X\n",
    "  3      3.125000   -1   2   # X C_1 C_R X\n",
    "  4      3.125000   -1   2   # X C_R C_R X\n",
    "  5      3.125000   -1   2   # X C_R C_R X\n",
    "  6      3.125000   -1   2   # X C_R C_R X\n",
    "  7      3.125000   -1   2   # X C_R C_R X\n",
    "  8      3.125000   -1   2   # X C_1 C_1 X\n",
    "  9      3.125000   -1   2   # X C_1 C_1 X\n",
    " 10      3.125000   -1   2   # X C_R C_1 X\n",
    " 11      3.125000   -1   2   # X C_R C_1 C_R\n",
    " 12      3.125000   -1   2   # C_R C_1 C_R X\n",
    " 13      3.125000   -1   2   # X C_1 C_R X\n",
    " 14      3.125000   -1   2   # X C_1 C_R X\n",
    " 15      3.125000   -1   2   # X C_R C_R X\n",
    " 16      3.125000   -1   2   # X C_R C_R X\n",
    " 17      3.125000   -1   2   # X C_R C_1 C_R\n",
    " 18      3.125000   -1   2   # X C_R C_R X\n",
    " 19      3.125000   -1   2   # X C_R C_R X\n",
    "\"\"\"\n",
    "# Since all of them have the same parameters\n",
    "\n",
    "VMD_dihedrals.loc[:,\"dihedral type\"] = 9"
   ]
  },
  {
   "cell_type": "code",
   "execution_count": 14,
   "id": "0a063e88",
   "metadata": {},
   "outputs": [],
   "source": [
    "VMD_impropers[\"X-X-X-X\"] = VMD_impropers[\"atom1\"].map(dreiding) + \"-\" + \\\n",
    "                           VMD_impropers[\"atom2\"].map(dreiding) + \"-\" + \\\n",
    "                           VMD_impropers[\"atom3\"].map(dreiding) + \"-\" + \\\n",
    "                           VMD_impropers[\"atom4\"].map(dreiding)"
   ]
  },
  {
   "cell_type": "code",
   "execution_count": 15,
   "id": "a3c5e393",
   "metadata": {},
   "outputs": [
    {
     "data": {
      "text/plain": [
       "array(['C_R-C_R-C_R-C_1', 'C_R-C_1-C_R-C_R', 'C_R-C_R-C_1-C_1',\n",
       "       'C_R-C_R-C_R-C_R', 'C_1-C_R-C_R-C_1', 'C_3-C_R-C_R-C_1',\n",
       "       'C_1-C_R-C_R-C_R', 'C_R-C_R-C_1-C_R', 'C_1-C_R-C_R-C_3'],\n",
       "      dtype=object)"
      ]
     },
     "execution_count": 15,
     "metadata": {},
     "output_type": "execute_result"
    }
   ],
   "source": [
    "VMD_impropers[\"X-X-X-X\"].unique()"
   ]
  },
  {
   "cell_type": "markdown",
   "id": "f80e9db2",
   "metadata": {},
   "source": [
    "## Improper in DREIDING FF\n",
    "\n",
    "$$\n",
    "    E^d_{IJKL} = \\frac{1}{2} C_I \\left( \\cos(\\Psi) - \\cos(\\Psi^0_I) \\right)^2\n",
    "$$\n",
    "\n",
    "For planar structures:\n",
    "\n",
    "$$\n",
    "    E_{IJKL} = K_I \\left( 1 - \\cos(\\Psi_I) \\right)\n",
    "$$\n",
    "\n",
    "With $K=40 (kcal/mol)rad^2$.\n",
    "\n",
    "##  Improper Style in LAMMPS  `umbrella`\n",
    "\n",
    "$$\n",
    "     E = K \\left( 1 - \\cos(\\omega) \\right), \\:\\: \\omega_0 = 0\n",
    "$$"
   ]
  },
  {
   "cell_type": "code",
   "execution_count": 16,
   "id": "b2d06fc4",
   "metadata": {},
   "outputs": [
    {
     "data": {
      "text/plain": [
       "(2380, 310, 10)"
      ]
     },
     "execution_count": 16,
     "metadata": {},
     "output_type": "execute_result"
    }
   ],
   "source": [
    "len(VMD_structure[VMD_structure[\"drediding\"].isin([\"C_R\"])]), \\\n",
    "len(VMD_structure[VMD_structure[\"drediding\"].isin([\"C_1\"])]), \\\n",
    "len(VMD_structure[VMD_structure[\"drediding\"].isin([\"C_3\"])])"
   ]
  },
  {
   "cell_type": "code",
   "execution_count": 17,
   "id": "991317e3",
   "metadata": {},
   "outputs": [],
   "source": [
    "VMD_structure[\"dreiding atom type\"] = VMD_structure[\"drediding\"].map({\"C_3\":10, \"C_R\":11, \"C_1\":12})"
   ]
  },
  {
   "cell_type": "code",
   "execution_count": 18,
   "id": "876f9f66",
   "metadata": {},
   "outputs": [],
   "source": [
    "structure = VMD_structure[[\"atom id\", \"molecule id\", \"dreiding atom type\", \"charge\", \"x\", \"y\", \"z\"]].copy()\n",
    "structure.rename(columns={\"dreiding atom type\":\"atom type\"}, inplace=True)"
   ]
  },
  {
   "cell_type": "code",
   "execution_count": 19,
   "id": "e82b5730",
   "metadata": {},
   "outputs": [],
   "source": [
    "bonds = VMD_bonds[[\"bond id\",\"dreiding bond type\",\"atom1\",\"atom2\"]].copy()\n",
    "bonds.rename(columns={\"dreiding bond type\":\"bond type\"}, inplace=True)"
   ]
  },
  {
   "cell_type": "code",
   "execution_count": 20,
   "id": "c21056d7",
   "metadata": {},
   "outputs": [],
   "source": [
    "angles = VMD_angles[[\"angle id\",\"dreiding angle type\",\"atom1\",\"atom2\",\"atom3\"]].copy()\n",
    "angles.rename(columns={\"dreiding angle type\":\"angle type\"}, inplace=True)"
   ]
  },
  {
   "cell_type": "code",
   "execution_count": 21,
   "id": "92591c7d",
   "metadata": {},
   "outputs": [],
   "source": [
    "dihedrals = VMD_dihedrals[[\"dihedral id\",\"dihedral type\",\"atom1\",\"atom2\",\"atom3\",\"atom4\"]].copy()"
   ]
  },
  {
   "cell_type": "code",
   "execution_count": 22,
   "id": "1b81ff6e",
   "metadata": {},
   "outputs": [],
   "source": [
    "impropers = VMD_impropers.copy()"
   ]
  },
  {
   "cell_type": "code",
   "execution_count": 46,
   "id": "7a26401c",
   "metadata": {},
   "outputs": [
    {
     "data": {
      "text/plain": [
       "array([12, 11, 10])"
      ]
     },
     "execution_count": 46,
     "metadata": {},
     "output_type": "execute_result"
    }
   ],
   "source": [
    "structure[\"atom type\"].unique()"
   ]
  },
  {
   "cell_type": "markdown",
   "id": "b02f3165",
   "metadata": {},
   "source": [
    "## Write Data File"
   ]
  },
  {
   "cell_type": "code",
   "execution_count": 53,
   "id": "fcc9b383",
   "metadata": {},
   "outputs": [],
   "source": [
    "def write_data_carbon_bed():\n",
    "    f = open(\"carbon_bed_DREIDING_QeD_charges_.data\", \"w\")\n",
    "    f.write(f\"# Created by Karina Chiñas Fuentes | Python and VMD | {datetime.today().strftime('%d.%m.%Y')}\")\n",
    "    f.write(\"\\n\\n\")\n",
    "    f.write(f\"{len(structure)} atoms\\n{len(bonds)} bonds\\n{len(angles)} angles\\n{len(dihedrals)} dihedrals\\n\")\n",
    "    f.write(f\"{len(impropers)} impropers\\n13 atom types\\n15 bond types\\n15 angle types\\n9 dihedral types\\n\")\n",
    "    f.write(\"1 improper types\\n\\n\")\n",
    "    # Box size\n",
    "    f.write(\"-19 19  xlo xhi\\n\")\n",
    "    f.write(\"-19 19  ylo yhi\\n\")\n",
    "    f.write(\"0   300 zlo zhi\\n\\n\")\n",
    "    # Masses\n",
    "    f.write(\"Masses\\n\\n\")\n",
    "    f.write(\"1     12.011000 # CB Nafion \\n\")\n",
    "    f.write(\"2     12.011000 # C Nafion \\n\")\n",
    "    f.write(\"3     18.998400 # F Nafion \\n\")\n",
    "    f.write(\"4     15.999400 # O Nafion \\n\")\n",
    "    f.write(\"5     32.060000 # S Nafion \\n\")\n",
    "    f.write(\"6     1.008     # H Water \\n\")\n",
    "    f.write(\"7     15.999400 # O Water \\n\")\n",
    "    f.write(\"8     1.008     # H Hydronium \\n\")\n",
    "    f.write(\"9     15.999400 # O Hydronium \\n\")\n",
    "    f.write(\"10    12.011000 # C C_3 Graphite \\n\")\n",
    "    f.write(\"11    12.011000 # C C_R Graphite \\n\")\n",
    "    f.write(\"12    12.011000 # C C_1 Graphite \\n\")\n",
    "    f.write(\"13    15.999400 # O Gas \\n\\n\")\n",
    "#    f.write(\"14    14.0067   # N Gas \\n\")\n",
    "#    f.write(\"15    1.008     # H Gas \\n\\n\")\n",
    "    f.write(\"Atoms\\n\\n\")\n",
    "    for i in range(len(structure)):\n",
    "        f.write(f\"{structure['atom id'][i]}\\t{structure['molecule id'][i]}\\t\"+\n",
    "                f\"{structure['atom type'][i]}\\t{structure['charge'][i]}\\t\"+\n",
    "                f\"{structure['x'][i]}\\t{structure['y'][i]}\\t{structure['z'][i]} # CA GRA\\n\")\n",
    "    f.write(\"\\nBonds\\n\\n\")\n",
    "    for i in range(len(bonds)):\n",
    "        f.write(f\"{bonds['bond id'][i]}\\t{bonds['bond type'][i]}\\t{bonds['atom1'][i]}\\t{bonds['atom2'][i]}\\n\")\n",
    "    f.write(\"\\nAngles\\n\\n\")\n",
    "    for i in range(len(angles)):\n",
    "        f.write(f\"{angles['angle id'][i]}\\t{angles['angle type'][i]}\\t{angles['atom1'][i]}\\t\"+\n",
    "                f\"{angles['atom2'][i]}\\t{angles['atom3'][i]}\\n\")\n",
    "    f.write(\"\\nDihedrals\\n\\n\")\n",
    "    for i in range(len(dihedrals)):\n",
    "        f.write(f\"{dihedrals['dihedral id'][i]}\\t{dihedrals['dihedral type'][i]}\\t{dihedrals['atom1'][i]}\\t\"+\n",
    "                f\"{dihedrals['atom2'][i]}\\t{dihedrals['atom3'][i]}\\t{dihedrals['atom4'][i]}\\n\")\n",
    "    f.write(\"\\nImpropers\\n\\n\")\n",
    "    for i in range(len(impropers)):\n",
    "        f.write(f\"{impropers['improper id'][i]}\\t{impropers['improper type'][i]}\\t{impropers['atom1'][i]}\\t\"+\n",
    "                f\"{impropers['atom2'][i]}\\t{impropers['atom3'][i]}\\t{impropers['atom4'][i]}\\n\")\n",
    "    return"
   ]
  },
  {
   "cell_type": "code",
   "execution_count": 54,
   "id": "ae195bb9",
   "metadata": {},
   "outputs": [],
   "source": [
    "write_data_carbon_bed()\n",
    "! code carbon_bed_DREIDING_QeD_charges_.data"
   ]
  },
  {
   "cell_type": "code",
   "execution_count": 55,
   "id": "e92b84f5",
   "metadata": {},
   "outputs": [
    {
     "name": "stdout",
     "output_type": "stream",
     "text": [
      "/home/kchinas/Documents/PhD/LAMMPS/CL/3rdMODEL/1stAttmp/data\r\n"
     ]
    }
   ],
   "source": [
    "! pwd"
   ]
  },
  {
   "cell_type": "markdown",
   "id": "810e2830",
   "metadata": {},
   "source": [
    "! ls"
   ]
  },
  {
   "cell_type": "code",
   "execution_count": null,
   "id": "ccda8676",
   "metadata": {},
   "outputs": [],
   "source": []
  }
 ],
 "metadata": {
  "kernelspec": {
   "display_name": "Python 3 (ipykernel)",
   "language": "python",
   "name": "python3"
  },
  "language_info": {
   "codemirror_mode": {
    "name": "ipython",
    "version": 3
   },
   "file_extension": ".py",
   "mimetype": "text/x-python",
   "name": "python",
   "nbconvert_exporter": "python",
   "pygments_lexer": "ipython3",
   "version": "3.10.12"
  }
 },
 "nbformat": 4,
 "nbformat_minor": 5
}
