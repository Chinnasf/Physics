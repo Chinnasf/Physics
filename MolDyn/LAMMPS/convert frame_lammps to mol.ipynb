{
 "cells": [
  {
   "cell_type": "code",
   "execution_count": 1,
   "id": "f8040330",
   "metadata": {},
   "outputs": [],
   "source": [
    "import numpy as np\n",
    "import pandas as pd\n",
    "import matplotlib.pyplot as plt\n",
    "import seaborn as sns\n",
    "sns.set(style='ticks')\n",
    "\n",
    "import re\n",
    "import os"
   ]
  },
  {
   "cell_type": "code",
   "execution_count": 2,
   "id": "f44299cd",
   "metadata": {},
   "outputs": [
    {
     "name": "stdout",
     "output_type": "stream",
     "text": [
      "'convert frame_lammps to mol.ipynb'\t       frame_195_ionomer_nvt.pdb\r\n",
      " frame_108_ionomer_nvt.pdb\t\t       get_last_frame.py\r\n",
      " frame_149_ionomer_nvt.pdb\t\t       nafion_dreiding.mol\r\n",
      " frame_195_ionomer_nvt_PARMS_DREIDING.lammps   thermal_nvt.traj\r\n"
     ]
    }
   ],
   "source": [
    "! ls"
   ]
  },
  {
   "cell_type": "code",
   "execution_count": 3,
   "id": "2a91bea2",
   "metadata": {},
   "outputs": [],
   "source": [
    "with open(\"frame_195_ionomer_nvt_PARMS_DREIDING.lammps\", \"r\") as file:\n",
    "    file_content = file.readlines()\n",
    "# Create a DataFrame with each line as a separate row in a single column\n",
    "data = pd.DataFrame(file_content, columns=['data'])    "
   ]
  },
  {
   "cell_type": "code",
   "execution_count": 4,
   "id": "c9216381",
   "metadata": {},
   "outputs": [],
   "source": [
    "#! code frame_195_ionomer_nvt_PARMS_DREIDING.lammps"
   ]
  },
  {
   "cell_type": "code",
   "execution_count": 5,
   "id": "30e41030",
   "metadata": {},
   "outputs": [],
   "source": [
    "slices = {\n",
    "    \"coords\":(27,524),\n",
    "    \"bonds\":(528,1024),\n",
    "    \"angles\":(1028,2003),\n",
    "    \"dihedrals\":(2007,3389),\n",
    "}"
   ]
  },
  {
   "cell_type": "code",
   "execution_count": 6,
   "id": "f3bb2ecf",
   "metadata": {},
   "outputs": [],
   "source": [
    "def get_coords(slices):\n",
    "    coords = data.loc[slices[0]:slices[1]].copy().reset_index(drop=True)\n",
    "    coords[\"data\"] = coords[\"data\"].str.split('\\s').apply(lambda x: list(filter(None, x)))\n",
    "    coords[\"atom id\"] = coords[\"data\"].apply(lambda x: x[0]).astype(int)\n",
    "    coords[\"molecule id\"] = coords[\"data\"].apply(lambda x: x[1]).astype(int)\n",
    "    coords[\"atom type\"] = coords[\"data\"].apply(lambda x: x[2]).astype(int)\n",
    "    coords[\"charge\"] = coords[\"data\"].apply(lambda x: x[3]).astype(float)\n",
    "    coords[\"x\"] = coords[\"data\"].apply(lambda x: x[4]).astype(float)\n",
    "    coords[\"y\"] = coords[\"data\"].apply(lambda x: x[5]).astype(float)\n",
    "    coords[\"z\"] = coords[\"data\"].apply(lambda x: x[6]).astype(float)\n",
    "    return coords\n",
    "\n",
    "coords = get_coords(slices[\"coords\"])"
   ]
  },
  {
   "cell_type": "code",
   "execution_count": 7,
   "id": "1c187ab3",
   "metadata": {},
   "outputs": [],
   "source": [
    "def get_bonds(slices):\n",
    "    bonds = data.loc[slices[0]:slices[1]].copy().reset_index(drop=True)\n",
    "    bonds[\"data\"] = bonds[\"data\"].str.split('\\s').apply(lambda x: list(filter(None, x)))\n",
    "    bonds[\"bond id\"] = bonds[\"data\"].apply(lambda x: x[0]).astype(int)\n",
    "    bonds[\"bond type\"] = bonds[\"data\"].apply(lambda x: x[1]).astype(int)\n",
    "    bonds[\"atom1\"] = bonds[\"data\"].apply(lambda x: x[2]).astype(int)\n",
    "    bonds[\"atom2\"] = bonds[\"data\"].apply(lambda x: x[3]).astype(int)\n",
    "    return bonds\n",
    "\n",
    "bonds = get_bonds(slices[\"bonds\"])"
   ]
  },
  {
   "cell_type": "code",
   "execution_count": 8,
   "id": "8290b259",
   "metadata": {},
   "outputs": [],
   "source": [
    "def get_angles(slices):\n",
    "    angles = data.loc[slices[0]:slices[1]].copy().reset_index(drop=True)\n",
    "    angles[\"data\"] = angles[\"data\"].str.split('\\s').apply(lambda x: list(filter(None, x)))\n",
    "    angles[\"angle id\"] = angles[\"data\"].apply(lambda x: x[0]).astype(int)\n",
    "    angles[\"angle type\"] = angles[\"data\"].apply(lambda x: x[1]).astype(int)\n",
    "    angles[\"atom1\"] = angles[\"data\"].apply(lambda x: x[2]).astype(int)\n",
    "    angles[\"atom2\"] = angles[\"data\"].apply(lambda x: x[3]).astype(int)\n",
    "    angles[\"atom3\"] = angles[\"data\"].apply(lambda x: x[4]).astype(int)\n",
    "    return angles\n",
    "\n",
    "angles = get_angles(slices[\"angles\"])"
   ]
  },
  {
   "cell_type": "code",
   "execution_count": 9,
   "id": "15dfb0dc",
   "metadata": {},
   "outputs": [],
   "source": [
    "def get_dihedrals(slices):\n",
    "    dihedrals = data.loc[slices[0]:slices[1]].copy().reset_index(drop=True)\n",
    "    dihedrals[\"data\"] = dihedrals[\"data\"].str.split('\\s').apply(lambda x: list(filter(None, x)))\n",
    "    dihedrals[\"dihedral id\"] = dihedrals[\"data\"].apply(lambda x: x[0]).astype(int)\n",
    "    dihedrals[\"dihedral type\"] = dihedrals[\"data\"].apply(lambda x: x[1]).astype(int)\n",
    "    dihedrals[\"atom1\"] = dihedrals[\"data\"].apply(lambda x: x[2]).astype(int)\n",
    "    dihedrals[\"atom2\"] = dihedrals[\"data\"].apply(lambda x: x[3]).astype(int)\n",
    "    dihedrals[\"atom3\"] = dihedrals[\"data\"].apply(lambda x: x[4]).astype(int)\n",
    "    dihedrals[\"atom4\"] = dihedrals[\"data\"].apply(lambda x: x[5]).astype(int)\n",
    "    return dihedrals\n",
    "\n",
    "dihedrals = get_dihedrals(slices[\"dihedrals\"])"
   ]
  },
  {
   "cell_type": "code",
   "execution_count": 12,
   "id": "8fac8488",
   "metadata": {},
   "outputs": [],
   "source": [
    "def write_mol_file():\n",
    "    f = open(\"nafion_ionomer_dreiding.mol\", \"w\")\n",
    "    f.write(\"# Created by Karina Chiñas Fuentes | Python | 16.08.24\\n\\n\")\n",
    "    f.write(\"\\n498 atoms\\n497 bonds\\n976 angles\\n1383 dihedrals\")\n",
    "    f.write(\"\\n\\n\")\n",
    "    f.write(\"Coords\\n\\n\")\n",
    "    for i in range(len(coords)):\n",
    "        f.write(f\"{coords['atom id'][i]}\\t{coords['x'][i]}\\t{coords['y'][i]}\\t{coords['z'][i]}\\n\")\n",
    "    f.write(\"\\nTypes\\n\\n\")\n",
    "    for i in range(len(coords)):\n",
    "        f.write(f\"{coords['atom id'][i]}\\t{coords['atom type'][i]}\\n\")\n",
    "    f.write(\"\\nCharges\\n\\n\")\n",
    "    for i in range(len(coords)):\n",
    "        f.write(f\"{coords['atom id'][i]}\\t{coords['charge'][i]}\\n\")\n",
    "    f.write(\"\\nBonds\\n\\n\")\n",
    "    for i in range(len(bonds)):\n",
    "        f.write(f\"{bonds['bond id'][i]}\\t{bonds['bond type'][i]}\\t\"+\n",
    "                f\"{bonds['atom1'][i]}\\t{bonds['atom2'][i]}\\n\")\n",
    "    f.write(\"\\nAngles\\n\\n\")\n",
    "    for i in range(len(angles)):\n",
    "        f.write(f\"{angles['angle id'][i]}\\t{angles['angle type'][i]}\\t\"+\n",
    "                f\"{angles['atom1'][i]}\\t{angles['atom2'][i]}\\t{angles['atom3'][i]}\\n\")\n",
    "    f.write(\"\\nDihedrals\\n\\n\")\n",
    "    for i in range(len(dihedrals)):\n",
    "        f.write(f\"{dihedrals['dihedral id'][i]}\\t{dihedrals['dihedral type'][i]}\\t{dihedrals['atom1'][i]}\\t\"+\n",
    "                f\"{dihedrals['atom2'][i]}\\t{dihedrals['atom3'][i]}\\t{dihedrals['atom4'][i]}\\n\")"
   ]
  },
  {
   "cell_type": "code",
   "execution_count": 13,
   "id": "9e2aa365",
   "metadata": {},
   "outputs": [],
   "source": [
    "#write_mol_file()"
   ]
  },
  {
   "cell_type": "code",
   "execution_count": null,
   "id": "e69b7262",
   "metadata": {},
   "outputs": [],
   "source": []
  }
 ],
 "metadata": {
  "kernelspec": {
   "display_name": "Python 3 (ipykernel)",
   "language": "python",
   "name": "python3"
  },
  "language_info": {
   "codemirror_mode": {
    "name": "ipython",
    "version": 3
   },
   "file_extension": ".py",
   "mimetype": "text/x-python",
   "name": "python",
   "nbconvert_exporter": "python",
   "pygments_lexer": "ipython3",
   "version": "3.10.12"
  }
 },
 "nbformat": 4,
 "nbformat_minor": 5
}
