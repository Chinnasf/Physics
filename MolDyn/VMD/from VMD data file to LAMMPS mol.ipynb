{
 "cells": [
  {
   "cell_type": "code",
   "execution_count": 1,
   "id": "e881b6b9",
   "metadata": {},
   "outputs": [],
   "source": [
    "import numpy as np\n",
    "import pandas as pd\n",
    "import matplotlib.pyplot as plt\n",
    "import seaborn as sns\n",
    "sns.set(style='ticks')\n",
    "\n",
    "import re\n",
    "import os"
   ]
  },
  {
   "cell_type": "code",
   "execution_count": 2,
   "id": "c3a19c6f",
   "metadata": {},
   "outputs": [
    {
     "name": "stdout",
     "output_type": "stream",
     "text": [
      " CARBON_BED_molecular_35A.data\t      displaced_carbon_bed_VMD.data\r\n",
      " carbon_bed_OPLS-AA_QeD_charges.mol  'from VMD data file to LAMMPS mol.ipynb'\r\n",
      " carbon_bed_OPSLAA_PARMS.lammps\r\n"
     ]
    }
   ],
   "source": [
    "! ls"
   ]
  },
  {
   "cell_type": "code",
   "execution_count": 3,
   "id": "ed13cd7f",
   "metadata": {},
   "outputs": [],
   "source": [
    "with open(\"displaced_carbon_bed_VMD.data\", \"r\") as file:\n",
    "    file_content = file.readlines()\n",
    "# Create a DataFrame with each line as a separate row in a single column\n",
    "data = pd.DataFrame(file_content, columns=['data']) "
   ]
  },
  {
   "cell_type": "code",
   "execution_count": 4,
   "id": "b7f04522",
   "metadata": {},
   "outputs": [],
   "source": [
    "slices = {\n",
    "    \"coords\":(43,2742),        # 2700\n",
    "    \"bonds\":(5449,9333),       # 3885\n",
    "    \"angles\":(9337,16786),     # 7450\n",
    "    \"dihedrals\":(16790,31144), # 14355\n",
    "    \"impropers\":(31148,33527)  # 2380\n",
    "}"
   ]
  },
  {
   "cell_type": "code",
   "execution_count": 5,
   "id": "cdecbd94",
   "metadata": {},
   "outputs": [],
   "source": [
    "def get_coords(slices):\n",
    "    coords = data.loc[slices[0]:slices[1]].copy().reset_index(drop=True)\n",
    "    coords[\"data\"] = coords[\"data\"].str.split('\\s').apply(lambda x: list(filter(None, x)))\n",
    "    coords[\"atom id\"] = coords[\"data\"].apply(lambda x: x[0]).astype(int)\n",
    "    coords[\"molecule id\"] = coords[\"data\"].apply(lambda x: x[1]).astype(int)\n",
    "    coords[\"atom type\"] = coords[\"data\"].apply(lambda x: x[2]).astype(int)\n",
    "    coords[\"VMD charge\"] = coords[\"data\"].apply(lambda x: x[3]).astype(float)\n",
    "    coords[\"x\"] = coords[\"data\"].apply(lambda x: x[4]).astype(float)\n",
    "    coords[\"y\"] = coords[\"data\"].apply(lambda x: x[5]).astype(float)\n",
    "    coords[\"z\"] = coords[\"data\"].apply(lambda x: x[6]).astype(float)\n",
    "    return coords\n",
    "\n",
    "coords = get_coords(slices[\"coords\"])\n",
    "\n",
    "def get_bonds(slices):\n",
    "    bonds = data.loc[slices[0]:slices[1]].copy().reset_index(drop=True)\n",
    "    bonds[\"data\"] = bonds[\"data\"].str.split('\\s').apply(lambda x: list(filter(None, x)))\n",
    "    bonds[\"bond id\"] = bonds[\"data\"].apply(lambda x: x[0]).astype(int)\n",
    "    bonds[\"bond type\"] = bonds[\"data\"].apply(lambda x: x[1]).astype(int)\n",
    "    bonds[\"atom1\"] = bonds[\"data\"].apply(lambda x: x[2]).astype(int)\n",
    "    bonds[\"atom2\"] = bonds[\"data\"].apply(lambda x: x[3]).astype(int)\n",
    "    return bonds\n",
    "\n",
    "bonds = get_bonds(slices[\"bonds\"])\n",
    "\n",
    "def get_angles(slices):\n",
    "    angles = data.loc[slices[0]:slices[1]].copy().reset_index(drop=True)\n",
    "    angles[\"data\"] = angles[\"data\"].str.split('\\s').apply(lambda x: list(filter(None, x)))\n",
    "    angles[\"angle id\"] = angles[\"data\"].apply(lambda x: x[0]).astype(int)\n",
    "    angles[\"angle type\"] = angles[\"data\"].apply(lambda x: x[1]).astype(int)\n",
    "    angles[\"atom1\"] = angles[\"data\"].apply(lambda x: x[2]).astype(int)\n",
    "    angles[\"atom2\"] = angles[\"data\"].apply(lambda x: x[3]).astype(int)\n",
    "    angles[\"atom3\"] = angles[\"data\"].apply(lambda x: x[4]).astype(int)\n",
    "    return angles\n",
    "\n",
    "angles = get_angles(slices[\"angles\"])\n",
    "\n",
    "def get_dihedrals(slices):\n",
    "    dihedrals = data.loc[slices[0]:slices[1]].copy().reset_index(drop=True)\n",
    "    dihedrals[\"data\"] = dihedrals[\"data\"].str.split('\\s').apply(lambda x: list(filter(None, x)))\n",
    "    dihedrals[\"dihedral id\"] = dihedrals[\"data\"].apply(lambda x: x[0]).astype(int)\n",
    "    dihedrals[\"dihedral type\"] = dihedrals[\"data\"].apply(lambda x: x[1]).astype(int)\n",
    "    dihedrals[\"atom1\"] = dihedrals[\"data\"].apply(lambda x: x[2]).astype(int)\n",
    "    dihedrals[\"atom2\"] = dihedrals[\"data\"].apply(lambda x: x[3]).astype(int)\n",
    "    dihedrals[\"atom3\"] = dihedrals[\"data\"].apply(lambda x: x[4]).astype(int)\n",
    "    dihedrals[\"atom4\"] = dihedrals[\"data\"].apply(lambda x: x[5]).astype(int)\n",
    "    return dihedrals\n",
    "\n",
    "dihedrals = get_dihedrals(slices[\"dihedrals\"])\n",
    "\n",
    "def get_impropers(slices):\n",
    "    impropers = data.loc[slices[0]:slices[1]].copy().reset_index(drop=True)\n",
    "    impropers[\"data\"] = impropers[\"data\"].str.split('\\s').apply(lambda x: list(filter(None, x)))\n",
    "    impropers[\"improper id\"] = impropers[\"data\"].apply(lambda x: x[0]).astype(int)\n",
    "    impropers[\"improper type\"] = impropers[\"data\"].apply(lambda x: x[1]).astype(int)\n",
    "    impropers[\"atom1\"] = impropers[\"data\"].apply(lambda x: x[2]).astype(int)\n",
    "    impropers[\"atom2\"] = impropers[\"data\"].apply(lambda x: x[3]).astype(int)\n",
    "    impropers[\"atom3\"] = impropers[\"data\"].apply(lambda x: x[4]).astype(int)\n",
    "    impropers[\"atom4\"] = impropers[\"data\"].apply(lambda x: x[5]).astype(int)\n",
    "    return impropers\n",
    "\n",
    "impropers = get_impropers(slices[\"impropers\"])"
   ]
  },
  {
   "cell_type": "markdown",
   "id": "e8c8f8f3",
   "metadata": {},
   "source": [
    "# FIX CHARGES\n",
    "\n",
    "### REMARKS\n",
    "\n",
    "* VMD dataset has its simulation cell as -20 20, -20 20, 0 100.\n",
    "* MATSQ dataset has its simulation cell as 0 40, 0 40, 0 100.\n",
    "* Only modify location of MATSQ dataset."
   ]
  },
  {
   "cell_type": "code",
   "execution_count": 6,
   "id": "7b7cd9dc",
   "metadata": {},
   "outputs": [],
   "source": [
    "def get_MATSQ_coords(slices):\n",
    "    with open(\"../MATSQ/carbon_bed_structure_dreiding.lammps\", \"r\") as file:\n",
    "        file_content = file.readlines()\n",
    "    # Create a DataFrame with each line as a separate row in a single column\n",
    "    MATSQ = pd.DataFrame(file_content, columns=['data'])     \n",
    "    \n",
    "    coords = MATSQ.loc[slices[0]:slices[1]].copy().reset_index(drop=True)\n",
    "    coords[\"data\"] = coords[\"data\"].str.split('\\s').apply(lambda x: list(filter(None, x)))\n",
    "    coords[\"atom id\"] = coords[\"data\"].apply(lambda x: x[0]).astype(int)\n",
    "    coords[\"molecule id\"] = coords[\"data\"].apply(lambda x: x[1]).astype(int)\n",
    "    coords[\"atom type\"] = coords[\"data\"].apply(lambda x: x[2]).astype(int)\n",
    "    coords[\"charge\"] = coords[\"data\"].apply(lambda x: x[3]).astype(float)\n",
    "    coords[\"x\"] = coords[\"data\"].apply(lambda x: x[4]).astype(float)\n",
    "    coords[\"x\"] = coords[\"x\"] - 20 \n",
    "    coords[\"y\"] = coords[\"data\"].apply(lambda x: x[5]).astype(float)\n",
    "    coords[\"y\"] = coords[\"y\"] - 20\n",
    "    coords[\"z\"] = coords[\"data\"].apply(lambda x: x[6]).astype(float)\n",
    "    return coords\n",
    "\n",
    "MATSQ_coords = get_MATSQ_coords([25,2724])"
   ]
  },
  {
   "cell_type": "code",
   "execution_count": 7,
   "id": "fa35aca7",
   "metadata": {
    "scrolled": false
   },
   "outputs": [],
   "source": [
    "MATSQ_coords[\"loc_key\"] = MATSQ_coords[\"x\"].apply(lambda x: round(x,3)).astype(str) + \\\n",
    "                          MATSQ_coords[\"y\"].apply(lambda x: round(x,3)).astype(str) + \\\n",
    "                          MATSQ_coords[\"z\"].apply(lambda x: round(x,3)).astype(str)\n",
    "MATSQ_coords[\"sum_key\"] = MATSQ_coords[\"x\"] + MATSQ_coords[\"y\"] + MATSQ_coords[\"z\"]\n",
    "MATSQ_coords[\"sum_key\"] = MATSQ_coords[\"sum_key\"].apply(lambda x: round(x,3))\n",
    "MATSQ_coords[\"sum_key\"] = MATSQ_coords[\"sum_key\"].apply(lambda x: x + 0.001 if x > 0 else x - 0.001) \n",
    "MATSQ_coords[\"sum_key\"] = MATSQ_coords[\"sum_key\"].apply(lambda x: round(x,3))"
   ]
  },
  {
   "cell_type": "code",
   "execution_count": 8,
   "id": "a8ad1e2d",
   "metadata": {},
   "outputs": [],
   "source": [
    "dict_charges_loc = dict(zip(MATSQ_coords[\"loc_key\"].values,MATSQ_coords[\"charge\"].values))\n",
    "dict_charges_sum = dict(zip(MATSQ_coords[\"sum_key\"].values,MATSQ_coords[\"charge\"].values))"
   ]
  },
  {
   "cell_type": "code",
   "execution_count": 9,
   "id": "fee6060a",
   "metadata": {},
   "outputs": [],
   "source": [
    "coords[\"loc_key\"] = coords[\"x\"].apply(lambda x: round(x,3)).astype(str) + \\\n",
    "                    coords[\"y\"].apply(lambda x: round(x,3)).astype(str) + \\\n",
    "                    coords[\"z\"].apply(lambda x: round(x,3)).astype(str)\n",
    "coords[\"sum_key\"] = coords[\"x\"] + coords[\"y\"] + coords[\"z\"]\n",
    "coords[\"sum_key\"] = coords[\"sum_key\"].apply(lambda x: round(x,3))"
   ]
  },
  {
   "cell_type": "markdown",
   "id": "2983539e",
   "metadata": {},
   "source": [
    "#### First, mapping by location"
   ]
  },
  {
   "cell_type": "code",
   "execution_count": 10,
   "id": "6d85dfee",
   "metadata": {},
   "outputs": [],
   "source": [
    "coords[\"charge\"] = coords[\"loc_key\"].map(dict_charges_loc)\n",
    "coords.loc[coords[coords[\"charge\"].isna()][\"sum_key\"].map(dict_charges_sum).index,\n",
    "           \"charge\"] = coords[coords[\"charge\"].isna()][\"sum_key\"].map(dict_charges_sum).values"
   ]
  },
  {
   "cell_type": "code",
   "execution_count": 11,
   "id": "ade27e02",
   "metadata": {},
   "outputs": [
    {
     "data": {
      "text/html": [
       "<div>\n",
       "<style scoped>\n",
       "    .dataframe tbody tr th:only-of-type {\n",
       "        vertical-align: middle;\n",
       "    }\n",
       "\n",
       "    .dataframe tbody tr th {\n",
       "        vertical-align: top;\n",
       "    }\n",
       "\n",
       "    .dataframe thead th {\n",
       "        text-align: right;\n",
       "    }\n",
       "</style>\n",
       "<table border=\"1\" class=\"dataframe\">\n",
       "  <thead>\n",
       "    <tr style=\"text-align: right;\">\n",
       "      <th></th>\n",
       "      <th>data</th>\n",
       "      <th>atom id</th>\n",
       "      <th>molecule id</th>\n",
       "      <th>atom type</th>\n",
       "      <th>VMD charge</th>\n",
       "      <th>x</th>\n",
       "      <th>y</th>\n",
       "      <th>z</th>\n",
       "      <th>loc_key</th>\n",
       "      <th>sum_key</th>\n",
       "      <th>charge</th>\n",
       "    </tr>\n",
       "  </thead>\n",
       "  <tbody>\n",
       "    <tr>\n",
       "      <th>1782</th>\n",
       "      <td>[1649, 1649, 1, 0, 12.407499999999999, -17.192...</td>\n",
       "      <td>1649</td>\n",
       "      <td>1649</td>\n",
       "      <td>1</td>\n",
       "      <td>0.0</td>\n",
       "      <td>12.4075</td>\n",
       "      <td>-17.192337</td>\n",
       "      <td>10.05</td>\n",
       "      <td>12.407-17.19210.05</td>\n",
       "      <td>5.265</td>\n",
       "      <td>NaN</td>\n",
       "    </tr>\n",
       "  </tbody>\n",
       "</table>\n",
       "</div>"
      ],
      "text/plain": [
       "                                                   data  atom id  molecule id  \\\n",
       "1782  [1649, 1649, 1, 0, 12.407499999999999, -17.192...     1649         1649   \n",
       "\n",
       "      atom type  VMD charge        x          y      z             loc_key  \\\n",
       "1782          1         0.0  12.4075 -17.192337  10.05  12.407-17.19210.05   \n",
       "\n",
       "      sum_key  charge  \n",
       "1782    5.265     NaN  "
      ]
     },
     "execution_count": 11,
     "metadata": {},
     "output_type": "execute_result"
    }
   ],
   "source": [
    "coords[coords[\"sum_key\"].isin([5.265])]\n",
    "#coords[coords[\"charge\"].isna()][\"sum_key\"].unique()"
   ]
  },
  {
   "cell_type": "code",
   "execution_count": 12,
   "id": "1c09ba1f",
   "metadata": {},
   "outputs": [
    {
     "data": {
      "text/html": [
       "<div>\n",
       "<style scoped>\n",
       "    .dataframe tbody tr th:only-of-type {\n",
       "        vertical-align: middle;\n",
       "    }\n",
       "\n",
       "    .dataframe tbody tr th {\n",
       "        vertical-align: top;\n",
       "    }\n",
       "\n",
       "    .dataframe thead th {\n",
       "        text-align: right;\n",
       "    }\n",
       "</style>\n",
       "<table border=\"1\" class=\"dataframe\">\n",
       "  <thead>\n",
       "    <tr style=\"text-align: right;\">\n",
       "      <th></th>\n",
       "      <th>data</th>\n",
       "      <th>atom id</th>\n",
       "      <th>molecule id</th>\n",
       "      <th>atom type</th>\n",
       "      <th>charge</th>\n",
       "      <th>x</th>\n",
       "      <th>y</th>\n",
       "      <th>z</th>\n",
       "      <th>loc_key</th>\n",
       "      <th>sum_key</th>\n",
       "    </tr>\n",
       "  </thead>\n",
       "  <tbody>\n",
       "    <tr>\n",
       "      <th>1648</th>\n",
       "      <td>[1649, 4, 1, -0.05957, 32.40800000, 2.80800000...</td>\n",
       "      <td>1649</td>\n",
       "      <td>4</td>\n",
       "      <td>1</td>\n",
       "      <td>-0.05957</td>\n",
       "      <td>12.408</td>\n",
       "      <td>-17.192</td>\n",
       "      <td>10.05</td>\n",
       "      <td>12.408-17.19210.05</td>\n",
       "      <td>5.267</td>\n",
       "    </tr>\n",
       "  </tbody>\n",
       "</table>\n",
       "</div>"
      ],
      "text/plain": [
       "                                                   data  atom id  molecule id  \\\n",
       "1648  [1649, 4, 1, -0.05957, 32.40800000, 2.80800000...     1649            4   \n",
       "\n",
       "      atom type   charge       x       y      z             loc_key  sum_key  \n",
       "1648          1 -0.05957  12.408 -17.192  10.05  12.408-17.19210.05    5.267  "
      ]
     },
     "execution_count": 12,
     "metadata": {},
     "output_type": "execute_result"
    }
   ],
   "source": [
    "MATSQ_coords[MATSQ_coords[\"sum_key\"].isin([5.267])]"
   ]
  },
  {
   "cell_type": "markdown",
   "id": "98d547bf",
   "metadata": {},
   "source": [
    "### Lol, they seem to conserve the atom ID :v qude'e como est'upida. "
   ]
  },
  {
   "cell_type": "code",
   "execution_count": 13,
   "id": "4ddce416",
   "metadata": {},
   "outputs": [],
   "source": [
    "dict_charges_ID = dict(zip(MATSQ_coords[\"atom id\"].values,MATSQ_coords[\"charge\"].values))"
   ]
  },
  {
   "cell_type": "code",
   "execution_count": 14,
   "id": "adbccced",
   "metadata": {},
   "outputs": [],
   "source": [
    "coords.loc[coords[coords[\"charge\"].isna()][\"atom id\"].map(dict_charges_ID).index,\n",
    "           \"charge\"] = coords[coords[\"charge\"].isna()][\"atom id\"].map(dict_charges_ID).values"
   ]
  },
  {
   "cell_type": "code",
   "execution_count": 15,
   "id": "f69720b3",
   "metadata": {},
   "outputs": [
    {
     "data": {
      "text/plain": [
       "array([ True])"
      ]
     },
     "execution_count": 15,
     "metadata": {},
     "output_type": "execute_result"
    }
   ],
   "source": [
    "pd.Series(coords.sort_values(\"atom id\").sort_values(\"charge\")[\"atom id\"].values == \n",
    "          MATSQ_coords.sort_values(\"atom id\").sort_values(\"charge\")[\"atom id\"].values).unique()"
   ]
  },
  {
   "cell_type": "code",
   "execution_count": 16,
   "id": "6856caae",
   "metadata": {},
   "outputs": [
    {
     "data": {
      "text/plain": [
       "array([False])"
      ]
     },
     "execution_count": 16,
     "metadata": {},
     "output_type": "execute_result"
    }
   ],
   "source": [
    "coords[\"charge\"].isna().unique()"
   ]
  },
  {
   "cell_type": "code",
   "execution_count": 17,
   "id": "6f9d1542",
   "metadata": {},
   "outputs": [],
   "source": [
    "PARAMS_coeffs = {\"atom type\":6, \"bonds\":6, \"angles\":4, \"dihedrals\":16, \"impropers\":1}"
   ]
  },
  {
   "cell_type": "code",
   "execution_count": 18,
   "id": "5d27be4d",
   "metadata": {},
   "outputs": [],
   "source": [
    "def write_mol_file():\n",
    "    f = open(\"carbon_bed_OPLS-AA_QeD_charges.mol\", \"w\")\n",
    "    f.write(\"# Created by Karina Chiñas Fuentes | Python | 16.08.24\\n\\n\")\n",
    "    f.write(f\"\\n{len(coords)} atoms\\n{len(bonds)} bonds\\n{len(angles)} angles\\n{len(dihedrals)} dihedrals\"+\n",
    "            f\"\\n{len(impropers)} impropers\")\n",
    "    f.write(\"\\n\\n\")\n",
    "    f.write(\"Coords\\n\\n\")\n",
    "    for i in range(len(coords)):\n",
    "        f.write(f\"{coords['atom id'][i]}\\t{coords['x'][i]}\\t{coords['y'][i]}\\t{coords['z'][i]}\\n\")\n",
    "    f.write(\"\\nTypes\\n\\n\")\n",
    "    for i in range(len(coords)):\n",
    "        f.write(f\"{coords['atom id'][i]} {PARAMS_coeffs['atom type']}\\n\")\n",
    "    f.write(\"\\nCharges\\n\\n\")\n",
    "    for i in range(len(coords)):\n",
    "        f.write(f\"{coords['atom id'][i]}\\t{coords['charge'][i]}\\n\")\n",
    "    f.write(\"\\nBonds\\n\\n\")\n",
    "    for i in range(len(bonds)):\n",
    "        f.write(f\"{bonds['bond id'][i]}\\t{PARAMS_coeffs['bonds']}\\t\"+\n",
    "                f\"{bonds['atom1'][i]}\\t{bonds['atom2'][i]}\\n\")\n",
    "    f.write(\"\\nAngles\\n\\n\")\n",
    "    for i in range(len(angles)):\n",
    "        f.write(f\"{angles['angle id'][i]}\\t{PARAMS_coeffs['angles']}\\t\"+\n",
    "                f\"{angles['atom1'][i]}\\t{angles['atom2'][i]}\\t{angles['atom3'][i]}\\n\")\n",
    "    f.write(\"\\nDihedrals\\n\\n\")\n",
    "    for i in range(len(dihedrals)):\n",
    "        f.write(f\"{dihedrals['dihedral id'][i]}\\t{PARAMS_coeffs['dihedrals']}\\t{dihedrals['atom1'][i]}\\t\"+\n",
    "                f\"{dihedrals['atom2'][i]}\\t{dihedrals['atom3'][i]}\\t{dihedrals['atom4'][i]}\\n\")\n",
    "    f.write(\"\\nImpropers\\n\\n\")\n",
    "    for i in range(len(impropers)):\n",
    "        f.write(f\"{impropers['improper id'][i]}\\t{PARAMS_coeffs['impropers']}\\t{impropers['atom1'][i]}\\t\"+\n",
    "                f\"{impropers['atom2'][i]}\\t{impropers['atom3'][i]}\\t{impropers['atom4'][i]}\\n\")"
   ]
  },
  {
   "cell_type": "code",
   "execution_count": 19,
   "id": "f29e5d3e",
   "metadata": {},
   "outputs": [],
   "source": [
    "write_mol_file()"
   ]
  },
  {
   "cell_type": "code",
   "execution_count": 20,
   "id": "c488643e",
   "metadata": {},
   "outputs": [
    {
     "name": "stdout",
     "output_type": "stream",
     "text": [
      " CARBON_BED_molecular_35A.data\t      displaced_carbon_bed_VMD.data\r\n",
      " carbon_bed_OPLS-AA_QeD_charges.mol  'from VMD data file to LAMMPS mol.ipynb'\r\n",
      " carbon_bed_OPSLAA_PARMS.lammps\r\n"
     ]
    }
   ],
   "source": [
    "! ls"
   ]
  },
  {
   "cell_type": "code",
   "execution_count": 21,
   "id": "27e858f4",
   "metadata": {},
   "outputs": [],
   "source": [
    "#! cp carbon_bed_OPLS-AA_QeD_charges.mol /home/kchinas/Documents/PhD/LAMMPS/CL/2ndMODEL/1stAttmp/merge/VMD_C/data"
   ]
  },
  {
   "cell_type": "code",
   "execution_count": 25,
   "id": "826a3a22",
   "metadata": {},
   "outputs": [],
   "source": [
    "pd.options.display.float_format = \"{:.4f}\".format\n",
    "\n",
    "coords[\"x\"] = coords[\"x\"].apply(lambda x: round(x,4))\n",
    "coords[\"y\"] = coords[\"y\"].apply(lambda x: round(x,4))\n",
    "coords[\"z\"] = coords[\"z\"].apply(lambda x: round(x,4))"
   ]
  },
  {
   "cell_type": "code",
   "execution_count": 26,
   "id": "36c2c4a0",
   "metadata": {},
   "outputs": [
    {
     "data": {
      "text/html": [
       "<div>\n",
       "<style scoped>\n",
       "    .dataframe tbody tr th:only-of-type {\n",
       "        vertical-align: middle;\n",
       "    }\n",
       "\n",
       "    .dataframe tbody tr th {\n",
       "        vertical-align: top;\n",
       "    }\n",
       "\n",
       "    .dataframe thead th {\n",
       "        text-align: right;\n",
       "    }\n",
       "</style>\n",
       "<table border=\"1\" class=\"dataframe\">\n",
       "  <thead>\n",
       "    <tr style=\"text-align: right;\">\n",
       "      <th></th>\n",
       "      <th>data</th>\n",
       "      <th>atom id</th>\n",
       "      <th>molecule id</th>\n",
       "      <th>atom type</th>\n",
       "      <th>VMD charge</th>\n",
       "      <th>x</th>\n",
       "      <th>y</th>\n",
       "      <th>z</th>\n",
       "      <th>loc_key</th>\n",
       "      <th>sum_key</th>\n",
       "      <th>charge</th>\n",
       "    </tr>\n",
       "  </thead>\n",
       "  <tbody>\n",
       "    <tr>\n",
       "      <th>0</th>\n",
       "      <td>[1, 1, 1, 0, -18.0795, -18.420361, 0, 0, 0, 0]</td>\n",
       "      <td>1</td>\n",
       "      <td>1</td>\n",
       "      <td>1</td>\n",
       "      <td>0.0000</td>\n",
       "      <td>-18.0795</td>\n",
       "      <td>-18.4204</td>\n",
       "      <td>0.0000</td>\n",
       "      <td>-18.079-18.420.0</td>\n",
       "      <td>-36.5000</td>\n",
       "      <td>-0.0170</td>\n",
       "    </tr>\n",
       "    <tr>\n",
       "      <th>1</th>\n",
       "      <td>[2, 2, 1, 0, -18.7885, -17.192337000000002, 0,...</td>\n",
       "      <td>2</td>\n",
       "      <td>2</td>\n",
       "      <td>1</td>\n",
       "      <td>0.0000</td>\n",
       "      <td>-18.7885</td>\n",
       "      <td>-17.1923</td>\n",
       "      <td>0.0000</td>\n",
       "      <td>-18.788-17.1920.0</td>\n",
       "      <td>-35.9810</td>\n",
       "      <td>-0.0442</td>\n",
       "    </tr>\n",
       "    <tr>\n",
       "      <th>2</th>\n",
       "      <td>[3, 3, 1, 0, -16.6615, -18.420361, 0, 0, 0, 0]</td>\n",
       "      <td>3</td>\n",
       "      <td>3</td>\n",
       "      <td>1</td>\n",
       "      <td>0.0000</td>\n",
       "      <td>-16.6615</td>\n",
       "      <td>-18.4204</td>\n",
       "      <td>0.0000</td>\n",
       "      <td>-16.662-18.420.0</td>\n",
       "      <td>-35.0820</td>\n",
       "      <td>-0.0514</td>\n",
       "    </tr>\n",
       "    <tr>\n",
       "      <th>3</th>\n",
       "      <td>[4, 4, 1, 0, -15.9525, -17.192337000000002, 0,...</td>\n",
       "      <td>4</td>\n",
       "      <td>4</td>\n",
       "      <td>1</td>\n",
       "      <td>0.0000</td>\n",
       "      <td>-15.9525</td>\n",
       "      <td>-17.1923</td>\n",
       "      <td>0.0000</td>\n",
       "      <td>-15.953-17.1920.0</td>\n",
       "      <td>-33.1450</td>\n",
       "      <td>0.0516</td>\n",
       "    </tr>\n",
       "    <tr>\n",
       "      <th>4</th>\n",
       "      <td>[5, 5, 1, 0, -13.8255, -18.420361, 0, 0, 0, 0]</td>\n",
       "      <td>5</td>\n",
       "      <td>5</td>\n",
       "      <td>1</td>\n",
       "      <td>0.0000</td>\n",
       "      <td>-13.8255</td>\n",
       "      <td>-18.4204</td>\n",
       "      <td>0.0000</td>\n",
       "      <td>-13.825-18.420.0</td>\n",
       "      <td>-32.2460</td>\n",
       "      <td>-0.0596</td>\n",
       "    </tr>\n",
       "    <tr>\n",
       "      <th>...</th>\n",
       "      <td>...</td>\n",
       "      <td>...</td>\n",
       "      <td>...</td>\n",
       "      <td>...</td>\n",
       "      <td>...</td>\n",
       "      <td>...</td>\n",
       "      <td>...</td>\n",
       "      <td>...</td>\n",
       "      <td>...</td>\n",
       "      <td>...</td>\n",
       "      <td>...</td>\n",
       "    </tr>\n",
       "    <tr>\n",
       "      <th>2695</th>\n",
       "      <td>[2696, 2696, 1, 0, 13.825500999999996, 17.1923...</td>\n",
       "      <td>2696</td>\n",
       "      <td>2696</td>\n",
       "      <td>1</td>\n",
       "      <td>0.0000</td>\n",
       "      <td>13.8255</td>\n",
       "      <td>17.1923</td>\n",
       "      <td>13.4000</td>\n",
       "      <td>13.82617.19213.4</td>\n",
       "      <td>44.4180</td>\n",
       "      <td>-0.0596</td>\n",
       "    </tr>\n",
       "    <tr>\n",
       "      <th>2696</th>\n",
       "      <td>[2697, 2697, 1, 0, 15.952500999999998, 15.9643...</td>\n",
       "      <td>2697</td>\n",
       "      <td>2697</td>\n",
       "      <td>1</td>\n",
       "      <td>0.0000</td>\n",
       "      <td>15.9525</td>\n",
       "      <td>15.9643</td>\n",
       "      <td>13.4000</td>\n",
       "      <td>15.95315.96413.4</td>\n",
       "      <td>45.3170</td>\n",
       "      <td>0.0451</td>\n",
       "    </tr>\n",
       "    <tr>\n",
       "      <th>2697</th>\n",
       "      <td>[2698, 2698, 1, 0, 15.243502, 17.1923370000000...</td>\n",
       "      <td>2698</td>\n",
       "      <td>2698</td>\n",
       "      <td>1</td>\n",
       "      <td>0.0000</td>\n",
       "      <td>15.2435</td>\n",
       "      <td>17.1923</td>\n",
       "      <td>13.4000</td>\n",
       "      <td>15.24417.19213.4</td>\n",
       "      <td>45.8360</td>\n",
       "      <td>-0.0599</td>\n",
       "    </tr>\n",
       "    <tr>\n",
       "      <th>2698</th>\n",
       "      <td>[2699, 2699, 1, 0, 17.370500999999997, 15.9643...</td>\n",
       "      <td>2699</td>\n",
       "      <td>2699</td>\n",
       "      <td>1</td>\n",
       "      <td>0.0000</td>\n",
       "      <td>17.3705</td>\n",
       "      <td>15.9643</td>\n",
       "      <td>13.4000</td>\n",
       "      <td>17.37115.96413.4</td>\n",
       "      <td>46.7350</td>\n",
       "      <td>0.0208</td>\n",
       "    </tr>\n",
       "    <tr>\n",
       "      <th>2699</th>\n",
       "      <td>[2700, 2700, 1, 0, 18.079499999999996, 17.1923...</td>\n",
       "      <td>2700</td>\n",
       "      <td>2700</td>\n",
       "      <td>1</td>\n",
       "      <td>0.0000</td>\n",
       "      <td>18.0795</td>\n",
       "      <td>17.1923</td>\n",
       "      <td>13.4000</td>\n",
       "      <td>18.07917.19213.4</td>\n",
       "      <td>48.6720</td>\n",
       "      <td>0.0406</td>\n",
       "    </tr>\n",
       "  </tbody>\n",
       "</table>\n",
       "<p>2700 rows × 11 columns</p>\n",
       "</div>"
      ],
      "text/plain": [
       "                                                   data  atom id  molecule id  \\\n",
       "0        [1, 1, 1, 0, -18.0795, -18.420361, 0, 0, 0, 0]        1            1   \n",
       "1     [2, 2, 1, 0, -18.7885, -17.192337000000002, 0,...        2            2   \n",
       "2        [3, 3, 1, 0, -16.6615, -18.420361, 0, 0, 0, 0]        3            3   \n",
       "3     [4, 4, 1, 0, -15.9525, -17.192337000000002, 0,...        4            4   \n",
       "4        [5, 5, 1, 0, -13.8255, -18.420361, 0, 0, 0, 0]        5            5   \n",
       "...                                                 ...      ...          ...   \n",
       "2695  [2696, 2696, 1, 0, 13.825500999999996, 17.1923...     2696         2696   \n",
       "2696  [2697, 2697, 1, 0, 15.952500999999998, 15.9643...     2697         2697   \n",
       "2697  [2698, 2698, 1, 0, 15.243502, 17.1923370000000...     2698         2698   \n",
       "2698  [2699, 2699, 1, 0, 17.370500999999997, 15.9643...     2699         2699   \n",
       "2699  [2700, 2700, 1, 0, 18.079499999999996, 17.1923...     2700         2700   \n",
       "\n",
       "      atom type  VMD charge        x        y       z            loc_key  \\\n",
       "0             1      0.0000 -18.0795 -18.4204  0.0000   -18.079-18.420.0   \n",
       "1             1      0.0000 -18.7885 -17.1923  0.0000  -18.788-17.1920.0   \n",
       "2             1      0.0000 -16.6615 -18.4204  0.0000   -16.662-18.420.0   \n",
       "3             1      0.0000 -15.9525 -17.1923  0.0000  -15.953-17.1920.0   \n",
       "4             1      0.0000 -13.8255 -18.4204  0.0000   -13.825-18.420.0   \n",
       "...         ...         ...      ...      ...     ...                ...   \n",
       "2695          1      0.0000  13.8255  17.1923 13.4000   13.82617.19213.4   \n",
       "2696          1      0.0000  15.9525  15.9643 13.4000   15.95315.96413.4   \n",
       "2697          1      0.0000  15.2435  17.1923 13.4000   15.24417.19213.4   \n",
       "2698          1      0.0000  17.3705  15.9643 13.4000   17.37115.96413.4   \n",
       "2699          1      0.0000  18.0795  17.1923 13.4000   18.07917.19213.4   \n",
       "\n",
       "      sum_key  charge  \n",
       "0    -36.5000 -0.0170  \n",
       "1    -35.9810 -0.0442  \n",
       "2    -35.0820 -0.0514  \n",
       "3    -33.1450  0.0516  \n",
       "4    -32.2460 -0.0596  \n",
       "...       ...     ...  \n",
       "2695  44.4180 -0.0596  \n",
       "2696  45.3170  0.0451  \n",
       "2697  45.8360 -0.0599  \n",
       "2698  46.7350  0.0208  \n",
       "2699  48.6720  0.0406  \n",
       "\n",
       "[2700 rows x 11 columns]"
      ]
     },
     "execution_count": 26,
     "metadata": {},
     "output_type": "execute_result"
    }
   ],
   "source": [
    "coords"
   ]
  },
  {
   "cell_type": "markdown",
   "id": "66a4d4f6",
   "metadata": {},
   "source": [
    "# Write LAMMPS data file"
   ]
  },
  {
   "cell_type": "code",
   "execution_count": 61,
   "id": "9d835b0c",
   "metadata": {},
   "outputs": [],
   "source": [
    "# Fix for considering other atoms:\n",
    "PARAMS_C = {\"atom type\":6, \"bonds\":6, \"angles\":4, \"dihedrals\":16, \"impropers\":1}\n",
    "totTypes = {\"atom\":8, \"bond\":7, \"angle\":5, \"dihedral\":16, \"improper\":1}"
   ]
  },
  {
   "cell_type": "code",
   "execution_count": 68,
   "id": "658e4c7b",
   "metadata": {},
   "outputs": [],
   "source": [
    "def write_lmpdat_file():\n",
    "    f = open(\"carbon_bed_OPLS-AA_QeD_charges.data\", \"w\")\n",
    "    f.write(\"# Created by Karina Chiñas Fuentes | Python | 19.08.24\\n\\n\")\n",
    "    f.write(f\"{len(coords)} atoms\\n{len(bonds)} bonds\\n{len(angles)} angles\\n\"+\n",
    "            f\"{len(dihedrals)} dihedrals\\n{len(impropers)} impropers\\n\"+\n",
    "            f\"{total_amount_of_types['atom']} atom types\\n{total_amount_of_types['bond']} bond types\\n\"+\n",
    "            f\"{total_amount_of_types['angle']} angle types\\n{total_amount_of_types['dihedral']} dihedral types\"+\n",
    "            f\"\\n{total_amount_of_types['improper']} improper types\\n\\n\")\n",
    "    # simulation box dimensions\n",
    "    f.write(\"-20 20 xlo xhi\\n\")\n",
    "    f.write(\"-20 20 ylo yhi\\n\")\n",
    "    f.write(\" 0 300 zlo zhi\\n\\n\")\n",
    "    f.write(f\"# Pair Coeffs\\n# {PARAMS_C['atom type']}  CA\\n\\n# Bond Coeffs\\n# \"+\n",
    "            f\"{PARAMS_C['bonds']}  CA-CA\\n\\n# Angle Coeffs\\n# {PARAMS_C['angles']}  CA-CA-CA\\n\\n\"+\n",
    "            f\"# Dihedral Coeffs\\n# {PARAMS_C['dihedrals']}  CA-CA-CA-CA\\n\\n# Improper Coeffs\\n#\"+\n",
    "            f\" {PARAMS_C['impropers']}  CA-CA-CA-CA\\n\\n\")\n",
    "    # masses\n",
    "    f.write(\"Masses\\n\\n\")\n",
    "    f.write(\"1     18.998400  # F_  | Nafion   (DREIDING)\\n\"+\n",
    "            \"2     12.011000  # C_3 | Nafion   (DREIDING)\\n\"+\n",
    "            \"3     15.999400  # O_3 | Nafion   (DREIDING)\\n\"+\n",
    "            \"4     15.999400  # O_2 | Nafion   (DREIDING)\\n\"+\n",
    "            \"5     32.060000  # S_3 | Nafion   (DREIDING)\\n\"+\n",
    "            \"6     12.011000  # C   | Graphite (OPLSAA-AA)\\n\"+\n",
    "            \"7     1.008      # H   | Water    (SPC/Fw)\\n\"+\n",
    "            \"8     15.999400  # O   | Water    (SPC/Fw)\\n\\n\")\n",
    "    # atoms\n",
    "    f.write(\"Atoms\\n\\n\")\n",
    "    for i in range(len(coords)):\n",
    "        f.write(f\"{coords['atom id'][i]}\\t{coords['atom id'][i]}\\t{PARAMS_C['atom type']}\\t\"+\n",
    "                f\"{coords['charge'][i]}\\t{coords['x'][i]}\\t{coords['y'][i]}\\t{coords['z'][i]} # CA GRA\\n\")"
   ]
  },
  {
   "cell_type": "code",
   "execution_count": 69,
   "id": "40e2295e",
   "metadata": {},
   "outputs": [],
   "source": [
    "write_lmpdat_file()"
   ]
  },
  {
   "cell_type": "code",
   "execution_count": 70,
   "id": "a4fc3de9",
   "metadata": {},
   "outputs": [],
   "source": [
    "! code carbon_bed_OPLS-AA_QeD_charges.data"
   ]
  },
  {
   "cell_type": "code",
   "execution_count": null,
   "id": "d046ed81",
   "metadata": {},
   "outputs": [],
   "source": []
  }
 ],
 "metadata": {
  "kernelspec": {
   "display_name": "Python 3 (ipykernel)",
   "language": "python",
   "name": "python3"
  },
  "language_info": {
   "codemirror_mode": {
    "name": "ipython",
    "version": 3
   },
   "file_extension": ".py",
   "mimetype": "text/x-python",
   "name": "python",
   "nbconvert_exporter": "python",
   "pygments_lexer": "ipython3",
   "version": "3.10.12"
  }
 },
 "nbformat": 4,
 "nbformat_minor": 5
}
