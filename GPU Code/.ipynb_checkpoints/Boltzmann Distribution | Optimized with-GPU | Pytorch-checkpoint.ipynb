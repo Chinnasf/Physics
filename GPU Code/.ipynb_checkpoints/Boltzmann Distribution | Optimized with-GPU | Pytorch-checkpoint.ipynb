{
 "cells": [
  {
   "cell_type": "markdown",
   "id": "9d0a5593",
   "metadata": {},
   "source": [
    "# Boltzmann Distribution | Gas Inside a Box\n",
    "\n",
    "This notebook is based on [this video](https://youtu.be/iSEAidM-DDI?si=LqyZ0ciPLclX7Ksj). Most of the content comes from [Mr. P Solver](https://www.youtube.com/@MrPSolver); here, I also add my insight on the analysis. \n",
    "\n",
    "23.Oct.2023"
   ]
  },
  {
   "cell_type": "code",
   "execution_count": 1,
   "id": "c6f56177",
   "metadata": {},
   "outputs": [],
   "source": [
    "import torch\n",
    "import os\n",
    "import matplotlib\n",
    "import matplotlib.pyplot as plt\n",
    "import pandas as pd\n",
    "import numpy as np\n",
    "import scienceplots\n",
    "\n",
    "from matplotlib import animation\n",
    "from matplotlib.animation import PillowWriter\n",
    "\n",
    "plt.style.use(['science', 'notebook'])"
   ]
  },
  {
   "cell_type": "code",
   "execution_count": 2,
   "id": "94f10e82",
   "metadata": {},
   "outputs": [],
   "source": [
    "device = torch.device('cuda' if torch.cuda.is_available() else 'cpu')"
   ]
  },
  {
   "cell_type": "code",
   "execution_count": 3,
   "id": "a42a5d17",
   "metadata": {},
   "outputs": [],
   "source": [
    "n_particles = 15\n",
    "radius = 0.06  # [m]"
   ]
  },
  {
   "cell_type": "code",
   "execution_count": 4,
   "id": "cfaee64a",
   "metadata": {},
   "outputs": [],
   "source": [
    "r = torch.rand((2, n_particles)).to(device)\n",
    "# discern the particles that start on the left and right\n",
    "right_xbool = r[0] > 0.5; left_xbool = r[0] <= 0.5"
   ]
  },
  {
   "cell_type": "code",
   "execution_count": 5,
   "id": "2a785901",
   "metadata": {},
   "outputs": [
    {
     "data": {
      "text/plain": [
       "tensor([ True,  True, False,  True, False,  True, False,  True,  True, False,\n",
       "        False,  True, False,  True,  True], device='cuda:0')"
      ]
     },
     "execution_count": 5,
     "metadata": {},
     "output_type": "execute_result"
    }
   ],
   "source": [
    "# The tensor lives in the graphic card\n",
    "right_xbool"
   ]
  },
  {
   "cell_type": "code",
   "execution_count": 6,
   "id": "2abd0292",
   "metadata": {},
   "outputs": [],
   "source": [
    "# ID of individual particles\n",
    "id_particles = torch.arange(n_particles)"
   ]
  },
  {
   "cell_type": "code",
   "execution_count": 7,
   "id": "6babd88f",
   "metadata": {},
   "outputs": [
    {
     "data": {
      "image/png": "[encoded data removed]",
      "text/plain": [
       "<Figure size 400x400 with 1 Axes>"
      ]
     },
     "metadata": {},
     "output_type": "display_data"
    }
   ],
   "source": [
    "# Notice that one must to take the tensor out of the graphic card to allow the plotting of data\n",
    "plt.figure(figsize=(4,4))\n",
    "plt.scatter(r[0][right_xbool].cpu(), r[1][right_xbool].cpu(), c=\"r\", s=17)\n",
    "plt.scatter(r[0][left_xbool].cpu(),  r[1][left_xbool].cpu(), c=\"b\", s=17);\n",
    "# The idea is to have the blue particles colliding the red particles and vice versa at 500 m/s"
   ]
  },
  {
   "cell_type": "code",
   "execution_count": 8,
   "id": "aed60d46",
   "metadata": {},
   "outputs": [],
   "source": [
    "v = torch.zeros((2,n_particles)).to(device)\n",
    "v[0][right_xbool] = -500\n",
    "v[0][left_xbool] = 500"
   ]
  },
  {
   "cell_type": "markdown",
   "id": "2d1a5111",
   "metadata": {},
   "source": [
    "### Distance between pairs\n",
    "\n",
    "The total distance is thus\n",
    "\n",
    "$$\n",
    "    d_{ij} = \\sqrt{\\Delta x_{ij}^2 + \\Delta y_{ij}^2}\n",
    "$$"
   ]
  },
  {
   "cell_type": "code",
   "execution_count": 9,
   "id": "1fcf3537",
   "metadata": {},
   "outputs": [],
   "source": [
    "ID_pairs = torch.combinations(id_particles,2).to(device) # ID pairs\n",
    "x_pairs  = torch.combinations(r[0],2).to(device)         # x-distance pairs\n",
    "y_pairs  = torch.combinations(r[1],2).to(device)         # y-distance pairs\n",
    "dx_pairs = torch.diff(x_pairs, axis=1).ravel()           # Δx_ij | .ravel() to get a 1D-array\n",
    "dy_pairs = torch.diff(y_pairs, axis=1).ravel()           # Δy_ij | .ravel() to get a 1D-array\n",
    "d_ij = torch.sqrt( dx_pairs*dx_pairs + dy_pairs*dy_pairs ) # Euclidean distance between particles"
   ]
  },
  {
   "cell_type": "markdown",
   "id": "71a57c3f",
   "metadata": {},
   "source": [
    "### Elastic Collisions\n",
    "\n",
    "At each iteration, the total distance is checked such that it sets a new velocity when it takes a lower value than the diamater of the particle. For that, one considers the following elastic collision\n",
    "\n",
    "$$\n",
    "        \\vec{v}^{new}_i = \\vec{v}_i - \\frac{(\\vec{v}_i - \\vec{v}_j)\\cdot(\\vec{r}_i - \\vec{r}_j)}{\\mid\\vec{r}_i - \\vec{r}_j\\mid^2} (\\vec{r}_i - \\vec{r}_j),\n",
    "$$\n",
    "\n",
    "here, $i=\\{1,2\\}$ is the indexing of particles collinding."
   ]
  },
  {
   "cell_type": "code",
   "execution_count": 11,
   "id": "70143307",
   "metadata": {},
   "outputs": [
    {
     "data": {
      "text/plain": [
       "tensor([[ 0,  8],\n",
       "        [ 1, 11],\n",
       "        [ 6,  9],\n",
       "        [ 6, 12],\n",
       "        [ 9, 12]], device='cuda:0')"
      ]
     },
     "execution_count": 11,
     "metadata": {},
     "output_type": "execute_result"
    }
   ],
   "source": [
    "# Colliding particles:\n",
    "id_colliding_pairs = ID_pairs[d_ij <= 2*radius]\n",
    "id_colliding_pairs"
   ]
  },
  {
   "cell_type": "code",
   "execution_count": 13,
   "id": "7dd0610d",
   "metadata": {},
   "outputs": [],
   "source": [
    "# Colliding particles: velocities and position\n",
    "\n",
    "v1 = v[:,id_colliding_pairs[:,0]]\n",
    "v2 = v[:,id_colliding_pairs[:,1]]\n",
    "r1 = r[:,id_colliding_pairs[:,0]]\n",
    "r2 = r[:,id_colliding_pairs[:,1]]"
   ]
  },
  {
   "cell_type": "code",
   "execution_count": 16,
   "id": "1a748f0a",
   "metadata": {},
   "outputs": [],
   "source": [
    "# New velocities\n",
    "v1_new = v1 - ( torch.sum( (v1-v2)*(r1-r2),axis=0 )/torch.sum((r1-r2)**2, axis=0) ) * (r1-r2)\n",
    "v2_new = v2 - ( torch.sum( (v2-v1)*(r2-r1),axis=0 )/torch.sum((r2-r1)**2, axis=0) ) * (r2-r1)"
   ]
  },
  {
   "cell_type": "code",
   "execution_count": 20,
   "id": "b54772c3",
   "metadata": {},
   "outputs": [
    {
     "data": {
      "text/plain": [
       "torch.Size([2, 15])"
      ]
     },
     "execution_count": 20,
     "metadata": {},
     "output_type": "execute_result"
    }
   ],
   "source": []
  },
  {
   "cell_type": "code",
   "execution_count": null,
   "id": "32e467a1",
   "metadata": {},
   "outputs": [],
   "source": []
  }
 ],
 "metadata": {
  "kernelspec": {
   "display_name": "Python 3 (ipykernel)",
   "language": "python",
   "name": "python3"
  },
  "language_info": {
   "codemirror_mode": {
    "name": "ipython",
    "version": 3
   },
   "file_extension": ".py",
   "mimetype": "text/x-python",
   "name": "python",
   "nbconvert_exporter": "python",
   "pygments_lexer": "ipython3",
   "version": "3.10.12"
  }
 },
 "nbformat": 4,
 "nbformat_minor": 5
}
