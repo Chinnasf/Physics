{
 "cells": [
  {
   "cell_type": "markdown",
   "id": "9d0a5593",
   "metadata": {},
   "source": [
    "# Boltzmann Distribution | Gas Inside a Box\n",
    "\n",
    "This notebook is based on [this video](https://youtu.be/iSEAidM-DDI?si=LqyZ0ciPLclX7Ksj). Most of the content comes from [Mr. P Solver](https://www.youtube.com/@MrPSolver); here, I also add my insight on the analysis. \n",
    "\n",
    "23.Oct.2023"
   ]
  },
  {
   "cell_type": "code",
   "execution_count": 1,
   "id": "c6f56177",
   "metadata": {},
   "outputs": [],
   "source": [
    "import torch\n",
    "import os\n",
    "import matplotlib\n",
    "import matplotlib.pyplot as plt\n",
    "import pandas as pd\n",
    "import numpy as np\n",
    "import scienceplots\n",
    "\n",
    "from matplotlib import animation\n",
    "from matplotlib.animation import PillowWriter\n",
    "\n",
    "plt.style.use(['science', 'notebook'])\n",
    "device = torch.device('cuda' if torch.cuda.is_available() else 'cpu')"
   ]
  },
  {
   "cell_type": "code",
   "execution_count": 2,
   "id": "5a771271",
   "metadata": {},
   "outputs": [],
   "source": [
    "n_particles = 70\n",
    "radius = 0.06  # [m]"
   ]
  },
  {
   "cell_type": "code",
   "execution_count": 3,
   "id": "f8d9bb6d",
   "metadata": {},
   "outputs": [],
   "source": [
    "r = torch.rand((2, n_particles)).to(device)\n",
    "# discern the particles that start on the left and right\n",
    "right_xbool = r[0] > 0.5; left_xbool = r[0] <= 0.5"
   ]
  },
  {
   "cell_type": "code",
   "execution_count": 4,
   "id": "55e39d72",
   "metadata": {},
   "outputs": [
    {
     "data": {
      "text/plain": [
       "tensor([False, False, False,  True,  True, False,  True, False,  True, False,\n",
       "        False,  True,  True,  True,  True,  True, False, False,  True,  True,\n",
       "         True, False, False, False,  True, False,  True,  True,  True,  True,\n",
       "        False,  True, False,  True,  True, False, False, False, False,  True,\n",
       "         True,  True, False,  True,  True, False,  True, False, False,  True,\n",
       "         True, False,  True,  True,  True,  True,  True,  True, False,  True,\n",
       "         True, False, False, False,  True, False, False,  True,  True, False],\n",
       "       device='cuda:0')"
      ]
     },
     "execution_count": 4,
     "metadata": {},
     "output_type": "execute_result"
    }
   ],
   "source": [
    "# The tensor lives in the graphic card\n",
    "right_xbool"
   ]
  },
  {
   "cell_type": "code",
   "execution_count": 5,
   "id": "0f88f720",
   "metadata": {},
   "outputs": [],
   "source": [
    "# ID of individual particles\n",
    "id_particles = torch.arange(n_particles)"
   ]
  },
  {
   "cell_type": "code",
   "execution_count": 6,
   "id": "0af7baf2",
   "metadata": {},
   "outputs": [
    {
     "data": {
      "image/png": "[encoded data removed]",
      "text/plain": [
       "<Figure size 400x400 with 1 Axes>"
      ]
     },
     "metadata": {},
     "output_type": "display_data"
    }
   ],
   "source": [
    "# Notice that one must to take the tensor out of the graphic card to allow the plotting of data\n",
    "plt.figure(figsize=(4,4))\n",
    "plt.scatter(r[0][right_xbool].cpu(), r[1][right_xbool].cpu(), c=\"r\", s=17)\n",
    "plt.scatter(r[0][left_xbool].cpu(),  r[1][left_xbool].cpu(), c=\"b\", s=17);\n",
    "# The idea is to have the blue particles colliding the red particles and vice versa at 500 m/s"
   ]
  },
  {
   "cell_type": "code",
   "execution_count": 7,
   "id": "5544478f",
   "metadata": {},
   "outputs": [],
   "source": [
    "v = torch.zeros((2,n_particles)).to(device)\n",
    "v[0][right_xbool] = -500\n",
    "v[0][left_xbool] = 500"
   ]
  },
  {
   "cell_type": "markdown",
   "id": "09f83d27",
   "metadata": {},
   "source": [
    "### Distance between pairs\n",
    "\n",
    "The total distance is thus\n",
    "\n",
    "$$\n",
    "    d_{ij} = \\sqrt{\\Delta x_{ij}^2 + \\Delta y_{ij}^2}\n",
    "$$"
   ]
  },
  {
   "cell_type": "code",
   "execution_count": 8,
   "id": "ca10fb11",
   "metadata": {},
   "outputs": [],
   "source": [
    "ID_pairs = torch.combinations(id_particles,2).to(device) # ID pairs\n",
    "x_pairs  = torch.combinations(r[0],2).to(device)         # x-distance pairs\n",
    "y_pairs  = torch.combinations(r[1],2).to(device)         # y-distance pairs\n",
    "dx_pairs = torch.diff(x_pairs, axis=1).ravel()           # Δx_ij | .ravel() to get a 1D-array\n",
    "dy_pairs = torch.diff(y_pairs, axis=1).ravel()           # Δy_ij | .ravel() to get a 1D-array\n",
    "d_ij = torch.sqrt( dx_pairs*dx_pairs + dy_pairs*dy_pairs ) # Euclidean distance between particles"
   ]
  },
  {
   "cell_type": "markdown",
   "id": "c8382c82",
   "metadata": {},
   "source": [
    "### Elastic Collisions\n",
    "\n",
    "At each iteration, the total distance is checked such that it sets a new velocity when it takes a lower value than the diamater of the particle. For that, one considers the following elastic collision\n",
    "\n",
    "$$\n",
    "        \\vec{v}^{new}_i = \\vec{v}_i - \\frac{(\\vec{v}_i - \\vec{v}_j)\\cdot(\\vec{r}_i - \\vec{r}_j)}{\\mid\\vec{r}_i - \\vec{r}_j\\mid^2} (\\vec{r}_i - \\vec{r}_j),\n",
    "$$\n",
    "\n",
    "here, $i=\\{1,2\\}$ is the indexing of particles collinding."
   ]
  },
  {
   "cell_type": "code",
   "execution_count": 9,
   "id": "3e9a2f67",
   "metadata": {},
   "outputs": [
    {
     "data": {
      "text/plain": [
       "tensor([[ 0, 36],\n",
       "        [ 1, 22],\n",
       "        [ 1, 32],\n",
       "        [ 2, 16],\n",
       "        [ 2, 30],\n",
       "        [ 3, 20],\n",
       "        [ 3, 26],\n",
       "        [ 3, 62],\n",
       "        [ 4, 52],\n",
       "        [ 4, 60],\n",
       "        [ 5, 25],\n",
       "        [ 5, 62],\n",
       "        [ 5, 66],\n",
       "        [ 6, 12],\n",
       "        [ 6, 31],\n",
       "        [ 6, 43],\n",
       "        [ 6, 50],\n",
       "        [ 6, 57],\n",
       "        [ 7, 35],\n",
       "        [ 7, 38],\n",
       "        [ 7, 51],\n",
       "        [ 7, 58],\n",
       "        [ 7, 69],\n",
       "        [ 8, 39],\n",
       "        [ 8, 68],\n",
       "        [ 9, 45],\n",
       "        [ 9, 63],\n",
       "        [11, 24],\n",
       "        [11, 53],\n",
       "        [11, 54],\n",
       "        [11, 55],\n",
       "        [11, 64],\n",
       "        [12, 31],\n",
       "        [12, 50],\n",
       "        [13, 39],\n",
       "        [14, 19],\n",
       "        [15, 41],\n",
       "        [15, 43],\n",
       "        [15, 57],\n",
       "        [16, 17],\n",
       "        [17, 19],\n",
       "        [18, 20],\n",
       "        [18, 26],\n",
       "        [18, 33],\n",
       "        [18, 59],\n",
       "        [20, 26],\n",
       "        [20, 59],\n",
       "        [20, 62],\n",
       "        [21, 28],\n",
       "        [21, 30],\n",
       "        [21, 46],\n",
       "        [21, 56],\n",
       "        [22, 32],\n",
       "        [23, 36],\n",
       "        [23, 42],\n",
       "        [24, 54],\n",
       "        [25, 66],\n",
       "        [26, 33],\n",
       "        [26, 59],\n",
       "        [26, 62],\n",
       "        [27, 40],\n",
       "        [27, 67],\n",
       "        [28, 30],\n",
       "        [28, 46],\n",
       "        [31, 50],\n",
       "        [33, 59],\n",
       "        [34, 44],\n",
       "        [34, 49],\n",
       "        [35, 38],\n",
       "        [35, 51],\n",
       "        [35, 58],\n",
       "        [37, 65],\n",
       "        [37, 66],\n",
       "        [38, 51],\n",
       "        [38, 58],\n",
       "        [41, 43],\n",
       "        [41, 57],\n",
       "        [43, 50],\n",
       "        [43, 57],\n",
       "        [44, 49],\n",
       "        [44, 67],\n",
       "        [45, 47],\n",
       "        [45, 63],\n",
       "        [46, 56],\n",
       "        [47, 48],\n",
       "        [50, 57],\n",
       "        [51, 58],\n",
       "        [51, 69],\n",
       "        [52, 60],\n",
       "        [53, 54],\n",
       "        [53, 64],\n",
       "        [54, 64],\n",
       "        [55, 64],\n",
       "        [59, 62],\n",
       "        [65, 66]], device='cuda:0')"
      ]
     },
     "execution_count": 9,
     "metadata": {},
     "output_type": "execute_result"
    }
   ],
   "source": [
    "# Colliding particles:\n",
    "id_colliding_pairs = ID_pairs[d_ij <= 2*radius]\n",
    "id_colliding_pairs"
   ]
  },
  {
   "cell_type": "code",
   "execution_count": 10,
   "id": "a3c59124",
   "metadata": {},
   "outputs": [],
   "source": [
    "# Colliding particles: velocities and position\n",
    "\n",
    "v1 = v[:,id_colliding_pairs[:,0]]\n",
    "v2 = v[:,id_colliding_pairs[:,1]]\n",
    "r1 = r[:,id_colliding_pairs[:,0]]\n",
    "r2 = r[:,id_colliding_pairs[:,1]]"
   ]
  },
  {
   "cell_type": "code",
   "execution_count": 11,
   "id": "fdcbe1e3",
   "metadata": {},
   "outputs": [],
   "source": [
    "# New velocities\n",
    "v1_new = v1 - ( torch.sum( (v1-v2)*(r1-r2),axis=0 )/torch.sum((r1-r2)**2, axis=0) ) * (r1-r2)\n",
    "v2_new = v2 - ( torch.sum( (v2-v1)*(r2-r1),axis=0 )/torch.sum((r2-r1)**2, axis=0) ) * (r2-r1)"
   ]
  },
  {
   "cell_type": "markdown",
   "id": "aaffef58",
   "metadata": {},
   "source": [
    "## Compilling ideas to motion"
   ]
  },
  {
   "cell_type": "code",
   "execution_count": 12,
   "id": "7da04803",
   "metadata": {},
   "outputs": [],
   "source": [
    "def get_initial_position(n_particles, seed=71):\n",
    "    \"\"\"\n",
    "    Returns random (x,y) positions for a total of n_particles with ID. \n",
    "    \"\"\"\n",
    "    torch.manual_seed(seed)\n",
    "    r = torch.rand((2, n_particles)).to(device) # x, y positions\n",
    "    right_xbool = r[0] > 0.5; left_xbool = r[0] <= 0.5\n",
    "    return r, right_xbool, left_xbool\n",
    "\n",
    "def get_initial_velocities(n_particles, ivelocity):\n",
    "    \"\"\"\n",
    "    Returns initital velocities for colliding particles: left vs right\n",
    "    ivelocities (2D tuple of ints): (vx_0, vy_0) [m/s]\n",
    "    \"\"\"\n",
    "    # discern the particles that start on the left and right\n",
    "    r, right_xbool, left_xbool = get_initial_position(n_particles)\n",
    "    # Velocity Initialization\n",
    "    v = torch.zeros((2,n_particles)).to(device)\n",
    "    v[0][right_xbool] = -ivelocity\n",
    "    v[0][left_xbool] = ivelocity\n",
    "    return v\n",
    "\n",
    "def get_idx_colliding_particles(radius, r):\n",
    "    \"\"\"\n",
    "    This function assigns an unique ID to each particle and \n",
    "    determines distance between particles to obtain the colliding ones. \n",
    "    \"\"\"\n",
    "    # ID of individual particles\n",
    "    id_particles = torch.arange(n_particles)\n",
    "    ID_pairs = torch.combinations(id_particles,2).to(device) # ID pairs\n",
    "    dx_pairs = torch.diff(torch.combinations(r[0],2).to(device)).squeeze() # Δx_ij \n",
    "    dy_pairs = torch.diff(torch.combinations(r[1],2).to(device)).squeeze() # Δy_ij \n",
    "    d_ij = torch.sqrt( dx_pairs**2 + dy_pairs**2 ) # Euclidean distance between particles\n",
    "    id_colliding_pairs = ID_pairs[d_ij <= 2*radius]\n",
    "    return id_colliding_pairs\n",
    "\n",
    "def update_velocities(radius, r, v):\n",
    "    \"\"\"\n",
    "    Updating for colliding particles\n",
    "    \"\"\"\n",
    "    id_colliding_pairs = get_idx_colliding_particles(radius, r)\n",
    "    v1 = v[:,id_colliding_pairs[:,0]]\n",
    "    v2 = v[:,id_colliding_pairs[:,1]]\n",
    "    r1 = r[:,id_colliding_pairs[:,0]]\n",
    "    r2 = r[:,id_colliding_pairs[:,1]]\n",
    "    \n",
    "    # New velocities\n",
    "    v1_new = v1 - ( torch.sum( (v1-v2)*(r1-r2),axis=0 )/torch.sum((r1-r2)**2, axis=0) ) * (r1-r2)\n",
    "    v2_new = v2 - ( torch.sum( (v2-v1)*(r2-r1),axis=0 )/torch.sum((r2-r1)**2, axis=0) ) * (r2-r1)\n",
    "\n",
    "    return v1_new, v2_new\n",
    "\n",
    "\n",
    "def particles_motion(n_particles, radius, ivelocity, ts, dt):\n",
    "    \"\"\"\n",
    "    Returns the updated position and velocity considering elastic collision.\n",
    "    \n",
    "    This function is used to create all the images needed for the simulation.\n",
    "    \"\"\"\n",
    "    \n",
    "    r = get_initial_position(n_particles)[0]\n",
    "    v = get_initial_velocities(n_particles, ivelocity)\n",
    "    \n",
    "    # 3D vector: two-spatial, one time\n",
    "    R = torch.zeros((ts, r.shape[0], r.shape[1])).to(device)\n",
    "    V = torch.zeros((ts, v.shape[0], v.shape[1])).to(device)\n",
    "    # Set Initial State\n",
    "    R[0] = r\n",
    "    V[0] = v\n",
    "    for time in range(1,ts):\n",
    "        id_cprs = get_idx_colliding_particles(radius, r)\n",
    "        v[:,id_cprs[:,0]], v[:,id_cprs[:,1]] = update_velocities(radius, r, v)\n",
    "\n",
    "        # Confine particles inside a box\n",
    "        v[0, r[0]>1] = -torch.abs(v[0, r[0]>1])\n",
    "        v[0, r[0]<0] =  torch.abs(v[0, r[0]<0])\n",
    "        v[1, r[1]>1] = -torch.abs(v[1, r[1]>1])\n",
    "        v[1, r[1]<0] =  torch.abs(v[1, r[1]<0])\n",
    "        \n",
    "        r = r + v*dt\n",
    "        R[time] = r\n",
    "        V[time] = v\n",
    "        \n",
    "    return R, V"
   ]
  },
  {
   "cell_type": "code",
   "execution_count": 17,
   "id": "271becff",
   "metadata": {},
   "outputs": [],
   "source": [
    "n_particles = 70\n",
    "radius = 0.03     # [m]\n",
    "ivelocities = 500 # [m/s]\n",
    "\n",
    "_, right_xbool, left_xbool = get_initial_position(n_particles)"
   ]
  },
  {
   "cell_type": "code",
   "execution_count": 18,
   "id": "513868ac",
   "metadata": {},
   "outputs": [],
   "source": [
    "R, V = particles_motion(n_particles, radius, ivelocities, ts=1000, dt=0.000005)"
   ]
  },
  {
   "cell_type": "code",
   "execution_count": 19,
   "id": "fd779c23",
   "metadata": {},
   "outputs": [
    {
     "data": {
      "image/png": "[encoded data removed]",
      "text/plain": [
       "<Figure size 500x500 with 1 Axes>"
      ]
     },
     "metadata": {},
     "output_type": "display_data"
    }
   ],
   "source": [
    "fig, ax = plt.subplots(1,1,figsize=(5,5))\n",
    "xred, yred   = R[0][0][right_xbool], R[0][1][right_xbool]\n",
    "xblue, yblue = R[0][0][left_xbool],R[0][1][left_xbool]\n",
    "circles_red  = [plt.Circle((xi, yi), radius=radius, linewidth=0) for xi,yi in zip(xred,yred)]\n",
    "circles_blue = [plt.Circle((xi, yi), radius=radius, linewidth=0) for xi,yi in zip(xblue,yblue)]\n",
    "cred = matplotlib.collections.PatchCollection(circles_red, facecolors='red')\n",
    "cblue = matplotlib.collections.PatchCollection(circles_blue, facecolors='blue')\n",
    "ax.add_collection(cred)\n",
    "ax.add_collection(cblue)\n",
    "ax.set_xlim(0,1)\n",
    "ax.set_ylim(0,1)\n",
    "plt.show()"
   ]
  },
  {
   "cell_type": "markdown",
   "id": "8d62fa0e",
   "metadata": {},
   "source": [
    "# IMPORTANT OPTIMIZATION ON ANIMATION: `blit=True`\n",
    "\n",
    "\n",
    "This does not redo data in the image that does not change, making the animation faster. "
   ]
  },
  {
   "cell_type": "code",
   "execution_count": 16,
   "id": "ac1b393f",
   "metadata": {},
   "outputs": [
    {
     "data": {
      "image/png": "[encoded data removed]",
      "text/plain": [
       "<Figure size 500x500 with 1 Axes>"
      ]
     },
     "metadata": {},
     "output_type": "display_data"
    }
   ],
   "source": [
    "fig, ax = plt.subplots(1,1,figsize=(5,5))\n",
    "ax.clear()\n",
    "vmin = 0\n",
    "vmax = 1\n",
    "ax.set_xlim(0,1)\n",
    "ax.set_ylim(0,1)\n",
    "markersize = 2 * radius * ax.get_window_extent().width  / (vmax-vmin) * 72./fig.dpi\n",
    "red, = ax.plot([], [], 'o', color='red', markersize=markersize)\n",
    "blue, = ax.plot([], [], 'o', color='blue', markersize=markersize)\n",
    "\n",
    "def animate(i):\n",
    "    xred, yred = R[i][0][right_xbool].cpu(), R[i][1][right_xbool].cpu()\n",
    "    xblue, yblue = R[i][0][left_xbool].cpu(),R[i][1][left_xbool].cpu()\n",
    "    red.set_data(xred, yred)\n",
    "    blue.set_data(xblue, yblue)\n",
    "    return red, blue\n",
    "\n",
    "writer = animation.FFMpegWriter(fps=30)\n",
    "ani = animation.FuncAnimation(fig, animate, frames=500, interval=50, blit=True)\n",
    "ani.save('GIFs/withGPU_30_particles_test.mp4',writer=writer, dpi=100)"
   ]
  },
  {
   "cell_type": "markdown",
   "id": "045239c7",
   "metadata": {},
   "source": [
    "Notice the overlap of particles is because of the initialization and the radius being too big. This can be fixed by either setting a constraint in random initialization or making the radius too small; but, it is not a big of a deal."
   ]
  },
  {
   "cell_type": "markdown",
   "id": "3ad5ce72",
   "metadata": {},
   "source": [
    "### Now with Boltzmann Distribution and more particles"
   ]
  },
  {
   "cell_type": "code",
   "execution_count": null,
   "id": "2438ebd2",
   "metadata": {},
   "outputs": [],
   "source": [
    "n_particles = 500\n",
    "radius = 0.0005     # [m]\n",
    "ivelocities = 500 # [m/s]\n",
    "\n",
    "_, right_xbool, left_xbool = get_initial_position(n_particles)\n",
    "R, V = particles_motion(n_particles, radius, ivelocities, ts=1500, dt=0.000008)\n",
    "# began 19:30 -- 19:55 (radius = 0.01, npart = 5000)\n",
    "# began 20:06 -- 20:32 (radius = 0.0005, npart = 5000)"
   ]
  },
  {
   "cell_type": "code",
   "execution_count": null,
   "id": "b3f0cc8b",
   "metadata": {},
   "outputs": [],
   "source": [
    "fig, axes = plt.subplots(1, 2, figsize=(20,10))\n",
    "bins = np.linspace(0,1500,50)\n",
    "axes[0].clear()\n",
    "\n",
    "v = np.linspace(0, 2000, 1000)\n",
    "factor = 2/ivelocities**2\n",
    "fv = factor*v*np.exp(-factor*v**2 / 2)\n",
    "\n",
    "vmin = 0\n",
    "vmax = 1\n",
    "\n",
    "axes[0].set_xlim(0,1)\n",
    "axes[0].set_ylim(0,1)\n",
    "\n",
    "markersize = 2 * radius * axes[0].get_window_extent().width  / (vmax-vmin) * 72./fig.dpi\n",
    "red, = axes[0].plot([], [], 'o', color='red', markersize=markersize)\n",
    "blue, = axes[0].plot([], [], 'o', color='blue', markersize=markersize)\n",
    "n, bins, patches = axes[1].hist(torch.sqrt(torch.sum(V[0]**2, axis=0)).cpu(),\n",
    "                                bins=bins, density=True, color=\"gray\", label=\"Counts\")\n",
    "axes[1].plot(v,fv, color=\"red\", label = \"Maxwell-Boltzmann Distribution\")\n",
    "axes[1].set_ylim(top=0.003)\n",
    "axes[1].set_xlabel('Velocity [m/s]')\n",
    "axes[1].set_yticks([])\n",
    "axes[1].legend()\n",
    "\n",
    "def animate(i):\n",
    "    xred, yred = R[i][0][right_xbool].cpu(), R[i][1][right_xbool].cpu()\n",
    "    xblue, yblue = R[i][0][left_xbool].cpu(),R[i][1][left_xbool].cpu()\n",
    "    red.set_data(xred, yred)\n",
    "    blue.set_data(xblue, yblue)\n",
    "    hist, _ = np.histogram(torch.sqrt(torch.sum(V[i]**2, axis=0)).cpu(),\n",
    "                           bins=bins, density=True)\n",
    "    for i, patch in enumerate(patches):\n",
    "        patch.set_height(hist[i])\n",
    "    return red, blue\n",
    "\n",
    "writer = animation.FFMpegWriter(fps=30)\n",
    "ani = animation.FuncAnimation(fig, animate, frames=500, interval=50, blit=True)\n",
    "ani.save(f'GIFs/withGPU_{n_particles}_smaller__particles.mp4',writer=writer,dpi=100)"
   ]
  },
  {
   "cell_type": "code",
   "execution_count": null,
   "id": "d7cff253",
   "metadata": {},
   "outputs": [],
   "source": []
  },
  {
   "cell_type": "code",
   "execution_count": null,
   "id": "fe4161c4",
   "metadata": {},
   "outputs": [],
   "source": []
  }
 ],
 "metadata": {
  "kernelspec": {
   "display_name": "Python 3 (ipykernel)",
   "language": "python",
   "name": "python3"
  },
  "language_info": {
   "codemirror_mode": {
    "name": "ipython",
    "version": 3
   },
   "file_extension": ".py",
   "mimetype": "text/x-python",
   "name": "python",
   "nbconvert_exporter": "python",
   "pygments_lexer": "ipython3",
   "version": "3.10.12"
  }
 },
 "nbformat": 4,
 "nbformat_minor": 5
}
