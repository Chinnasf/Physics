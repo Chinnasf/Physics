{
 "cells": [
  {
   "cell_type": "markdown",
   "id": "5ecf4570",
   "metadata": {},
   "source": [
    "Karina Chiñas Fuentes | 01/03/23\n",
    "\n",
    "Notes based on the document [Impact of scaling laws on tokamak reactor dimensioning, 2019](https://hal-cea.archives-ouvertes.fr/cea-02378299/document)"
   ]
  },
  {
   "cell_type": "code",
   "execution_count": 1,
   "id": "74a17f72",
   "metadata": {},
   "outputs": [],
   "source": [
    "%load_ext autoreload\n",
    "%autoreload 2"
   ]
  },
  {
   "cell_type": "code",
   "execution_count": 2,
   "id": "6d94dcda",
   "metadata": {},
   "outputs": [],
   "source": [
    "import numpy as np \n",
    "import pandas as pd\n",
    "import matplotlib.pyplot as plt\n",
    "import scipy as sp\n",
    "import scipy.constants as spc\n",
    "\n",
    "import warnings\n",
    "\n",
    "from scipy import optimize, odr\n",
    "from scipy.optimize import fsolve\n",
    "\n",
    "qe = spc.elementary_charge # C\n",
    "μ0 = spc.mu_0 # H/m\n",
    "\n",
    "pd.set_option('display.max_columns', None)"
   ]
  },
  {
   "cell_type": "markdown",
   "id": "f8764971",
   "metadata": {},
   "source": [
    "From scaling law and other replacements, one can find a relationship that couples the outer radius of the TOKAMAK $R$ to the toroidal magnetic field $B$. I will refer to this relationship as the design equation, since it is widely used when designing TOKAMAKS. The design equation takes the form of\n",
    "\n",
    "$$\n",
    "    R^{-\\gamma_R}\\cdot B^{-\\gamma_B} = \\left[{\\gamma_{rad}\\cdot\\left( \\frac{1}{\\lambda} + \\frac{1}{Q} \\right)}\\right]^{\\alpha_p+1}\\cdot\\frac{C^{\\alpha_n}_{n}C^{\\gamma_I}_{I}C_{fus}}{C_\\beta C_{tr}}\\cdot \\alpha_0\\cdot\\hat{P}^{\\alpha_P}_{fus}\\cdot M^{\\alpha_M}_{eff}\\cdot \\kappa^{\\alpha_\\kappa}\\cdot \\epsilon^{\\gamma_\\epsilon}\\cdot n_N^{\\alpha_n}\\cdot q^{-\\gamma_I} \\cdot \\beta_N\n",
    "$$\n",
    "\n",
    "\n",
    "With\n",
    "\n",
    "* $\\gamma_{rad}$ being the coefficient that parametrizes the total radiative losses in terms of the power heating sources; namely\n",
    "    $$\n",
    "        P_{rad} = (1 - \\gamma_{rad})P_{scs}, \\:\\: \\text{with}\\:\\: 0\\leq \\gamma_{rad} \\leq 1\n",
    "    $$\n",
    "* $\\gamma_I = 1+\\alpha_n+\\alpha_I$ \n",
    "* $\\gamma_\\epsilon = 1 + \\alpha_\\epsilon + 2\\alpha_I$\n",
    "* $\\gamma_R = \\alpha_R + \\alpha_I - \\alpha_n$\n",
    "* $\\gamma_B = \\alpha_B + \\alpha_n + \\alpha_I + 2$\n",
    "\n",
    "and constants\n",
    "\n",
    "* $C_n = 10/\\pi \\approx 3.1831$\n",
    "* $C_{tr} = 6\\pi^2\\cdot10^{19}\\cdot10^{-3}\\cdot e \\approx 0.095$\n",
    "* $C_I = \\mu_0^{-1}2\\pi F\\cdot10^{-6}$; with F being a plasma shape parameter: $F=\\sqrt{ (1+\\kappa^2)/2 }$\n",
    "* $C_\\beta = 4\\cdot10^{2}\\cdot\\mu_0\\cdot10^{19}\\cdot10^3\\cdot e \\approx 0.805$\n",
    "* $C_{fus} = E_{fus-particles}\\cdot e \\cdot$ CONST $\\cdot10^{2\\cdot19}\\cdot\\pi^2/2$\n",
    "    - $E_{fus-particles}$ is the total energy released per fusion reaction. z.B.: DT: $E_{DT} = 17.59$ MeV \n",
    "    - **CONST** is a reference on how the reactivity $<\\sigma\\nu>$ relates to the temperature. If one considers the following plot:\n",
    "    <img src=\"REACTIVITYvsTEMP.png\" width=\"350\">\n",
    "    One can get to the relation that\n",
    "    $$\n",
    "        <\\sigma\\nu>_{DT}\\:\\: \\approx 1.1810^{-24}\\cdot\\hat{T}^2[m^3s^{-1}]\n",
    "    $$\n",
    "    Which suggests a range of values for the Temperature of: 10.3 keV to 18.5 keV. One should also consider that the Lawson Criterion is fulfilled. Thus, for the DT case: $C_{fus} \\approx 1.6410^{-3}$. By using DT, this would also set $\\gamma = 4.94$, since $\\gamma = E_{fus-particles}/E_{heating-particle}$; so that, for DT: $E_{DT} / E_{\\alpha - DT} = 17.59$ MeV / $3.56$ MeV.  \n",
    "\n",
    "\n",
    "### Considering Instabilities and Limiting cases:\n",
    "\n",
    "* Greenwald Limit: $n_N \\sim 0.85$\n",
    "* Normalized Beta Limit: $\\beta_N < g$\n",
    "    - Troyon Limit `g <- 2.8`\n",
    "    \n",
    "For simplifying the expression, I will set the following variables:\n",
    "\n",
    "$$\n",
    "    \\Gamma(Q) =  \\left[\\gamma_{rad}\\cdot\\left( \\frac{1}{\\lambda} + \\frac{1}{Q} \\right)\\right]^{\\alpha_p+1}\n",
    "$$\n",
    "\n",
    "and \n",
    "\n",
    "$$\n",
    "    C = \\frac{C^{\\alpha_n}_{n}C^{\\gamma_I}_{I}C_{fus}}{C_\\beta C_{tr}}\n",
    "$$\n",
    "\n",
    "So that the design equation takes the form of:\n",
    "\n",
    "$$\n",
    "    R^{-\\gamma_R}\\cdot B^{-\\gamma_B} = C\\cdot \\Gamma(Q) \\cdot \\alpha_0\\cdot\\hat{P}^{\\alpha_P}_{fus}\\cdot M^{\\alpha_M}_{eff}\\cdot \\kappa^{\\alpha_\\kappa}\\cdot \\epsilon^{\\gamma_\\epsilon}\\cdot n_N^{\\alpha_n}\\cdot \\beta_N\n",
    "$$\n",
    "\n",
    "What follows is the analysis of how these parameters influence the toroidal magnetic field and the outer radius. Furthermore, it is possible to consider the following relation which comes from expressing the fusion power in terms of the normalized plasma beta. This leads to:\n",
    "\n",
    "$$\n",
    "    R^3B^4 = \\frac{\\hat{P}_{fus} C^2_{\\beta}q^2 }{C_{fus}C^2_I\\kappa\\epsilon^4\\beta^2_N}\n",
    "$$\n",
    "\n",
    "This can help to decouple the design equation. One can also take into consideration the technological limits, like maximum B-field provided by superconductors, and economical considerations. "
   ]
  },
  {
   "cell_type": "code",
   "execution_count": 3,
   "id": "a2940e0e",
   "metadata": {},
   "outputs": [],
   "source": [
    "# GIVEN P_fus, Q\n",
    "\n",
    "P_fus = 500 # Fusion Power [MW]\n",
    "Q = 10      # Fusion Gain"
   ]
  },
  {
   "cell_type": "code",
   "execution_count": 4,
   "id": "f23e1b47",
   "metadata": {},
   "outputs": [],
   "source": [
    "# TOKAMAK CHARACTERISTICS -- ITER LIKE VALUES\n",
    "\n",
    "q = 3         # safety factor\n",
    "ε = 3.1**-1   # inverse aspect ratio\n",
    "κ = 1.7       # elongation\n",
    "δ = 0.33      # triangularity\n",
    "n_N = 0.85    # Greenwald limit -- factor\n",
    "M_eff = 2.554 # Effective mass\n",
    "γ_rad = 0.7   # parametrization factor\n",
    "\n",
    "# REFINED PHYSICS\n",
    "\n",
    "θi = 1/1.15\n",
    "fα = 0.035\n",
    "fp = 1.35"
   ]
  },
  {
   "cell_type": "code",
   "execution_count": 5,
   "id": "d3c0f3c1",
   "metadata": {},
   "outputs": [],
   "source": [
    "F = np.sqrt( (1+κ**2)/2 ) # Factor due to the shape of plasma\n",
    "\n",
    "E_fus_prtcls = 17.59      # total energy released in DT fusion event [MeV]\n",
    "E_α = 3.56                # energy released by the alpha-particles\n",
    "λ = E_fus_prtcls/E_α\n",
    "react_σ = 1.18e-24        # Reactivity CONST of DT"
   ]
  },
  {
   "cell_type": "code",
   "execution_count": 6,
   "id": "4ef6e38a",
   "metadata": {},
   "outputs": [],
   "source": [
    "DB2P8 = pd.read_csv( \"data/DB2P8_regression_coefficients.csv\" ) # Database 1998 -- version 2.8\n",
    "DB5   = pd.read_csv( \"data/DB5_regression_coefficients.csv\" )   # Database 2021 -- version 2.3\n",
    "\n",
    "paper = pd.read_csv( \"data/paper_regression_coefficients.csv\" )\n",
    "\n",
    "scaling_law_params = paper.values[0]"
   ]
  },
  {
   "cell_type": "markdown",
   "id": "2abfd9c5",
   "metadata": {},
   "source": [
    "[DB5 DATABASE](https://dataspace.princeton.edu/handle/88435/dsp01m900nx49h)"
   ]
  },
  {
   "cell_type": "code",
   "execution_count": 7,
   "id": "14aee436",
   "metadata": {},
   "outputs": [],
   "source": [
    "def get_phys_constants(F, E_fus_prtcls, react_σ):\n",
    "    Cn = 10/np.pi\n",
    "    C_tr = 6*np.pi*np.pi*(1e19)*(1e-3)*qe \n",
    "    #CI = (1/μ0)*2*np.pi*F*1e-6\n",
    "    Cβ = 4*1e2*μ0*1e19*1e3*qe\n",
    "    C_fus = E_fus_prtcls * qe * react_σ * ((1e19)**2) * ((np.pi**2)/2)\n",
    "    \n",
    "    # With refined physics\n",
    "    \n",
    "    C_fus = C_fus*(( 1-2*fα )**2)*θi*θi*fp\n",
    "    C_tr  = C_tr*(1 + θi - fα*θi)/2\n",
    "    Cβ    = Cβ*(1 + θi - fα*θi)/2\n",
    "    \n",
    "    # Considering Triangularity\n",
    "    \n",
    "    CI = (2*np.pi*1e-6/μ0)*( (1.17 - 0.65*ε)/(2*((1-ε*ε)**2)) )*( 1+κ*κ*( 1+2*(δ**2)-1.2*(δ**3) ) ) \n",
    "    \n",
    "    return Cβ, CI, Cn, C_fus, C_tr"
   ]
  },
  {
   "cell_type": "markdown",
   "id": "2d305740",
   "metadata": {},
   "source": [
    "#### Refined Physics | Accounting for $\\alpha$-particle dilution, temperature peaking and different ion and electron temperatures\n",
    "\n",
    "* $f_\\alpha = n_{He}/n_e$: the fraction of $\\alpha$-particles that depend on pumping efficiency and particle transport.\n",
    "* $f_p = <T^2>/<T>^2$ the assumption of parabolic shape for temperatures. \n",
    "* $\\theta_i = T_i/T_e$ the ratio of ion to electron temperatures. It's expected that $\\theta_i<1$.\n",
    "\n",
    "Thus, \n",
    "\n",
    "* $C_{fus} \\rightarrow C_{fus}\\cdot(1-2f_\\alpha)^2\\theta^2_i\\cdot f_p$\n",
    "* $C_{tr}  \\rightarrow C_{tr}\\cdot(1+\\theta_i - f_\\alpha\\theta_i)/2$\n",
    "* $C_\\beta \\rightarrow C_\\beta\\cdot(1+\\theta_i - f_\\alpha\\theta_i)/2 $\n",
    "\n",
    "\n",
    "Considering Triangularity\n",
    "\n",
    "* $C_I = \\frac{2\\pi10^{-6}\\left( 1.17 - 0.65\\epsilon \\right)}{\\mu_02\\left(1-\\epsilon^2\\right)^2}\\cdot\\left[ 1 + \\kappa^2(1+2\\delta^2 - 1.2\\delta^3) \\right]$"
   ]
  },
  {
   "cell_type": "code",
   "execution_count": 8,
   "id": "b824c759",
   "metadata": {},
   "outputs": [],
   "source": [
    "def design_eq(P_fus, Q, βN, scaling_law_params):\n",
    "    α0, αI, αB, αn, αP, αR, ακ, αε, αM = scaling_law_params\n",
    "    Cβ, CI, Cn, C_fus, C_tr  = get_phys_constants(F, E_fus_prtcls, react_σ)\n",
    "    \n",
    "    γI = 1 + αn + αI\n",
    "    γε = 1 + αε + 2*αI\n",
    "    γR = αR + αI - αn\n",
    "    γB = αB + αn + αI + 2\n",
    "    \n",
    "    Γ = ( γ_rad*(1/λ + 1/Q) )**( αP + 1 )\n",
    "    C = ( (Cn**αn) * (CI**γI) * C_fus )  /  (Cβ * C_tr) \n",
    "    \n",
    "    RB_gammas = C * Γ * α0 * (P_fus**αP) * (M_eff**αM) * (κ**ακ) * (ε**γε) * (q**-γI) * (n_N**αn) * βN\n",
    "    \n",
    "    return γR, γB, RB_gammas"
   ]
  },
  {
   "cell_type": "code",
   "execution_count": 9,
   "id": "abf8d4f6",
   "metadata": {},
   "outputs": [],
   "source": [
    "def fusion_power_eq(P_fus, βN):\n",
    "    Cβ, CI, Cn, C_fus, C_tr  = get_phys_constants(F, E_fus_prtcls, react_σ)\n",
    "    RB_fusion_power = ( (P_fus * (Cβ*q)**2 ) / ( C_fus*(CI**2)*κ*(ε**4)*(βN**2) ) ) \n",
    "    return RB_fusion_power"
   ]
  },
  {
   "cell_type": "code",
   "execution_count": 10,
   "id": "cd297807",
   "metadata": {},
   "outputs": [],
   "source": [
    "def solve_RB(βN, initial_roots = [3,3]):\n",
    "    def func_solver(x):\n",
    "        γR, γB, RB_gammas = design_eq(P_fus, Q, βN, scaling_law_params)\n",
    "        RB_fusion_power = fusion_power_eq(P_fus, βN)\n",
    "        return (\n",
    "            RB_gammas - (x[0]**-γR)*(x[1]**-γB),\n",
    "            RB_fusion_power - (x[0]**3)*(x[1]**4)\n",
    "        )\n",
    "    warnings.filterwarnings(\"ignore\")\n",
    "    roots = optimize.root(func_solver, initial_roots, \n",
    "                      method='lm', \n",
    "                      options={\n",
    "                          \"maxiter\":int(1e6),\n",
    "                          \"ftol\":1e-5,\n",
    "                      })\n",
    "    warnings.filterwarnings(\"always\")\n",
    "    if roots[\"success\"] == False:\n",
    "        warnings.warn(f\"WARNING: solver requires tuning, for βN = {βN}\")\n",
    "    return roots.x"
   ]
  },
  {
   "cell_type": "code",
   "execution_count": 11,
   "id": "3b858fbe",
   "metadata": {
    "scrolled": true
   },
   "outputs": [],
   "source": [
    "βN = np.linspace(1.5, 2.07, 500)\n",
    "cost_of_machine = lambda r,b: (b**2)*(r**3)\n",
    "\n",
    "roots = [0]*len(βN)\n",
    "for i, beta in enumerate(βN):\n",
    "    roots[i] = solve_RB(beta)"
   ]
  },
  {
   "cell_type": "code",
   "execution_count": 12,
   "id": "603acbca",
   "metadata": {},
   "outputs": [
    {
     "data": {
      "image/png": "[encoded data removed]",
      "text/plain": [
       "<Figure size 640x480 with 1 Axes>"
      ]
     },
     "metadata": {},
     "output_type": "display_data"
    }
   ],
   "source": [
    "roots = pd.DataFrame(roots, columns=[\"R\",\"B\"])\n",
    "plt.scatter(βN, roots.R, label = \"R [m]\" , s=8, c=\"k\")\n",
    "plt.scatter(βN, roots.B, label = \"B [T]\", s=8, c=\"r\")\n",
    "plt.xlabel(\"Normalized Plasma Beta $\\\\beta_N$\")\n",
    "plt.grid(alpha=0.5)\n",
    "plt.legend();"
   ]
  },
  {
   "cell_type": "code",
   "execution_count": 13,
   "id": "194d9fd7",
   "metadata": {
    "scrolled": false
   },
   "outputs": [
    {
     "data": {
      "image/png": "[encoded data removed]",
      "text/plain": [
       "<Figure size 640x480 with 1 Axes>"
      ]
     },
     "metadata": {},
     "output_type": "display_data"
    }
   ],
   "source": [
    "x, y = βN, roots.B\n",
    "z = np.polyfit(x, y, 2)\n",
    "p = np.poly1d(z)\n",
    "Y_B = p(x)\n",
    "\n",
    "x, y = βN, roots.R\n",
    "z = np.polyfit(x, y, 2)\n",
    "p = np.poly1d(z)\n",
    "Y_R = p(x)\n",
    "\n",
    "plt.plot(x,Y_R, label=\"R [m]\", c=\"k\")\n",
    "plt.plot(x,Y_B, label=\"B [T]\", c=\"r\")\n",
    "plt.xlabel(\"Normalized Plasma Beta $\\\\beta_N$\")\n",
    "plt.legend()\n",
    "plt.grid(alpha=0.5);"
   ]
  },
  {
   "cell_type": "code",
   "execution_count": null,
   "id": "9cd65fa0",
   "metadata": {},
   "outputs": [],
   "source": []
  },
  {
   "cell_type": "code",
   "execution_count": null,
   "id": "472c84bb",
   "metadata": {},
   "outputs": [],
   "source": []
  }
 ],
 "metadata": {
  "kernelspec": {
   "display_name": "Python 3 (ipykernel)",
   "language": "python",
   "name": "python3"
  },
  "language_info": {
   "codemirror_mode": {
    "name": "ipython",
    "version": 3
   },
   "file_extension": ".py",
   "mimetype": "text/x-python",
   "name": "python",
   "nbconvert_exporter": "python",
   "pygments_lexer": "ipython3",
   "version": "3.10.7"
  }
 },
 "nbformat": 4,
 "nbformat_minor": 5
}
