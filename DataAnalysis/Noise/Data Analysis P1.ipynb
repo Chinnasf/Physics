{
 "cells": [
  {
   "cell_type": "markdown",
   "id": "a9bd374a",
   "metadata": {},
   "source": [
    "## $K_b = 1.380649 \\times 10^{-23}$ J/K"
   ]
  },
  {
   "cell_type": "code",
   "execution_count": 1,
   "id": "5d955cbd",
   "metadata": {},
   "outputs": [],
   "source": [
    "import numpy as np\n",
    "import matplotlib.pyplot as plt\n",
    "import pandas as pd\n",
    "\n",
    "from sklearn.linear_model import LinearRegression\n",
    "def get_linreg(x_vec,y_vec):\n",
    "    \"\"\"\n",
    "    Getting a linear regression: y(x) = m*x + b, from data.\n",
    "    Returns parameters m, b.\n",
    "    \"\"\"\n",
    "    x = np.array(x_vec).reshape(-1,1)\n",
    "    y = np.array(y_vec)\n",
    "    model = LinearRegression().fit(x, y)\n",
    "    m, b = model.coef_, model.intercept_\n",
    "    return m,b\n",
    "\n",
    "sstyle = \"seaborn-poster\"\n",
    "plt.style.use(sstyle)\n",
    "plt.rc('font',family = 'serif')"
   ]
  },
  {
   "cell_type": "markdown",
   "id": "29b06851",
   "metadata": {},
   "source": [
    "# Part 1: Plotting for $<V^2_J(t)>/(4T\\Delta f)$ vs $R$"
   ]
  },
  {
   "cell_type": "code",
   "execution_count": 2,
   "id": "d15532b3",
   "metadata": {},
   "outputs": [],
   "source": [
    "G1 = 600\n",
    "T  = 297.55 # K \n",
    "\n",
    "\n",
    "\"\"\"# Manual Values: used to proof check the code.\n",
    "Δf = 111061 \n",
    "Rin = np.array([1,10,100,1000,10000])\n",
    "Vsq_mean = np.array([0.6353,0.6372,0.6516,0.7911,0.9801])\n",
    "G2 = np.array([1500,1500,1500,1500,1000])\"\"\"\n",
    "\n",
    "\n",
    "# First Data Set\n",
    "Δf = 111061 # Hz\n",
    "Rin = np.array([1,10,100,1000,10000,100000,1000000])\n",
    "Vsq_mean = np.array([0.586,0.59,0.603,0.741,0.947,0.847,0.865])\n",
    "G2 = np.array([1500,1500,1500,1500,1000,400,300])\n",
    "\n",
    "\n",
    "\n",
    "\n",
    "\"\"\"# Second Data Set\n",
    "Δf = 107740 # Hz\n",
    "Rin = np.array([1,10,100,1000,10000,100000,1000000])\n",
    "Vsq_mean = np.array([0.574,0.577,0.5912,0.726,0.926,0.46,0.705])\n",
    "G2 = np.array([1500,1500,1500,1500,1000,300,300])\"\"\"\n",
    "\n",
    "\n",
    "VnVJ_mean_inferred = ((Vsq_mean*10)/((G1*G2)**2))\n",
    "Vn_meansq = get_linreg(Rin, VnVJ_mean_inferred)[-1]\n",
    "\n",
    "VJ_meansq_R = VnVJ_mean_inferred -  Vn_meansq\n",
    "\n",
    "S_R = VJ_meansq_R/(4*Δf*T)"
   ]
  },
  {
   "cell_type": "code",
   "execution_count": 3,
   "id": "1a01beb1",
   "metadata": {},
   "outputs": [
    {
     "data": {
      "text/plain": [
       "2.0805651710349565e-11"
      ]
     },
     "execution_count": 3,
     "metadata": {},
     "output_type": "execute_result"
    }
   ],
   "source": [
    "Vn_meansq"
   ]
  },
  {
   "cell_type": "code",
   "execution_count": 4,
   "id": "92896f86",
   "metadata": {},
   "outputs": [
    {
     "data": {
      "image/png": "[encoded data removed]",
      "text/plain": [
       "<Figure size 504x360 with 1 Axes>"
      ]
     },
     "metadata": {
      "needs_background": "light"
     },
     "output_type": "display_data"
    }
   ],
   "source": [
    "fig = plt.figure(figsize=(7,5))\n",
    "ax = plt.gca()\n",
    "ax.scatter( Rin, S_R, c='k', edgecolors='none')\n",
    "ax.set_yscale('log')\n",
    "ax.set_xscale('log')\n",
    "plt.xlabel(\"Resistance R [Ω]\")\n",
    "plt.ylabel(\"$\\\\frac{<V^2_J(t)>}{4T\\\\cdot\\\\Delta f}$ [$\\\\Omega \\\\cdot$ J / K]\");"
   ]
  },
  {
   "cell_type": "markdown",
   "id": "613cdb84",
   "metadata": {},
   "source": [
    "# Part 1: Plotting for $<V^2_J(t)>/(4TR)$ vs $\\Delta f$"
   ]
  },
  {
   "cell_type": "code",
   "execution_count": 5,
   "id": "a4996e11",
   "metadata": {},
   "outputs": [],
   "source": [
    "Rin = 1000 # Ω \n",
    "G1  = 600 \n",
    "T   = 297.55 # K \n",
    "\n",
    "\n",
    "Δf  = np.array([9,258,355,784,1000,2576,3554,7839,10996,36643,109961,111061]) # Hz\n",
    "G2  = np.array([10000,10000,10000,10000,10000,10000,6000,6000,5000,3000,1500,1500])\n",
    "Vsq_mean = np.array([0.005,0.083,113,238,301,765,382,821,795,971,741,743])*1e-3\n",
    "\n",
    "\n",
    "VnVJ_mean_inferred = ((Vsq_mean*10)/((G1*G2)**2))\n",
    "Vn_meansq = get_linreg(Δf, VnVJ_mean_inferred)[-1]\n",
    "\n",
    "VJ_meansq_f = VnVJ_mean_inferred -  Vn_meansq\n",
    "S_f = VJ_meansq_f/(4*Rin*T)"
   ]
  },
  {
   "cell_type": "code",
   "execution_count": 6,
   "id": "3f859227",
   "metadata": {},
   "outputs": [
    {
     "data": {
      "text/plain": [
       "-9.308913744235814e-15"
      ]
     },
     "execution_count": 6,
     "metadata": {},
     "output_type": "execute_result"
    }
   ],
   "source": [
    "Vn_meansq"
   ]
  },
  {
   "cell_type": "code",
   "execution_count": 7,
   "id": "741320d0",
   "metadata": {
    "scrolled": false
   },
   "outputs": [
    {
     "data": {
      "image/png": "[encoded data removed]",
      "text/plain": [
       "<Figure size 504x360 with 1 Axes>"
      ]
     },
     "metadata": {
      "needs_background": "light"
     },
     "output_type": "display_data"
    }
   ],
   "source": [
    "fig = plt.figure(figsize=(7,5))\n",
    "ax = plt.gca()\n",
    "ax.scatter( Δf, S_f, c='k', edgecolors='none')\n",
    "ax.set_yscale('log')\n",
    "ax.set_xscale('log')\n",
    "plt.xlabel(\"Bandwidth $\\\\Delta f$ [Hz]\")\n",
    "plt.ylabel(\"$\\\\frac{<V^2_J(t)>}{4T\\\\cdot R}$ [Hz$\\\\cdot$J/K]\");"
   ]
  },
  {
   "cell_type": "code",
   "execution_count": 8,
   "id": "a7829bcf",
   "metadata": {},
   "outputs": [
    {
     "name": "stdout",
     "output_type": "stream",
     "text": [
      "Calulated Kb (1.380649e-23 J/K): 6.966333920565438e-23\n"
     ]
    },
    {
     "data": {
      "image/png": "[encoded data removed]",
      "text/plain": [
       "<Figure size 504x360 with 1 Axes>"
      ]
     },
     "metadata": {
      "needs_background": "light"
     },
     "output_type": "display_data"
    }
   ],
   "source": [
    "tr = 2 # truncate the first tr points\n",
    "m, b = get_linreg(Δf[tr:],S_f[tr:])\n",
    "print(f\"Calulated Kb (1.380649e-23 J/K): {m[0]}\")\n",
    "\n",
    "xx = np.linspace(min(Δf[tr:]),max(Δf[tr:]),200)\n",
    "yy = m*xx + b \n",
    "\n",
    "#%matplotlib notebook\n",
    "fig = plt.figure(figsize=(7,5))\n",
    "ax = plt.gca()\n",
    "ax.scatter( Δf[tr:], S_f[tr:], c='k', edgecolors='none')\n",
    "ax.plot(xx,yy, c=\"r\", lw = 1)\n",
    "ax.text(350,5e-18,\"$R_{in}$ = 1 k$\\\\Omega$\", size=15)\n",
    "ax.set_yscale('log')\n",
    "ax.set_xscale('log')\n",
    "plt.xlabel(\"Bandwidth $\\\\Delta f$ [Hz]\")\n",
    "plt.ylabel(\"$\\\\frac{<V^2_J(t)>}{4T\\\\cdot R}$ [Hz$\\\\cdot$J/K]\");"
   ]
  },
  {
   "cell_type": "code",
   "execution_count": null,
   "id": "1c55ffab",
   "metadata": {},
   "outputs": [],
   "source": []
  }
 ],
 "metadata": {
  "kernelspec": {
   "display_name": "Python 3 (ipykernel)",
   "language": "python",
   "name": "python3"
  },
  "language_info": {
   "codemirror_mode": {
    "name": "ipython",
    "version": 3
   },
   "file_extension": ".py",
   "mimetype": "text/x-python",
   "name": "python",
   "nbconvert_exporter": "python",
   "pygments_lexer": "ipython3",
   "version": "3.10.4"
  }
 },
 "nbformat": 4,
 "nbformat_minor": 5
}
