{
 "cells": [
  {
   "cell_type": "markdown",
   "id": "cd3439d5",
   "metadata": {},
   "source": [
    "<div style=\"text-align: right\"> Karina Chiñas Fuentes </div>\n",
    "<div style=\"text-align: right\"> Matrikelnummer: 3578458 </div>\n",
    "<div style=\"text-align: right\"> 17/01/22 </div>\n",
    "\n",
    "# Advanced Atomic Physics\n",
    "Exercises 5.f and 5.g.\n",
    "\n",
    "### Hyperfine Structure and Coupling to External Magnetic Fields in Rubidium."
   ]
  },
  {
   "cell_type": "code",
   "execution_count": 1,
   "id": "7dc50728",
   "metadata": {},
   "outputs": [],
   "source": [
    "import numpy as np\n",
    "import pandas as pd\n",
    "import matplotlib.pyplot as plt\n",
    "\n",
    "from scipy.integrate import quad\n",
    "import plotly.graph_objects as go\n",
    "\n",
    "from IPython.display import HTML\n",
    "from IPython.display import Image\n",
    "\n",
    "import sympy as sp \n",
    "from sympy.vector import cross\n",
    "\n",
    "sp.init_printing(use_unicode=True)\n",
    "\n",
    "sstyle = \"seaborn-poster\"\n",
    "plt.style.use(sstyle)\n",
    "plt.rc('font',family = 'serif')\n",
    "\n",
    "#%matplotlib notebook\n",
    "\n",
    "hbar = sp.symbols('ℏ')"
   ]
  },
  {
   "cell_type": "code",
   "execution_count": 2,
   "id": "5be3420a",
   "metadata": {},
   "outputs": [],
   "source": [
    "def S_plus(imsm_):\n",
    "    imsm = imsm_.copy()\n",
    "    s,m =  imsm[-2], imsm[-1]\n",
    "    if m == s:\n",
    "        return 0\n",
    "    else:\n",
    "        eigenvalue = hbar*sp.sqrt( s*(s+1) - m*(m+1) )\n",
    "        imsm[-1] = 1/2\n",
    "        return eigenvalue * imsm\n",
    "    \n",
    "def S_minus(imsm_):\n",
    "    imsm = imsm_.copy()\n",
    "    s,m =  imsm[-2], imsm[-1]\n",
    "    if m == -s:\n",
    "        return 0\n",
    "    else:\n",
    "        eigenvalue = hbar*sp.sqrt( s*(s+1) - m*(m-1) )\n",
    "        imsm[-1] = -1/2\n",
    "        return eigenvalue * imsm\n",
    "    \n",
    "def S_z(imsm_):\n",
    "    imsm = imsm_.copy()\n",
    "    m =  imsm[-1]\n",
    "    eigenvalue = hbar*m\n",
    "    return eigenvalue * imsm"
   ]
  },
  {
   "cell_type": "code",
   "execution_count": 3,
   "id": "5de452af",
   "metadata": {},
   "outputs": [],
   "source": [
    "v = lambda listt: sp.Matrix(listt)\n",
    "\n",
    "IM = [\n",
    "    [3/2,3/2],\n",
    "    [3/2,1/2],\n",
    "    [3/2,-1/2],\n",
    "    [3/2,-3/2]\n",
    "]\n",
    "\n",
    "SM = [\n",
    "    [1/2,1/2],\n",
    "    [1/2,-1/2]\n",
    "]"
   ]
  },
  {
   "cell_type": "code",
   "execution_count": 4,
   "id": "8a55f167",
   "metadata": {},
   "outputs": [],
   "source": [
    "#α = sp.S(\"1/2\"); β = sp.sqrt(3)/2; δ = 1/sp.sqrt(2)\n",
    "α,β,δ = sp.symbols('α,β,δ')\n",
    "\n",
    "IMSM = [\n",
    "    [v(IM[0]+SM[0])],                             # 0    (2,  2)\n",
    "    [α*v(IM[0] + SM[1])] + [β*v(IM[1] + SM[1])],  # 1    (2,  1)\n",
    "    [δ*v(IM[1] + SM[0])] + [δ*v(IM[2] + SM[0])],  # 2    (2,  0)\n",
    "    [β*v(IM[2] + SM[1])] + [α*v(IM[3] + SM[0])],  # 3    (2, -1)\n",
    "    [v(IM[3] + SM[1])],                           # 4    (2, -2)\n",
    "    [β*v(IM[0] + SM[1])] + [-α*v(IM[1] + SM[0])], # 5    (1,  1)\n",
    "    [δ*v(IM[1] + SM[1])] + [-δ*v(IM[2] + SM[0])], # 6    (1,  0)\n",
    "    [α*v(IM[2] + SM[1])] + [-β*v(IM[3] + SM[0])]  # 7    (1, -1)\n",
    "]\n",
    "\n",
    "FM = [uncoupled_basis for uncoupled_basis in IMSM]"
   ]
  },
  {
   "cell_type": "code",
   "execution_count": 5,
   "id": "b0a416b8",
   "metadata": {},
   "outputs": [],
   "source": [
    "Bp, Bm, Bz, μb = sp.symbols('B_+,B_-,B_z, μ_Β')\n",
    "def H_B(vec_imsm):\n",
    "    \"\"\"\n",
    "    Input: imsm: uncoupled eigenstate |I,m_I;S,m_s>\n",
    "    Output: Eigenvalue + Eigenstate of H_B Hamiltonian operator.\n",
    "    \"\"\"\n",
    "    H = []\n",
    "    for state in vec_imsm:        \n",
    "        SS_p = (2*μb/hbar)*(Bp/2)*S_plus(state)\n",
    "        SS_m = (2*μb/hbar)*(Bm/2)*S_minus(state)\n",
    "        SS_z = (2*μb/hbar)*Bz*S_z(state)\n",
    "        Hamiltonian_B = [SS_p, SS_m, SS_z]\n",
    "        H.append(Hamiltonian_B)\n",
    "    return H"
   ]
  },
  {
   "cell_type": "code",
   "execution_count": 6,
   "id": "2c32a2dc",
   "metadata": {},
   "outputs": [],
   "source": [
    "FM22 = IMSM[0]\n",
    "FM21 = IMSM[1]\n",
    "FM11 = IMSM[5]"
   ]
  },
  {
   "cell_type": "code",
   "execution_count": 7,
   "id": "eb6b16e9",
   "metadata": {},
   "outputs": [],
   "source": [
    "def eval_orthogonality(imsm1_,imsm2_):\n",
    "    imsm1, imsm2 = imsm1_.copy(), imsm2_.copy() \n",
    "    imsm1 = imsm1.subs({α:1,β:1,δ:1})\n",
    "    imsm2 = imsm2.subs({α:1,β:1,δ:1,Bp:1, Bm:1, Bz:1, μb:1})\n",
    "    \n",
    "    if imsm1 == imsm2:\n",
    "        return 1\n",
    "    else:\n",
    "        return 0"
   ]
  },
  {
   "cell_type": "code",
   "execution_count": 8,
   "id": "084ae855",
   "metadata": {},
   "outputs": [],
   "source": [
    "def HB_Melements(ith_element,jth_element):\n",
    "    return 0"
   ]
  },
  {
   "cell_type": "code",
   "execution_count": 9,
   "id": "8dee559c",
   "metadata": {},
   "outputs": [
    {
     "data": {
      "image/png": "[encoded data removed]",
      "text/latex": [
       "$\\displaystyle \\left[ 0, \\  0, \\  0\\right]$"
      ],
      "text/plain": [
       "[0, 0, 0]"
      ]
     },
     "execution_count": 9,
     "metadata": {},
     "output_type": "execute_result"
    }
   ],
   "source": [
    "\"\"\"# if len(ith_element) == 1 and len(jth_element) == 1: \n",
    "mask_ = []\n",
    "ith_state = FM[0][0]\n",
    "for jth_state in H_B(FM[0])[0]:\n",
    "    mask_.append(eval_orthogonality(ith_state,jth_state))\n",
    "orthHB = H_B(FM[0])[0][mask_.index(1)]\n",
    "norm_vect = (orthHB.T*FM[0][0]).subs({Bp:1, Bm:1, Bz:1, μb:1})[0] \n",
    "ij_element  = (orthHB.T*FM[0][0])[0]/norm_vect\n",
    "#return ij_element\n",
    "\"\"\"\n",
    "\n",
    "# if len(ith_element) == 1 and len(jth_element) == 2: \n",
    "mask_ = []\n",
    "ith_state = FM[4][0]\n",
    "for HB in H_B(FM[4]):\n",
    "    for jth_state in HB:\n",
    "        mask_.append(eval_orthogonality(ith_state,jth_state))\n",
    "mask_"
   ]
  },
  {
   "cell_type": "markdown",
   "id": "26d9a01f",
   "metadata": {},
   "source": [
    "It works with state $|22>$"
   ]
  },
  {
   "cell_type": "code",
   "execution_count": 13,
   "id": "c5edeb9c",
   "metadata": {},
   "outputs": [
    {
     "data": {
      "text/latex": [
       "$\\displaystyle \\left[ 0, \\  \\left[\\begin{matrix}1.5 B_{-} μ_{Β}\\\\1.5 B_{-} μ_{Β}\\\\0.5 B_{-} μ_{Β}\\\\- 0.5 B_{-} μ_{Β}\\end{matrix}\\right], \\  \\left[\\begin{matrix}1.5 B_{z} μ_{Β}\\\\1.5 B_{z} μ_{Β}\\\\0.5 B_{z} μ_{Β}\\\\0.5 B_{z} μ_{Β}\\end{matrix}\\right]\\right]$"
      ],
      "text/plain": [
       "⎡   ⎡1.5⋅B₋⋅μ_Β ⎤  ⎡1.5⋅B_z⋅μ_Β⎤⎤\n",
       "⎢   ⎢           ⎥  ⎢           ⎥⎥\n",
       "⎢   ⎢1.5⋅B₋⋅μ_Β ⎥  ⎢1.5⋅B_z⋅μ_Β⎥⎥\n",
       "⎢0, ⎢           ⎥, ⎢           ⎥⎥\n",
       "⎢   ⎢0.5⋅B₋⋅μ_Β ⎥  ⎢0.5⋅B_z⋅μ_Β⎥⎥\n",
       "⎢   ⎢           ⎥  ⎢           ⎥⎥\n",
       "⎣   ⎣-0.5⋅B₋⋅μ_Β⎦  ⎣0.5⋅B_z⋅μ_Β⎦⎦"
      ]
     },
     "execution_count": 13,
     "metadata": {},
     "output_type": "execute_result"
    }
   ],
   "source": [
    "H_B(FM[0])[0]"
   ]
  },
  {
   "cell_type": "code",
   "execution_count": 14,
   "id": "61968ce8",
   "metadata": {},
   "outputs": [
    {
     "data": {
      "text/latex": [
       "$\\displaystyle \\left[\\begin{matrix}1.5\\\\1.5\\\\0.5\\\\0.5\\end{matrix}\\right]$"
      ],
      "text/plain": [
       "⎡1.5⎤\n",
       "⎢   ⎥\n",
       "⎢1.5⎥\n",
       "⎢   ⎥\n",
       "⎢0.5⎥\n",
       "⎢   ⎥\n",
       "⎣0.5⎦"
      ]
     },
     "execution_count": 14,
     "metadata": {},
     "output_type": "execute_result"
    }
   ],
   "source": [
    "FM[0][0]"
   ]
  },
  {
   "cell_type": "markdown",
   "id": "a182f5a9",
   "metadata": {},
   "source": [
    "but it doesn't with $|2-2>$"
   ]
  },
  {
   "cell_type": "code",
   "execution_count": 10,
   "id": "33baaaf0",
   "metadata": {},
   "outputs": [
    {
     "data": {
      "text/latex": [
       "$\\displaystyle \\left[ \\left[\\begin{matrix}1.5 B_{+} μ_{Β}\\\\- 1.5 B_{+} μ_{Β}\\\\0.5 B_{+} μ_{Β}\\\\0.5 B_{+} μ_{Β}\\end{matrix}\\right], \\  0, \\  \\left[\\begin{matrix}- 1.5 B_{z} μ_{Β}\\\\1.5 B_{z} μ_{Β}\\\\- 0.5 B_{z} μ_{Β}\\\\0.5 B_{z} μ_{Β}\\end{matrix}\\right]\\right]$"
      ],
      "text/plain": [
       "⎡⎡1.5⋅B₊⋅μ_Β ⎤     ⎡-1.5⋅B_z⋅μ_Β⎤⎤\n",
       "⎢⎢           ⎥     ⎢            ⎥⎥\n",
       "⎢⎢-1.5⋅B₊⋅μ_Β⎥     ⎢1.5⋅B_z⋅μ_Β ⎥⎥\n",
       "⎢⎢           ⎥, 0, ⎢            ⎥⎥\n",
       "⎢⎢0.5⋅B₊⋅μ_Β ⎥     ⎢-0.5⋅B_z⋅μ_Β⎥⎥\n",
       "⎢⎢           ⎥     ⎢            ⎥⎥\n",
       "⎣⎣0.5⋅B₊⋅μ_Β ⎦     ⎣0.5⋅B_z⋅μ_Β ⎦⎦"
      ]
     },
     "execution_count": 10,
     "metadata": {},
     "output_type": "execute_result"
    }
   ],
   "source": [
    "H_B(FM[4])[0]"
   ]
  },
  {
   "cell_type": "code",
   "execution_count": 11,
   "id": "0965ce91",
   "metadata": {},
   "outputs": [
    {
     "data": {
      "text/latex": [
       "$\\displaystyle \\left[\\begin{matrix}1.5\\\\-1.5\\\\0.5\\\\-0.5\\end{matrix}\\right]$"
      ],
      "text/plain": [
       "⎡1.5 ⎤\n",
       "⎢    ⎥\n",
       "⎢-1.5⎥\n",
       "⎢    ⎥\n",
       "⎢0.5 ⎥\n",
       "⎢    ⎥\n",
       "⎣-0.5⎦"
      ]
     },
     "execution_count": 11,
     "metadata": {},
     "output_type": "execute_result"
    }
   ],
   "source": [
    "FM[4][0]"
   ]
  },
  {
   "cell_type": "code",
   "execution_count": null,
   "id": "bea477e4",
   "metadata": {},
   "outputs": [],
   "source": []
  }
 ],
 "metadata": {
  "kernelspec": {
   "display_name": "Python 3 (ipykernel)",
   "language": "python",
   "name": "python3"
  },
  "language_info": {
   "codemirror_mode": {
    "name": "ipython",
    "version": 3
   },
   "file_extension": ".py",
   "mimetype": "text/x-python",
   "name": "python",
   "nbconvert_exporter": "python",
   "pygments_lexer": "ipython3",
   "version": "3.9.7"
  }
 },
 "nbformat": 4,
 "nbformat_minor": 5
}
