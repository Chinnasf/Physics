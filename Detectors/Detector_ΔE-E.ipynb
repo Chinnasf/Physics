{
 "cells": [
  {
   "cell_type": "markdown",
   "id": "45a57799",
   "metadata": {},
   "source": [
    "# Nuclear Instrumentation\n",
    "## ΔE-E Detector\n",
    "\n",
    "Karina Chiñas Fuentes\n",
    "\n",
    "Student Nummer: 02118434\n",
    "\n",
    "---"
   ]
  },
  {
   "cell_type": "code",
   "execution_count": 1,
   "id": "a0d287b6",
   "metadata": {},
   "outputs": [],
   "source": [
    "import numpy as np\n",
    "import matplotlib.pyplot as plt\n",
    "import sympy as sp\n",
    "import scipy.constants as spc\n",
    "import pylab as pl\n",
    "\n",
    "from mpl_toolkits.mplot3d import Axes3D\n",
    "from matplotlib import cm\n",
    "from matplotlib.ticker import LinearLocator, FormatStrFormatter\n",
    "\n",
    "sstyle = \"seaborn-poster\"\n",
    "plt.style.use(sstyle)\n",
    "plt.rc('font',family = 'serif')\n",
    "\n",
    "qe = spc.elementary_charge # C\n",
    "mp = spc.proton_mass       # kg\n",
    "me = spc.electron_mass     # kg\n",
    "ε0 = spc.epsilon_0         # F/m\n",
    "c  = spc.speed_of_light    # m/s"
   ]
  },
  {
   "cell_type": "markdown",
   "id": "67d74ddb",
   "metadata": {},
   "source": [
    "**Task:** calcuate the energy loss of a given particle in a $\\Delta$E-E detector, using the Bethe-Bloch formula: \n",
    "\n",
    "$$\n",
    "    S_m(\\beta) = S_{m,0}\\frac{Z_x}{A_x}\\left( \\frac{Z^2_a}{\\beta} \\right)\\left[ Ln\\left( \\frac{2m_ec^2\\beta^2}{<I>}\\right) -Ln\\left( 1-\\beta^2 \\right) -\\beta^2 \\right]\n",
    "$$\n",
    "\n",
    "which express the stopping power in MeV$\\cdot$cm$^2\\cdot$g$^{-1}$. Where\n",
    "\n",
    "$$\n",
    "    S_{m,0} = 4\\pi r_e^2 N_A m_e^2 c^2 \\approx 0.307 \\: \\text{MeV}\\cdot\\text{cm}^2\\cdot\\text{g}^{-1}\n",
    "$$\n",
    "\n",
    "if $A_x$ is expressed in g$\\cdot$mol$^{-1}$; with the approximation that, for all elements, $Z_x/A_x\\sim$ 0.5. Furthermore, $r_e$ is the classical electron radius\n",
    "\n",
    "$$\n",
    "    r_e = \\frac{e^2}{4\\pi\\epsilon_0 m_ec^2} \n",
    "$$\n",
    "\n",
    "And, $m_e$ is the electron mass, $e$ the electron charge, $Z_x$ the atomic number of the absorber atoms, $Z_a$ is the atomic number of the incoming particle, $n_x$ is the number density of the absorber atoms, $\\beta = \\nu/c$, $\\nu$ is the speed of the incoming particle, and $I$ is the average excitation or ionization potential of the absorber atoms. Finally, recall that\n",
    "\n",
    "$$\n",
    "    \\nu^2 = \\frac{2E}{m} \\:\\: \\rightarrow \\:\\: \\beta^2 = \\frac{2E}{m_A \\cdot 931 \\frac{\\text{MeV}}{\\text{amu}}}\n",
    "$$\n",
    "\n",
    "With $m_A$ beng the particle mass ain atomic mass units, and $E$ the particle energy in MeV.\n",
    "\n",
    "**Detector:**  The E detector is made of Ge with energy threshold of 5.2 MeV and thichkness of 11 mm. The $\\Delta$E transmission detector is made of Si and its characteristics are _to be determined_ with the knowledge that **deuterons** need to have at least 13.3 MeV to be detected in the $\\Delta$E-E detector. And, **protons** cannot be detected with energy above 60 MeV.\n",
    "\n",
    "**Data:**\n",
    "\n",
    "* **Silicon**\n",
    "    * Ionisation potentials: 173 eV\n",
    "    * Density: 2.32 g/cm$^3$\n",
    "    * A: 28.0855 g/mol\n",
    "    * Z: 14\n",
    "    \n",
    "* **Germanium**\n",
    "    * Ionisation potentials: 350 eV\n",
    "    * Density: 5.3 g/cm$^3$\n",
    "    * A: 72.59 g/mol\n",
    "    * Z: 32    "
   ]
  },
  {
   "cell_type": "code",
   "execution_count": 2,
   "id": "7296a45c",
   "metadata": {},
   "outputs": [],
   "source": [
    "Sm0= 0.307e6                    # ev*cm2/g \n",
    "Si = {\n",
    "    \"ionization_potential\":173, # eV\n",
    "    \"density\":2.32,             # g/cm3\n",
    "    \"A\":28.0855,                # atomic mass g/mol\n",
    "    \"Z\":14,                     # atomic number\n",
    "    \"width\": None,              # to be determined\n",
    "    \"I\": None,                  # to be determined\n",
    "}\n",
    "Ge = {\n",
    "    \"ionization_potential\":350, # eV\n",
    "    \"density\":5.3,              # g/cm3\n",
    "    \"A\":72.59,                  # atomic mass [g/mol]\n",
    "    \"Z\":32,                     # atomic number\n",
    "    \"width\": 1.1,               # cm\n",
    "    \"I\": 5.2e6,                 # energy threshold[eV]\n",
    "}"
   ]
  },
  {
   "cell_type": "code",
   "execution_count": 3,
   "id": "3363578f",
   "metadata": {},
   "outputs": [],
   "source": [
    "def beta_sq(E,mA):\n",
    "    β_squared = 2*E/(931*mA)\n",
    "    return β_squared\n",
    "\n",
    "def BB_formula(Za,β_sq,Zx,Ax,I):\n",
    "    mec2 = me*c*c/qe # rest mass in eV\n",
    "    S = Sm0*(Zx/Ax)*((Za**2)/β_sq)*( np.log(2*mec2*β_sq/I ) -np.log(1-β_sq) -β_sq )\n",
    "    S = S*1e-6 # so that output matches MeV units\n",
    "    return S"
   ]
  },
  {
   "cell_type": "markdown",
   "id": "da57f9a8",
   "metadata": {},
   "source": [
    "The incoming particles are: **protons**, **deutrons** and **tritons**"
   ]
  },
  {
   "cell_type": "code",
   "execution_count": 4,
   "id": "6dab548d",
   "metadata": {},
   "outputs": [],
   "source": [
    "Eo  = 10 #np.linspace(1,10) # Initial Energies in MeV\n",
    "β2p = beta_sq(Eo,1) # Energy associated to protons\n",
    "β2d = beta_sq(Eo,2) # Energy associated to deuterions\n",
    "β2t = beta_sq(Eo,3) # Energy associated to tritions"
   ]
  },
  {
   "cell_type": "markdown",
   "id": "c54ab668",
   "metadata": {},
   "source": [
    "Numerical analysis"
   ]
  },
  {
   "cell_type": "code",
   "execution_count": 5,
   "id": "af1e500c",
   "metadata": {},
   "outputs": [],
   "source": [
    "d = 1.1  # detector width\n",
    "N = 10   # grid partition\n",
    "Δx = d/N"
   ]
  },
  {
   "cell_type": "code",
   "execution_count": 17,
   "id": "bf937c3a",
   "metadata": {},
   "outputs": [
    {
     "name": "stderr",
     "output_type": "stream",
     "text": [
      "/tmp/ipykernel_35631/3013517797.py:7: RuntimeWarning: invalid value encountered in log\n",
      "  S = Sm0*(Zx/Ax)*((Za**2)/β_sq)*( np.log(2*mec2*β_sq/I ) -np.log(1-β_sq) -β_sq )\n"
     ]
    }
   ],
   "source": [
    "E = np.linspace(1,1000,200) # Initial Energies in MeV\n",
    "β2p = beta_sq(E,1) \n",
    "S  = np.zeros(len(E))\n",
    "ΔE = E.copy()\n",
    "\n",
    "for j, beta in enumerate(β2p):\n",
    "    for i in range(N):\n",
    "        S[j] = BB_formula(1, beta, Ge[\"Z\"], Ge[\"A\"], Ge[\"I\"])\n",
    "        ΔE[j] -= S[j]*Δx"
   ]
  },
  {
   "cell_type": "code",
   "execution_count": 18,
   "id": "c12808e2",
   "metadata": {},
   "outputs": [
    {
     "data": {
      "image/png": "[encoded data removed]",
      "text/plain": [
       "<Figure size 432x288 with 1 Axes>"
      ]
     },
     "metadata": {
      "needs_background": "light"
     },
     "output_type": "display_data"
    }
   ],
   "source": [
    "plt.plot(E,ΔE);"
   ]
  },
  {
   "cell_type": "code",
   "execution_count": 19,
   "id": "5333ac5b",
   "metadata": {},
   "outputs": [
    {
     "data": {
      "text/plain": [
       "[<matplotlib.lines.Line2D at 0x7fe71d8377c0>]"
      ]
     },
     "execution_count": 19,
     "metadata": {},
     "output_type": "execute_result"
    },
    {
     "data": {
      "image/png": "[encoded data removed]",
      "text/plain": [
       "<Figure size 432x288 with 1 Axes>"
      ]
     },
     "metadata": {
      "needs_background": "light"
     },
     "output_type": "display_data"
    }
   ],
   "source": [
    "plt.loglog(E,ΔE)"
   ]
  },
  {
   "cell_type": "code",
   "execution_count": null,
   "id": "c56bfd86",
   "metadata": {},
   "outputs": [],
   "source": []
  }
 ],
 "metadata": {
  "kernelspec": {
   "display_name": "Python 3 (ipykernel)",
   "language": "python",
   "name": "python3"
  },
  "language_info": {
   "codemirror_mode": {
    "name": "ipython",
    "version": 3
   },
   "file_extension": ".py",
   "mimetype": "text/x-python",
   "name": "python",
   "nbconvert_exporter": "python",
   "pygments_lexer": "ipython3",
   "version": "3.10.6"
  }
 },
 "nbformat": 4,
 "nbformat_minor": 5
}
