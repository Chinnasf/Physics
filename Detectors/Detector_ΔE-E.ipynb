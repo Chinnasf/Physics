{
 "cells": [
  {
   "cell_type": "markdown",
   "id": "45a57799",
   "metadata": {},
   "source": [
    "# Nuclear Instrumentation\n",
    "## ΔE-E Detector\n",
    "\n",
    "Karina Chiñas Fuentes\n",
    "\n",
    "Student Nummer: 02118434\n",
    "\n",
    "---"
   ]
  },
  {
   "cell_type": "code",
   "execution_count": 1,
   "id": "a0d287b6",
   "metadata": {},
   "outputs": [],
   "source": [
    "import numpy as np\n",
    "import matplotlib.pyplot as plt\n",
    "import sympy as sp\n",
    "import scipy.constants as spc\n",
    "import pylab as pl\n",
    "\n",
    "from mpl_toolkits.mplot3d import Axes3D\n",
    "from matplotlib import cm\n",
    "from matplotlib.ticker import LinearLocator, FormatStrFormatter\n",
    "\n",
    "sstyle = \"seaborn-poster\"\n",
    "plt.style.use(sstyle)\n",
    "plt.rc('font',family = 'serif')\n",
    "\n",
    "qe = spc.elementary_charge # C\n",
    "mp = spc.proton_mass       # kg\n",
    "me = spc.electron_mass     # kg\n",
    "ε0 = spc.epsilon_0         # F/m\n",
    "c  = spc.speed_of_light    # m/s"
   ]
  },
  {
   "cell_type": "markdown",
   "id": "d1069cf5",
   "metadata": {},
   "source": [
    "**Task:** calcuate the energy loss of a given particle in a $\\Delta$E-E detector, using the Bethe-Bloch formula: "
   ]
  },
  {
   "cell_type": "markdown",
   "id": "565f3816",
   "metadata": {},
   "source": [
    "\\begin{equation}\n",
    "    S_m(\\beta) = S_{m,0}\\frac{Z_x}{A_x}\\left( \\frac{Z^2_a}{\\beta} \\right)\\left[ Ln\\left( \\frac{2m_ec^2\\beta^2}{<I>}\\right) -Ln\\left( 1-\\beta^2 \\right) -\\beta^2 \\right]\n",
    "\\end{equation}"
   ]
  },
  {
   "cell_type": "markdown",
   "id": "67d74ddb",
   "metadata": {},
   "source": [
    "which express the stopping power in MeV$\\cdot$cm$^2\\cdot$g$^{-1}$. Where\n",
    "\n",
    "$$\n",
    "    S_{m,0} = 4\\pi r_e^2 N_A m_e^2 c^2 \\approx 0.307 \\: \\text{MeV}\\cdot\\text{cm}^2\\cdot\\text{g}^{-1}\n",
    "$$\n",
    "\n",
    "if $A_x$, molar mass of the target nucleus, is expressed in g$\\cdot$mol$^{-1}$; with the approximation that, for all elements, $Z_x/A_x\\sim$ 0.5. Furthermore, $r_e$ is the classical electron radius\n",
    "\n",
    "$$\n",
    "    r_e = \\frac{e^2}{4\\pi\\epsilon_0 m_ec^2} \n",
    "$$\n",
    "\n",
    "And, $m_e$ is the electron mass, $e$ the electron charge, $Z_x$ the atomic number of the absorber atoms, $Z_a$ is the atomic number of the incoming particle, $n_x$ is the number density of the absorber atoms, $\\beta = \\nu/c$, $\\nu$ is the speed of the incoming particle, and $I$ is the average excitation or ionization potential of the absorber atoms. Finally, recall that\n",
    "\n",
    "$$\n",
    "    \\nu^2 = \\frac{2E}{m} \\:\\: \\rightarrow \\:\\: \\beta^2 = \\frac{2E}{m_A \\cdot 931 \\frac{\\text{MeV}}{\\text{amu}}}\n",
    "$$\n",
    "\n",
    "With $m_A$ beng the particle mass in atomic mass units, and $E$ the particle energy in MeV.\n",
    "\n",
    "**Detector:**  The E detector is made of Ge with energy threshold of 5.2 MeV and thichkness of 11 mm. The $\\Delta$E transmission detector is made of Si and its characteristics are _to be determined_ with the knowledge that **deuterons** need to have at least 13.3 MeV to be detected in the $\\Delta$E-E detector. And, **protons** cannot be detected with energy above 60 MeV.\n",
    "\n",
    "**Data:**\n",
    "\n",
    "* **Silicon**\n",
    "    * Ionisation potentials: 173 eV\n",
    "    * Density: 2.32 g/cm$^3$\n",
    "    * A: 28.0855 g/mol\n",
    "    * Z: 14\n",
    "    \n",
    "* **Germanium**\n",
    "    * Ionisation potentials: 350 eV\n",
    "    * Density: 5.3 g/cm$^3$\n",
    "    * A: 72.59 g/mol\n",
    "    * Z: 32    "
   ]
  },
  {
   "cell_type": "code",
   "execution_count": 2,
   "id": "7296a45c",
   "metadata": {},
   "outputs": [],
   "source": [
    "Sm0= 0.307e6                    # ev*cm2/g \n",
    "Si = {\n",
    "    \"ionization_potential\":173, # eV\n",
    "    \"density\":2.32,             # g/cm3\n",
    "    \"A\":28.0855,                # atomic mass [g/mol]\n",
    "    \"Z\":14,                     # atomic number\n",
    "    \"width\": None,              # to be determined\n",
    "    \"I\": None,                  # to be determined\n",
    "}\n",
    "Ge = {\n",
    "    \"ionization_potential\":350, # eV\n",
    "    \"density\":5.3,              # g/cm3\n",
    "    \"A\":72.59,                  # atomic mass [g/mol]\n",
    "    \"Z\":32,                     # atomic number\n",
    "    \"width\": 1.1,               # cm\n",
    "    \"I\": 5.2e6,                 # energy threshold [eV]\n",
    "}"
   ]
  },
  {
   "cell_type": "markdown",
   "id": "695e0476",
   "metadata": {},
   "source": [
    "\\begin{equation}\n",
    "    S_m(E) = S_{m,0}\\frac{Z_xZ^2_a}{A_x}\\sqrt{\\frac{m_\\alpha c^2}{2E}}\\left[ Ln\\left( \\frac{4m_e}{Im_\\alpha}E\\right) -Ln\\left( 1-\\frac{2E}{m_\\alpha c^2}\\right) -\\frac{2E}{m_\\alpha c^2} \\right]\n",
    "\\end{equation}\n"
   ]
  },
  {
   "cell_type": "code",
   "execution_count": 28,
   "id": "3363578f",
   "metadata": {},
   "outputs": [],
   "source": [
    "def BB_formula(n,Za,E,Zx,Ax,I):\n",
    "    \"\"\"\n",
    "    n : number of neutrons: 0-proton, 1-deuterons, 2-tritons\n",
    "    Za: atomic number of incoming particle\n",
    "    E : energy of incoming particle in MeV\n",
    "    Zx: atomic number of the absorber atoms\n",
    "    Ax: molar mass of the target nucleus\n",
    "    I:  ionization potential of the absorber atoms\n",
    "    \"\"\"\n",
    "    n += 1\n",
    "    mα   = n*mp               # mass of incoming particle in kg\n",
    "    mecc = (me*c*c/qe)*1e-6   # electron rest mass in MeV\n",
    "    mαcc = n*(mp*c*c/qe)*1e-6 # incoming particle's rest mass in MeV\n",
    "\n",
    "    S = (Sm0*Zx*Za*Za/Ax)*np.sqrt(mαcc/(2*E))*( np.log( (4*me/(I*mα))*E ) -np.log(1-(2/mαcc)*E) -(2/mαcc)*E)\n",
    "    \n",
    "    return S"
   ]
  },
  {
   "cell_type": "markdown",
   "id": "da57f9a8",
   "metadata": {},
   "source": [
    "The incoming particles are: **protons**, **deutrons** and **tritons**"
   ]
  },
  {
   "cell_type": "markdown",
   "id": "c54ab668",
   "metadata": {},
   "source": [
    "Numerical analysis"
   ]
  },
  {
   "cell_type": "code",
   "execution_count": 29,
   "id": "af1e500c",
   "metadata": {},
   "outputs": [],
   "source": [
    "d = 1.1  # detector width\n",
    "N = 10   # grid partition\n",
    "Δx = d/N"
   ]
  },
  {
   "cell_type": "code",
   "execution_count": 34,
   "id": "bf937c3a",
   "metadata": {},
   "outputs": [],
   "source": [
    "E  = np.linspace(0.1,2,200)  # Initial Energies in MeV\n",
    "S  = np.zeros(len(E))\n",
    "ΔE = E.copy()\n",
    "\n",
    "N_neutrons = 0\n",
    "\n",
    "if N_neutrons == 0:\n",
    "    for j, Eo in enumerate(E):\n",
    "        for i in range(N):\n",
    "            S[j] = BB_formula(N_neutrons, 1, Eo, Ge[\"Z\"], Ge[\"A\"], Ge[\"I\"])\n",
    "            # if energy is lower than 100 KeV, then it can be cosidered to be stopped, for protons\n",
    "            if (ΔE[j]-S[j]*Δx < 0.1): \n",
    "                break\n",
    "            else:\n",
    "                ΔE[j] -= S[j]*Δx\n",
    "else:\n",
    "    for j, Eo in enumerate(E):\n",
    "        for i in range(N):\n",
    "            S[j] = BB_formula(N_neutrons, 1, Eo, Ge[\"Z\"], Ge[\"A\"], Ge[\"I\"]) \n",
    "            # if energy is lower or eq to 0, then it can be cosidered to be stopped\n",
    "            if (ΔE[j]-S[j]*Δx <= 0): \n",
    "                break            \n",
    "            else:\n",
    "                ΔE[j] -= S[j]*Δx "
   ]
  },
  {
   "cell_type": "code",
   "execution_count": 35,
   "id": "45072ddb",
   "metadata": {},
   "outputs": [
    {
     "data": {
      "text/plain": [
       "array([2.43655832e+08, 2.31907396e+08, 2.21636572e+08, 2.12559943e+08,\n",
       "       2.04464554e+08, 1.97186915e+08, 1.90599168e+08, 1.84599708e+08,\n",
       "       1.79106642e+08, 1.74053144e+08, 1.69384071e+08, 1.65053469e+08,\n",
       "       1.61022696e+08, 1.57258995e+08, 1.53734389e+08, 1.50424827e+08,\n",
       "       1.47309500e+08, 1.44370301e+08, 1.41591395e+08, 1.38958861e+08,\n",
       "       1.36460409e+08, 1.34085139e+08, 1.31823350e+08, 1.29666372e+08,\n",
       "       1.27606432e+08, 1.25636537e+08, 1.23750377e+08, 1.21942243e+08,\n",
       "       1.20206952e+08, 1.18539791e+08, 1.16936459e+08, 1.15393025e+08,\n",
       "       1.13905889e+08, 1.12471744e+08, 1.11087547e+08, 1.09750495e+08,\n",
       "       1.08457997e+08, 1.07207660e+08, 1.05997262e+08, 1.04824743e+08,\n",
       "       1.03688190e+08, 1.02585818e+08, 1.01515966e+08, 1.00477082e+08,\n",
       "       9.94677169e+07, 9.84865123e+07, 9.75321967e+07, 9.66035768e+07,\n",
       "       9.56995319e+07, 9.48190082e+07, 9.39610139e+07, 9.31246145e+07,\n",
       "       9.23089285e+07, 9.15131240e+07, 9.07364148e+07, 8.99780573e+07,\n",
       "       8.92373478e+07, 8.85136194e+07, 8.78062400e+07, 8.71146098e+07,\n",
       "       8.64381591e+07, 8.57763467e+07, 8.51286577e+07, 8.44946022e+07,\n",
       "       8.38737138e+07, 8.32655476e+07, 8.26696800e+07, 8.20857062e+07,\n",
       "       8.15132401e+07, 8.09519128e+07, 8.04013714e+07, 7.98612788e+07,\n",
       "       7.93313120e+07, 7.88111621e+07, 7.83005330e+07, 7.77991408e+07,\n",
       "       7.73067134e+07, 7.68229898e+07, 7.63477192e+07, 7.58806611e+07,\n",
       "       7.54215842e+07, 7.49702662e+07, 7.45264934e+07, 7.40900601e+07,\n",
       "       7.36607686e+07, 7.32384282e+07, 7.28228554e+07, 7.24138734e+07,\n",
       "       7.20113117e+07, 7.16150059e+07, 7.12247975e+07, 7.08405333e+07,\n",
       "       7.04620656e+07, 7.00892519e+07, 6.97219541e+07, 6.93600393e+07,\n",
       "       6.90033785e+07, 6.86518473e+07, 6.83053253e+07, 6.79636959e+07,\n",
       "       6.76268464e+07, 6.72946676e+07, 6.69670537e+07, 6.66439022e+07,\n",
       "       6.63251140e+07, 6.60105927e+07, 6.57002451e+07, 6.53939808e+07,\n",
       "       6.50917119e+07, 6.47933534e+07, 6.44988225e+07, 6.42080390e+07,\n",
       "       6.39209251e+07, 6.36374050e+07, 6.33574053e+07, 6.30808544e+07,\n",
       "       6.28076830e+07, 6.25378236e+07, 6.22712105e+07, 6.20077799e+07,\n",
       "       6.17474697e+07, 6.14902194e+07, 6.12359703e+07, 6.09846650e+07,\n",
       "       6.07362480e+07, 6.04906648e+07, 6.02478627e+07, 6.00077900e+07,\n",
       "       5.97703967e+07, 5.95356339e+07, 5.93034537e+07, 5.90738099e+07,\n",
       "       5.88466570e+07, 5.86219509e+07, 5.83996484e+07, 5.81797075e+07,\n",
       "       5.79620871e+07, 5.77467472e+07, 5.75336486e+07, 5.73227533e+07,\n",
       "       5.71140238e+07, 5.69074239e+07, 5.67029180e+07, 5.65004713e+07,\n",
       "       5.63000499e+07, 5.61016207e+07, 5.59051512e+07, 5.57106097e+07,\n",
       "       5.55179653e+07, 5.53271877e+07, 5.51382473e+07, 5.49511151e+07,\n",
       "       5.47657628e+07, 5.45821627e+07, 5.44002876e+07, 5.42201111e+07,\n",
       "       5.40416071e+07, 5.38647502e+07, 5.36895156e+07, 5.35158788e+07,\n",
       "       5.33438161e+07, 5.31733040e+07, 5.30043197e+07, 5.28368407e+07,\n",
       "       5.26708451e+07, 5.25063113e+07, 5.23432184e+07, 5.21815455e+07,\n",
       "       5.20212726e+07, 5.18623796e+07, 5.17048472e+07, 5.15486562e+07,\n",
       "       5.13937880e+07, 5.12402242e+07, 5.10879468e+07, 5.09369381e+07,\n",
       "       5.07871809e+07, 5.06386581e+07, 5.04913530e+07, 5.03452494e+07,\n",
       "       5.02003311e+07, 5.00565824e+07, 4.99139879e+07, 4.97725323e+07,\n",
       "       4.96322007e+07, 4.94929785e+07, 4.93548514e+07, 4.92178052e+07,\n",
       "       4.90818260e+07, 4.89469003e+07, 4.88130146e+07, 4.86801559e+07,\n",
       "       4.85483112e+07, 4.84174678e+07, 4.82876133e+07, 4.81587354e+07,\n",
       "       4.80308221e+07, 4.79038615e+07, 4.77778420e+07, 4.76527522e+07])"
      ]
     },
     "execution_count": 35,
     "metadata": {},
     "output_type": "execute_result"
    }
   ],
   "source": [
    "ΔE"
   ]
  },
  {
   "cell_type": "code",
   "execution_count": 31,
   "id": "c12808e2",
   "metadata": {},
   "outputs": [
    {
     "data": {
      "image/png": "[encoded data removed]",
      "text/plain": [
       "<Figure size 432x288 with 1 Axes>"
      ]
     },
     "metadata": {
      "needs_background": "light"
     },
     "output_type": "display_data"
    }
   ],
   "source": [
    "plt.plot(E,ΔE);"
   ]
  },
  {
   "cell_type": "code",
   "execution_count": 32,
   "id": "5333ac5b",
   "metadata": {},
   "outputs": [
    {
     "data": {
      "text/plain": [
       "[<matplotlib.lines.Line2D at 0x7f483c2362c0>]"
      ]
     },
     "execution_count": 32,
     "metadata": {},
     "output_type": "execute_result"
    },
    {
     "data": {
      "image/png": "[encoded data removed]",
      "text/plain": [
       "<Figure size 432x288 with 1 Axes>"
      ]
     },
     "metadata": {
      "needs_background": "light"
     },
     "output_type": "display_data"
    }
   ],
   "source": [
    "plt.loglog(E,ΔE)"
   ]
  },
  {
   "cell_type": "code",
   "execution_count": null,
   "id": "c56bfd86",
   "metadata": {},
   "outputs": [],
   "source": []
  }
 ],
 "metadata": {
  "kernelspec": {
   "display_name": "Python 3 (ipykernel)",
   "language": "python",
   "name": "python3"
  },
  "language_info": {
   "codemirror_mode": {
    "name": "ipython",
    "version": 3
   },
   "file_extension": ".py",
   "mimetype": "text/x-python",
   "name": "python",
   "nbconvert_exporter": "python",
   "pygments_lexer": "ipython3",
   "version": "3.10.6"
  }
 },
 "nbformat": 4,
 "nbformat_minor": 5
}
