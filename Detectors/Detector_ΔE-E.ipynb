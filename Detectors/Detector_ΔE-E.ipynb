{
 "cells": [
  {
   "cell_type": "markdown",
   "id": "45a57799",
   "metadata": {},
   "source": [
    "# Nuclear Instrumentation\n",
    "## ΔE-E Detector\n",
    "\n",
    "Karina Chiñas Fuentes\n",
    "\n",
    "Student Nummer: 02118434\n",
    "\n",
    "---"
   ]
  },
  {
   "cell_type": "code",
   "execution_count": 1,
   "id": "a0d287b6",
   "metadata": {},
   "outputs": [],
   "source": [
    "import numpy as np\n",
    "import matplotlib.pyplot as plt\n",
    "import sympy as sp\n",
    "import scipy.constants as spc\n",
    "import pylab as pl\n",
    "import seaborn as sns\n",
    "\n",
    "\n",
    "from mpl_toolkits.mplot3d import Axes3D\n",
    "from matplotlib import cm\n",
    "from matplotlib.ticker import LinearLocator, FormatStrFormatter\n",
    "\n",
    "sstyle = \"paper\"\n",
    "sns.set_context(sstyle)\n",
    "sns.set_style(\"whitegrid\")\n",
    "plt.rc('font',family = 'serif')\n",
    "\n",
    "qe = spc.elementary_charge # C\n",
    "mp = spc.proton_mass       # kg\n",
    "me = spc.electron_mass     # kg\n",
    "ε0 = spc.epsilon_0         # F/m\n",
    "c  = spc.speed_of_light    # m/s"
   ]
  },
  {
   "cell_type": "markdown",
   "id": "d1069cf5",
   "metadata": {},
   "source": [
    "**Task:** calcuate the energy loss of a given particle in a $\\Delta$E-E detector, using the Bethe-Bloch formula: "
   ]
  },
  {
   "cell_type": "markdown",
   "id": "565f3816",
   "metadata": {},
   "source": [
    "\\begin{equation}\n",
    "    S= \\rho\\cdot S_m(\\beta) = \\rho\\cdot S_{m,0}\\frac{Z_x}{A_x}\\left( \\frac{Z^2_a}{\\beta^2} \\right)\\left[ Ln\\left( \\frac{2m_ec^2\\beta^2}{<I>}\\right) -Ln\\left( 1-\\beta^2 \\right) -\\beta^2 \\right]\n",
    "\\end{equation}"
   ]
  },
  {
   "cell_type": "markdown",
   "id": "67d74ddb",
   "metadata": {},
   "source": [
    "which express the stopping power in MeV$\\cdot$cm$^2\\cdot$g$^{-1}$. Where\n",
    "\n",
    "$$\n",
    "    S_{m,0} = 4\\pi r_e^2 N_A m_e^2 c^2 \\approx 0.307 \\: \\text{MeV}\\cdot\\text{cm}^2\\cdot\\text{g}^{-1}\n",
    "$$\n",
    "\n",
    "if $A_x$, molar mass of the target nucleus, is expressed in g$\\cdot$mol$^{-1}$; with the approximation that, for all elements, $Z_x/A_x\\sim$ 0.5. Furthermore, $r_e$ is the classical electron radius\n",
    "\n",
    "$$\n",
    "    r_e = \\frac{e^2}{4\\pi\\epsilon_0 m_ec^2} \n",
    "$$\n",
    "\n",
    "And, $m_e$ is the electron mass, $e$ the electron charge, $Z_x$ the atomic number of the absorber atoms, $Z_a$ is the atomic number of the incoming particle, $n_x$ is the number density of the absorber atoms, $\\beta = \\nu/c$, $\\nu$ is the speed of the incoming particle, and $I$ is the average excitation or ionization potential of the absorber atoms. Finally, recall that\n",
    "\n",
    "$$\n",
    "    \\nu^2 = \\frac{2E}{m} \\:\\: \\rightarrow \\:\\: \\beta^2 = \\frac{2E}{m_A \\cdot 931 \\frac{\\text{MeV}}{\\text{amu}}}\n",
    "$$\n",
    "\n",
    "With $m_A$ beng the particle mass in atomic mass units, and $E$ the particle energy in MeV.\n",
    "\n",
    "**Detector:**  The E detector is made of Ge with energy threshold of 5.2 MeV and thichkness of 11 mm. The $\\Delta$E transmission detector is made of Si and its characteristics are _to be determined_ with the knowledge that **deuterons** need to have at least 13.3 MeV to be detected in the $\\Delta$E-E detector. And, **protons** cannot be detected with energy above 60 MeV.\n",
    "\n",
    "**Data:**\n",
    "\n",
    "* **Silicon**\n",
    "    * Ionisation potentials: 173 eV\n",
    "    * Density: 2.32 g/cm$^3$\n",
    "    * A: 28.0855 g/mol\n",
    "    * Z: 14\n",
    "    \n",
    "* **Germanium**\n",
    "    * Ionisation potentials: 350 eV\n",
    "    * Density: 5.3 g/cm$^3$\n",
    "    * A: 72.59 g/mol\n",
    "    * Z: 32    "
   ]
  },
  {
   "cell_type": "code",
   "execution_count": 2,
   "id": "7296a45c",
   "metadata": {},
   "outputs": [],
   "source": [
    "Sm0= 0.307          # Μev*cm2/g \n",
    "Si = {\n",
    "    \"I\":173e-6,     # ionization potential [MeV]\n",
    "    \"ρ\":2.32,       # mass density [g/cm3]\n",
    "    \"A\":28.0855,    # atomic mass [g/mol]\n",
    "    \"Z\":14,         # atomic number\n",
    "    \"width\": None,  # to be determined\n",
    "    \"ET\": None,     # to be determined\n",
    "}\n",
    "Ge = {\n",
    "    \"I\":350e-6,     # ionization potential [MeV]\n",
    "    \"ρ\":5.3,        # mass density [g/cm3]\n",
    "    \"A\":72.59,      # atomic mass [g/mol]\n",
    "    \"Z\":32,         # atomic number\n",
    "    \"width\": 1.1,   # cm\n",
    "    \"ET\": 5.2,      # energy threshold [MeV]\n",
    "}\n",
    "p1n0 = {\n",
    "    \"n\":0,\n",
    "    \"Z\":1, \n",
    "    \"Elimit\":0.1,   # MeV\n",
    "}\n",
    "p1n1 = {\n",
    "    \"n\":1,\n",
    "    \"Z\":1, \n",
    "    \"Elimit\":0,    # MeV\n",
    "}\n",
    "p1n2 = {\n",
    "    \"n\":2,\n",
    "    \"Z\":1, \n",
    "    \"Elimit\":0,    # MeV\n",
    "}"
   ]
  },
  {
   "cell_type": "code",
   "execution_count": 3,
   "id": "72ede347",
   "metadata": {},
   "outputs": [],
   "source": [
    "element = {\n",
    "    \"Ge\":Ge,\n",
    "    \"Si\":Si\n",
    "}\n",
    "particle = {\n",
    "    \"proton\":p1n0,\n",
    "    \"deuterium\":p1n1,\n",
    "    \"tritium\":p1n2\n",
    "}"
   ]
  },
  {
   "cell_type": "markdown",
   "id": "ef765a58",
   "metadata": {},
   "source": [
    "$$\n",
    "    v = c\\:[\\frac{m}{s}]\\cdot\\sqrt{\\frac{2E\\:[MeV]}{mc^2\\:[MeV]}} \n",
    "$$\n",
    "\n",
    "$$\n",
    "    \\beta = \\frac{v}{c} = \\sqrt{\\frac{2E\\:[MeV]}{mc^2\\:[MeV]}} \n",
    "$$\n",
    "\n",
    "$$\n",
    "    S = S_m\\cdot\\rho\\cdot\\frac{Z_x}{A_x}\\left(\\frac{Z_\\alpha}{\\beta}\\right)^2\\left[ Ln\\left(\\frac{2m_ec^2\\beta^2}{I}\\right) - Ln\\left(1-\\beta^2\\right) - \\beta^2 \\right]\n",
    "$$\n",
    "\n",
    "$$\n",
    "    \\beta^2 = {\\frac{2E\\:[MeV]}{mc^2\\:[MeV]}} \n",
    "$$"
   ]
  },
  {
   "cell_type": "code",
   "execution_count": 28,
   "id": "3363578f",
   "metadata": {},
   "outputs": [],
   "source": [
    "def BB_formula(E, particle_, absorbing_material):\n",
    "    \"\"\"\n",
    "    E: energy of incoming particle in MeV\n",
    "    particle: proton, deuterium, tritium\n",
    "    absorbing_material: Ge, Si\n",
    "    \"\"\"\n",
    "    if E > 0:\n",
    "        n, Za, Elimit = particle[particle_].values()\n",
    "        I, ρ, Ax, Zx, width, ET = element[absorbing_material].values()\n",
    "\n",
    "        n += 1\n",
    "        mecc = (me*c*c/qe)*1e-6   # electron rest mass in MeV\n",
    "        mαcc = n*(mp*c*c/qe)*1e-6 # incoming particle's rest mass in MeV\n",
    "        \n",
    "        β = np.sqrt( 2*E/mαcc )\n",
    "\n",
    "        S_m = Sm0*(Zx/Ax)*((Za/β)**2)*( np.log( (2*mecc*(β**2))/I) -np.log( 1-β**2) -β**2)\n",
    "        S = S_m*ρ \n",
    "\n",
    "        return S\n",
    "    else:\n",
    "        return 0\n",
    "    \n",
    "def ΔΕ_compute(E, particle_, absorbing_material, Δx): \n",
    "    \"\"\"\n",
    "    E: energy of incoming particle in MeV\n",
    "    particle: proton, deuterium, tritium\n",
    "    absorbing_material: Ge, Si\n",
    "    N: number of grid partitions\n",
    "    \"\"\"\n",
    "    n, Za, Elimit = particle[particle_].values()\n",
    "    I, ρ, Ax, Zx, width, ET = element[absorbing_material].values()\n",
    "    \n",
    "    N = int(width/Δx)\n",
    "    E_ = E\n",
    "    for i in range(N):\n",
    "        E_ -= BB_formula(E_, particle_, absorbing_material)*Δx\n",
    "    if E_ <= Elimit:\n",
    "        return 0\n",
    "    else:\n",
    "        \"\"\"if E_ > ET:\n",
    "            print(f\"Energy {round(E_,3)} for {absorbing_material} plate detected\")\"\"\"\n",
    "        return E_    "
   ]
  },
  {
   "cell_type": "markdown",
   "id": "da57f9a8",
   "metadata": {},
   "source": [
    "The incoming particles are: **protons**, **deutrons** and **tritons**"
   ]
  },
  {
   "cell_type": "markdown",
   "id": "c54ab668",
   "metadata": {},
   "source": [
    "Numerical analysis"
   ]
  },
  {
   "cell_type": "markdown",
   "id": "e5cbe360",
   "metadata": {},
   "source": [
    "## Finding the ΔE Thickness\n",
    "\n",
    "The energy threshold on the Ge detector is 5.2 MeV. Deuterons need to have an energy of at least 13.3 MeV to be detected in the ΔE-E detector system. Therefore, if an incoming Deuteron enters the Si plate, it should leave the plate with at least 8.1 MeV to be detected. "
   ]
  },
  {
   "cell_type": "code",
   "execution_count": null,
   "id": "1e85dcaa",
   "metadata": {},
   "outputs": [],
   "source": [
    "Eo = 13.3\n",
    "δx = 1e-5  \n",
    "\n",
    "d  = np.linspace(460.1e-4, 460.9e-4,10) # micometers to cm \n",
    "Ef = np.zeros(len(d))\n",
    "\n",
    "for i,t in enumerate(d):\n",
    "    Si[\"width\"] = t\n",
    "    Ef[i] = ΔΕ_compute(E0, \"deuterium\", \"Si\", δx)"
   ]
  },
  {
   "cell_type": "code",
   "execution_count": null,
   "id": "eae40645",
   "metadata": {},
   "outputs": [],
   "source": [
    "plt.scatter(d,Ef, label=\"E$_0$ = 13.3 MeV\")\n",
    "plt.xlabel(\"Thickness of Si plate [cm]\")\n",
    "plt.ylabel(\"ΔΕ [MeV]\")\n",
    "plt.legend();"
   ]
  },
  {
   "cell_type": "code",
   "execution_count": null,
   "id": "c2a668eb",
   "metadata": {},
   "outputs": [],
   "source": [
    "d = 0.046067 # cm"
   ]
  },
  {
   "cell_type": "markdown",
   "id": "4ae82db7",
   "metadata": {},
   "source": [
    "## Finding the ΔE Threshold\n",
    "\n",
    "Protons with an energy above 60 MeV are not detected in the system. In order for the Si plate to detect a particle, the energy deposited $\\Delta E$ must exceed the energy threshold. "
   ]
  },
  {
   "cell_type": "code",
   "execution_count": 55,
   "id": "af1e500c",
   "metadata": {},
   "outputs": [],
   "source": [
    "savefigg = False\n",
    "δx = 1e-6  "
   ]
  },
  {
   "cell_type": "code",
   "execution_count": 70,
   "id": "da3b0927",
   "metadata": {},
   "outputs": [],
   "source": [
    "Eo = np.linspace(0.1,80,150)\n",
    "Ef = np.zeros(len(Eo)) \n",
    "\n",
    "for i,E0 in enumerate(Eo):\n",
    "    Ef[i] = ΔΕ_compute(E0, \"proton\", \"Si\", δx)"
   ]
  },
  {
   "cell_type": "code",
   "execution_count": 74,
   "id": "8f057dac",
   "metadata": {},
   "outputs": [
    {
     "data": {
      "image/png": "[encoded data removed]",
      "text/plain": [
       "<Figure size 600x400 with 1 Axes>"
      ]
     },
     "metadata": {},
     "output_type": "display_data"
    }
   ],
   "source": [
    "savefigg = False\n",
    "plt.figure(figsize=(6,4))\n",
    "\n",
    "ET_Si = 60 - ΔΕ_compute(60, \"proton\", \"Si\", 1e-7)\n",
    "\n",
    "ΔE = Eo - Ef\n",
    "plt.plot(Eo,ΔE)\n",
    "plt.axhline(ET_Si, c=\"r\")\n",
    "plt.xlabel(\"Initial Energy $E_0$ [MeV]\")\n",
    "plt.ylabel(\"$\\\\Delta E\\\\:$ [MeV]\")\n",
    "plt.title(f\"ΔΕ-Ε Detector\\nlen(Si) = {Si['width']} cm\")\n",
    "if savefigg:\n",
    "    plt.savefig(f\"Figures/DEE_{Si['width']}.png\", format=\"png\");"
   ]
  },
  {
   "cell_type": "code",
   "execution_count": 75,
   "id": "76254993",
   "metadata": {},
   "outputs": [
    {
     "data": {
      "text/plain": [
       "1.0579906922749842"
      ]
     },
     "execution_count": 75,
     "metadata": {},
     "output_type": "execute_result"
    }
   ],
   "source": [
    "60 - ΔΕ_compute(60, \"proton\", \"Si\", 1e-9)\n",
    "1.0579906922749842"
   ]
  },
  {
   "cell_type": "markdown",
   "id": "5bc8cbc0",
   "metadata": {},
   "source": [
    "## Working the Complete Detector"
   ]
  },
  {
   "cell_type": "code",
   "execution_count": 29,
   "id": "f3d460ca",
   "metadata": {},
   "outputs": [
    {
     "name": "stdout",
     "output_type": "stream",
     "text": [
      "4606 110000\n"
     ]
    }
   ],
   "source": [
    "Si[\"width\"] = 0.046067 # cm\n",
    "Si[\"ET\"] = 1.058 # MeV\n",
    "\n",
    "δx = 1e-5\n",
    "\n",
    "NSi, NGe =  int(Si[\"width\"]/δx), int(Ge[\"width\"]/δx)\n",
    "\n",
    "print(NSi, NGe)\n",
    "\n",
    "inc_particle = \"proton\"\n",
    "\n",
    "Eo = np.linspace(0.01,70,100) # MeV\n",
    "Ef = np.zeros(len(Eo)) \n",
    "\n",
    "for i,E0 in enumerate(Eo):\n",
    "    Ef[i] = ΔΕ_compute(E0, inc_particle, \"Si\", δx)\n",
    "    Ef[i] = ΔΕ_compute(Ef[i], inc_particle, \"Ge\", δx)\n",
    "    \n",
    "savefigg = False\n",
    "plt.figure(figsize=(6,4))\n",
    "\n",
    "ΔE = Eo - Ef\n",
    "plt.plot(Eo,ΔE)\n",
    "plt.xlabel(\"Initial Energy $E_0$ [MeV]\")\n",
    "plt.ylabel(\"$\\\\Delta E\\\\:$ [MeV]\")\n",
    "plt.title(f\"ΔΕ-Ε Detector\\nlen(Si) = {Si['width']} cm\")\n",
    "if savefigg:\n",
    "    plt.savefig(f\"Figures/DEE_{Si['width']}.png\", format=\"png\");    "
   ]
  },
  {
   "cell_type": "code",
   "execution_count": null,
   "id": "d465116b",
   "metadata": {},
   "outputs": [],
   "source": []
  }
 ],
 "metadata": {
  "kernelspec": {
   "display_name": "Python 3 (ipykernel)",
   "language": "python",
   "name": "python3"
  },
  "language_info": {
   "codemirror_mode": {
    "name": "ipython",
    "version": 3
   },
   "file_extension": ".py",
   "mimetype": "text/x-python",
   "name": "python",
   "nbconvert_exporter": "python",
   "pygments_lexer": "ipython3",
   "version": "3.10.6"
  }
 },
 "nbformat": 4,
 "nbformat_minor": 5
}
