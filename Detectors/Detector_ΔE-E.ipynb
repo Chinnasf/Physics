{
 "cells": [
  {
   "cell_type": "markdown",
   "id": "45a57799",
   "metadata": {},
   "source": [
    "# Nuclear Instrumentation\n",
    "## ΔE-E Detector\n",
    "\n",
    "Karina Chiñas Fuentes\n",
    "\n",
    "Student Nummer: 02118434\n",
    "\n",
    "---"
   ]
  },
  {
   "cell_type": "code",
   "execution_count": 1,
   "id": "a0d287b6",
   "metadata": {},
   "outputs": [],
   "source": [
    "import numpy as np\n",
    "import matplotlib.pyplot as plt\n",
    "import sympy as sp\n",
    "import scipy.constants as spc\n",
    "import pylab as pl\n",
    "\n",
    "from mpl_toolkits.mplot3d import Axes3D\n",
    "from matplotlib import cm\n",
    "from matplotlib.ticker import LinearLocator, FormatStrFormatter\n",
    "\n",
    "sstyle = \"seaborn-poster\"\n",
    "plt.style.use(sstyle)\n",
    "plt.rc('font',family = 'serif')\n",
    "\n",
    "qe = spc.elementary_charge # C\n",
    "mp = spc.proton_mass       # kg\n",
    "me = spc.electron_mass     # kg\n",
    "ε0 = spc.epsilon_0         # F/m\n",
    "c  = spc.speed_of_light    # m/s"
   ]
  },
  {
   "cell_type": "markdown",
   "id": "d1069cf5",
   "metadata": {},
   "source": [
    "**Task:** calcuate the energy loss of a given particle in a $\\Delta$E-E detector, using the Bethe-Bloch formula: "
   ]
  },
  {
   "cell_type": "markdown",
   "id": "565f3816",
   "metadata": {},
   "source": [
    "\\begin{equation}\n",
    "    S= \\rho\\cdot S_m(\\beta) = \\rho\\cdot S_{m,0}\\frac{Z_x}{A_x}\\left( \\frac{Z^2_a}{\\beta^2} \\right)\\left[ Ln\\left( \\frac{2m_ec^2\\beta^2}{<I>}\\right) -Ln\\left( 1-\\beta^2 \\right) -\\beta^2 \\right]\n",
    "\\end{equation}"
   ]
  },
  {
   "cell_type": "markdown",
   "id": "67d74ddb",
   "metadata": {},
   "source": [
    "which express the stopping power in MeV$\\cdot$cm$^2\\cdot$g$^{-1}$. Where\n",
    "\n",
    "$$\n",
    "    S_{m,0} = 4\\pi r_e^2 N_A m_e^2 c^2 \\approx 0.307 \\: \\text{MeV}\\cdot\\text{cm}^2\\cdot\\text{g}^{-1}\n",
    "$$\n",
    "\n",
    "if $A_x$, molar mass of the target nucleus, is expressed in g$\\cdot$mol$^{-1}$; with the approximation that, for all elements, $Z_x/A_x\\sim$ 0.5. Furthermore, $r_e$ is the classical electron radius\n",
    "\n",
    "$$\n",
    "    r_e = \\frac{e^2}{4\\pi\\epsilon_0 m_ec^2} \n",
    "$$\n",
    "\n",
    "And, $m_e$ is the electron mass, $e$ the electron charge, $Z_x$ the atomic number of the absorber atoms, $Z_a$ is the atomic number of the incoming particle, $n_x$ is the number density of the absorber atoms, $\\beta = \\nu/c$, $\\nu$ is the speed of the incoming particle, and $I$ is the average excitation or ionization potential of the absorber atoms. Finally, recall that\n",
    "\n",
    "$$\n",
    "    \\nu^2 = \\frac{2E}{m} \\:\\: \\rightarrow \\:\\: \\beta^2 = \\frac{2E}{m_A \\cdot 931 \\frac{\\text{MeV}}{\\text{amu}}}\n",
    "$$\n",
    "\n",
    "With $m_A$ beng the particle mass in atomic mass units, and $E$ the particle energy in MeV.\n",
    "\n",
    "**Detector:**  The E detector is made of Ge with energy threshold of 5.2 MeV and thichkness of 11 mm. The $\\Delta$E transmission detector is made of Si and its characteristics are _to be determined_ with the knowledge that **deuterons** need to have at least 13.3 MeV to be detected in the $\\Delta$E-E detector. And, **protons** cannot be detected with energy above 60 MeV.\n",
    "\n",
    "**Data:**\n",
    "\n",
    "* **Silicon**\n",
    "    * Ionisation potentials: 173 eV\n",
    "    * Density: 2.32 g/cm$^3$\n",
    "    * A: 28.0855 g/mol\n",
    "    * Z: 14\n",
    "    \n",
    "* **Germanium**\n",
    "    * Ionisation potentials: 350 eV\n",
    "    * Density: 5.3 g/cm$^3$\n",
    "    * A: 72.59 g/mol\n",
    "    * Z: 32    "
   ]
  },
  {
   "cell_type": "code",
   "execution_count": 2,
   "id": "7296a45c",
   "metadata": {},
   "outputs": [],
   "source": [
    "Sm0= 0.307          # Μev*cm2/g \n",
    "Si = {\n",
    "    \"I\":173e-6,     # ionization potential [MeV]\n",
    "    \"ρ\":2.32,       # mass density [g/cm3]\n",
    "    \"A\":28.0855,    # atomic mass [g/mol]\n",
    "    \"Z\":14,         # atomic number\n",
    "    \"width\": None,  # to be determined\n",
    "    \"ET\": None,     # to be determined\n",
    "}\n",
    "Ge = {\n",
    "    \"I\":350e-6,     # ionization potential [MeV]\n",
    "    \"ρ\":5.3,        # mass density [g/cm3]\n",
    "    \"A\":72.59,      # atomic mass [g/mol]\n",
    "    \"Z\":32,         # atomic number\n",
    "    \"width\": 1.1,   # cm\n",
    "    \"ET\": 5.2,      # energy threshold [MeV]\n",
    "}\n",
    "p1n0 = {\n",
    "    \"n\":0,\n",
    "    \"Z\":1, \n",
    "    \"Elimit\":0.1,   # MeV\n",
    "}\n",
    "p1n1 = {\n",
    "    \"n\":1,\n",
    "    \"Z\":1, \n",
    "    \"Elimit\":0,    # MeV\n",
    "}\n",
    "p1n2 = {\n",
    "    \"n\":2,\n",
    "    \"Z\":1, \n",
    "    \"Elimit\":0,    # MeV\n",
    "}"
   ]
  },
  {
   "cell_type": "code",
   "execution_count": 3,
   "id": "de4c26fa",
   "metadata": {},
   "outputs": [],
   "source": [
    "element = {\n",
    "    \"Ge\":Ge,\n",
    "    \"Si\":Si\n",
    "}\n",
    "particle = {\n",
    "    \"proton\":p1n0,\n",
    "    \"deuterium\":p1n1,\n",
    "    \"tritium\":p1n2\n",
    "}"
   ]
  },
  {
   "cell_type": "markdown",
   "id": "9ce7bf9f",
   "metadata": {},
   "source": [
    "$$\n",
    "    v = c\\:[\\frac{m}{s}]\\cdot\\sqrt{\\frac{2E\\:[MeV]}{mc^2\\:[MeV]}} \n",
    "$$\n",
    "\n",
    "$$\n",
    "    \\beta = \\frac{v}{c} = \\sqrt{\\frac{2E\\:[MeV]}{mc^2\\:[MeV]}} \n",
    "$$\n",
    "\n",
    "$$\n",
    "    S = S_m\\cdot\\rho\\cdot\\frac{Z_x}{A_x}\\left(\\frac{Z_\\alpha}{\\beta}\\right)^2\\left[ Ln\\left(\\frac{2m_ec^2\\beta^2}{I}\\right) - Ln\\left(1-\\beta^2\\right) - \\beta^2 \\right]\n",
    "$$\n",
    "\n",
    "$$\n",
    "    \\beta^2 = {\\frac{2E\\:[MeV]}{mc^2\\:[MeV]}} \n",
    "$$"
   ]
  },
  {
   "cell_type": "code",
   "execution_count": 4,
   "id": "3363578f",
   "metadata": {},
   "outputs": [],
   "source": [
    "def BB_formula(E, particle_, absorbing_material):\n",
    "    \"\"\"\n",
    "    E: energy of incoming particle in MeV\n",
    "    particle: proton, deuterium, tritium\n",
    "    absorbing_material: Ge, Si\n",
    "    \"\"\"\n",
    "    if E > 0:\n",
    "        n, Za, Elimit = particle[particle_].values()\n",
    "        I, ρ, Ax, Zx, width, ET = element[absorbing_material].values()\n",
    "\n",
    "        n += 1\n",
    "        mecc = (me*c*c/qe)*1e-6   # electron rest mass in MeV\n",
    "        mαcc = n*(mp*c*c/qe)*1e-6 # incoming particle's rest mass in MeV\n",
    "        \n",
    "        β = np.sqrt( 2*E/mαcc )\n",
    "\n",
    "        S_m = Sm0*(Zx/Ax)*((Za/β)**2)*( np.log( (2*mecc*β**2)/I ) -np.log( 1-β**2) -β**2 )\n",
    "        S = S_m*ρ \n",
    "\n",
    "        return S\n",
    "    else:\n",
    "        return 0\n",
    "    \n",
    "def ΔΕ_compute(E, particle_, absorbing_material, N): \n",
    "    \"\"\"\n",
    "    E: energy of incoming particle in MeV\n",
    "    particle: proton, deuterium, tritium\n",
    "    absorbing_material: Ge, Si\n",
    "    N: number of grid partitions\n",
    "    \"\"\"\n",
    "    n, Za, Elimit = particle[particle_].values()\n",
    "    I, ρ, Ax, Zx, width, ET = element[absorbing_material].values()\n",
    "    \n",
    "    Δx = width/N\n",
    "    E_ = E\n",
    "    for i in range(N):\n",
    "        E_ -= BB_formula(E_, particle_, absorbing_material)*Δx\n",
    "    if E_ <= Elimit:\n",
    "        return 0\n",
    "    else:\n",
    "        return E_    "
   ]
  },
  {
   "cell_type": "markdown",
   "id": "da57f9a8",
   "metadata": {},
   "source": [
    "The incoming particles are: **protons**, **deutrons** and **tritons**"
   ]
  },
  {
   "cell_type": "markdown",
   "id": "c54ab668",
   "metadata": {},
   "source": [
    "Numerical analysis"
   ]
  },
  {
   "cell_type": "code",
   "execution_count": 38,
   "id": "af1e500c",
   "metadata": {},
   "outputs": [],
   "source": [
    "Si[\"width\"] = 5e-4 # cm\n",
    "N = 50   # grid partition"
   ]
  },
  {
   "cell_type": "code",
   "execution_count": 39,
   "id": "e4b03a13",
   "metadata": {},
   "outputs": [
    {
     "name": "stderr",
     "output_type": "stream",
     "text": [
      "/tmp/ipykernel_33505/1737184816.py:18: RuntimeWarning: invalid value encountered in log\n",
      "  S_m = Sm0*(Zx/Ax)*((Za/β)**2)*( np.log( (2*mecc*β**2)/I ) -np.log( 1-β**2) -β**2 )\n"
     ]
    }
   ],
   "source": [
    "Eo = np.linspace(0.01,60,50) # MeV\n",
    "Ef = np.zeros(len(Eo)) \n",
    "\n",
    "for i,E0 in enumerate(Eo):\n",
    "    Ef[i] = ΔΕ_compute(E0, \"proton\", \"Si\", N)"
   ]
  },
  {
   "cell_type": "code",
   "execution_count": 40,
   "id": "660b7417",
   "metadata": {},
   "outputs": [
    {
     "data": {
      "text/plain": [
       "[<matplotlib.lines.Line2D at 0x7f91430df5e0>]"
      ]
     },
     "execution_count": 40,
     "metadata": {},
     "output_type": "execute_result"
    },
    {
     "data": {
      "image/png": "[encoded data removed]",
      "text/plain": [
       "<Figure size 432x288 with 1 Axes>"
      ]
     },
     "metadata": {
      "needs_background": "light"
     },
     "output_type": "display_data"
    }
   ],
   "source": [
    "ΔE = Eo - Ef\n",
    "plt.plot(Eo,ΔE)"
   ]
  },
  {
   "cell_type": "code",
   "execution_count": 41,
   "id": "d88b5c02",
   "metadata": {
    "scrolled": false
   },
   "outputs": [
    {
     "data": {
      "text/plain": [
       "array([nan,  0.,  0.,  0.,  0.,  0.,  0.,  0.,  0.,  0.,  0.,  0.,  0.,\n",
       "        0.,  0.,  0.,  0.,  0.,  0.,  0.,  0.,  0.,  0.,  0.,  0.,  0.,\n",
       "        0.,  0.,  0.,  0.,  0.,  0.,  0.,  0.,  0.,  0.,  0.,  0.,  0.,\n",
       "        0.,  0.,  0.,  0.,  0.,  0.,  0.,  0.,  0.,  0.,  0.])"
      ]
     },
     "execution_count": 41,
     "metadata": {},
     "output_type": "execute_result"
    }
   ],
   "source": [
    "Ef"
   ]
  },
  {
   "cell_type": "code",
   "execution_count": null,
   "id": "7156bce7",
   "metadata": {},
   "outputs": [],
   "source": [
    "xxxxxxx"
   ]
  },
  {
   "cell_type": "code",
   "execution_count": null,
   "id": "bf937c3a",
   "metadata": {},
   "outputs": [],
   "source": [
    "E  = np.arange(1,60,0.1)  # Initial Energies in MeV\n",
    "S  = np.zeros(len(E))\n",
    "ΔE = E.copy()\n",
    "\n",
    "N_neutrons = 1\n",
    "\n",
    "if N_neutrons == 0:\n",
    "    for j, Eo in enumerate(E):\n",
    "        for i in range(N):\n",
    "            S[j] = BB_formula(N_neutrons, 1, Eo, Ge[\"Z\"], Ge[\"A\"], Ge[\"I\"],Ge[\"ρ\"])\n",
    "            # if energy is lower than 100 KeV, then it can be cosidered to be stopped, for protons\n",
    "            if (ΔE[j]-S[j]*Δx < 0.1): \n",
    "                break\n",
    "            else:\n",
    "                ΔE[j] -= S[j]*Δx\n",
    "else:\n",
    "    for j, Eo in enumerate(E):\n",
    "        for i in range(N):\n",
    "            S[j] = BB_formula(N_neutrons, 1, Eo, Ge[\"Z\"], Ge[\"A\"], Ge[\"I\"],Ge[\"ρ\"]) \n",
    "            # if energy is lower or eq to 0, then it can be cosidered to be stopped\n",
    "            if (ΔE[j]-S[j]*Δx <= 0): \n",
    "                break            \n",
    "            else:\n",
    "                ΔE[j] -= S[j]*Δx "
   ]
  },
  {
   "cell_type": "code",
   "execution_count": null,
   "id": "86586b65",
   "metadata": {},
   "outputs": [],
   "source": []
  },
  {
   "cell_type": "code",
   "execution_count": null,
   "id": "45072ddb",
   "metadata": {
    "scrolled": true
   },
   "outputs": [],
   "source": [
    "ΔE"
   ]
  },
  {
   "cell_type": "code",
   "execution_count": null,
   "id": "c12808e2",
   "metadata": {},
   "outputs": [],
   "source": [
    "plt.plot(E,ΔE);"
   ]
  },
  {
   "cell_type": "code",
   "execution_count": null,
   "id": "5333ac5b",
   "metadata": {},
   "outputs": [],
   "source": [
    "plt.loglog(E,ΔE)"
   ]
  },
  {
   "cell_type": "code",
   "execution_count": null,
   "id": "c56bfd86",
   "metadata": {},
   "outputs": [],
   "source": [
    "plt.plot(E,S)"
   ]
  },
  {
   "cell_type": "code",
   "execution_count": null,
   "id": "fe7f8707",
   "metadata": {},
   "outputs": [],
   "source": []
  }
 ],
 "metadata": {
  "kernelspec": {
   "display_name": "Python 3 (ipykernel)",
   "language": "python",
   "name": "python3"
  },
  "language_info": {
   "codemirror_mode": {
    "name": "ipython",
    "version": 3
   },
   "file_extension": ".py",
   "mimetype": "text/x-python",
   "name": "python",
   "nbconvert_exporter": "python",
   "pygments_lexer": "ipython3",
   "version": "3.10.6"
  }
 },
 "nbformat": 4,
 "nbformat_minor": 5
}
