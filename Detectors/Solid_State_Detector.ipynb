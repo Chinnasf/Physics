{
 "cells": [
  {
   "cell_type": "markdown",
   "id": "c77384c6",
   "metadata": {},
   "source": [
    "# Nuclear Instrumentation\n",
    "## Solid State Detector\n",
    "\n",
    "Karina Chiñas Fuentes\n",
    "\n",
    "Student Nummer: 02118434\n",
    "\n",
    "---"
   ]
  },
  {
   "cell_type": "code",
   "execution_count": 1,
   "id": "8895f342",
   "metadata": {},
   "outputs": [],
   "source": [
    "import numpy as np\n",
    "import matplotlib.pyplot as plt\n",
    "import sympy as sp\n",
    "import scipy.constants as spc\n",
    "import pylab as pl\n",
    "import seaborn as sns\n",
    "import pandas as pd\n",
    "\n",
    "\n",
    "from mpl_toolkits.mplot3d import Axes3D\n",
    "from matplotlib import cm\n",
    "from matplotlib.ticker import LinearLocator, FormatStrFormatter\n",
    "\n",
    "sstyle = \"paper\"\n",
    "sns.set_context(sstyle)\n",
    "sns.set_style(\"whitegrid\")\n",
    "plt.rc('font',family = 'serif')\n",
    "\n",
    "qe = spc.elementary_charge # C\n",
    "mp = spc.proton_mass       # kg\n",
    "me = spc.electron_mass     # kg\n",
    "ε0 = spc.epsilon_0         # F/m\n",
    "c  = spc.speed_of_light    # m/s\n",
    "\n",
    "np.random.seed(2331)"
   ]
  },
  {
   "cell_type": "markdown",
   "id": "f023d7c9",
   "metadata": {},
   "source": [
    "Consider the following \n",
    "\n",
    "* A circular source with a radius of 40 mm is present in the x-y plane, centered at the origin. Each point of the source emits alpha particles isotropically and the intensity over the surface of the source is constant.\n",
    "* A circular solid state detector has a radius of 60 mm and is positioned such that its circular entrance window is parallel with the circular source, and at a distance of 70 mm from the source. The detector is centered on the z-axis."
   ]
  },
  {
   "cell_type": "markdown",
   "id": "dd23b942",
   "metadata": {},
   "source": [
    "<img src=\"Figures/P2_setup.jpeg\"/>"
   ]
  },
  {
   "cell_type": "markdown",
   "id": "9cc012a6",
   "metadata": {},
   "source": [
    "**Task:**\n",
    "Develop a Monte Carlo simulation to determine the solid angle of the system.\n",
    "\n",
    "1. What is the solid angle (in steradians) of the geometry described above?\n",
    "2. Check that, if you make the radius of the source very small in your code, the point source value of the solid angle is found.\n",
    "3. What is the value of the solid angle if the detector is partially covered by a thin plate which stops alpha-particles, having a square opening with a diagonal of 75% of the diameter of the detector and of which the centre coincides with the centre of the detector?\n",
    "4. What typical amount of particles do you have to emit in your simulation to obtain an accurate result (i.e. standard deviation of the order of 0,5 %) ? How did you determine this amount?\n",
    "5. Did you improve the efficiency of the calculation and how? "
   ]
  },
  {
   "cell_type": "markdown",
   "id": "abfbd229",
   "metadata": {},
   "source": [
    "---\n",
    "$$\n",
    "    x = r\\cdot cos(\\varphi); \\:\\:\n",
    "    z = r\\cdot sin(\\varphi)\n",
    "$$"
   ]
  },
  {
   "cell_type": "code",
   "execution_count": 2,
   "id": "c370fab6",
   "metadata": {},
   "outputs": [],
   "source": [
    "Rdetect = 60       # mm\n",
    "Rsource = 40       # mm\n",
    "pos_detector = 70  # mm\n",
    "N = int(8e6)"
   ]
  },
  {
   "cell_type": "code",
   "execution_count": 3,
   "id": "12b0e08d",
   "metadata": {},
   "outputs": [],
   "source": [
    "φ = 2*np.pi*np.random.rand(N)\n",
    "r = Rsource*np.sqrt(np.random.rand(N))\n",
    "\n",
    "x = r*np.cos(φ)\n",
    "z = r*np.sin(φ)"
   ]
  },
  {
   "cell_type": "markdown",
   "id": "80586bd1",
   "metadata": {},
   "source": [
    "plt.close()\n",
    "plt.figure(figsize=(3,3))\n",
    "plt.scatter(x,z,s=1, c=\"k\", alpha=0.7)\n",
    "plt.xlabel(\"x [mm]\")\n",
    "plt.ylabel(\"z [mm]\")\n",
    "plt.title(\"Position of particles in the source\");"
   ]
  },
  {
   "cell_type": "code",
   "execution_count": 4,
   "id": "715fb9ca",
   "metadata": {},
   "outputs": [],
   "source": [
    "# Storing the source points in a dataframe\n",
    "df = pd.DataFrame(x, columns=[\"sX\"])\n",
    "df[\"sY\"] = [0]*N\n",
    "df[\"sZ\"] = z"
   ]
  },
  {
   "cell_type": "markdown",
   "id": "d9d1e34f",
   "metadata": {},
   "source": [
    "$$\n",
    "    x = rsin(\\theta)cos(\\varphi); \\:\\:\n",
    "    y = rcos(\\theta)sin(\\varphi); \\:\\: \n",
    "    z = rcos(\\theta)\n",
    "$$"
   ]
  },
  {
   "cell_type": "code",
   "execution_count": 5,
   "id": "ebe8d038",
   "metadata": {},
   "outputs": [],
   "source": [
    "#θ = np.pi*np.random.rand(N)\n",
    "θ = np.arccos(2*np.random.rand(N) - 1)\n",
    "φ = np.pi*np.random.rand(N)\n",
    "\n",
    "x = Rsource*np.sin(θ)*np.cos(φ)\n",
    "y = Rsource*np.sin(θ)*np.sin(φ)\n",
    "z = Rsource*np.cos(θ)"
   ]
  },
  {
   "cell_type": "markdown",
   "id": "e598ee98",
   "metadata": {},
   "source": [
    "#%matplotlib notebook\n",
    "\n",
    "fig = plt.figure()\n",
    "ax = plt.axes(projection='3d')\n",
    "ax.scatter3D(x, y, z, s=1)\n",
    "ax.set_aspect('equal')\n",
    "ax.set_xlabel('x')\n",
    "ax.set_ylabel('y')\n",
    "ax.set_zlabel('z')\n",
    "\n",
    "ax.view_init(20, 35);"
   ]
  },
  {
   "cell_type": "code",
   "execution_count": 6,
   "id": "c1af4645",
   "metadata": {},
   "outputs": [],
   "source": [
    "# Storing the reference directive points in the dataframe\n",
    "df[\"rX\"] = x\n",
    "df[\"rY\"] = y\n",
    "df[\"rZ\"] = z\n",
    "\n",
    "# Storing the points to parameterize a line in the dataframe\n",
    "df[\"dX\"] = df[\"rX\"] - df[\"sX\"]\n",
    "df[\"dY\"] = df[\"rY\"] - df[\"sY\"]\n",
    "df[\"dZ\"] = df[\"rZ\"] - df[\"sZ\"]\n",
    "\n",
    "# Computing the positions of the emitted particle at a\n",
    "# distance where the detector is positioned.\n",
    "df[\"dVEC\"] = df[df.columns[-3:]].values.tolist()\n",
    "df[\"sVEC\"] = df[df.columns[:3]].values.tolist()\n",
    "df[\"data\"] = df[[\"sVEC\",\"dVEC\"]].apply(tuple, axis=1) \n",
    "\n",
    "def point_at_dect_pos(data):\n",
    "    sVEC, dVEC = data\n",
    "    t = (pos_detector - sVEC[1])/dVEC[1]\n",
    "    point = np.array(sVEC) + np.array(dVEC)*t\n",
    "    return point\n",
    "\n",
    "data = df[\"data\"].apply(point_at_dect_pos).values\n",
    "X = np.array(list(map(lambda x: x[0], data)))\n",
    "Z = np.array(list(map(lambda x: x[2], data)))\n",
    "\n",
    "r = np.sqrt(np.square(X) + np.square(Z))\n",
    "hit_index = np.where(r<=Rdetect)[0]\n",
    "Nhit = len(hit_index)"
   ]
  },
  {
   "cell_type": "markdown",
   "id": "14cb2495",
   "metadata": {},
   "source": [
    "plt.close()\n",
    "scl = 1.5\n",
    "plt.scatter(X,Z,c=\"k\",s=7)\n",
    "circle1 = plt.Circle((0, 0), Rdetect, color=\"lightsalmon\", alpha=0.7)\n",
    "plt.gca().add_patch(circle1)\n",
    "plt.axis(\"equal\")\n",
    "plt.xlim([-Rdetect*scl, Rdetect*scl])\n",
    "plt.ylim([-Rdetect*scl, Rdetect*scl])\n",
    "plt.xlabel(\"x [mm]\")\n",
    "plt.ylabel(\"z [mm]\")\n",
    "plt.title(f\"Detector at distance of {pos_detector}mm \\naway from the source.\")\n",
    "plt.show()"
   ]
  },
  {
   "cell_type": "code",
   "execution_count": 7,
   "id": "213033e5",
   "metadata": {},
   "outputs": [],
   "source": [
    "Ntot = 2*N\n",
    "Ω = 4*np.pi*Nhit/Ntot"
   ]
  },
  {
   "cell_type": "code",
   "execution_count": 8,
   "id": "46f0a480",
   "metadata": {},
   "outputs": [
    {
     "data": {
      "text/plain": [
       "(8000000, 1.560293982553946)"
      ]
     },
     "execution_count": 8,
     "metadata": {},
     "output_type": "execute_result"
    }
   ],
   "source": [
    "N,Ω"
   ]
  },
  {
   "cell_type": "code",
   "execution_count": null,
   "id": "1e587379",
   "metadata": {},
   "outputs": [],
   "source": []
  }
 ],
 "metadata": {
  "kernelspec": {
   "display_name": "Python 3 (ipykernel)",
   "language": "python",
   "name": "python3"
  },
  "language_info": {
   "codemirror_mode": {
    "name": "ipython",
    "version": 3
   },
   "file_extension": ".py",
   "mimetype": "text/x-python",
   "name": "python",
   "nbconvert_exporter": "python",
   "pygments_lexer": "ipython3",
   "version": "3.10.6"
  }
 },
 "nbformat": 4,
 "nbformat_minor": 5
}
